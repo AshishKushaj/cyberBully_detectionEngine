{
  "nbformat": 4,
  "nbformat_minor": 0,
  "metadata": {
    "colab": {
      "provenance": []
    },
    "kernelspec": {
      "name": "python3",
      "display_name": "Python 3"
    }
  },
  "cells": [
    {
      "cell_type": "code",
      "metadata": {
        "id": "lW9hgSpXBzl0"
      },
      "source": [
        "import numpy as np\n",
        "import pandas as pd\n",
        "import os"
      ],
      "execution_count": null,
      "outputs": []
    },
    {
      "cell_type": "code",
      "source": [
        "from google.colab import drive\n",
        "drive.mount('/content/drive')"
      ],
      "metadata": {
        "id": "u1PqwwtMfSSA",
        "outputId": "4aa4d2be-a119-494a-dd0e-23c1d83cb22a",
        "colab": {
          "base_uri": "https://localhost:8080/"
        }
      },
      "execution_count": null,
      "outputs": [
        {
          "output_type": "stream",
          "name": "stdout",
          "text": [
            "Drive already mounted at /content/drive; to attempt to forcibly remount, call drive.mount(\"/content/drive\", force_remount=True).\n"
          ]
        }
      ]
    },
    {
      "cell_type": "code",
      "metadata": {
        "id": "GoKOL3rbCbrK"
      },
      "source": [
        "df = pd.read_json(\"/content/drive/MyDrive/Colab Notebooks/dataset.json\", lines= True)"
      ],
      "execution_count": null,
      "outputs": []
    },
    {
      "cell_type": "code",
      "metadata": {
        "colab": {
          "base_uri": "https://localhost:8080/",
          "height": 206
        },
        "id": "Faqp33kZEXov",
        "outputId": "4e05de51-ff23-4481-fe4e-6384cd105276"
      },
      "source": [
        "df.head()"
      ],
      "execution_count": null,
      "outputs": [
        {
          "output_type": "execute_result",
          "data": {
            "text/plain": [
              "                                             content  \\\n",
              "0                             Get fucking real dude.   \n",
              "1   She is as dirty as they come  and that crook ...   \n",
              "2   why did you fuck it up. I could do it all day...   \n",
              "3   Dude they dont finish enclosing the fucking s...   \n",
              "4   WTF are you talking about Men? No men thats n...   \n",
              "\n",
              "                      annotation  extras  \n",
              "0  {'notes': '', 'label': ['1']}     NaN  \n",
              "1  {'notes': '', 'label': ['1']}     NaN  \n",
              "2  {'notes': '', 'label': ['1']}     NaN  \n",
              "3  {'notes': '', 'label': ['1']}     NaN  \n",
              "4  {'notes': '', 'label': ['1']}     NaN  "
            ],
            "text/html": [
              "\n",
              "  <div id=\"df-593ab67d-a87f-43e2-8e54-281224f19302\" class=\"colab-df-container\">\n",
              "    <div>\n",
              "<style scoped>\n",
              "    .dataframe tbody tr th:only-of-type {\n",
              "        vertical-align: middle;\n",
              "    }\n",
              "\n",
              "    .dataframe tbody tr th {\n",
              "        vertical-align: top;\n",
              "    }\n",
              "\n",
              "    .dataframe thead th {\n",
              "        text-align: right;\n",
              "    }\n",
              "</style>\n",
              "<table border=\"1\" class=\"dataframe\">\n",
              "  <thead>\n",
              "    <tr style=\"text-align: right;\">\n",
              "      <th></th>\n",
              "      <th>content</th>\n",
              "      <th>annotation</th>\n",
              "      <th>extras</th>\n",
              "    </tr>\n",
              "  </thead>\n",
              "  <tbody>\n",
              "    <tr>\n",
              "      <th>0</th>\n",
              "      <td>Get fucking real dude.</td>\n",
              "      <td>{'notes': '', 'label': ['1']}</td>\n",
              "      <td>NaN</td>\n",
              "    </tr>\n",
              "    <tr>\n",
              "      <th>1</th>\n",
              "      <td>She is as dirty as they come  and that crook ...</td>\n",
              "      <td>{'notes': '', 'label': ['1']}</td>\n",
              "      <td>NaN</td>\n",
              "    </tr>\n",
              "    <tr>\n",
              "      <th>2</th>\n",
              "      <td>why did you fuck it up. I could do it all day...</td>\n",
              "      <td>{'notes': '', 'label': ['1']}</td>\n",
              "      <td>NaN</td>\n",
              "    </tr>\n",
              "    <tr>\n",
              "      <th>3</th>\n",
              "      <td>Dude they dont finish enclosing the fucking s...</td>\n",
              "      <td>{'notes': '', 'label': ['1']}</td>\n",
              "      <td>NaN</td>\n",
              "    </tr>\n",
              "    <tr>\n",
              "      <th>4</th>\n",
              "      <td>WTF are you talking about Men? No men thats n...</td>\n",
              "      <td>{'notes': '', 'label': ['1']}</td>\n",
              "      <td>NaN</td>\n",
              "    </tr>\n",
              "  </tbody>\n",
              "</table>\n",
              "</div>\n",
              "    <div class=\"colab-df-buttons\">\n",
              "\n",
              "  <div class=\"colab-df-container\">\n",
              "    <button class=\"colab-df-convert\" onclick=\"convertToInteractive('df-593ab67d-a87f-43e2-8e54-281224f19302')\"\n",
              "            title=\"Convert this dataframe to an interactive table.\"\n",
              "            style=\"display:none;\">\n",
              "\n",
              "  <svg xmlns=\"http://www.w3.org/2000/svg\" height=\"24px\" viewBox=\"0 -960 960 960\">\n",
              "    <path d=\"M120-120v-720h720v720H120Zm60-500h600v-160H180v160Zm220 220h160v-160H400v160Zm0 220h160v-160H400v160ZM180-400h160v-160H180v160Zm440 0h160v-160H620v160ZM180-180h160v-160H180v160Zm440 0h160v-160H620v160Z\"/>\n",
              "  </svg>\n",
              "    </button>\n",
              "\n",
              "  <style>\n",
              "    .colab-df-container {\n",
              "      display:flex;\n",
              "      gap: 12px;\n",
              "    }\n",
              "\n",
              "    .colab-df-convert {\n",
              "      background-color: #E8F0FE;\n",
              "      border: none;\n",
              "      border-radius: 50%;\n",
              "      cursor: pointer;\n",
              "      display: none;\n",
              "      fill: #1967D2;\n",
              "      height: 32px;\n",
              "      padding: 0 0 0 0;\n",
              "      width: 32px;\n",
              "    }\n",
              "\n",
              "    .colab-df-convert:hover {\n",
              "      background-color: #E2EBFA;\n",
              "      box-shadow: 0px 1px 2px rgba(60, 64, 67, 0.3), 0px 1px 3px 1px rgba(60, 64, 67, 0.15);\n",
              "      fill: #174EA6;\n",
              "    }\n",
              "\n",
              "    .colab-df-buttons div {\n",
              "      margin-bottom: 4px;\n",
              "    }\n",
              "\n",
              "    [theme=dark] .colab-df-convert {\n",
              "      background-color: #3B4455;\n",
              "      fill: #D2E3FC;\n",
              "    }\n",
              "\n",
              "    [theme=dark] .colab-df-convert:hover {\n",
              "      background-color: #434B5C;\n",
              "      box-shadow: 0px 1px 3px 1px rgba(0, 0, 0, 0.15);\n",
              "      filter: drop-shadow(0px 1px 2px rgba(0, 0, 0, 0.3));\n",
              "      fill: #FFFFFF;\n",
              "    }\n",
              "  </style>\n",
              "\n",
              "    <script>\n",
              "      const buttonEl =\n",
              "        document.querySelector('#df-593ab67d-a87f-43e2-8e54-281224f19302 button.colab-df-convert');\n",
              "      buttonEl.style.display =\n",
              "        google.colab.kernel.accessAllowed ? 'block' : 'none';\n",
              "\n",
              "      async function convertToInteractive(key) {\n",
              "        const element = document.querySelector('#df-593ab67d-a87f-43e2-8e54-281224f19302');\n",
              "        const dataTable =\n",
              "          await google.colab.kernel.invokeFunction('convertToInteractive',\n",
              "                                                    [key], {});\n",
              "        if (!dataTable) return;\n",
              "\n",
              "        const docLinkHtml = 'Like what you see? Visit the ' +\n",
              "          '<a target=\"_blank\" href=https://colab.research.google.com/notebooks/data_table.ipynb>data table notebook</a>'\n",
              "          + ' to learn more about interactive tables.';\n",
              "        element.innerHTML = '';\n",
              "        dataTable['output_type'] = 'display_data';\n",
              "        await google.colab.output.renderOutput(dataTable, element);\n",
              "        const docLink = document.createElement('div');\n",
              "        docLink.innerHTML = docLinkHtml;\n",
              "        element.appendChild(docLink);\n",
              "      }\n",
              "    </script>\n",
              "  </div>\n",
              "\n",
              "\n",
              "<div id=\"df-bcf3bace-152a-4106-85d2-d10ff5e518fb\">\n",
              "  <button class=\"colab-df-quickchart\" onclick=\"quickchart('df-bcf3bace-152a-4106-85d2-d10ff5e518fb')\"\n",
              "            title=\"Suggest charts\"\n",
              "            style=\"display:none;\">\n",
              "\n",
              "<svg xmlns=\"http://www.w3.org/2000/svg\" height=\"24px\"viewBox=\"0 0 24 24\"\n",
              "     width=\"24px\">\n",
              "    <g>\n",
              "        <path d=\"M19 3H5c-1.1 0-2 .9-2 2v14c0 1.1.9 2 2 2h14c1.1 0 2-.9 2-2V5c0-1.1-.9-2-2-2zM9 17H7v-7h2v7zm4 0h-2V7h2v10zm4 0h-2v-4h2v4z\"/>\n",
              "    </g>\n",
              "</svg>\n",
              "  </button>\n",
              "\n",
              "<style>\n",
              "  .colab-df-quickchart {\n",
              "      --bg-color: #E8F0FE;\n",
              "      --fill-color: #1967D2;\n",
              "      --hover-bg-color: #E2EBFA;\n",
              "      --hover-fill-color: #174EA6;\n",
              "      --disabled-fill-color: #AAA;\n",
              "      --disabled-bg-color: #DDD;\n",
              "  }\n",
              "\n",
              "  [theme=dark] .colab-df-quickchart {\n",
              "      --bg-color: #3B4455;\n",
              "      --fill-color: #D2E3FC;\n",
              "      --hover-bg-color: #434B5C;\n",
              "      --hover-fill-color: #FFFFFF;\n",
              "      --disabled-bg-color: #3B4455;\n",
              "      --disabled-fill-color: #666;\n",
              "  }\n",
              "\n",
              "  .colab-df-quickchart {\n",
              "    background-color: var(--bg-color);\n",
              "    border: none;\n",
              "    border-radius: 50%;\n",
              "    cursor: pointer;\n",
              "    display: none;\n",
              "    fill: var(--fill-color);\n",
              "    height: 32px;\n",
              "    padding: 0;\n",
              "    width: 32px;\n",
              "  }\n",
              "\n",
              "  .colab-df-quickchart:hover {\n",
              "    background-color: var(--hover-bg-color);\n",
              "    box-shadow: 0 1px 2px rgba(60, 64, 67, 0.3), 0 1px 3px 1px rgba(60, 64, 67, 0.15);\n",
              "    fill: var(--button-hover-fill-color);\n",
              "  }\n",
              "\n",
              "  .colab-df-quickchart-complete:disabled,\n",
              "  .colab-df-quickchart-complete:disabled:hover {\n",
              "    background-color: var(--disabled-bg-color);\n",
              "    fill: var(--disabled-fill-color);\n",
              "    box-shadow: none;\n",
              "  }\n",
              "\n",
              "  .colab-df-spinner {\n",
              "    border: 2px solid var(--fill-color);\n",
              "    border-color: transparent;\n",
              "    border-bottom-color: var(--fill-color);\n",
              "    animation:\n",
              "      spin 1s steps(1) infinite;\n",
              "  }\n",
              "\n",
              "  @keyframes spin {\n",
              "    0% {\n",
              "      border-color: transparent;\n",
              "      border-bottom-color: var(--fill-color);\n",
              "      border-left-color: var(--fill-color);\n",
              "    }\n",
              "    20% {\n",
              "      border-color: transparent;\n",
              "      border-left-color: var(--fill-color);\n",
              "      border-top-color: var(--fill-color);\n",
              "    }\n",
              "    30% {\n",
              "      border-color: transparent;\n",
              "      border-left-color: var(--fill-color);\n",
              "      border-top-color: var(--fill-color);\n",
              "      border-right-color: var(--fill-color);\n",
              "    }\n",
              "    40% {\n",
              "      border-color: transparent;\n",
              "      border-right-color: var(--fill-color);\n",
              "      border-top-color: var(--fill-color);\n",
              "    }\n",
              "    60% {\n",
              "      border-color: transparent;\n",
              "      border-right-color: var(--fill-color);\n",
              "    }\n",
              "    80% {\n",
              "      border-color: transparent;\n",
              "      border-right-color: var(--fill-color);\n",
              "      border-bottom-color: var(--fill-color);\n",
              "    }\n",
              "    90% {\n",
              "      border-color: transparent;\n",
              "      border-bottom-color: var(--fill-color);\n",
              "    }\n",
              "  }\n",
              "</style>\n",
              "\n",
              "  <script>\n",
              "    async function quickchart(key) {\n",
              "      const quickchartButtonEl =\n",
              "        document.querySelector('#' + key + ' button');\n",
              "      quickchartButtonEl.disabled = true;  // To prevent multiple clicks.\n",
              "      quickchartButtonEl.classList.add('colab-df-spinner');\n",
              "      try {\n",
              "        const charts = await google.colab.kernel.invokeFunction(\n",
              "            'suggestCharts', [key], {});\n",
              "      } catch (error) {\n",
              "        console.error('Error during call to suggestCharts:', error);\n",
              "      }\n",
              "      quickchartButtonEl.classList.remove('colab-df-spinner');\n",
              "      quickchartButtonEl.classList.add('colab-df-quickchart-complete');\n",
              "    }\n",
              "    (() => {\n",
              "      let quickchartButtonEl =\n",
              "        document.querySelector('#df-bcf3bace-152a-4106-85d2-d10ff5e518fb button');\n",
              "      quickchartButtonEl.style.display =\n",
              "        google.colab.kernel.accessAllowed ? 'block' : 'none';\n",
              "    })();\n",
              "  </script>\n",
              "</div>\n",
              "\n",
              "    </div>\n",
              "  </div>\n"
            ],
            "application/vnd.google.colaboratory.intrinsic+json": {
              "type": "dataframe",
              "variable_name": "df",
              "summary": "{\n  \"name\": \"df\",\n  \"rows\": 20001,\n  \"fields\": [\n    {\n      \"column\": \"content\",\n      \"properties\": {\n        \"dtype\": \"string\",\n        \"num_unique_values\": 14640,\n        \"samples\": [\n          \"oh dear. why the hellish week? im sure next week will be bettter! otherwise  we'll just kick its ass!\",\n          \" What do you think of women who wear revealing clothing infront of kids?\",\n          \"fucking awesome. Happy holiday.\"\n        ],\n        \"semantic_type\": \"\",\n        \"description\": \"\"\n      }\n    },\n    {\n      \"column\": \"annotation\",\n      \"properties\": {\n        \"dtype\": \"object\",\n        \"semantic_type\": \"\",\n        \"description\": \"\"\n      }\n    },\n    {\n      \"column\": \"extras\",\n      \"properties\": {\n        \"dtype\": \"number\",\n        \"std\": null,\n        \"min\": null,\n        \"max\": null,\n        \"num_unique_values\": 0,\n        \"samples\": [],\n        \"semantic_type\": \"\",\n        \"description\": \"\"\n      }\n    }\n  ]\n}"
            }
          },
          "metadata": {},
          "execution_count": 8
        }
      ]
    },
    {
      "cell_type": "code",
      "metadata": {
        "colab": {
          "base_uri": "https://localhost:8080/"
        },
        "id": "19vl5yvKF5cj",
        "outputId": "e2df1dd4-fa60-4da2-c5a0-4856a2f1b2d4"
      },
      "source": [
        "df.shape"
      ],
      "execution_count": null,
      "outputs": [
        {
          "output_type": "execute_result",
          "data": {
            "text/plain": [
              "(20001, 3)"
            ]
          },
          "metadata": {},
          "execution_count": 9
        }
      ]
    },
    {
      "cell_type": "markdown",
      "metadata": {
        "id": "SLyBNeodiU6l"
      },
      "source": [
        "**Data Processing**"
      ]
    },
    {
      "cell_type": "code",
      "metadata": {
        "colab": {
          "base_uri": "https://localhost:8080/",
          "height": 423
        },
        "id": "K4kC6XdPF7G-",
        "outputId": "b99a6a51-7f32-4693-a584-4f0b08f159b0"
      },
      "source": [
        "df[\"label\"] = df.annotation.apply(lambda x: x.get('label'))\n",
        "df[\"label\"] = df.label.apply(lambda x: x[0])\n",
        "\n",
        "df"
      ],
      "execution_count": null,
      "outputs": [
        {
          "output_type": "execute_result",
          "data": {
            "text/plain": [
              "                                                 content  \\\n",
              "0                                 Get fucking real dude.   \n",
              "1       She is as dirty as they come  and that crook ...   \n",
              "2       why did you fuck it up. I could do it all day...   \n",
              "3       Dude they dont finish enclosing the fucking s...   \n",
              "4       WTF are you talking about Men? No men thats n...   \n",
              "...                                                  ...   \n",
              "19996    I dont. But what is complaining about it goi...   \n",
              "19997   Bahah  yeah i&;m totally just gonna&; get pis...   \n",
              "19998       hahahahaha >:) im evil mwahahahahahahahahaha   \n",
              "19999            What&;s something unique about Ohio? :)   \n",
              "20000              Who is the biggest gossiper you know?   \n",
              "\n",
              "                          annotation  extras label  \n",
              "0      {'notes': '', 'label': ['1']}     NaN     1  \n",
              "1      {'notes': '', 'label': ['1']}     NaN     1  \n",
              "2      {'notes': '', 'label': ['1']}     NaN     1  \n",
              "3      {'notes': '', 'label': ['1']}     NaN     1  \n",
              "4      {'notes': '', 'label': ['1']}     NaN     1  \n",
              "...                              ...     ...   ...  \n",
              "19996  {'notes': '', 'label': ['0']}     NaN     0  \n",
              "19997  {'notes': '', 'label': ['0']}     NaN     0  \n",
              "19998  {'notes': '', 'label': ['0']}     NaN     0  \n",
              "19999  {'notes': '', 'label': ['0']}     NaN     0  \n",
              "20000  {'notes': '', 'label': ['0']}     NaN     0  \n",
              "\n",
              "[20001 rows x 4 columns]"
            ],
            "text/html": [
              "\n",
              "  <div id=\"df-afc2f1a6-bc70-44de-b9fc-e31d8774a6c8\" class=\"colab-df-container\">\n",
              "    <div>\n",
              "<style scoped>\n",
              "    .dataframe tbody tr th:only-of-type {\n",
              "        vertical-align: middle;\n",
              "    }\n",
              "\n",
              "    .dataframe tbody tr th {\n",
              "        vertical-align: top;\n",
              "    }\n",
              "\n",
              "    .dataframe thead th {\n",
              "        text-align: right;\n",
              "    }\n",
              "</style>\n",
              "<table border=\"1\" class=\"dataframe\">\n",
              "  <thead>\n",
              "    <tr style=\"text-align: right;\">\n",
              "      <th></th>\n",
              "      <th>content</th>\n",
              "      <th>annotation</th>\n",
              "      <th>extras</th>\n",
              "      <th>label</th>\n",
              "    </tr>\n",
              "  </thead>\n",
              "  <tbody>\n",
              "    <tr>\n",
              "      <th>0</th>\n",
              "      <td>Get fucking real dude.</td>\n",
              "      <td>{'notes': '', 'label': ['1']}</td>\n",
              "      <td>NaN</td>\n",
              "      <td>1</td>\n",
              "    </tr>\n",
              "    <tr>\n",
              "      <th>1</th>\n",
              "      <td>She is as dirty as they come  and that crook ...</td>\n",
              "      <td>{'notes': '', 'label': ['1']}</td>\n",
              "      <td>NaN</td>\n",
              "      <td>1</td>\n",
              "    </tr>\n",
              "    <tr>\n",
              "      <th>2</th>\n",
              "      <td>why did you fuck it up. I could do it all day...</td>\n",
              "      <td>{'notes': '', 'label': ['1']}</td>\n",
              "      <td>NaN</td>\n",
              "      <td>1</td>\n",
              "    </tr>\n",
              "    <tr>\n",
              "      <th>3</th>\n",
              "      <td>Dude they dont finish enclosing the fucking s...</td>\n",
              "      <td>{'notes': '', 'label': ['1']}</td>\n",
              "      <td>NaN</td>\n",
              "      <td>1</td>\n",
              "    </tr>\n",
              "    <tr>\n",
              "      <th>4</th>\n",
              "      <td>WTF are you talking about Men? No men thats n...</td>\n",
              "      <td>{'notes': '', 'label': ['1']}</td>\n",
              "      <td>NaN</td>\n",
              "      <td>1</td>\n",
              "    </tr>\n",
              "    <tr>\n",
              "      <th>...</th>\n",
              "      <td>...</td>\n",
              "      <td>...</td>\n",
              "      <td>...</td>\n",
              "      <td>...</td>\n",
              "    </tr>\n",
              "    <tr>\n",
              "      <th>19996</th>\n",
              "      <td>I dont. But what is complaining about it goi...</td>\n",
              "      <td>{'notes': '', 'label': ['0']}</td>\n",
              "      <td>NaN</td>\n",
              "      <td>0</td>\n",
              "    </tr>\n",
              "    <tr>\n",
              "      <th>19997</th>\n",
              "      <td>Bahah  yeah i&amp;;m totally just gonna&amp;; get pis...</td>\n",
              "      <td>{'notes': '', 'label': ['0']}</td>\n",
              "      <td>NaN</td>\n",
              "      <td>0</td>\n",
              "    </tr>\n",
              "    <tr>\n",
              "      <th>19998</th>\n",
              "      <td>hahahahaha &gt;:) im evil mwahahahahahahahahaha</td>\n",
              "      <td>{'notes': '', 'label': ['0']}</td>\n",
              "      <td>NaN</td>\n",
              "      <td>0</td>\n",
              "    </tr>\n",
              "    <tr>\n",
              "      <th>19999</th>\n",
              "      <td>What&amp;;s something unique about Ohio? :)</td>\n",
              "      <td>{'notes': '', 'label': ['0']}</td>\n",
              "      <td>NaN</td>\n",
              "      <td>0</td>\n",
              "    </tr>\n",
              "    <tr>\n",
              "      <th>20000</th>\n",
              "      <td>Who is the biggest gossiper you know?</td>\n",
              "      <td>{'notes': '', 'label': ['0']}</td>\n",
              "      <td>NaN</td>\n",
              "      <td>0</td>\n",
              "    </tr>\n",
              "  </tbody>\n",
              "</table>\n",
              "<p>20001 rows × 4 columns</p>\n",
              "</div>\n",
              "    <div class=\"colab-df-buttons\">\n",
              "\n",
              "  <div class=\"colab-df-container\">\n",
              "    <button class=\"colab-df-convert\" onclick=\"convertToInteractive('df-afc2f1a6-bc70-44de-b9fc-e31d8774a6c8')\"\n",
              "            title=\"Convert this dataframe to an interactive table.\"\n",
              "            style=\"display:none;\">\n",
              "\n",
              "  <svg xmlns=\"http://www.w3.org/2000/svg\" height=\"24px\" viewBox=\"0 -960 960 960\">\n",
              "    <path d=\"M120-120v-720h720v720H120Zm60-500h600v-160H180v160Zm220 220h160v-160H400v160Zm0 220h160v-160H400v160ZM180-400h160v-160H180v160Zm440 0h160v-160H620v160ZM180-180h160v-160H180v160Zm440 0h160v-160H620v160Z\"/>\n",
              "  </svg>\n",
              "    </button>\n",
              "\n",
              "  <style>\n",
              "    .colab-df-container {\n",
              "      display:flex;\n",
              "      gap: 12px;\n",
              "    }\n",
              "\n",
              "    .colab-df-convert {\n",
              "      background-color: #E8F0FE;\n",
              "      border: none;\n",
              "      border-radius: 50%;\n",
              "      cursor: pointer;\n",
              "      display: none;\n",
              "      fill: #1967D2;\n",
              "      height: 32px;\n",
              "      padding: 0 0 0 0;\n",
              "      width: 32px;\n",
              "    }\n",
              "\n",
              "    .colab-df-convert:hover {\n",
              "      background-color: #E2EBFA;\n",
              "      box-shadow: 0px 1px 2px rgba(60, 64, 67, 0.3), 0px 1px 3px 1px rgba(60, 64, 67, 0.15);\n",
              "      fill: #174EA6;\n",
              "    }\n",
              "\n",
              "    .colab-df-buttons div {\n",
              "      margin-bottom: 4px;\n",
              "    }\n",
              "\n",
              "    [theme=dark] .colab-df-convert {\n",
              "      background-color: #3B4455;\n",
              "      fill: #D2E3FC;\n",
              "    }\n",
              "\n",
              "    [theme=dark] .colab-df-convert:hover {\n",
              "      background-color: #434B5C;\n",
              "      box-shadow: 0px 1px 3px 1px rgba(0, 0, 0, 0.15);\n",
              "      filter: drop-shadow(0px 1px 2px rgba(0, 0, 0, 0.3));\n",
              "      fill: #FFFFFF;\n",
              "    }\n",
              "  </style>\n",
              "\n",
              "    <script>\n",
              "      const buttonEl =\n",
              "        document.querySelector('#df-afc2f1a6-bc70-44de-b9fc-e31d8774a6c8 button.colab-df-convert');\n",
              "      buttonEl.style.display =\n",
              "        google.colab.kernel.accessAllowed ? 'block' : 'none';\n",
              "\n",
              "      async function convertToInteractive(key) {\n",
              "        const element = document.querySelector('#df-afc2f1a6-bc70-44de-b9fc-e31d8774a6c8');\n",
              "        const dataTable =\n",
              "          await google.colab.kernel.invokeFunction('convertToInteractive',\n",
              "                                                    [key], {});\n",
              "        if (!dataTable) return;\n",
              "\n",
              "        const docLinkHtml = 'Like what you see? Visit the ' +\n",
              "          '<a target=\"_blank\" href=https://colab.research.google.com/notebooks/data_table.ipynb>data table notebook</a>'\n",
              "          + ' to learn more about interactive tables.';\n",
              "        element.innerHTML = '';\n",
              "        dataTable['output_type'] = 'display_data';\n",
              "        await google.colab.output.renderOutput(dataTable, element);\n",
              "        const docLink = document.createElement('div');\n",
              "        docLink.innerHTML = docLinkHtml;\n",
              "        element.appendChild(docLink);\n",
              "      }\n",
              "    </script>\n",
              "  </div>\n",
              "\n",
              "\n",
              "<div id=\"df-6f121dab-6b4a-4253-b0ef-4f65e1b5dcd4\">\n",
              "  <button class=\"colab-df-quickchart\" onclick=\"quickchart('df-6f121dab-6b4a-4253-b0ef-4f65e1b5dcd4')\"\n",
              "            title=\"Suggest charts\"\n",
              "            style=\"display:none;\">\n",
              "\n",
              "<svg xmlns=\"http://www.w3.org/2000/svg\" height=\"24px\"viewBox=\"0 0 24 24\"\n",
              "     width=\"24px\">\n",
              "    <g>\n",
              "        <path d=\"M19 3H5c-1.1 0-2 .9-2 2v14c0 1.1.9 2 2 2h14c1.1 0 2-.9 2-2V5c0-1.1-.9-2-2-2zM9 17H7v-7h2v7zm4 0h-2V7h2v10zm4 0h-2v-4h2v4z\"/>\n",
              "    </g>\n",
              "</svg>\n",
              "  </button>\n",
              "\n",
              "<style>\n",
              "  .colab-df-quickchart {\n",
              "      --bg-color: #E8F0FE;\n",
              "      --fill-color: #1967D2;\n",
              "      --hover-bg-color: #E2EBFA;\n",
              "      --hover-fill-color: #174EA6;\n",
              "      --disabled-fill-color: #AAA;\n",
              "      --disabled-bg-color: #DDD;\n",
              "  }\n",
              "\n",
              "  [theme=dark] .colab-df-quickchart {\n",
              "      --bg-color: #3B4455;\n",
              "      --fill-color: #D2E3FC;\n",
              "      --hover-bg-color: #434B5C;\n",
              "      --hover-fill-color: #FFFFFF;\n",
              "      --disabled-bg-color: #3B4455;\n",
              "      --disabled-fill-color: #666;\n",
              "  }\n",
              "\n",
              "  .colab-df-quickchart {\n",
              "    background-color: var(--bg-color);\n",
              "    border: none;\n",
              "    border-radius: 50%;\n",
              "    cursor: pointer;\n",
              "    display: none;\n",
              "    fill: var(--fill-color);\n",
              "    height: 32px;\n",
              "    padding: 0;\n",
              "    width: 32px;\n",
              "  }\n",
              "\n",
              "  .colab-df-quickchart:hover {\n",
              "    background-color: var(--hover-bg-color);\n",
              "    box-shadow: 0 1px 2px rgba(60, 64, 67, 0.3), 0 1px 3px 1px rgba(60, 64, 67, 0.15);\n",
              "    fill: var(--button-hover-fill-color);\n",
              "  }\n",
              "\n",
              "  .colab-df-quickchart-complete:disabled,\n",
              "  .colab-df-quickchart-complete:disabled:hover {\n",
              "    background-color: var(--disabled-bg-color);\n",
              "    fill: var(--disabled-fill-color);\n",
              "    box-shadow: none;\n",
              "  }\n",
              "\n",
              "  .colab-df-spinner {\n",
              "    border: 2px solid var(--fill-color);\n",
              "    border-color: transparent;\n",
              "    border-bottom-color: var(--fill-color);\n",
              "    animation:\n",
              "      spin 1s steps(1) infinite;\n",
              "  }\n",
              "\n",
              "  @keyframes spin {\n",
              "    0% {\n",
              "      border-color: transparent;\n",
              "      border-bottom-color: var(--fill-color);\n",
              "      border-left-color: var(--fill-color);\n",
              "    }\n",
              "    20% {\n",
              "      border-color: transparent;\n",
              "      border-left-color: var(--fill-color);\n",
              "      border-top-color: var(--fill-color);\n",
              "    }\n",
              "    30% {\n",
              "      border-color: transparent;\n",
              "      border-left-color: var(--fill-color);\n",
              "      border-top-color: var(--fill-color);\n",
              "      border-right-color: var(--fill-color);\n",
              "    }\n",
              "    40% {\n",
              "      border-color: transparent;\n",
              "      border-right-color: var(--fill-color);\n",
              "      border-top-color: var(--fill-color);\n",
              "    }\n",
              "    60% {\n",
              "      border-color: transparent;\n",
              "      border-right-color: var(--fill-color);\n",
              "    }\n",
              "    80% {\n",
              "      border-color: transparent;\n",
              "      border-right-color: var(--fill-color);\n",
              "      border-bottom-color: var(--fill-color);\n",
              "    }\n",
              "    90% {\n",
              "      border-color: transparent;\n",
              "      border-bottom-color: var(--fill-color);\n",
              "    }\n",
              "  }\n",
              "</style>\n",
              "\n",
              "  <script>\n",
              "    async function quickchart(key) {\n",
              "      const quickchartButtonEl =\n",
              "        document.querySelector('#' + key + ' button');\n",
              "      quickchartButtonEl.disabled = true;  // To prevent multiple clicks.\n",
              "      quickchartButtonEl.classList.add('colab-df-spinner');\n",
              "      try {\n",
              "        const charts = await google.colab.kernel.invokeFunction(\n",
              "            'suggestCharts', [key], {});\n",
              "      } catch (error) {\n",
              "        console.error('Error during call to suggestCharts:', error);\n",
              "      }\n",
              "      quickchartButtonEl.classList.remove('colab-df-spinner');\n",
              "      quickchartButtonEl.classList.add('colab-df-quickchart-complete');\n",
              "    }\n",
              "    (() => {\n",
              "      let quickchartButtonEl =\n",
              "        document.querySelector('#df-6f121dab-6b4a-4253-b0ef-4f65e1b5dcd4 button');\n",
              "      quickchartButtonEl.style.display =\n",
              "        google.colab.kernel.accessAllowed ? 'block' : 'none';\n",
              "    })();\n",
              "  </script>\n",
              "</div>\n",
              "\n",
              "  <div id=\"id_39cc78e0-746b-45b5-bcba-6612c3af7ffe\">\n",
              "    <style>\n",
              "      .colab-df-generate {\n",
              "        background-color: #E8F0FE;\n",
              "        border: none;\n",
              "        border-radius: 50%;\n",
              "        cursor: pointer;\n",
              "        display: none;\n",
              "        fill: #1967D2;\n",
              "        height: 32px;\n",
              "        padding: 0 0 0 0;\n",
              "        width: 32px;\n",
              "      }\n",
              "\n",
              "      .colab-df-generate:hover {\n",
              "        background-color: #E2EBFA;\n",
              "        box-shadow: 0px 1px 2px rgba(60, 64, 67, 0.3), 0px 1px 3px 1px rgba(60, 64, 67, 0.15);\n",
              "        fill: #174EA6;\n",
              "      }\n",
              "\n",
              "      [theme=dark] .colab-df-generate {\n",
              "        background-color: #3B4455;\n",
              "        fill: #D2E3FC;\n",
              "      }\n",
              "\n",
              "      [theme=dark] .colab-df-generate:hover {\n",
              "        background-color: #434B5C;\n",
              "        box-shadow: 0px 1px 3px 1px rgba(0, 0, 0, 0.15);\n",
              "        filter: drop-shadow(0px 1px 2px rgba(0, 0, 0, 0.3));\n",
              "        fill: #FFFFFF;\n",
              "      }\n",
              "    </style>\n",
              "    <button class=\"colab-df-generate\" onclick=\"generateWithVariable('df')\"\n",
              "            title=\"Generate code using this dataframe.\"\n",
              "            style=\"display:none;\">\n",
              "\n",
              "  <svg xmlns=\"http://www.w3.org/2000/svg\" height=\"24px\"viewBox=\"0 0 24 24\"\n",
              "       width=\"24px\">\n",
              "    <path d=\"M7,19H8.4L18.45,9,17,7.55,7,17.6ZM5,21V16.75L18.45,3.32a2,2,0,0,1,2.83,0l1.4,1.43a1.91,1.91,0,0,1,.58,1.4,1.91,1.91,0,0,1-.58,1.4L9.25,21ZM18.45,9,17,7.55Zm-12,3A5.31,5.31,0,0,0,4.9,8.1,5.31,5.31,0,0,0,1,6.5,5.31,5.31,0,0,0,4.9,4.9,5.31,5.31,0,0,0,6.5,1,5.31,5.31,0,0,0,8.1,4.9,5.31,5.31,0,0,0,12,6.5,5.46,5.46,0,0,0,6.5,12Z\"/>\n",
              "  </svg>\n",
              "    </button>\n",
              "    <script>\n",
              "      (() => {\n",
              "      const buttonEl =\n",
              "        document.querySelector('#id_39cc78e0-746b-45b5-bcba-6612c3af7ffe button.colab-df-generate');\n",
              "      buttonEl.style.display =\n",
              "        google.colab.kernel.accessAllowed ? 'block' : 'none';\n",
              "\n",
              "      buttonEl.onclick = () => {\n",
              "        google.colab.notebook.generateWithVariable('df');\n",
              "      }\n",
              "      })();\n",
              "    </script>\n",
              "  </div>\n",
              "\n",
              "    </div>\n",
              "  </div>\n"
            ],
            "application/vnd.google.colaboratory.intrinsic+json": {
              "type": "dataframe",
              "variable_name": "df",
              "summary": "{\n  \"name\": \"df\",\n  \"rows\": 20001,\n  \"fields\": [\n    {\n      \"column\": \"content\",\n      \"properties\": {\n        \"dtype\": \"string\",\n        \"num_unique_values\": 14640,\n        \"samples\": [\n          \"oh dear. why the hellish week? im sure next week will be bettter! otherwise  we'll just kick its ass!\",\n          \" What do you think of women who wear revealing clothing infront of kids?\",\n          \"fucking awesome. Happy holiday.\"\n        ],\n        \"semantic_type\": \"\",\n        \"description\": \"\"\n      }\n    },\n    {\n      \"column\": \"annotation\",\n      \"properties\": {\n        \"dtype\": \"object\",\n        \"semantic_type\": \"\",\n        \"description\": \"\"\n      }\n    },\n    {\n      \"column\": \"extras\",\n      \"properties\": {\n        \"dtype\": \"number\",\n        \"std\": null,\n        \"min\": null,\n        \"max\": null,\n        \"num_unique_values\": 0,\n        \"samples\": [],\n        \"semantic_type\": \"\",\n        \"description\": \"\"\n      }\n    },\n    {\n      \"column\": \"label\",\n      \"properties\": {\n        \"dtype\": \"category\",\n        \"num_unique_values\": 2,\n        \"samples\": [],\n        \"semantic_type\": \"\",\n        \"description\": \"\"\n      }\n    }\n  ]\n}"
            }
          },
          "metadata": {},
          "execution_count": 10
        }
      ]
    },
    {
      "cell_type": "code",
      "metadata": {
        "colab": {
          "base_uri": "https://localhost:8080/"
        },
        "id": "Ax-gMyBEi0BI",
        "outputId": "ebfcf53a-99ad-40cd-a37e-e72ad9a168ea"
      },
      "source": [
        "df.label.unique()"
      ],
      "execution_count": null,
      "outputs": [
        {
          "output_type": "execute_result",
          "data": {
            "text/plain": [
              "array(['1', '0'], dtype=object)"
            ]
          },
          "metadata": {},
          "execution_count": 11
        }
      ]
    },
    {
      "cell_type": "code",
      "metadata": {
        "colab": {
          "base_uri": "https://localhost:8080/"
        },
        "id": "OHbfEDu_GOYR",
        "outputId": "f8fe4576-59ca-4bd4-d091-e20f4fc60fba"
      },
      "source": [
        "df.extras.unique()"
      ],
      "execution_count": null,
      "outputs": [
        {
          "output_type": "execute_result",
          "data": {
            "text/plain": [
              "array([nan])"
            ]
          },
          "metadata": {},
          "execution_count": 12
        }
      ]
    },
    {
      "cell_type": "code",
      "metadata": {
        "colab": {
          "base_uri": "https://localhost:8080/"
        },
        "id": "QdxbuEFiGTvT",
        "outputId": "5b73c853-624f-464c-bc92-709ab0f5d1a5"
      },
      "source": [
        "df[\"notes\"] = df.annotation.apply(lambda x: x.get('notes'))\n",
        "df.notes.unique()"
      ],
      "execution_count": null,
      "outputs": [
        {
          "output_type": "execute_result",
          "data": {
            "text/plain": [
              "array([''], dtype=object)"
            ]
          },
          "metadata": {},
          "execution_count": 13
        }
      ]
    },
    {
      "cell_type": "code",
      "metadata": {
        "colab": {
          "base_uri": "https://localhost:8080/"
        },
        "id": "8OlQlyN8Gcvx",
        "outputId": "38e6e32c-92be-406b-f61a-b52cd311257c"
      },
      "source": [
        "import nltk\n",
        "nltk.download(['punkt', 'wordnet'])\n",
        "\n",
        "import re\n",
        "import numpy as np\n",
        "import pandas as pd\n",
        "from nltk.tokenize import word_tokenize\n",
        "from nltk.stem import WordNetLemmatizer\n",
        "from sklearn.metrics import confusion_matrix\n",
        "from sklearn.model_selection import train_test_split\n",
        "from sklearn.ensemble import RandomForestClassifier\n",
        "from sklearn.feature_extraction.text import CountVectorizer, TfidfTransformer\n",
        "from sklearn.linear_model import LogisticRegression\n",
        "from sklearn.naive_bayes import GaussianNB"
      ],
      "execution_count": null,
      "outputs": [
        {
          "output_type": "stream",
          "name": "stderr",
          "text": [
            "[nltk_data] Downloading package punkt to /root/nltk_data...\n",
            "[nltk_data]   Unzipping tokenizers/punkt.zip.\n",
            "[nltk_data] Downloading package wordnet to /root/nltk_data...\n"
          ]
        }
      ]
    },
    {
      "cell_type": "code",
      "metadata": {
        "id": "LMvIYHlHGkcx"
      },
      "source": [
        "df[\"label\"] = df.annotation.apply(lambda x: x.get('label'))\n",
        "df[\"label\"] = df.label.apply(lambda x: x[0])"
      ],
      "execution_count": null,
      "outputs": []
    },
    {
      "cell_type": "code",
      "metadata": {
        "colab": {
          "base_uri": "https://localhost:8080/",
          "height": 423
        },
        "id": "6m0ppjA5G5KT",
        "outputId": "e1f3a384-539e-4b3d-aff2-7a44810f52aa"
      },
      "source": [
        "df"
      ],
      "execution_count": null,
      "outputs": [
        {
          "output_type": "execute_result",
          "data": {
            "text/plain": [
              "                                                 content  \\\n",
              "0                                 Get fucking real dude.   \n",
              "1       She is as dirty as they come  and that crook ...   \n",
              "2       why did you fuck it up. I could do it all day...   \n",
              "3       Dude they dont finish enclosing the fucking s...   \n",
              "4       WTF are you talking about Men? No men thats n...   \n",
              "...                                                  ...   \n",
              "19996    I dont. But what is complaining about it goi...   \n",
              "19997   Bahah  yeah i&;m totally just gonna&; get pis...   \n",
              "19998       hahahahaha >:) im evil mwahahahahahahahahaha   \n",
              "19999            What&;s something unique about Ohio? :)   \n",
              "20000              Who is the biggest gossiper you know?   \n",
              "\n",
              "                          annotation  extras label notes  \n",
              "0      {'notes': '', 'label': ['1']}     NaN     1        \n",
              "1      {'notes': '', 'label': ['1']}     NaN     1        \n",
              "2      {'notes': '', 'label': ['1']}     NaN     1        \n",
              "3      {'notes': '', 'label': ['1']}     NaN     1        \n",
              "4      {'notes': '', 'label': ['1']}     NaN     1        \n",
              "...                              ...     ...   ...   ...  \n",
              "19996  {'notes': '', 'label': ['0']}     NaN     0        \n",
              "19997  {'notes': '', 'label': ['0']}     NaN     0        \n",
              "19998  {'notes': '', 'label': ['0']}     NaN     0        \n",
              "19999  {'notes': '', 'label': ['0']}     NaN     0        \n",
              "20000  {'notes': '', 'label': ['0']}     NaN     0        \n",
              "\n",
              "[20001 rows x 5 columns]"
            ],
            "text/html": [
              "\n",
              "  <div id=\"df-c2046a78-d39e-43fa-9c4b-b8613d6979f9\" class=\"colab-df-container\">\n",
              "    <div>\n",
              "<style scoped>\n",
              "    .dataframe tbody tr th:only-of-type {\n",
              "        vertical-align: middle;\n",
              "    }\n",
              "\n",
              "    .dataframe tbody tr th {\n",
              "        vertical-align: top;\n",
              "    }\n",
              "\n",
              "    .dataframe thead th {\n",
              "        text-align: right;\n",
              "    }\n",
              "</style>\n",
              "<table border=\"1\" class=\"dataframe\">\n",
              "  <thead>\n",
              "    <tr style=\"text-align: right;\">\n",
              "      <th></th>\n",
              "      <th>content</th>\n",
              "      <th>annotation</th>\n",
              "      <th>extras</th>\n",
              "      <th>label</th>\n",
              "      <th>notes</th>\n",
              "    </tr>\n",
              "  </thead>\n",
              "  <tbody>\n",
              "    <tr>\n",
              "      <th>0</th>\n",
              "      <td>Get fucking real dude.</td>\n",
              "      <td>{'notes': '', 'label': ['1']}</td>\n",
              "      <td>NaN</td>\n",
              "      <td>1</td>\n",
              "      <td></td>\n",
              "    </tr>\n",
              "    <tr>\n",
              "      <th>1</th>\n",
              "      <td>She is as dirty as they come  and that crook ...</td>\n",
              "      <td>{'notes': '', 'label': ['1']}</td>\n",
              "      <td>NaN</td>\n",
              "      <td>1</td>\n",
              "      <td></td>\n",
              "    </tr>\n",
              "    <tr>\n",
              "      <th>2</th>\n",
              "      <td>why did you fuck it up. I could do it all day...</td>\n",
              "      <td>{'notes': '', 'label': ['1']}</td>\n",
              "      <td>NaN</td>\n",
              "      <td>1</td>\n",
              "      <td></td>\n",
              "    </tr>\n",
              "    <tr>\n",
              "      <th>3</th>\n",
              "      <td>Dude they dont finish enclosing the fucking s...</td>\n",
              "      <td>{'notes': '', 'label': ['1']}</td>\n",
              "      <td>NaN</td>\n",
              "      <td>1</td>\n",
              "      <td></td>\n",
              "    </tr>\n",
              "    <tr>\n",
              "      <th>4</th>\n",
              "      <td>WTF are you talking about Men? No men thats n...</td>\n",
              "      <td>{'notes': '', 'label': ['1']}</td>\n",
              "      <td>NaN</td>\n",
              "      <td>1</td>\n",
              "      <td></td>\n",
              "    </tr>\n",
              "    <tr>\n",
              "      <th>...</th>\n",
              "      <td>...</td>\n",
              "      <td>...</td>\n",
              "      <td>...</td>\n",
              "      <td>...</td>\n",
              "      <td>...</td>\n",
              "    </tr>\n",
              "    <tr>\n",
              "      <th>19996</th>\n",
              "      <td>I dont. But what is complaining about it goi...</td>\n",
              "      <td>{'notes': '', 'label': ['0']}</td>\n",
              "      <td>NaN</td>\n",
              "      <td>0</td>\n",
              "      <td></td>\n",
              "    </tr>\n",
              "    <tr>\n",
              "      <th>19997</th>\n",
              "      <td>Bahah  yeah i&amp;;m totally just gonna&amp;; get pis...</td>\n",
              "      <td>{'notes': '', 'label': ['0']}</td>\n",
              "      <td>NaN</td>\n",
              "      <td>0</td>\n",
              "      <td></td>\n",
              "    </tr>\n",
              "    <tr>\n",
              "      <th>19998</th>\n",
              "      <td>hahahahaha &gt;:) im evil mwahahahahahahahahaha</td>\n",
              "      <td>{'notes': '', 'label': ['0']}</td>\n",
              "      <td>NaN</td>\n",
              "      <td>0</td>\n",
              "      <td></td>\n",
              "    </tr>\n",
              "    <tr>\n",
              "      <th>19999</th>\n",
              "      <td>What&amp;;s something unique about Ohio? :)</td>\n",
              "      <td>{'notes': '', 'label': ['0']}</td>\n",
              "      <td>NaN</td>\n",
              "      <td>0</td>\n",
              "      <td></td>\n",
              "    </tr>\n",
              "    <tr>\n",
              "      <th>20000</th>\n",
              "      <td>Who is the biggest gossiper you know?</td>\n",
              "      <td>{'notes': '', 'label': ['0']}</td>\n",
              "      <td>NaN</td>\n",
              "      <td>0</td>\n",
              "      <td></td>\n",
              "    </tr>\n",
              "  </tbody>\n",
              "</table>\n",
              "<p>20001 rows × 5 columns</p>\n",
              "</div>\n",
              "    <div class=\"colab-df-buttons\">\n",
              "\n",
              "  <div class=\"colab-df-container\">\n",
              "    <button class=\"colab-df-convert\" onclick=\"convertToInteractive('df-c2046a78-d39e-43fa-9c4b-b8613d6979f9')\"\n",
              "            title=\"Convert this dataframe to an interactive table.\"\n",
              "            style=\"display:none;\">\n",
              "\n",
              "  <svg xmlns=\"http://www.w3.org/2000/svg\" height=\"24px\" viewBox=\"0 -960 960 960\">\n",
              "    <path d=\"M120-120v-720h720v720H120Zm60-500h600v-160H180v160Zm220 220h160v-160H400v160Zm0 220h160v-160H400v160ZM180-400h160v-160H180v160Zm440 0h160v-160H620v160ZM180-180h160v-160H180v160Zm440 0h160v-160H620v160Z\"/>\n",
              "  </svg>\n",
              "    </button>\n",
              "\n",
              "  <style>\n",
              "    .colab-df-container {\n",
              "      display:flex;\n",
              "      gap: 12px;\n",
              "    }\n",
              "\n",
              "    .colab-df-convert {\n",
              "      background-color: #E8F0FE;\n",
              "      border: none;\n",
              "      border-radius: 50%;\n",
              "      cursor: pointer;\n",
              "      display: none;\n",
              "      fill: #1967D2;\n",
              "      height: 32px;\n",
              "      padding: 0 0 0 0;\n",
              "      width: 32px;\n",
              "    }\n",
              "\n",
              "    .colab-df-convert:hover {\n",
              "      background-color: #E2EBFA;\n",
              "      box-shadow: 0px 1px 2px rgba(60, 64, 67, 0.3), 0px 1px 3px 1px rgba(60, 64, 67, 0.15);\n",
              "      fill: #174EA6;\n",
              "    }\n",
              "\n",
              "    .colab-df-buttons div {\n",
              "      margin-bottom: 4px;\n",
              "    }\n",
              "\n",
              "    [theme=dark] .colab-df-convert {\n",
              "      background-color: #3B4455;\n",
              "      fill: #D2E3FC;\n",
              "    }\n",
              "\n",
              "    [theme=dark] .colab-df-convert:hover {\n",
              "      background-color: #434B5C;\n",
              "      box-shadow: 0px 1px 3px 1px rgba(0, 0, 0, 0.15);\n",
              "      filter: drop-shadow(0px 1px 2px rgba(0, 0, 0, 0.3));\n",
              "      fill: #FFFFFF;\n",
              "    }\n",
              "  </style>\n",
              "\n",
              "    <script>\n",
              "      const buttonEl =\n",
              "        document.querySelector('#df-c2046a78-d39e-43fa-9c4b-b8613d6979f9 button.colab-df-convert');\n",
              "      buttonEl.style.display =\n",
              "        google.colab.kernel.accessAllowed ? 'block' : 'none';\n",
              "\n",
              "      async function convertToInteractive(key) {\n",
              "        const element = document.querySelector('#df-c2046a78-d39e-43fa-9c4b-b8613d6979f9');\n",
              "        const dataTable =\n",
              "          await google.colab.kernel.invokeFunction('convertToInteractive',\n",
              "                                                    [key], {});\n",
              "        if (!dataTable) return;\n",
              "\n",
              "        const docLinkHtml = 'Like what you see? Visit the ' +\n",
              "          '<a target=\"_blank\" href=https://colab.research.google.com/notebooks/data_table.ipynb>data table notebook</a>'\n",
              "          + ' to learn more about interactive tables.';\n",
              "        element.innerHTML = '';\n",
              "        dataTable['output_type'] = 'display_data';\n",
              "        await google.colab.output.renderOutput(dataTable, element);\n",
              "        const docLink = document.createElement('div');\n",
              "        docLink.innerHTML = docLinkHtml;\n",
              "        element.appendChild(docLink);\n",
              "      }\n",
              "    </script>\n",
              "  </div>\n",
              "\n",
              "\n",
              "<div id=\"df-79cb5fea-b788-4d3c-a2a6-810f998631d5\">\n",
              "  <button class=\"colab-df-quickchart\" onclick=\"quickchart('df-79cb5fea-b788-4d3c-a2a6-810f998631d5')\"\n",
              "            title=\"Suggest charts\"\n",
              "            style=\"display:none;\">\n",
              "\n",
              "<svg xmlns=\"http://www.w3.org/2000/svg\" height=\"24px\"viewBox=\"0 0 24 24\"\n",
              "     width=\"24px\">\n",
              "    <g>\n",
              "        <path d=\"M19 3H5c-1.1 0-2 .9-2 2v14c0 1.1.9 2 2 2h14c1.1 0 2-.9 2-2V5c0-1.1-.9-2-2-2zM9 17H7v-7h2v7zm4 0h-2V7h2v10zm4 0h-2v-4h2v4z\"/>\n",
              "    </g>\n",
              "</svg>\n",
              "  </button>\n",
              "\n",
              "<style>\n",
              "  .colab-df-quickchart {\n",
              "      --bg-color: #E8F0FE;\n",
              "      --fill-color: #1967D2;\n",
              "      --hover-bg-color: #E2EBFA;\n",
              "      --hover-fill-color: #174EA6;\n",
              "      --disabled-fill-color: #AAA;\n",
              "      --disabled-bg-color: #DDD;\n",
              "  }\n",
              "\n",
              "  [theme=dark] .colab-df-quickchart {\n",
              "      --bg-color: #3B4455;\n",
              "      --fill-color: #D2E3FC;\n",
              "      --hover-bg-color: #434B5C;\n",
              "      --hover-fill-color: #FFFFFF;\n",
              "      --disabled-bg-color: #3B4455;\n",
              "      --disabled-fill-color: #666;\n",
              "  }\n",
              "\n",
              "  .colab-df-quickchart {\n",
              "    background-color: var(--bg-color);\n",
              "    border: none;\n",
              "    border-radius: 50%;\n",
              "    cursor: pointer;\n",
              "    display: none;\n",
              "    fill: var(--fill-color);\n",
              "    height: 32px;\n",
              "    padding: 0;\n",
              "    width: 32px;\n",
              "  }\n",
              "\n",
              "  .colab-df-quickchart:hover {\n",
              "    background-color: var(--hover-bg-color);\n",
              "    box-shadow: 0 1px 2px rgba(60, 64, 67, 0.3), 0 1px 3px 1px rgba(60, 64, 67, 0.15);\n",
              "    fill: var(--button-hover-fill-color);\n",
              "  }\n",
              "\n",
              "  .colab-df-quickchart-complete:disabled,\n",
              "  .colab-df-quickchart-complete:disabled:hover {\n",
              "    background-color: var(--disabled-bg-color);\n",
              "    fill: var(--disabled-fill-color);\n",
              "    box-shadow: none;\n",
              "  }\n",
              "\n",
              "  .colab-df-spinner {\n",
              "    border: 2px solid var(--fill-color);\n",
              "    border-color: transparent;\n",
              "    border-bottom-color: var(--fill-color);\n",
              "    animation:\n",
              "      spin 1s steps(1) infinite;\n",
              "  }\n",
              "\n",
              "  @keyframes spin {\n",
              "    0% {\n",
              "      border-color: transparent;\n",
              "      border-bottom-color: var(--fill-color);\n",
              "      border-left-color: var(--fill-color);\n",
              "    }\n",
              "    20% {\n",
              "      border-color: transparent;\n",
              "      border-left-color: var(--fill-color);\n",
              "      border-top-color: var(--fill-color);\n",
              "    }\n",
              "    30% {\n",
              "      border-color: transparent;\n",
              "      border-left-color: var(--fill-color);\n",
              "      border-top-color: var(--fill-color);\n",
              "      border-right-color: var(--fill-color);\n",
              "    }\n",
              "    40% {\n",
              "      border-color: transparent;\n",
              "      border-right-color: var(--fill-color);\n",
              "      border-top-color: var(--fill-color);\n",
              "    }\n",
              "    60% {\n",
              "      border-color: transparent;\n",
              "      border-right-color: var(--fill-color);\n",
              "    }\n",
              "    80% {\n",
              "      border-color: transparent;\n",
              "      border-right-color: var(--fill-color);\n",
              "      border-bottom-color: var(--fill-color);\n",
              "    }\n",
              "    90% {\n",
              "      border-color: transparent;\n",
              "      border-bottom-color: var(--fill-color);\n",
              "    }\n",
              "  }\n",
              "</style>\n",
              "\n",
              "  <script>\n",
              "    async function quickchart(key) {\n",
              "      const quickchartButtonEl =\n",
              "        document.querySelector('#' + key + ' button');\n",
              "      quickchartButtonEl.disabled = true;  // To prevent multiple clicks.\n",
              "      quickchartButtonEl.classList.add('colab-df-spinner');\n",
              "      try {\n",
              "        const charts = await google.colab.kernel.invokeFunction(\n",
              "            'suggestCharts', [key], {});\n",
              "      } catch (error) {\n",
              "        console.error('Error during call to suggestCharts:', error);\n",
              "      }\n",
              "      quickchartButtonEl.classList.remove('colab-df-spinner');\n",
              "      quickchartButtonEl.classList.add('colab-df-quickchart-complete');\n",
              "    }\n",
              "    (() => {\n",
              "      let quickchartButtonEl =\n",
              "        document.querySelector('#df-79cb5fea-b788-4d3c-a2a6-810f998631d5 button');\n",
              "      quickchartButtonEl.style.display =\n",
              "        google.colab.kernel.accessAllowed ? 'block' : 'none';\n",
              "    })();\n",
              "  </script>\n",
              "</div>\n",
              "\n",
              "  <div id=\"id_a98d1781-808c-4485-b561-1e9ea582030c\">\n",
              "    <style>\n",
              "      .colab-df-generate {\n",
              "        background-color: #E8F0FE;\n",
              "        border: none;\n",
              "        border-radius: 50%;\n",
              "        cursor: pointer;\n",
              "        display: none;\n",
              "        fill: #1967D2;\n",
              "        height: 32px;\n",
              "        padding: 0 0 0 0;\n",
              "        width: 32px;\n",
              "      }\n",
              "\n",
              "      .colab-df-generate:hover {\n",
              "        background-color: #E2EBFA;\n",
              "        box-shadow: 0px 1px 2px rgba(60, 64, 67, 0.3), 0px 1px 3px 1px rgba(60, 64, 67, 0.15);\n",
              "        fill: #174EA6;\n",
              "      }\n",
              "\n",
              "      [theme=dark] .colab-df-generate {\n",
              "        background-color: #3B4455;\n",
              "        fill: #D2E3FC;\n",
              "      }\n",
              "\n",
              "      [theme=dark] .colab-df-generate:hover {\n",
              "        background-color: #434B5C;\n",
              "        box-shadow: 0px 1px 3px 1px rgba(0, 0, 0, 0.15);\n",
              "        filter: drop-shadow(0px 1px 2px rgba(0, 0, 0, 0.3));\n",
              "        fill: #FFFFFF;\n",
              "      }\n",
              "    </style>\n",
              "    <button class=\"colab-df-generate\" onclick=\"generateWithVariable('df')\"\n",
              "            title=\"Generate code using this dataframe.\"\n",
              "            style=\"display:none;\">\n",
              "\n",
              "  <svg xmlns=\"http://www.w3.org/2000/svg\" height=\"24px\"viewBox=\"0 0 24 24\"\n",
              "       width=\"24px\">\n",
              "    <path d=\"M7,19H8.4L18.45,9,17,7.55,7,17.6ZM5,21V16.75L18.45,3.32a2,2,0,0,1,2.83,0l1.4,1.43a1.91,1.91,0,0,1,.58,1.4,1.91,1.91,0,0,1-.58,1.4L9.25,21ZM18.45,9,17,7.55Zm-12,3A5.31,5.31,0,0,0,4.9,8.1,5.31,5.31,0,0,0,1,6.5,5.31,5.31,0,0,0,4.9,4.9,5.31,5.31,0,0,0,6.5,1,5.31,5.31,0,0,0,8.1,4.9,5.31,5.31,0,0,0,12,6.5,5.46,5.46,0,0,0,6.5,12Z\"/>\n",
              "  </svg>\n",
              "    </button>\n",
              "    <script>\n",
              "      (() => {\n",
              "      const buttonEl =\n",
              "        document.querySelector('#id_a98d1781-808c-4485-b561-1e9ea582030c button.colab-df-generate');\n",
              "      buttonEl.style.display =\n",
              "        google.colab.kernel.accessAllowed ? 'block' : 'none';\n",
              "\n",
              "      buttonEl.onclick = () => {\n",
              "        google.colab.notebook.generateWithVariable('df');\n",
              "      }\n",
              "      })();\n",
              "    </script>\n",
              "  </div>\n",
              "\n",
              "    </div>\n",
              "  </div>\n"
            ],
            "application/vnd.google.colaboratory.intrinsic+json": {
              "type": "dataframe",
              "variable_name": "df",
              "summary": "{\n  \"name\": \"df\",\n  \"rows\": 20001,\n  \"fields\": [\n    {\n      \"column\": \"content\",\n      \"properties\": {\n        \"dtype\": \"string\",\n        \"num_unique_values\": 14640,\n        \"samples\": [\n          \"oh dear. why the hellish week? im sure next week will be bettter! otherwise  we'll just kick its ass!\",\n          \" What do you think of women who wear revealing clothing infront of kids?\",\n          \"fucking awesome. Happy holiday.\"\n        ],\n        \"semantic_type\": \"\",\n        \"description\": \"\"\n      }\n    },\n    {\n      \"column\": \"annotation\",\n      \"properties\": {\n        \"dtype\": \"object\",\n        \"semantic_type\": \"\",\n        \"description\": \"\"\n      }\n    },\n    {\n      \"column\": \"extras\",\n      \"properties\": {\n        \"dtype\": \"number\",\n        \"std\": null,\n        \"min\": null,\n        \"max\": null,\n        \"num_unique_values\": 0,\n        \"samples\": [],\n        \"semantic_type\": \"\",\n        \"description\": \"\"\n      }\n    },\n    {\n      \"column\": \"label\",\n      \"properties\": {\n        \"dtype\": \"category\",\n        \"num_unique_values\": 2,\n        \"samples\": [],\n        \"semantic_type\": \"\",\n        \"description\": \"\"\n      }\n    },\n    {\n      \"column\": \"notes\",\n      \"properties\": {\n        \"dtype\": \"object\",\n        \"num_unique_values\": 1,\n        \"samples\": [],\n        \"semantic_type\": \"\",\n        \"description\": \"\"\n      }\n    }\n  ]\n}"
            }
          },
          "metadata": {},
          "execution_count": 17
        }
      ]
    },
    {
      "cell_type": "markdown",
      "metadata": {
        "id": "j9MyJKVsCFeO"
      },
      "source": [
        "**Droping the columns which are not necessary**"
      ]
    },
    {
      "cell_type": "code",
      "metadata": {
        "id": "OiEt5yYOBvtj"
      },
      "source": [
        "df = df.drop(['annotation','extras','notes'],axis='columns')\n"
      ],
      "execution_count": null,
      "outputs": []
    },
    {
      "cell_type": "code",
      "metadata": {
        "colab": {
          "base_uri": "https://localhost:8080/",
          "height": 423
        },
        "id": "TGnQVcHTCA4t",
        "outputId": "8c56b93f-3af2-49ac-fa9c-3012572fa208"
      },
      "source": [
        "df"
      ],
      "execution_count": null,
      "outputs": [
        {
          "output_type": "execute_result",
          "data": {
            "text/plain": [
              "                                                 content label\n",
              "0                                 Get fucking real dude.     1\n",
              "1       She is as dirty as they come  and that crook ...     1\n",
              "2       why did you fuck it up. I could do it all day...     1\n",
              "3       Dude they dont finish enclosing the fucking s...     1\n",
              "4       WTF are you talking about Men? No men thats n...     1\n",
              "...                                                  ...   ...\n",
              "19996    I dont. But what is complaining about it goi...     0\n",
              "19997   Bahah  yeah i&;m totally just gonna&; get pis...     0\n",
              "19998       hahahahaha >:) im evil mwahahahahahahahahaha     0\n",
              "19999            What&;s something unique about Ohio? :)     0\n",
              "20000              Who is the biggest gossiper you know?     0\n",
              "\n",
              "[20001 rows x 2 columns]"
            ],
            "text/html": [
              "\n",
              "  <div id=\"df-73586549-dd71-4d51-9d87-5ccbb0db4390\" class=\"colab-df-container\">\n",
              "    <div>\n",
              "<style scoped>\n",
              "    .dataframe tbody tr th:only-of-type {\n",
              "        vertical-align: middle;\n",
              "    }\n",
              "\n",
              "    .dataframe tbody tr th {\n",
              "        vertical-align: top;\n",
              "    }\n",
              "\n",
              "    .dataframe thead th {\n",
              "        text-align: right;\n",
              "    }\n",
              "</style>\n",
              "<table border=\"1\" class=\"dataframe\">\n",
              "  <thead>\n",
              "    <tr style=\"text-align: right;\">\n",
              "      <th></th>\n",
              "      <th>content</th>\n",
              "      <th>label</th>\n",
              "    </tr>\n",
              "  </thead>\n",
              "  <tbody>\n",
              "    <tr>\n",
              "      <th>0</th>\n",
              "      <td>Get fucking real dude.</td>\n",
              "      <td>1</td>\n",
              "    </tr>\n",
              "    <tr>\n",
              "      <th>1</th>\n",
              "      <td>She is as dirty as they come  and that crook ...</td>\n",
              "      <td>1</td>\n",
              "    </tr>\n",
              "    <tr>\n",
              "      <th>2</th>\n",
              "      <td>why did you fuck it up. I could do it all day...</td>\n",
              "      <td>1</td>\n",
              "    </tr>\n",
              "    <tr>\n",
              "      <th>3</th>\n",
              "      <td>Dude they dont finish enclosing the fucking s...</td>\n",
              "      <td>1</td>\n",
              "    </tr>\n",
              "    <tr>\n",
              "      <th>4</th>\n",
              "      <td>WTF are you talking about Men? No men thats n...</td>\n",
              "      <td>1</td>\n",
              "    </tr>\n",
              "    <tr>\n",
              "      <th>...</th>\n",
              "      <td>...</td>\n",
              "      <td>...</td>\n",
              "    </tr>\n",
              "    <tr>\n",
              "      <th>19996</th>\n",
              "      <td>I dont. But what is complaining about it goi...</td>\n",
              "      <td>0</td>\n",
              "    </tr>\n",
              "    <tr>\n",
              "      <th>19997</th>\n",
              "      <td>Bahah  yeah i&amp;;m totally just gonna&amp;; get pis...</td>\n",
              "      <td>0</td>\n",
              "    </tr>\n",
              "    <tr>\n",
              "      <th>19998</th>\n",
              "      <td>hahahahaha &gt;:) im evil mwahahahahahahahahaha</td>\n",
              "      <td>0</td>\n",
              "    </tr>\n",
              "    <tr>\n",
              "      <th>19999</th>\n",
              "      <td>What&amp;;s something unique about Ohio? :)</td>\n",
              "      <td>0</td>\n",
              "    </tr>\n",
              "    <tr>\n",
              "      <th>20000</th>\n",
              "      <td>Who is the biggest gossiper you know?</td>\n",
              "      <td>0</td>\n",
              "    </tr>\n",
              "  </tbody>\n",
              "</table>\n",
              "<p>20001 rows × 2 columns</p>\n",
              "</div>\n",
              "    <div class=\"colab-df-buttons\">\n",
              "\n",
              "  <div class=\"colab-df-container\">\n",
              "    <button class=\"colab-df-convert\" onclick=\"convertToInteractive('df-73586549-dd71-4d51-9d87-5ccbb0db4390')\"\n",
              "            title=\"Convert this dataframe to an interactive table.\"\n",
              "            style=\"display:none;\">\n",
              "\n",
              "  <svg xmlns=\"http://www.w3.org/2000/svg\" height=\"24px\" viewBox=\"0 -960 960 960\">\n",
              "    <path d=\"M120-120v-720h720v720H120Zm60-500h600v-160H180v160Zm220 220h160v-160H400v160Zm0 220h160v-160H400v160ZM180-400h160v-160H180v160Zm440 0h160v-160H620v160ZM180-180h160v-160H180v160Zm440 0h160v-160H620v160Z\"/>\n",
              "  </svg>\n",
              "    </button>\n",
              "\n",
              "  <style>\n",
              "    .colab-df-container {\n",
              "      display:flex;\n",
              "      gap: 12px;\n",
              "    }\n",
              "\n",
              "    .colab-df-convert {\n",
              "      background-color: #E8F0FE;\n",
              "      border: none;\n",
              "      border-radius: 50%;\n",
              "      cursor: pointer;\n",
              "      display: none;\n",
              "      fill: #1967D2;\n",
              "      height: 32px;\n",
              "      padding: 0 0 0 0;\n",
              "      width: 32px;\n",
              "    }\n",
              "\n",
              "    .colab-df-convert:hover {\n",
              "      background-color: #E2EBFA;\n",
              "      box-shadow: 0px 1px 2px rgba(60, 64, 67, 0.3), 0px 1px 3px 1px rgba(60, 64, 67, 0.15);\n",
              "      fill: #174EA6;\n",
              "    }\n",
              "\n",
              "    .colab-df-buttons div {\n",
              "      margin-bottom: 4px;\n",
              "    }\n",
              "\n",
              "    [theme=dark] .colab-df-convert {\n",
              "      background-color: #3B4455;\n",
              "      fill: #D2E3FC;\n",
              "    }\n",
              "\n",
              "    [theme=dark] .colab-df-convert:hover {\n",
              "      background-color: #434B5C;\n",
              "      box-shadow: 0px 1px 3px 1px rgba(0, 0, 0, 0.15);\n",
              "      filter: drop-shadow(0px 1px 2px rgba(0, 0, 0, 0.3));\n",
              "      fill: #FFFFFF;\n",
              "    }\n",
              "  </style>\n",
              "\n",
              "    <script>\n",
              "      const buttonEl =\n",
              "        document.querySelector('#df-73586549-dd71-4d51-9d87-5ccbb0db4390 button.colab-df-convert');\n",
              "      buttonEl.style.display =\n",
              "        google.colab.kernel.accessAllowed ? 'block' : 'none';\n",
              "\n",
              "      async function convertToInteractive(key) {\n",
              "        const element = document.querySelector('#df-73586549-dd71-4d51-9d87-5ccbb0db4390');\n",
              "        const dataTable =\n",
              "          await google.colab.kernel.invokeFunction('convertToInteractive',\n",
              "                                                    [key], {});\n",
              "        if (!dataTable) return;\n",
              "\n",
              "        const docLinkHtml = 'Like what you see? Visit the ' +\n",
              "          '<a target=\"_blank\" href=https://colab.research.google.com/notebooks/data_table.ipynb>data table notebook</a>'\n",
              "          + ' to learn more about interactive tables.';\n",
              "        element.innerHTML = '';\n",
              "        dataTable['output_type'] = 'display_data';\n",
              "        await google.colab.output.renderOutput(dataTable, element);\n",
              "        const docLink = document.createElement('div');\n",
              "        docLink.innerHTML = docLinkHtml;\n",
              "        element.appendChild(docLink);\n",
              "      }\n",
              "    </script>\n",
              "  </div>\n",
              "\n",
              "\n",
              "<div id=\"df-b6f76752-93a5-41b1-b796-ba37d3c3d4e2\">\n",
              "  <button class=\"colab-df-quickchart\" onclick=\"quickchart('df-b6f76752-93a5-41b1-b796-ba37d3c3d4e2')\"\n",
              "            title=\"Suggest charts\"\n",
              "            style=\"display:none;\">\n",
              "\n",
              "<svg xmlns=\"http://www.w3.org/2000/svg\" height=\"24px\"viewBox=\"0 0 24 24\"\n",
              "     width=\"24px\">\n",
              "    <g>\n",
              "        <path d=\"M19 3H5c-1.1 0-2 .9-2 2v14c0 1.1.9 2 2 2h14c1.1 0 2-.9 2-2V5c0-1.1-.9-2-2-2zM9 17H7v-7h2v7zm4 0h-2V7h2v10zm4 0h-2v-4h2v4z\"/>\n",
              "    </g>\n",
              "</svg>\n",
              "  </button>\n",
              "\n",
              "<style>\n",
              "  .colab-df-quickchart {\n",
              "      --bg-color: #E8F0FE;\n",
              "      --fill-color: #1967D2;\n",
              "      --hover-bg-color: #E2EBFA;\n",
              "      --hover-fill-color: #174EA6;\n",
              "      --disabled-fill-color: #AAA;\n",
              "      --disabled-bg-color: #DDD;\n",
              "  }\n",
              "\n",
              "  [theme=dark] .colab-df-quickchart {\n",
              "      --bg-color: #3B4455;\n",
              "      --fill-color: #D2E3FC;\n",
              "      --hover-bg-color: #434B5C;\n",
              "      --hover-fill-color: #FFFFFF;\n",
              "      --disabled-bg-color: #3B4455;\n",
              "      --disabled-fill-color: #666;\n",
              "  }\n",
              "\n",
              "  .colab-df-quickchart {\n",
              "    background-color: var(--bg-color);\n",
              "    border: none;\n",
              "    border-radius: 50%;\n",
              "    cursor: pointer;\n",
              "    display: none;\n",
              "    fill: var(--fill-color);\n",
              "    height: 32px;\n",
              "    padding: 0;\n",
              "    width: 32px;\n",
              "  }\n",
              "\n",
              "  .colab-df-quickchart:hover {\n",
              "    background-color: var(--hover-bg-color);\n",
              "    box-shadow: 0 1px 2px rgba(60, 64, 67, 0.3), 0 1px 3px 1px rgba(60, 64, 67, 0.15);\n",
              "    fill: var(--button-hover-fill-color);\n",
              "  }\n",
              "\n",
              "  .colab-df-quickchart-complete:disabled,\n",
              "  .colab-df-quickchart-complete:disabled:hover {\n",
              "    background-color: var(--disabled-bg-color);\n",
              "    fill: var(--disabled-fill-color);\n",
              "    box-shadow: none;\n",
              "  }\n",
              "\n",
              "  .colab-df-spinner {\n",
              "    border: 2px solid var(--fill-color);\n",
              "    border-color: transparent;\n",
              "    border-bottom-color: var(--fill-color);\n",
              "    animation:\n",
              "      spin 1s steps(1) infinite;\n",
              "  }\n",
              "\n",
              "  @keyframes spin {\n",
              "    0% {\n",
              "      border-color: transparent;\n",
              "      border-bottom-color: var(--fill-color);\n",
              "      border-left-color: var(--fill-color);\n",
              "    }\n",
              "    20% {\n",
              "      border-color: transparent;\n",
              "      border-left-color: var(--fill-color);\n",
              "      border-top-color: var(--fill-color);\n",
              "    }\n",
              "    30% {\n",
              "      border-color: transparent;\n",
              "      border-left-color: var(--fill-color);\n",
              "      border-top-color: var(--fill-color);\n",
              "      border-right-color: var(--fill-color);\n",
              "    }\n",
              "    40% {\n",
              "      border-color: transparent;\n",
              "      border-right-color: var(--fill-color);\n",
              "      border-top-color: var(--fill-color);\n",
              "    }\n",
              "    60% {\n",
              "      border-color: transparent;\n",
              "      border-right-color: var(--fill-color);\n",
              "    }\n",
              "    80% {\n",
              "      border-color: transparent;\n",
              "      border-right-color: var(--fill-color);\n",
              "      border-bottom-color: var(--fill-color);\n",
              "    }\n",
              "    90% {\n",
              "      border-color: transparent;\n",
              "      border-bottom-color: var(--fill-color);\n",
              "    }\n",
              "  }\n",
              "</style>\n",
              "\n",
              "  <script>\n",
              "    async function quickchart(key) {\n",
              "      const quickchartButtonEl =\n",
              "        document.querySelector('#' + key + ' button');\n",
              "      quickchartButtonEl.disabled = true;  // To prevent multiple clicks.\n",
              "      quickchartButtonEl.classList.add('colab-df-spinner');\n",
              "      try {\n",
              "        const charts = await google.colab.kernel.invokeFunction(\n",
              "            'suggestCharts', [key], {});\n",
              "      } catch (error) {\n",
              "        console.error('Error during call to suggestCharts:', error);\n",
              "      }\n",
              "      quickchartButtonEl.classList.remove('colab-df-spinner');\n",
              "      quickchartButtonEl.classList.add('colab-df-quickchart-complete');\n",
              "    }\n",
              "    (() => {\n",
              "      let quickchartButtonEl =\n",
              "        document.querySelector('#df-b6f76752-93a5-41b1-b796-ba37d3c3d4e2 button');\n",
              "      quickchartButtonEl.style.display =\n",
              "        google.colab.kernel.accessAllowed ? 'block' : 'none';\n",
              "    })();\n",
              "  </script>\n",
              "</div>\n",
              "\n",
              "  <div id=\"id_28cc159b-089b-45e4-9aa2-37310dd3554b\">\n",
              "    <style>\n",
              "      .colab-df-generate {\n",
              "        background-color: #E8F0FE;\n",
              "        border: none;\n",
              "        border-radius: 50%;\n",
              "        cursor: pointer;\n",
              "        display: none;\n",
              "        fill: #1967D2;\n",
              "        height: 32px;\n",
              "        padding: 0 0 0 0;\n",
              "        width: 32px;\n",
              "      }\n",
              "\n",
              "      .colab-df-generate:hover {\n",
              "        background-color: #E2EBFA;\n",
              "        box-shadow: 0px 1px 2px rgba(60, 64, 67, 0.3), 0px 1px 3px 1px rgba(60, 64, 67, 0.15);\n",
              "        fill: #174EA6;\n",
              "      }\n",
              "\n",
              "      [theme=dark] .colab-df-generate {\n",
              "        background-color: #3B4455;\n",
              "        fill: #D2E3FC;\n",
              "      }\n",
              "\n",
              "      [theme=dark] .colab-df-generate:hover {\n",
              "        background-color: #434B5C;\n",
              "        box-shadow: 0px 1px 3px 1px rgba(0, 0, 0, 0.15);\n",
              "        filter: drop-shadow(0px 1px 2px rgba(0, 0, 0, 0.3));\n",
              "        fill: #FFFFFF;\n",
              "      }\n",
              "    </style>\n",
              "    <button class=\"colab-df-generate\" onclick=\"generateWithVariable('df')\"\n",
              "            title=\"Generate code using this dataframe.\"\n",
              "            style=\"display:none;\">\n",
              "\n",
              "  <svg xmlns=\"http://www.w3.org/2000/svg\" height=\"24px\"viewBox=\"0 0 24 24\"\n",
              "       width=\"24px\">\n",
              "    <path d=\"M7,19H8.4L18.45,9,17,7.55,7,17.6ZM5,21V16.75L18.45,3.32a2,2,0,0,1,2.83,0l1.4,1.43a1.91,1.91,0,0,1,.58,1.4,1.91,1.91,0,0,1-.58,1.4L9.25,21ZM18.45,9,17,7.55Zm-12,3A5.31,5.31,0,0,0,4.9,8.1,5.31,5.31,0,0,0,1,6.5,5.31,5.31,0,0,0,4.9,4.9,5.31,5.31,0,0,0,6.5,1,5.31,5.31,0,0,0,8.1,4.9,5.31,5.31,0,0,0,12,6.5,5.46,5.46,0,0,0,6.5,12Z\"/>\n",
              "  </svg>\n",
              "    </button>\n",
              "    <script>\n",
              "      (() => {\n",
              "      const buttonEl =\n",
              "        document.querySelector('#id_28cc159b-089b-45e4-9aa2-37310dd3554b button.colab-df-generate');\n",
              "      buttonEl.style.display =\n",
              "        google.colab.kernel.accessAllowed ? 'block' : 'none';\n",
              "\n",
              "      buttonEl.onclick = () => {\n",
              "        google.colab.notebook.generateWithVariable('df');\n",
              "      }\n",
              "      })();\n",
              "    </script>\n",
              "  </div>\n",
              "\n",
              "    </div>\n",
              "  </div>\n"
            ],
            "application/vnd.google.colaboratory.intrinsic+json": {
              "type": "dataframe",
              "variable_name": "df",
              "summary": "{\n  \"name\": \"df\",\n  \"rows\": 20001,\n  \"fields\": [\n    {\n      \"column\": \"content\",\n      \"properties\": {\n        \"dtype\": \"string\",\n        \"num_unique_values\": 14640,\n        \"samples\": [\n          \"oh dear. why the hellish week? im sure next week will be bettter! otherwise  we'll just kick its ass!\",\n          \" What do you think of women who wear revealing clothing infront of kids?\",\n          \"fucking awesome. Happy holiday.\"\n        ],\n        \"semantic_type\": \"\",\n        \"description\": \"\"\n      }\n    },\n    {\n      \"column\": \"label\",\n      \"properties\": {\n        \"dtype\": \"category\",\n        \"num_unique_values\": 2,\n        \"samples\": [\n          \"0\",\n          \"1\"\n        ],\n        \"semantic_type\": \"\",\n        \"description\": \"\"\n      }\n    }\n  ]\n}"
            }
          },
          "metadata": {},
          "execution_count": 16
        }
      ]
    },
    {
      "cell_type": "code",
      "metadata": {
        "id": "n5HzcZOk8kkW"
      },
      "source": [
        "bully = df[df.label==1]\n",
        "nonbully = df[df.label==0]"
      ],
      "execution_count": null,
      "outputs": []
    },
    {
      "cell_type": "markdown",
      "source": [
        "**Data Visualisation**"
      ],
      "metadata": {
        "id": "T1_HnG0bxH7k"
      }
    },
    {
      "cell_type": "code",
      "metadata": {
        "id": "LRJX-G51d1_l"
      },
      "source": [
        "import pandas as pd\n",
        "import seaborn as sns\n",
        "from wordcloud import WordCloud\n",
        "import matplotlib.pyplot as plt\n",
        "import matplotlib as mpl\n",
        "mpl.rcParams['patch.force_edgecolor'] = True\n"
      ],
      "execution_count": null,
      "outputs": []
    },
    {
      "cell_type": "code",
      "source": [
        "df['label'].value_counts().sort_index().plot.bar()"
      ],
      "metadata": {
        "colab": {
          "base_uri": "https://localhost:8080/",
          "height": 461
        },
        "id": "jJWcYAO-xWkO",
        "outputId": "9dee8c23-733f-4c27-aad6-796b5f7be360"
      },
      "execution_count": null,
      "outputs": [
        {
          "output_type": "execute_result",
          "data": {
            "text/plain": [
              "<Axes: xlabel='label'>"
            ]
          },
          "metadata": {},
          "execution_count": 20
        },
        {
          "output_type": "display_data",
          "data": {
            "text/plain": [
              "<Figure size 640x480 with 1 Axes>"
            ],
            "image/png": "[encoded data removed]"
          },
          "metadata": {}
        }
      ]
    },
    {
      "cell_type": "markdown",
      "source": [
        "**Bar Graph**"
      ],
      "metadata": {
        "id": "efYfG7ZPxd1M"
      }
    },
    {
      "cell_type": "code",
      "source": [
        "# Count occurrences of each label\n",
        "\n",
        "label_counts = df['label'].value_counts()\n",
        "\n",
        "# Bar graph\n",
        "plt.figure(figsize=(8, 5))\n",
        "sns.barplot(x=label_counts.index, y=label_counts.values)\n",
        "plt.title('Distribution of Labels')\n",
        "plt.xlabel('Labels')\n",
        "plt.ylabel('Count')\n",
        "plt.xticks([0, 1], ['Non-Cyberbullying', 'Cyberbullying'])\n",
        "plt.show()"
      ],
      "metadata": {
        "colab": {
          "base_uri": "https://localhost:8080/",
          "height": 487
        },
        "id": "6hOeLHJpxWhA",
        "outputId": "ba449298-7120-4150-b416-75e6643bb55b"
      },
      "execution_count": null,
      "outputs": [
        {
          "output_type": "display_data",
          "data": {
            "text/plain": [
              "<Figure size 800x500 with 1 Axes>"
            ],
            "image/png": "[encoded data removed]"
          },
          "metadata": {}
        }
      ]
    },
    {
      "cell_type": "markdown",
      "source": [
        "**Pie Chart**"
      ],
      "metadata": {
        "id": "YSOoktVPxsn9"
      }
    },
    {
      "cell_type": "code",
      "source": [
        "plt.figure(figsize=(8, 5))\n",
        "plt.pie(label_counts, labels=['Non-Cyberbullying - (0)', 'Cyberbullying - (1)'], startangle=120, autopct='%1.1f%%')\n",
        "plt.title('Proportion of Cyberbullying Labels')\n",
        "plt.show()\n"
      ],
      "metadata": {
        "colab": {
          "base_uri": "https://localhost:8080/",
          "height": 444
        },
        "id": "ukinPMg1xWdT",
        "outputId": "5e70bd26-4dee-4d35-ff14-1ee9a08b3c73"
      },
      "execution_count": null,
      "outputs": [
        {
          "output_type": "display_data",
          "data": {
            "text/plain": [
              "<Figure size 800x500 with 1 Axes>"
            ],
            "image/png": "[encoded data removed]"
          },
          "metadata": {}
        }
      ]
    },
    {
      "cell_type": "markdown",
      "source": [
        "**Wordcloud**"
      ],
      "metadata": {
        "id": "vgrDOliAx1YH"
      }
    },
    {
      "cell_type": "code",
      "source": [
        "text_data = ' '.join(df['content'])  # Replace 'text_column' with the actual text column name\n",
        "wordcloud = WordCloud().generate(text_data)\n",
        "\n",
        "plt.imshow(wordcloud, interpolation='bilinear')\n",
        "plt.axis('off')\n",
        "plt.show()"
      ],
      "metadata": {
        "colab": {
          "base_uri": "https://localhost:8080/",
          "height": 285
        },
        "id": "sUcwydVHxWaC",
        "outputId": "8755faac-0e3a-400b-ec7c-3deddc1a550f"
      },
      "execution_count": null,
      "outputs": [
        {
          "output_type": "display_data",
          "data": {
            "text/plain": [
              "<Figure size 640x480 with 1 Axes>"
            ],
            "image/png": "[encoded data removed]"
          },
          "metadata": {}
        }
      ]
    },
    {
      "cell_type": "markdown",
      "source": [
        "**Frequency Distribution**"
      ],
      "metadata": {
        "id": "kxtkd_eGyJIz"
      }
    },
    {
      "cell_type": "code",
      "source": [
        "# Create a new column for text length\n",
        "df['text_length'] = df['content'].apply(len)  # Replace 'text_column' with the actual column name\n",
        "\n",
        "# Frequency distribution\n",
        "plt.figure(figsize=(8, 4))\n",
        "sns.histplot(df['text_length'], bins=30, kde=True)\n",
        "plt.title('Frequency Distribution of Text Lengths')\n",
        "plt.xlabel('Text Length')\n",
        "plt.ylabel('Frequency')\n",
        "plt.show()"
      ],
      "metadata": {
        "colab": {
          "base_uri": "https://localhost:8080/",
          "height": 410
        },
        "id": "ScF_zxy5xWRc",
        "outputId": "c520ebef-2746-4f6f-fa43-2a1dd71dd76c"
      },
      "execution_count": null,
      "outputs": [
        {
          "output_type": "display_data",
          "data": {
            "text/plain": [
              "<Figure size 800x400 with 1 Axes>"
            ],
            "image/png": "[encoded data removed]"
          },
          "metadata": {}
        }
      ]
    },
    {
      "cell_type": "markdown",
      "source": [
        "**Horizontal Word Count Distribution**"
      ],
      "metadata": {
        "id": "gcU3tkmAymEY"
      }
    },
    {
      "cell_type": "code",
      "source": [
        "from sklearn.feature_extraction.text import CountVectorizer\n",
        "\n",
        "# Load your dataset from a JSON file\n",
        "dataset = pd.read_json('/content/drive/MyDrive/Colab Notebooks/dataset.json', lines=True)\n",
        "\n",
        "# Initialize CountVectorizer\n",
        "cv = CountVectorizer()\n",
        "\n",
        "# Fit and transform the content column\n",
        "matrix = cv.fit_transform(dataset['content'])\n",
        "\n",
        "# Create a DataFrame from the matrix\n",
        "word_matrix = pd.DataFrame(matrix.toarray(), columns=cv.get_feature_names_out())\n",
        "\n",
        "# Sum the words across all documents\n",
        "df_sum = word_matrix.sum(axis=0)\n",
        "\n",
        "# Get the top 30 most frequent words\n",
        "bow = df_sum.sort_values(ascending=False)[:30]\n",
        "bow = pd.DataFrame(bow, columns=['Frequency'])\n",
        "\n",
        "# Visualization\n",
        "plt.figure(figsize=(8, 5))\n",
        "sns.barplot(x=bow['Frequency'], y=bow.index, palette='pastel')\n",
        "plt.xlabel('Frequency')\n",
        "plt.ylabel('Words')\n",
        "plt.title('Top 30 Most Frequent Words')\n",
        "plt.show()\n"
      ],
      "metadata": {
        "colab": {
          "base_uri": "https://localhost:8080/",
          "height": 594
        },
        "id": "WKXxUg5FykAq",
        "outputId": "01de3fcc-5773-49b3-97c5-c878ff06d7cf"
      },
      "execution_count": null,
      "outputs": [
        {
          "output_type": "stream",
          "name": "stderr",
          "text": [
            "<ipython-input-25-f0879c2873af>:24: FutureWarning: \n",
            "\n",
            "Passing `palette` without assigning `hue` is deprecated and will be removed in v0.14.0. Assign the `y` variable to `hue` and set `legend=False` for the same effect.\n",
            "\n",
            "  sns.barplot(x=bow['Frequency'], y=bow.index, palette='pastel')\n"
          ]
        },
        {
          "output_type": "display_data",
          "data": {
            "text/plain": [
              "<Figure size 800x500 with 1 Axes>"
            ],
            "image/png": "[encoded data removed]"
          },
          "metadata": {}
        }
      ]
    },
    {
      "cell_type": "markdown",
      "source": [
        "**Frequency Distribution of Word Count**"
      ],
      "metadata": {
        "id": "rZbeLI5b1sGk"
      }
    },
    {
      "cell_type": "code",
      "source": [
        "df['word_count'] = df['content'].apply(lambda x: len(x.split()))"
      ],
      "metadata": {
        "id": "-lFUEX_Tyj5u"
      },
      "execution_count": null,
      "outputs": []
    },
    {
      "cell_type": "code",
      "source": [
        "plt.figure(figsize=(8, 5))  # Adjust figure size as needed\n",
        "sns.histplot(df['word_count'], bins=50, kde=True)  # Adjust bins as needed\n",
        "plt.title('Distribution of Word Counts per Data Point')\n",
        "plt.xlabel('Word Count')\n",
        "plt.ylabel('Frequency')\n",
        "plt.show()"
      ],
      "metadata": {
        "colab": {
          "base_uri": "https://localhost:8080/",
          "height": 487
        },
        "id": "hJEOwmTb7Wh0",
        "outputId": "2dfeafdc-54e1-4bf2-f696-efebce9948f5"
      },
      "execution_count": null,
      "outputs": [
        {
          "output_type": "display_data",
          "data": {
            "text/plain": [
              "<Figure size 800x500 with 1 Axes>"
            ],
            "image/png": "[encoded data removed]"
          },
          "metadata": {}
        }
      ]
    },
    {
      "cell_type": "markdown",
      "source": [
        "**Heatmap**"
      ],
      "metadata": {
        "id": "s5UKmL6J8Uh8"
      }
    },
    {
      "cell_type": "code",
      "source": [
        "# Calculate mean word counts for each label\n",
        "mean_word_counts = df.groupby('label')['word_count'].mean().reset_index()\n",
        "\n",
        "# Create heatmap\n",
        "plt.figure(figsize=(7, 6))\n",
        "sns.heatmap(mean_word_counts.pivot(index='label', columns='word_count', values='word_count'), annot=True, cmap='viridis')\n",
        "plt.title('Mean Word Counts for Each Label')\n",
        "plt.xlabel('Word Count')\n",
        "plt.ylabel('Label')\n",
        "plt.show()"
      ],
      "metadata": {
        "colab": {
          "base_uri": "https://localhost:8080/",
          "height": 564
        },
        "id": "PpwAuXVE7WXa",
        "outputId": "6689c79f-5119-42b4-fce8-52260f44896d"
      },
      "execution_count": null,
      "outputs": [
        {
          "output_type": "display_data",
          "data": {
            "text/plain": [
              "<Figure size 700x600 with 2 Axes>"
            ],
            "image/png": "[encoded data removed]"
          },
          "metadata": {}
        }
      ]
    },
    {
      "cell_type": "markdown",
      "source": [
        "**Scatter Plot**"
      ],
      "metadata": {
        "id": "jSasvJpC8te-"
      }
    },
    {
      "cell_type": "code",
      "source": [
        "plt.figure(figsize=(6, 5))\n",
        "plt.scatter(df['word_count'], df['label'], alpha=0.5)  # Adjust alpha for transparency\n",
        "plt.title('Scatter Plot: Word Count vs. Label')\n",
        "plt.xlabel('Word Count')\n",
        "plt.ylabel('Label')\n",
        "plt.grid(True)\n",
        "plt.show()"
      ],
      "metadata": {
        "colab": {
          "base_uri": "https://localhost:8080/",
          "height": 487
        },
        "id": "gkbi_yEr7WT3",
        "outputId": "ca4f11cc-9647-4e89-c2ca-8bbc26fb8f6f"
      },
      "execution_count": null,
      "outputs": [
        {
          "output_type": "display_data",
          "data": {
            "text/plain": [
              "<Figure size 600x500 with 1 Axes>"
            ],
            "image/png": "[encoded data removed]"
          },
          "metadata": {}
        }
      ]
    },
    {
      "cell_type": "code",
      "source": [],
      "metadata": {
        "id": "1s0JUMGE7WQl"
      },
      "execution_count": null,
      "outputs": []
    },
    {
      "cell_type": "code",
      "metadata": {
        "id": "67Y--L6dG7ZD"
      },
      "source": [
        "def load_data(path):\n",
        "    df = pd.read_json(path, lines= True)\n",
        "\n",
        "    df[\"label\"] = df.annotation.apply(lambda x: x.get('label'))\n",
        "    df[\"label\"] = df.label.apply(lambda x: x[0])\n",
        "\n",
        "    X = df.content.values\n",
        "    y = df.label.values\n",
        "\n",
        "    return X, y"
      ],
      "execution_count": null,
      "outputs": []
    },
    {
      "cell_type": "code",
      "metadata": {
        "id": "X1wnDbjsR8wy"
      },
      "source": [
        "def tokenize(text):\n",
        "\n",
        "    tokens = word_tokenize(text)\n",
        "    lemmatizer = WordNetLemmatizer()\n",
        "\n",
        "    clean_tokens = []\n",
        "    for tok in tokens:\n",
        "        clean_tok = lemmatizer.lemmatize(tok).lower().strip()\n",
        "        clean_tokens.append(clean_tok)\n",
        "\n",
        "    return clean_tokens\n"
      ],
      "execution_count": null,
      "outputs": []
    },
    {
      "cell_type": "code",
      "metadata": {
        "colab": {
          "base_uri": "https://localhost:8080/"
        },
        "id": "rQTxL1RmSa-V",
        "outputId": "99b434c7-f7d3-4bab-ab3d-59639d682170"
      },
      "source": [
        "tokenize(\"whoa stops you's stupid sjw\")"
      ],
      "execution_count": null,
      "outputs": [
        {
          "output_type": "execute_result",
          "data": {
            "text/plain": [
              "['whoa', 'stop', 'you', \"'s\", 'stupid', 'sjw']"
            ]
          },
          "metadata": {},
          "execution_count": 30
        }
      ]
    },
    {
      "cell_type": "code",
      "metadata": {
        "colab": {
          "base_uri": "https://localhost:8080/",
          "height": 80
        },
        "id": "tGD_TJVCSKqS",
        "outputId": "5b953a84-e11a-4ec0-e71a-35689a1464a2"
      },
      "source": [
        "vect = CountVectorizer(tokenizer=tokenize)\n",
        "vect"
      ],
      "execution_count": null,
      "outputs": [
        {
          "output_type": "execute_result",
          "data": {
            "text/plain": [
              "CountVectorizer(tokenizer=<function tokenize at 0x7be42d3476d0>)"
            ],
            "text/html": [
              "<style>#sk-container-id-1 {\n",
              "  /* Definition of color scheme common for light and dark mode */\n",
              "  --sklearn-color-text: black;\n",
              "  --sklearn-color-line: gray;\n",
              "  /* Definition of color scheme for unfitted estimators */\n",
              "  --sklearn-color-unfitted-level-0: #fff5e6;\n",
              "  --sklearn-color-unfitted-level-1: #f6e4d2;\n",
              "  --sklearn-color-unfitted-level-2: #ffe0b3;\n",
              "  --sklearn-color-unfitted-level-3: chocolate;\n",
              "  /* Definition of color scheme for fitted estimators */\n",
              "  --sklearn-color-fitted-level-0: #f0f8ff;\n",
              "  --sklearn-color-fitted-level-1: #d4ebff;\n",
              "  --sklearn-color-fitted-level-2: #b3dbfd;\n",
              "  --sklearn-color-fitted-level-3: cornflowerblue;\n",
              "\n",
              "  /* Specific color for light theme */\n",
              "  --sklearn-color-text-on-default-background: var(--sg-text-color, var(--theme-code-foreground, var(--jp-content-font-color1, black)));\n",
              "  --sklearn-color-background: var(--sg-background-color, var(--theme-background, var(--jp-layout-color0, white)));\n",
              "  --sklearn-color-border-box: var(--sg-text-color, var(--theme-code-foreground, var(--jp-content-font-color1, black)));\n",
              "  --sklearn-color-icon: #696969;\n",
              "\n",
              "  @media (prefers-color-scheme: dark) {\n",
              "    /* Redefinition of color scheme for dark theme */\n",
              "    --sklearn-color-text-on-default-background: var(--sg-text-color, var(--theme-code-foreground, var(--jp-content-font-color1, white)));\n",
              "    --sklearn-color-background: var(--sg-background-color, var(--theme-background, var(--jp-layout-color0, #111)));\n",
              "    --sklearn-color-border-box: var(--sg-text-color, var(--theme-code-foreground, var(--jp-content-font-color1, white)));\n",
              "    --sklearn-color-icon: #878787;\n",
              "  }\n",
              "}\n",
              "\n",
              "#sk-container-id-1 {\n",
              "  color: var(--sklearn-color-text);\n",
              "}\n",
              "\n",
              "#sk-container-id-1 pre {\n",
              "  padding: 0;\n",
              "}\n",
              "\n",
              "#sk-container-id-1 input.sk-hidden--visually {\n",
              "  border: 0;\n",
              "  clip: rect(1px 1px 1px 1px);\n",
              "  clip: rect(1px, 1px, 1px, 1px);\n",
              "  height: 1px;\n",
              "  margin: -1px;\n",
              "  overflow: hidden;\n",
              "  padding: 0;\n",
              "  position: absolute;\n",
              "  width: 1px;\n",
              "}\n",
              "\n",
              "#sk-container-id-1 div.sk-dashed-wrapped {\n",
              "  border: 1px dashed var(--sklearn-color-line);\n",
              "  margin: 0 0.4em 0.5em 0.4em;\n",
              "  box-sizing: border-box;\n",
              "  padding-bottom: 0.4em;\n",
              "  background-color: var(--sklearn-color-background);\n",
              "}\n",
              "\n",
              "#sk-container-id-1 div.sk-container {\n",
              "  /* jupyter's `normalize.less` sets `[hidden] { display: none; }`\n",
              "     but bootstrap.min.css set `[hidden] { display: none !important; }`\n",
              "     so we also need the `!important` here to be able to override the\n",
              "     default hidden behavior on the sphinx rendered scikit-learn.org.\n",
              "     See: https://github.com/scikit-learn/scikit-learn/issues/21755 */\n",
              "  display: inline-block !important;\n",
              "  position: relative;\n",
              "}\n",
              "\n",
              "#sk-container-id-1 div.sk-text-repr-fallback {\n",
              "  display: none;\n",
              "}\n",
              "\n",
              "div.sk-parallel-item,\n",
              "div.sk-serial,\n",
              "div.sk-item {\n",
              "  /* draw centered vertical line to link estimators */\n",
              "  background-image: linear-gradient(var(--sklearn-color-text-on-default-background), var(--sklearn-color-text-on-default-background));\n",
              "  background-size: 2px 100%;\n",
              "  background-repeat: no-repeat;\n",
              "  background-position: center center;\n",
              "}\n",
              "\n",
              "/* Parallel-specific style estimator block */\n",
              "\n",
              "#sk-container-id-1 div.sk-parallel-item::after {\n",
              "  content: \"\";\n",
              "  width: 100%;\n",
              "  border-bottom: 2px solid var(--sklearn-color-text-on-default-background);\n",
              "  flex-grow: 1;\n",
              "}\n",
              "\n",
              "#sk-container-id-1 div.sk-parallel {\n",
              "  display: flex;\n",
              "  align-items: stretch;\n",
              "  justify-content: center;\n",
              "  background-color: var(--sklearn-color-background);\n",
              "  position: relative;\n",
              "}\n",
              "\n",
              "#sk-container-id-1 div.sk-parallel-item {\n",
              "  display: flex;\n",
              "  flex-direction: column;\n",
              "}\n",
              "\n",
              "#sk-container-id-1 div.sk-parallel-item:first-child::after {\n",
              "  align-self: flex-end;\n",
              "  width: 50%;\n",
              "}\n",
              "\n",
              "#sk-container-id-1 div.sk-parallel-item:last-child::after {\n",
              "  align-self: flex-start;\n",
              "  width: 50%;\n",
              "}\n",
              "\n",
              "#sk-container-id-1 div.sk-parallel-item:only-child::after {\n",
              "  width: 0;\n",
              "}\n",
              "\n",
              "/* Serial-specific style estimator block */\n",
              "\n",
              "#sk-container-id-1 div.sk-serial {\n",
              "  display: flex;\n",
              "  flex-direction: column;\n",
              "  align-items: center;\n",
              "  background-color: var(--sklearn-color-background);\n",
              "  padding-right: 1em;\n",
              "  padding-left: 1em;\n",
              "}\n",
              "\n",
              "\n",
              "/* Toggleable style: style used for estimator/Pipeline/ColumnTransformer box that is\n",
              "clickable and can be expanded/collapsed.\n",
              "- Pipeline and ColumnTransformer use this feature and define the default style\n",
              "- Estimators will overwrite some part of the style using the `sk-estimator` class\n",
              "*/\n",
              "\n",
              "/* Pipeline and ColumnTransformer style (default) */\n",
              "\n",
              "#sk-container-id-1 div.sk-toggleable {\n",
              "  /* Default theme specific background. It is overwritten whether we have a\n",
              "  specific estimator or a Pipeline/ColumnTransformer */\n",
              "  background-color: var(--sklearn-color-background);\n",
              "}\n",
              "\n",
              "/* Toggleable label */\n",
              "#sk-container-id-1 label.sk-toggleable__label {\n",
              "  cursor: pointer;\n",
              "  display: block;\n",
              "  width: 100%;\n",
              "  margin-bottom: 0;\n",
              "  padding: 0.5em;\n",
              "  box-sizing: border-box;\n",
              "  text-align: center;\n",
              "}\n",
              "\n",
              "#sk-container-id-1 label.sk-toggleable__label-arrow:before {\n",
              "  /* Arrow on the left of the label */\n",
              "  content: \"▸\";\n",
              "  float: left;\n",
              "  margin-right: 0.25em;\n",
              "  color: var(--sklearn-color-icon);\n",
              "}\n",
              "\n",
              "#sk-container-id-1 label.sk-toggleable__label-arrow:hover:before {\n",
              "  color: var(--sklearn-color-text);\n",
              "}\n",
              "\n",
              "/* Toggleable content - dropdown */\n",
              "\n",
              "#sk-container-id-1 div.sk-toggleable__content {\n",
              "  max-height: 0;\n",
              "  max-width: 0;\n",
              "  overflow: hidden;\n",
              "  text-align: left;\n",
              "  /* unfitted */\n",
              "  background-color: var(--sklearn-color-unfitted-level-0);\n",
              "}\n",
              "\n",
              "#sk-container-id-1 div.sk-toggleable__content.fitted {\n",
              "  /* fitted */\n",
              "  background-color: var(--sklearn-color-fitted-level-0);\n",
              "}\n",
              "\n",
              "#sk-container-id-1 div.sk-toggleable__content pre {\n",
              "  margin: 0.2em;\n",
              "  border-radius: 0.25em;\n",
              "  color: var(--sklearn-color-text);\n",
              "  /* unfitted */\n",
              "  background-color: var(--sklearn-color-unfitted-level-0);\n",
              "}\n",
              "\n",
              "#sk-container-id-1 div.sk-toggleable__content.fitted pre {\n",
              "  /* unfitted */\n",
              "  background-color: var(--sklearn-color-fitted-level-0);\n",
              "}\n",
              "\n",
              "#sk-container-id-1 input.sk-toggleable__control:checked~div.sk-toggleable__content {\n",
              "  /* Expand drop-down */\n",
              "  max-height: 200px;\n",
              "  max-width: 100%;\n",
              "  overflow: auto;\n",
              "}\n",
              "\n",
              "#sk-container-id-1 input.sk-toggleable__control:checked~label.sk-toggleable__label-arrow:before {\n",
              "  content: \"▾\";\n",
              "}\n",
              "\n",
              "/* Pipeline/ColumnTransformer-specific style */\n",
              "\n",
              "#sk-container-id-1 div.sk-label input.sk-toggleable__control:checked~label.sk-toggleable__label {\n",
              "  color: var(--sklearn-color-text);\n",
              "  background-color: var(--sklearn-color-unfitted-level-2);\n",
              "}\n",
              "\n",
              "#sk-container-id-1 div.sk-label.fitted input.sk-toggleable__control:checked~label.sk-toggleable__label {\n",
              "  background-color: var(--sklearn-color-fitted-level-2);\n",
              "}\n",
              "\n",
              "/* Estimator-specific style */\n",
              "\n",
              "/* Colorize estimator box */\n",
              "#sk-container-id-1 div.sk-estimator input.sk-toggleable__control:checked~label.sk-toggleable__label {\n",
              "  /* unfitted */\n",
              "  background-color: var(--sklearn-color-unfitted-level-2);\n",
              "}\n",
              "\n",
              "#sk-container-id-1 div.sk-estimator.fitted input.sk-toggleable__control:checked~label.sk-toggleable__label {\n",
              "  /* fitted */\n",
              "  background-color: var(--sklearn-color-fitted-level-2);\n",
              "}\n",
              "\n",
              "#sk-container-id-1 div.sk-label label.sk-toggleable__label,\n",
              "#sk-container-id-1 div.sk-label label {\n",
              "  /* The background is the default theme color */\n",
              "  color: var(--sklearn-color-text-on-default-background);\n",
              "}\n",
              "\n",
              "/* On hover, darken the color of the background */\n",
              "#sk-container-id-1 div.sk-label:hover label.sk-toggleable__label {\n",
              "  color: var(--sklearn-color-text);\n",
              "  background-color: var(--sklearn-color-unfitted-level-2);\n",
              "}\n",
              "\n",
              "/* Label box, darken color on hover, fitted */\n",
              "#sk-container-id-1 div.sk-label.fitted:hover label.sk-toggleable__label.fitted {\n",
              "  color: var(--sklearn-color-text);\n",
              "  background-color: var(--sklearn-color-fitted-level-2);\n",
              "}\n",
              "\n",
              "/* Estimator label */\n",
              "\n",
              "#sk-container-id-1 div.sk-label label {\n",
              "  font-family: monospace;\n",
              "  font-weight: bold;\n",
              "  display: inline-block;\n",
              "  line-height: 1.2em;\n",
              "}\n",
              "\n",
              "#sk-container-id-1 div.sk-label-container {\n",
              "  text-align: center;\n",
              "}\n",
              "\n",
              "/* Estimator-specific */\n",
              "#sk-container-id-1 div.sk-estimator {\n",
              "  font-family: monospace;\n",
              "  border: 1px dotted var(--sklearn-color-border-box);\n",
              "  border-radius: 0.25em;\n",
              "  box-sizing: border-box;\n",
              "  margin-bottom: 0.5em;\n",
              "  /* unfitted */\n",
              "  background-color: var(--sklearn-color-unfitted-level-0);\n",
              "}\n",
              "\n",
              "#sk-container-id-1 div.sk-estimator.fitted {\n",
              "  /* fitted */\n",
              "  background-color: var(--sklearn-color-fitted-level-0);\n",
              "}\n",
              "\n",
              "/* on hover */\n",
              "#sk-container-id-1 div.sk-estimator:hover {\n",
              "  /* unfitted */\n",
              "  background-color: var(--sklearn-color-unfitted-level-2);\n",
              "}\n",
              "\n",
              "#sk-container-id-1 div.sk-estimator.fitted:hover {\n",
              "  /* fitted */\n",
              "  background-color: var(--sklearn-color-fitted-level-2);\n",
              "}\n",
              "\n",
              "/* Specification for estimator info (e.g. \"i\" and \"?\") */\n",
              "\n",
              "/* Common style for \"i\" and \"?\" */\n",
              "\n",
              ".sk-estimator-doc-link,\n",
              "a:link.sk-estimator-doc-link,\n",
              "a:visited.sk-estimator-doc-link {\n",
              "  float: right;\n",
              "  font-size: smaller;\n",
              "  line-height: 1em;\n",
              "  font-family: monospace;\n",
              "  background-color: var(--sklearn-color-background);\n",
              "  border-radius: 1em;\n",
              "  height: 1em;\n",
              "  width: 1em;\n",
              "  text-decoration: none !important;\n",
              "  margin-left: 1ex;\n",
              "  /* unfitted */\n",
              "  border: var(--sklearn-color-unfitted-level-1) 1pt solid;\n",
              "  color: var(--sklearn-color-unfitted-level-1);\n",
              "}\n",
              "\n",
              ".sk-estimator-doc-link.fitted,\n",
              "a:link.sk-estimator-doc-link.fitted,\n",
              "a:visited.sk-estimator-doc-link.fitted {\n",
              "  /* fitted */\n",
              "  border: var(--sklearn-color-fitted-level-1) 1pt solid;\n",
              "  color: var(--sklearn-color-fitted-level-1);\n",
              "}\n",
              "\n",
              "/* On hover */\n",
              "div.sk-estimator:hover .sk-estimator-doc-link:hover,\n",
              ".sk-estimator-doc-link:hover,\n",
              "div.sk-label-container:hover .sk-estimator-doc-link:hover,\n",
              ".sk-estimator-doc-link:hover {\n",
              "  /* unfitted */\n",
              "  background-color: var(--sklearn-color-unfitted-level-3);\n",
              "  color: var(--sklearn-color-background);\n",
              "  text-decoration: none;\n",
              "}\n",
              "\n",
              "div.sk-estimator.fitted:hover .sk-estimator-doc-link.fitted:hover,\n",
              ".sk-estimator-doc-link.fitted:hover,\n",
              "div.sk-label-container:hover .sk-estimator-doc-link.fitted:hover,\n",
              ".sk-estimator-doc-link.fitted:hover {\n",
              "  /* fitted */\n",
              "  background-color: var(--sklearn-color-fitted-level-3);\n",
              "  color: var(--sklearn-color-background);\n",
              "  text-decoration: none;\n",
              "}\n",
              "\n",
              "/* Span, style for the box shown on hovering the info icon */\n",
              ".sk-estimator-doc-link span {\n",
              "  display: none;\n",
              "  z-index: 9999;\n",
              "  position: relative;\n",
              "  font-weight: normal;\n",
              "  right: .2ex;\n",
              "  padding: .5ex;\n",
              "  margin: .5ex;\n",
              "  width: min-content;\n",
              "  min-width: 20ex;\n",
              "  max-width: 50ex;\n",
              "  color: var(--sklearn-color-text);\n",
              "  box-shadow: 2pt 2pt 4pt #999;\n",
              "  /* unfitted */\n",
              "  background: var(--sklearn-color-unfitted-level-0);\n",
              "  border: .5pt solid var(--sklearn-color-unfitted-level-3);\n",
              "}\n",
              "\n",
              ".sk-estimator-doc-link.fitted span {\n",
              "  /* fitted */\n",
              "  background: var(--sklearn-color-fitted-level-0);\n",
              "  border: var(--sklearn-color-fitted-level-3);\n",
              "}\n",
              "\n",
              ".sk-estimator-doc-link:hover span {\n",
              "  display: block;\n",
              "}\n",
              "\n",
              "/* \"?\"-specific style due to the `<a>` HTML tag */\n",
              "\n",
              "#sk-container-id-1 a.estimator_doc_link {\n",
              "  float: right;\n",
              "  font-size: 1rem;\n",
              "  line-height: 1em;\n",
              "  font-family: monospace;\n",
              "  background-color: var(--sklearn-color-background);\n",
              "  border-radius: 1rem;\n",
              "  height: 1rem;\n",
              "  width: 1rem;\n",
              "  text-decoration: none;\n",
              "  /* unfitted */\n",
              "  color: var(--sklearn-color-unfitted-level-1);\n",
              "  border: var(--sklearn-color-unfitted-level-1) 1pt solid;\n",
              "}\n",
              "\n",
              "#sk-container-id-1 a.estimator_doc_link.fitted {\n",
              "  /* fitted */\n",
              "  border: var(--sklearn-color-fitted-level-1) 1pt solid;\n",
              "  color: var(--sklearn-color-fitted-level-1);\n",
              "}\n",
              "\n",
              "/* On hover */\n",
              "#sk-container-id-1 a.estimator_doc_link:hover {\n",
              "  /* unfitted */\n",
              "  background-color: var(--sklearn-color-unfitted-level-3);\n",
              "  color: var(--sklearn-color-background);\n",
              "  text-decoration: none;\n",
              "}\n",
              "\n",
              "#sk-container-id-1 a.estimator_doc_link.fitted:hover {\n",
              "  /* fitted */\n",
              "  background-color: var(--sklearn-color-fitted-level-3);\n",
              "}\n",
              "</style><div id=\"sk-container-id-1\" class=\"sk-top-container\"><div class=\"sk-text-repr-fallback\"><pre>CountVectorizer(tokenizer=&lt;function tokenize at 0x7be42d3476d0&gt;)</pre><b>In a Jupyter environment, please rerun this cell to show the HTML representation or trust the notebook. <br />On GitHub, the HTML representation is unable to render, please try loading this page with nbviewer.org.</b></div><div class=\"sk-container\" hidden><div class=\"sk-item\"><div class=\"sk-estimator  sk-toggleable\"><input class=\"sk-toggleable__control sk-hidden--visually\" id=\"sk-estimator-id-1\" type=\"checkbox\" checked><label for=\"sk-estimator-id-1\" class=\"sk-toggleable__label  sk-toggleable__label-arrow \">&nbsp;&nbsp;CountVectorizer<a class=\"sk-estimator-doc-link \" rel=\"noreferrer\" target=\"_blank\" href=\"https://scikit-learn.org/1.5/modules/generated/sklearn.feature_extraction.text.CountVectorizer.html\">?<span>Documentation for CountVectorizer</span></a><span class=\"sk-estimator-doc-link \">i<span>Not fitted</span></span></label><div class=\"sk-toggleable__content \"><pre>CountVectorizer(tokenizer=&lt;function tokenize at 0x7be42d3476d0&gt;)</pre></div> </div></div></div></div>"
            ]
          },
          "metadata": {},
          "execution_count": 29
        }
      ]
    },
    {
      "cell_type": "code",
      "metadata": {
        "id": "irNUSCzJXUQR"
      },
      "source": [
        "\n",
        "url = '/dataset.json'\n",
        "X, y = load_data(url)\n",
        "#X_train, X_test, y_train, y_test = train_test_split(X, y)\n",
        "X_train = df.iloc[:15000,0:1]\n",
        "X_test = df.iloc[15000:,0:1]\n",
        "y_train = df.iloc[:15000,1]\n",
        "y_test = df.iloc[15000:,1]"
      ],
      "execution_count": null,
      "outputs": []
    },
    {
      "cell_type": "code",
      "metadata": {
        "colab": {
          "base_uri": "https://localhost:8080/"
        },
        "id": "4heRZ1RxXZ9S",
        "outputId": "f6eddbd3-bf81-47b4-c2a0-d72042c91c6d"
      },
      "source": [
        "X_train.size"
      ],
      "execution_count": null,
      "outputs": [
        {
          "output_type": "execute_result",
          "data": {
            "text/plain": [
              "15000"
            ]
          },
          "metadata": {
            "tags": []
          },
          "execution_count": 21
        }
      ]
    },
    {
      "cell_type": "code",
      "metadata": {
        "colab": {
          "base_uri": "https://localhost:8080/",
          "height": 423
        },
        "id": "jUTVez3Ua0XS",
        "outputId": "01591388-9284-4c22-a054-bd08efd0e48e"
      },
      "source": [
        "X_train"
      ],
      "execution_count": null,
      "outputs": [
        {
          "output_type": "execute_result",
          "data": {
            "text/plain": [
              "                                                 content\n",
              "0                                 Get fucking real dude.\n",
              "1       She is as dirty as they come  and that crook ...\n",
              "2       why did you fuck it up. I could do it all day...\n",
              "3       Dude they dont finish enclosing the fucking s...\n",
              "4       WTF are you talking about Men? No men thats n...\n",
              "...                                                  ...\n",
              "14995                      What can you smell right now?\n",
              "14996                 yew neva seen mi dik nd lol thankz\n",
              "14997   whwhwhwhoa just slow down. huh!? what do you ...\n",
              "14998    What&;s a subject you wish you knew more about?\n",
              "14999    im sure. people find anyting to talk about f...\n",
              "\n",
              "[15000 rows x 1 columns]"
            ],
            "text/html": [
              "\n",
              "  <div id=\"df-995f0c72-47fa-49d4-94d3-71652a923f35\" class=\"colab-df-container\">\n",
              "    <div>\n",
              "<style scoped>\n",
              "    .dataframe tbody tr th:only-of-type {\n",
              "        vertical-align: middle;\n",
              "    }\n",
              "\n",
              "    .dataframe tbody tr th {\n",
              "        vertical-align: top;\n",
              "    }\n",
              "\n",
              "    .dataframe thead th {\n",
              "        text-align: right;\n",
              "    }\n",
              "</style>\n",
              "<table border=\"1\" class=\"dataframe\">\n",
              "  <thead>\n",
              "    <tr style=\"text-align: right;\">\n",
              "      <th></th>\n",
              "      <th>content</th>\n",
              "    </tr>\n",
              "  </thead>\n",
              "  <tbody>\n",
              "    <tr>\n",
              "      <th>0</th>\n",
              "      <td>Get fucking real dude.</td>\n",
              "    </tr>\n",
              "    <tr>\n",
              "      <th>1</th>\n",
              "      <td>She is as dirty as they come  and that crook ...</td>\n",
              "    </tr>\n",
              "    <tr>\n",
              "      <th>2</th>\n",
              "      <td>why did you fuck it up. I could do it all day...</td>\n",
              "    </tr>\n",
              "    <tr>\n",
              "      <th>3</th>\n",
              "      <td>Dude they dont finish enclosing the fucking s...</td>\n",
              "    </tr>\n",
              "    <tr>\n",
              "      <th>4</th>\n",
              "      <td>WTF are you talking about Men? No men thats n...</td>\n",
              "    </tr>\n",
              "    <tr>\n",
              "      <th>...</th>\n",
              "      <td>...</td>\n",
              "    </tr>\n",
              "    <tr>\n",
              "      <th>14995</th>\n",
              "      <td>What can you smell right now?</td>\n",
              "    </tr>\n",
              "    <tr>\n",
              "      <th>14996</th>\n",
              "      <td>yew neva seen mi dik nd lol thankz</td>\n",
              "    </tr>\n",
              "    <tr>\n",
              "      <th>14997</th>\n",
              "      <td>whwhwhwhoa just slow down. huh!? what do you ...</td>\n",
              "    </tr>\n",
              "    <tr>\n",
              "      <th>14998</th>\n",
              "      <td>What&amp;;s a subject you wish you knew more about?</td>\n",
              "    </tr>\n",
              "    <tr>\n",
              "      <th>14999</th>\n",
              "      <td>im sure. people find anyting to talk about f...</td>\n",
              "    </tr>\n",
              "  </tbody>\n",
              "</table>\n",
              "<p>15000 rows × 1 columns</p>\n",
              "</div>\n",
              "    <div class=\"colab-df-buttons\">\n",
              "\n",
              "  <div class=\"colab-df-container\">\n",
              "    <button class=\"colab-df-convert\" onclick=\"convertToInteractive('df-995f0c72-47fa-49d4-94d3-71652a923f35')\"\n",
              "            title=\"Convert this dataframe to an interactive table.\"\n",
              "            style=\"display:none;\">\n",
              "\n",
              "  <svg xmlns=\"http://www.w3.org/2000/svg\" height=\"24px\" viewBox=\"0 -960 960 960\">\n",
              "    <path d=\"M120-120v-720h720v720H120Zm60-500h600v-160H180v160Zm220 220h160v-160H400v160Zm0 220h160v-160H400v160ZM180-400h160v-160H180v160Zm440 0h160v-160H620v160ZM180-180h160v-160H180v160Zm440 0h160v-160H620v160Z\"/>\n",
              "  </svg>\n",
              "    </button>\n",
              "\n",
              "  <style>\n",
              "    .colab-df-container {\n",
              "      display:flex;\n",
              "      gap: 12px;\n",
              "    }\n",
              "\n",
              "    .colab-df-convert {\n",
              "      background-color: #E8F0FE;\n",
              "      border: none;\n",
              "      border-radius: 50%;\n",
              "      cursor: pointer;\n",
              "      display: none;\n",
              "      fill: #1967D2;\n",
              "      height: 32px;\n",
              "      padding: 0 0 0 0;\n",
              "      width: 32px;\n",
              "    }\n",
              "\n",
              "    .colab-df-convert:hover {\n",
              "      background-color: #E2EBFA;\n",
              "      box-shadow: 0px 1px 2px rgba(60, 64, 67, 0.3), 0px 1px 3px 1px rgba(60, 64, 67, 0.15);\n",
              "      fill: #174EA6;\n",
              "    }\n",
              "\n",
              "    .colab-df-buttons div {\n",
              "      margin-bottom: 4px;\n",
              "    }\n",
              "\n",
              "    [theme=dark] .colab-df-convert {\n",
              "      background-color: #3B4455;\n",
              "      fill: #D2E3FC;\n",
              "    }\n",
              "\n",
              "    [theme=dark] .colab-df-convert:hover {\n",
              "      background-color: #434B5C;\n",
              "      box-shadow: 0px 1px 3px 1px rgba(0, 0, 0, 0.15);\n",
              "      filter: drop-shadow(0px 1px 2px rgba(0, 0, 0, 0.3));\n",
              "      fill: #FFFFFF;\n",
              "    }\n",
              "  </style>\n",
              "\n",
              "    <script>\n",
              "      const buttonEl =\n",
              "        document.querySelector('#df-995f0c72-47fa-49d4-94d3-71652a923f35 button.colab-df-convert');\n",
              "      buttonEl.style.display =\n",
              "        google.colab.kernel.accessAllowed ? 'block' : 'none';\n",
              "\n",
              "      async function convertToInteractive(key) {\n",
              "        const element = document.querySelector('#df-995f0c72-47fa-49d4-94d3-71652a923f35');\n",
              "        const dataTable =\n",
              "          await google.colab.kernel.invokeFunction('convertToInteractive',\n",
              "                                                    [key], {});\n",
              "        if (!dataTable) return;\n",
              "\n",
              "        const docLinkHtml = 'Like what you see? Visit the ' +\n",
              "          '<a target=\"_blank\" href=https://colab.research.google.com/notebooks/data_table.ipynb>data table notebook</a>'\n",
              "          + ' to learn more about interactive tables.';\n",
              "        element.innerHTML = '';\n",
              "        dataTable['output_type'] = 'display_data';\n",
              "        await google.colab.output.renderOutput(dataTable, element);\n",
              "        const docLink = document.createElement('div');\n",
              "        docLink.innerHTML = docLinkHtml;\n",
              "        element.appendChild(docLink);\n",
              "      }\n",
              "    </script>\n",
              "  </div>\n",
              "\n",
              "\n",
              "<div id=\"df-8ab2a986-64da-4e7d-b69e-b530465b2826\">\n",
              "  <button class=\"colab-df-quickchart\" onclick=\"quickchart('df-8ab2a986-64da-4e7d-b69e-b530465b2826')\"\n",
              "            title=\"Suggest charts\"\n",
              "            style=\"display:none;\">\n",
              "\n",
              "<svg xmlns=\"http://www.w3.org/2000/svg\" height=\"24px\"viewBox=\"0 0 24 24\"\n",
              "     width=\"24px\">\n",
              "    <g>\n",
              "        <path d=\"M19 3H5c-1.1 0-2 .9-2 2v14c0 1.1.9 2 2 2h14c1.1 0 2-.9 2-2V5c0-1.1-.9-2-2-2zM9 17H7v-7h2v7zm4 0h-2V7h2v10zm4 0h-2v-4h2v4z\"/>\n",
              "    </g>\n",
              "</svg>\n",
              "  </button>\n",
              "\n",
              "<style>\n",
              "  .colab-df-quickchart {\n",
              "      --bg-color: #E8F0FE;\n",
              "      --fill-color: #1967D2;\n",
              "      --hover-bg-color: #E2EBFA;\n",
              "      --hover-fill-color: #174EA6;\n",
              "      --disabled-fill-color: #AAA;\n",
              "      --disabled-bg-color: #DDD;\n",
              "  }\n",
              "\n",
              "  [theme=dark] .colab-df-quickchart {\n",
              "      --bg-color: #3B4455;\n",
              "      --fill-color: #D2E3FC;\n",
              "      --hover-bg-color: #434B5C;\n",
              "      --hover-fill-color: #FFFFFF;\n",
              "      --disabled-bg-color: #3B4455;\n",
              "      --disabled-fill-color: #666;\n",
              "  }\n",
              "\n",
              "  .colab-df-quickchart {\n",
              "    background-color: var(--bg-color);\n",
              "    border: none;\n",
              "    border-radius: 50%;\n",
              "    cursor: pointer;\n",
              "    display: none;\n",
              "    fill: var(--fill-color);\n",
              "    height: 32px;\n",
              "    padding: 0;\n",
              "    width: 32px;\n",
              "  }\n",
              "\n",
              "  .colab-df-quickchart:hover {\n",
              "    background-color: var(--hover-bg-color);\n",
              "    box-shadow: 0 1px 2px rgba(60, 64, 67, 0.3), 0 1px 3px 1px rgba(60, 64, 67, 0.15);\n",
              "    fill: var(--button-hover-fill-color);\n",
              "  }\n",
              "\n",
              "  .colab-df-quickchart-complete:disabled,\n",
              "  .colab-df-quickchart-complete:disabled:hover {\n",
              "    background-color: var(--disabled-bg-color);\n",
              "    fill: var(--disabled-fill-color);\n",
              "    box-shadow: none;\n",
              "  }\n",
              "\n",
              "  .colab-df-spinner {\n",
              "    border: 2px solid var(--fill-color);\n",
              "    border-color: transparent;\n",
              "    border-bottom-color: var(--fill-color);\n",
              "    animation:\n",
              "      spin 1s steps(1) infinite;\n",
              "  }\n",
              "\n",
              "  @keyframes spin {\n",
              "    0% {\n",
              "      border-color: transparent;\n",
              "      border-bottom-color: var(--fill-color);\n",
              "      border-left-color: var(--fill-color);\n",
              "    }\n",
              "    20% {\n",
              "      border-color: transparent;\n",
              "      border-left-color: var(--fill-color);\n",
              "      border-top-color: var(--fill-color);\n",
              "    }\n",
              "    30% {\n",
              "      border-color: transparent;\n",
              "      border-left-color: var(--fill-color);\n",
              "      border-top-color: var(--fill-color);\n",
              "      border-right-color: var(--fill-color);\n",
              "    }\n",
              "    40% {\n",
              "      border-color: transparent;\n",
              "      border-right-color: var(--fill-color);\n",
              "      border-top-color: var(--fill-color);\n",
              "    }\n",
              "    60% {\n",
              "      border-color: transparent;\n",
              "      border-right-color: var(--fill-color);\n",
              "    }\n",
              "    80% {\n",
              "      border-color: transparent;\n",
              "      border-right-color: var(--fill-color);\n",
              "      border-bottom-color: var(--fill-color);\n",
              "    }\n",
              "    90% {\n",
              "      border-color: transparent;\n",
              "      border-bottom-color: var(--fill-color);\n",
              "    }\n",
              "  }\n",
              "</style>\n",
              "\n",
              "  <script>\n",
              "    async function quickchart(key) {\n",
              "      const quickchartButtonEl =\n",
              "        document.querySelector('#' + key + ' button');\n",
              "      quickchartButtonEl.disabled = true;  // To prevent multiple clicks.\n",
              "      quickchartButtonEl.classList.add('colab-df-spinner');\n",
              "      try {\n",
              "        const charts = await google.colab.kernel.invokeFunction(\n",
              "            'suggestCharts', [key], {});\n",
              "      } catch (error) {\n",
              "        console.error('Error during call to suggestCharts:', error);\n",
              "      }\n",
              "      quickchartButtonEl.classList.remove('colab-df-spinner');\n",
              "      quickchartButtonEl.classList.add('colab-df-quickchart-complete');\n",
              "    }\n",
              "    (() => {\n",
              "      let quickchartButtonEl =\n",
              "        document.querySelector('#df-8ab2a986-64da-4e7d-b69e-b530465b2826 button');\n",
              "      quickchartButtonEl.style.display =\n",
              "        google.colab.kernel.accessAllowed ? 'block' : 'none';\n",
              "    })();\n",
              "  </script>\n",
              "</div>\n",
              "\n",
              "  <div id=\"id_8f08d1f7-af91-429e-aa9e-82d8553a93cd\">\n",
              "    <style>\n",
              "      .colab-df-generate {\n",
              "        background-color: #E8F0FE;\n",
              "        border: none;\n",
              "        border-radius: 50%;\n",
              "        cursor: pointer;\n",
              "        display: none;\n",
              "        fill: #1967D2;\n",
              "        height: 32px;\n",
              "        padding: 0 0 0 0;\n",
              "        width: 32px;\n",
              "      }\n",
              "\n",
              "      .colab-df-generate:hover {\n",
              "        background-color: #E2EBFA;\n",
              "        box-shadow: 0px 1px 2px rgba(60, 64, 67, 0.3), 0px 1px 3px 1px rgba(60, 64, 67, 0.15);\n",
              "        fill: #174EA6;\n",
              "      }\n",
              "\n",
              "      [theme=dark] .colab-df-generate {\n",
              "        background-color: #3B4455;\n",
              "        fill: #D2E3FC;\n",
              "      }\n",
              "\n",
              "      [theme=dark] .colab-df-generate:hover {\n",
              "        background-color: #434B5C;\n",
              "        box-shadow: 0px 1px 3px 1px rgba(0, 0, 0, 0.15);\n",
              "        filter: drop-shadow(0px 1px 2px rgba(0, 0, 0, 0.3));\n",
              "        fill: #FFFFFF;\n",
              "      }\n",
              "    </style>\n",
              "    <button class=\"colab-df-generate\" onclick=\"generateWithVariable('X_train')\"\n",
              "            title=\"Generate code using this dataframe.\"\n",
              "            style=\"display:none;\">\n",
              "\n",
              "  <svg xmlns=\"http://www.w3.org/2000/svg\" height=\"24px\"viewBox=\"0 0 24 24\"\n",
              "       width=\"24px\">\n",
              "    <path d=\"M7,19H8.4L18.45,9,17,7.55,7,17.6ZM5,21V16.75L18.45,3.32a2,2,0,0,1,2.83,0l1.4,1.43a1.91,1.91,0,0,1,.58,1.4,1.91,1.91,0,0,1-.58,1.4L9.25,21ZM18.45,9,17,7.55Zm-12,3A5.31,5.31,0,0,0,4.9,8.1,5.31,5.31,0,0,0,1,6.5,5.31,5.31,0,0,0,4.9,4.9,5.31,5.31,0,0,0,6.5,1,5.31,5.31,0,0,0,8.1,4.9,5.31,5.31,0,0,0,12,6.5,5.46,5.46,0,0,0,6.5,12Z\"/>\n",
              "  </svg>\n",
              "    </button>\n",
              "    <script>\n",
              "      (() => {\n",
              "      const buttonEl =\n",
              "        document.querySelector('#id_8f08d1f7-af91-429e-aa9e-82d8553a93cd button.colab-df-generate');\n",
              "      buttonEl.style.display =\n",
              "        google.colab.kernel.accessAllowed ? 'block' : 'none';\n",
              "\n",
              "      buttonEl.onclick = () => {\n",
              "        google.colab.notebook.generateWithVariable('X_train');\n",
              "      }\n",
              "      })();\n",
              "    </script>\n",
              "  </div>\n",
              "\n",
              "    </div>\n",
              "  </div>\n"
            ],
            "application/vnd.google.colaboratory.intrinsic+json": {
              "type": "dataframe",
              "variable_name": "X_train",
              "summary": "{\n  \"name\": \"X_train\",\n  \"rows\": 15000,\n  \"fields\": [\n    {\n      \"column\": \"content\",\n      \"properties\": {\n        \"dtype\": \"string\",\n        \"num_unique_values\": 9912,\n        \"samples\": [\n          \"OMG again eating :P yaar u eat alot but u don't look so fat what is the sceen behind this :S\",\n          \"That sounds like a plan. :) Kick ass  indeed. And any beat that stands the test of time is a banger  for true.\",\n          \"FUCK YEAH BIOSHOCK! Tell me how the apartment hunt goes!\"\n        ],\n        \"semantic_type\": \"\",\n        \"description\": \"\"\n      }\n    }\n  ]\n}"
            }
          },
          "metadata": {},
          "execution_count": 33
        }
      ]
    },
    {
      "cell_type": "code",
      "metadata": {
        "colab": {
          "base_uri": "https://localhost:8080/"
        },
        "id": "apcGVvq1YAAd",
        "outputId": "4a24d706-6c7d-475d-cabd-80130211e4d9"
      },
      "source": [
        "X_test.size"
      ],
      "execution_count": null,
      "outputs": [
        {
          "output_type": "execute_result",
          "data": {
            "text/plain": [
              "5001"
            ]
          },
          "metadata": {},
          "execution_count": 34
        }
      ]
    },
    {
      "cell_type": "code",
      "metadata": {
        "colab": {
          "base_uri": "https://localhost:8080/",
          "height": 423
        },
        "id": "OFJdFLFca_Dq",
        "outputId": "5ba2d4c9-b479-473e-84dc-0570540a8dee"
      },
      "source": [
        "X_test"
      ],
      "execution_count": null,
      "outputs": [
        {
          "output_type": "execute_result",
          "data": {
            "text/plain": [
              "                                                 content\n",
              "15000                         How often do you get sick?\n",
              "15001    Wow awesome question....I think my best achi...\n",
              "15002                          Nahh hates a strong word.\n",
              "15003   does anyone sang you a song on public? if so ...\n",
              "15004                                              Nope.\n",
              "...                                                  ...\n",
              "19996    I dont. But what is complaining about it goi...\n",
              "19997   Bahah  yeah i&;m totally just gonna&; get pis...\n",
              "19998       hahahahaha >:) im evil mwahahahahahahahahaha\n",
              "19999            What&;s something unique about Ohio? :)\n",
              "20000              Who is the biggest gossiper you know?\n",
              "\n",
              "[5001 rows x 1 columns]"
            ],
            "text/html": [
              "\n",
              "  <div id=\"df-a9738573-f3b6-4d32-a9d0-13c00ade1465\" class=\"colab-df-container\">\n",
              "    <div>\n",
              "<style scoped>\n",
              "    .dataframe tbody tr th:only-of-type {\n",
              "        vertical-align: middle;\n",
              "    }\n",
              "\n",
              "    .dataframe tbody tr th {\n",
              "        vertical-align: top;\n",
              "    }\n",
              "\n",
              "    .dataframe thead th {\n",
              "        text-align: right;\n",
              "    }\n",
              "</style>\n",
              "<table border=\"1\" class=\"dataframe\">\n",
              "  <thead>\n",
              "    <tr style=\"text-align: right;\">\n",
              "      <th></th>\n",
              "      <th>content</th>\n",
              "    </tr>\n",
              "  </thead>\n",
              "  <tbody>\n",
              "    <tr>\n",
              "      <th>15000</th>\n",
              "      <td>How often do you get sick?</td>\n",
              "    </tr>\n",
              "    <tr>\n",
              "      <th>15001</th>\n",
              "      <td>Wow awesome question....I think my best achi...</td>\n",
              "    </tr>\n",
              "    <tr>\n",
              "      <th>15002</th>\n",
              "      <td>Nahh hates a strong word.</td>\n",
              "    </tr>\n",
              "    <tr>\n",
              "      <th>15003</th>\n",
              "      <td>does anyone sang you a song on public? if so ...</td>\n",
              "    </tr>\n",
              "    <tr>\n",
              "      <th>15004</th>\n",
              "      <td>Nope.</td>\n",
              "    </tr>\n",
              "    <tr>\n",
              "      <th>...</th>\n",
              "      <td>...</td>\n",
              "    </tr>\n",
              "    <tr>\n",
              "      <th>19996</th>\n",
              "      <td>I dont. But what is complaining about it goi...</td>\n",
              "    </tr>\n",
              "    <tr>\n",
              "      <th>19997</th>\n",
              "      <td>Bahah  yeah i&amp;;m totally just gonna&amp;; get pis...</td>\n",
              "    </tr>\n",
              "    <tr>\n",
              "      <th>19998</th>\n",
              "      <td>hahahahaha &gt;:) im evil mwahahahahahahahahaha</td>\n",
              "    </tr>\n",
              "    <tr>\n",
              "      <th>19999</th>\n",
              "      <td>What&amp;;s something unique about Ohio? :)</td>\n",
              "    </tr>\n",
              "    <tr>\n",
              "      <th>20000</th>\n",
              "      <td>Who is the biggest gossiper you know?</td>\n",
              "    </tr>\n",
              "  </tbody>\n",
              "</table>\n",
              "<p>5001 rows × 1 columns</p>\n",
              "</div>\n",
              "    <div class=\"colab-df-buttons\">\n",
              "\n",
              "  <div class=\"colab-df-container\">\n",
              "    <button class=\"colab-df-convert\" onclick=\"convertToInteractive('df-a9738573-f3b6-4d32-a9d0-13c00ade1465')\"\n",
              "            title=\"Convert this dataframe to an interactive table.\"\n",
              "            style=\"display:none;\">\n",
              "\n",
              "  <svg xmlns=\"http://www.w3.org/2000/svg\" height=\"24px\" viewBox=\"0 -960 960 960\">\n",
              "    <path d=\"M120-120v-720h720v720H120Zm60-500h600v-160H180v160Zm220 220h160v-160H400v160Zm0 220h160v-160H400v160ZM180-400h160v-160H180v160Zm440 0h160v-160H620v160ZM180-180h160v-160H180v160Zm440 0h160v-160H620v160Z\"/>\n",
              "  </svg>\n",
              "    </button>\n",
              "\n",
              "  <style>\n",
              "    .colab-df-container {\n",
              "      display:flex;\n",
              "      gap: 12px;\n",
              "    }\n",
              "\n",
              "    .colab-df-convert {\n",
              "      background-color: #E8F0FE;\n",
              "      border: none;\n",
              "      border-radius: 50%;\n",
              "      cursor: pointer;\n",
              "      display: none;\n",
              "      fill: #1967D2;\n",
              "      height: 32px;\n",
              "      padding: 0 0 0 0;\n",
              "      width: 32px;\n",
              "    }\n",
              "\n",
              "    .colab-df-convert:hover {\n",
              "      background-color: #E2EBFA;\n",
              "      box-shadow: 0px 1px 2px rgba(60, 64, 67, 0.3), 0px 1px 3px 1px rgba(60, 64, 67, 0.15);\n",
              "      fill: #174EA6;\n",
              "    }\n",
              "\n",
              "    .colab-df-buttons div {\n",
              "      margin-bottom: 4px;\n",
              "    }\n",
              "\n",
              "    [theme=dark] .colab-df-convert {\n",
              "      background-color: #3B4455;\n",
              "      fill: #D2E3FC;\n",
              "    }\n",
              "\n",
              "    [theme=dark] .colab-df-convert:hover {\n",
              "      background-color: #434B5C;\n",
              "      box-shadow: 0px 1px 3px 1px rgba(0, 0, 0, 0.15);\n",
              "      filter: drop-shadow(0px 1px 2px rgba(0, 0, 0, 0.3));\n",
              "      fill: #FFFFFF;\n",
              "    }\n",
              "  </style>\n",
              "\n",
              "    <script>\n",
              "      const buttonEl =\n",
              "        document.querySelector('#df-a9738573-f3b6-4d32-a9d0-13c00ade1465 button.colab-df-convert');\n",
              "      buttonEl.style.display =\n",
              "        google.colab.kernel.accessAllowed ? 'block' : 'none';\n",
              "\n",
              "      async function convertToInteractive(key) {\n",
              "        const element = document.querySelector('#df-a9738573-f3b6-4d32-a9d0-13c00ade1465');\n",
              "        const dataTable =\n",
              "          await google.colab.kernel.invokeFunction('convertToInteractive',\n",
              "                                                    [key], {});\n",
              "        if (!dataTable) return;\n",
              "\n",
              "        const docLinkHtml = 'Like what you see? Visit the ' +\n",
              "          '<a target=\"_blank\" href=https://colab.research.google.com/notebooks/data_table.ipynb>data table notebook</a>'\n",
              "          + ' to learn more about interactive tables.';\n",
              "        element.innerHTML = '';\n",
              "        dataTable['output_type'] = 'display_data';\n",
              "        await google.colab.output.renderOutput(dataTable, element);\n",
              "        const docLink = document.createElement('div');\n",
              "        docLink.innerHTML = docLinkHtml;\n",
              "        element.appendChild(docLink);\n",
              "      }\n",
              "    </script>\n",
              "  </div>\n",
              "\n",
              "\n",
              "<div id=\"df-cc1071cf-68b6-457d-b170-98397b58c6a4\">\n",
              "  <button class=\"colab-df-quickchart\" onclick=\"quickchart('df-cc1071cf-68b6-457d-b170-98397b58c6a4')\"\n",
              "            title=\"Suggest charts\"\n",
              "            style=\"display:none;\">\n",
              "\n",
              "<svg xmlns=\"http://www.w3.org/2000/svg\" height=\"24px\"viewBox=\"0 0 24 24\"\n",
              "     width=\"24px\">\n",
              "    <g>\n",
              "        <path d=\"M19 3H5c-1.1 0-2 .9-2 2v14c0 1.1.9 2 2 2h14c1.1 0 2-.9 2-2V5c0-1.1-.9-2-2-2zM9 17H7v-7h2v7zm4 0h-2V7h2v10zm4 0h-2v-4h2v4z\"/>\n",
              "    </g>\n",
              "</svg>\n",
              "  </button>\n",
              "\n",
              "<style>\n",
              "  .colab-df-quickchart {\n",
              "      --bg-color: #E8F0FE;\n",
              "      --fill-color: #1967D2;\n",
              "      --hover-bg-color: #E2EBFA;\n",
              "      --hover-fill-color: #174EA6;\n",
              "      --disabled-fill-color: #AAA;\n",
              "      --disabled-bg-color: #DDD;\n",
              "  }\n",
              "\n",
              "  [theme=dark] .colab-df-quickchart {\n",
              "      --bg-color: #3B4455;\n",
              "      --fill-color: #D2E3FC;\n",
              "      --hover-bg-color: #434B5C;\n",
              "      --hover-fill-color: #FFFFFF;\n",
              "      --disabled-bg-color: #3B4455;\n",
              "      --disabled-fill-color: #666;\n",
              "  }\n",
              "\n",
              "  .colab-df-quickchart {\n",
              "    background-color: var(--bg-color);\n",
              "    border: none;\n",
              "    border-radius: 50%;\n",
              "    cursor: pointer;\n",
              "    display: none;\n",
              "    fill: var(--fill-color);\n",
              "    height: 32px;\n",
              "    padding: 0;\n",
              "    width: 32px;\n",
              "  }\n",
              "\n",
              "  .colab-df-quickchart:hover {\n",
              "    background-color: var(--hover-bg-color);\n",
              "    box-shadow: 0 1px 2px rgba(60, 64, 67, 0.3), 0 1px 3px 1px rgba(60, 64, 67, 0.15);\n",
              "    fill: var(--button-hover-fill-color);\n",
              "  }\n",
              "\n",
              "  .colab-df-quickchart-complete:disabled,\n",
              "  .colab-df-quickchart-complete:disabled:hover {\n",
              "    background-color: var(--disabled-bg-color);\n",
              "    fill: var(--disabled-fill-color);\n",
              "    box-shadow: none;\n",
              "  }\n",
              "\n",
              "  .colab-df-spinner {\n",
              "    border: 2px solid var(--fill-color);\n",
              "    border-color: transparent;\n",
              "    border-bottom-color: var(--fill-color);\n",
              "    animation:\n",
              "      spin 1s steps(1) infinite;\n",
              "  }\n",
              "\n",
              "  @keyframes spin {\n",
              "    0% {\n",
              "      border-color: transparent;\n",
              "      border-bottom-color: var(--fill-color);\n",
              "      border-left-color: var(--fill-color);\n",
              "    }\n",
              "    20% {\n",
              "      border-color: transparent;\n",
              "      border-left-color: var(--fill-color);\n",
              "      border-top-color: var(--fill-color);\n",
              "    }\n",
              "    30% {\n",
              "      border-color: transparent;\n",
              "      border-left-color: var(--fill-color);\n",
              "      border-top-color: var(--fill-color);\n",
              "      border-right-color: var(--fill-color);\n",
              "    }\n",
              "    40% {\n",
              "      border-color: transparent;\n",
              "      border-right-color: var(--fill-color);\n",
              "      border-top-color: var(--fill-color);\n",
              "    }\n",
              "    60% {\n",
              "      border-color: transparent;\n",
              "      border-right-color: var(--fill-color);\n",
              "    }\n",
              "    80% {\n",
              "      border-color: transparent;\n",
              "      border-right-color: var(--fill-color);\n",
              "      border-bottom-color: var(--fill-color);\n",
              "    }\n",
              "    90% {\n",
              "      border-color: transparent;\n",
              "      border-bottom-color: var(--fill-color);\n",
              "    }\n",
              "  }\n",
              "</style>\n",
              "\n",
              "  <script>\n",
              "    async function quickchart(key) {\n",
              "      const quickchartButtonEl =\n",
              "        document.querySelector('#' + key + ' button');\n",
              "      quickchartButtonEl.disabled = true;  // To prevent multiple clicks.\n",
              "      quickchartButtonEl.classList.add('colab-df-spinner');\n",
              "      try {\n",
              "        const charts = await google.colab.kernel.invokeFunction(\n",
              "            'suggestCharts', [key], {});\n",
              "      } catch (error) {\n",
              "        console.error('Error during call to suggestCharts:', error);\n",
              "      }\n",
              "      quickchartButtonEl.classList.remove('colab-df-spinner');\n",
              "      quickchartButtonEl.classList.add('colab-df-quickchart-complete');\n",
              "    }\n",
              "    (() => {\n",
              "      let quickchartButtonEl =\n",
              "        document.querySelector('#df-cc1071cf-68b6-457d-b170-98397b58c6a4 button');\n",
              "      quickchartButtonEl.style.display =\n",
              "        google.colab.kernel.accessAllowed ? 'block' : 'none';\n",
              "    })();\n",
              "  </script>\n",
              "</div>\n",
              "\n",
              "  <div id=\"id_3cb526ab-c6f1-45f2-8481-ba18f46f1b02\">\n",
              "    <style>\n",
              "      .colab-df-generate {\n",
              "        background-color: #E8F0FE;\n",
              "        border: none;\n",
              "        border-radius: 50%;\n",
              "        cursor: pointer;\n",
              "        display: none;\n",
              "        fill: #1967D2;\n",
              "        height: 32px;\n",
              "        padding: 0 0 0 0;\n",
              "        width: 32px;\n",
              "      }\n",
              "\n",
              "      .colab-df-generate:hover {\n",
              "        background-color: #E2EBFA;\n",
              "        box-shadow: 0px 1px 2px rgba(60, 64, 67, 0.3), 0px 1px 3px 1px rgba(60, 64, 67, 0.15);\n",
              "        fill: #174EA6;\n",
              "      }\n",
              "\n",
              "      [theme=dark] .colab-df-generate {\n",
              "        background-color: #3B4455;\n",
              "        fill: #D2E3FC;\n",
              "      }\n",
              "\n",
              "      [theme=dark] .colab-df-generate:hover {\n",
              "        background-color: #434B5C;\n",
              "        box-shadow: 0px 1px 3px 1px rgba(0, 0, 0, 0.15);\n",
              "        filter: drop-shadow(0px 1px 2px rgba(0, 0, 0, 0.3));\n",
              "        fill: #FFFFFF;\n",
              "      }\n",
              "    </style>\n",
              "    <button class=\"colab-df-generate\" onclick=\"generateWithVariable('X_test')\"\n",
              "            title=\"Generate code using this dataframe.\"\n",
              "            style=\"display:none;\">\n",
              "\n",
              "  <svg xmlns=\"http://www.w3.org/2000/svg\" height=\"24px\"viewBox=\"0 0 24 24\"\n",
              "       width=\"24px\">\n",
              "    <path d=\"M7,19H8.4L18.45,9,17,7.55,7,17.6ZM5,21V16.75L18.45,3.32a2,2,0,0,1,2.83,0l1.4,1.43a1.91,1.91,0,0,1,.58,1.4,1.91,1.91,0,0,1-.58,1.4L9.25,21ZM18.45,9,17,7.55Zm-12,3A5.31,5.31,0,0,0,4.9,8.1,5.31,5.31,0,0,0,1,6.5,5.31,5.31,0,0,0,4.9,4.9,5.31,5.31,0,0,0,6.5,1,5.31,5.31,0,0,0,8.1,4.9,5.31,5.31,0,0,0,12,6.5,5.46,5.46,0,0,0,6.5,12Z\"/>\n",
              "  </svg>\n",
              "    </button>\n",
              "    <script>\n",
              "      (() => {\n",
              "      const buttonEl =\n",
              "        document.querySelector('#id_3cb526ab-c6f1-45f2-8481-ba18f46f1b02 button.colab-df-generate');\n",
              "      buttonEl.style.display =\n",
              "        google.colab.kernel.accessAllowed ? 'block' : 'none';\n",
              "\n",
              "      buttonEl.onclick = () => {\n",
              "        google.colab.notebook.generateWithVariable('X_test');\n",
              "      }\n",
              "      })();\n",
              "    </script>\n",
              "  </div>\n",
              "\n",
              "    </div>\n",
              "  </div>\n"
            ],
            "application/vnd.google.colaboratory.intrinsic+json": {
              "type": "dataframe",
              "variable_name": "X_test",
              "summary": "{\n  \"name\": \"X_test\",\n  \"rows\": 5001,\n  \"fields\": [\n    {\n      \"column\": \"content\",\n      \"properties\": {\n        \"dtype\": \"string\",\n        \"num_unique_values\": 4791,\n        \"samples\": [\n          \" i&;m bored can you tell me something funny? lool\",\n          \" What&;s your favorite movie quote?\",\n          \"  we would go crazy! movies would suck haha\"\n        ],\n        \"semantic_type\": \"\",\n        \"description\": \"\"\n      }\n    }\n  ]\n}"
            }
          },
          "metadata": {},
          "execution_count": 35
        }
      ]
    },
    {
      "cell_type": "code",
      "metadata": {
        "colab": {
          "base_uri": "https://localhost:8080/"
        },
        "id": "NJBvjx2YX8tT",
        "outputId": "b20fc2b1-0557-42fb-8354-5a53706ac461"
      },
      "source": [
        "20001-15000"
      ],
      "execution_count": null,
      "outputs": [
        {
          "output_type": "execute_result",
          "data": {
            "text/plain": [
              "5001"
            ]
          },
          "metadata": {
            "tags": []
          },
          "execution_count": 25
        }
      ]
    },
    {
      "cell_type": "code",
      "metadata": {
        "colab": {
          "base_uri": "https://localhost:8080/",
          "height": 458
        },
        "id": "8UQm3I5_bDGf",
        "outputId": "dce328a3-a4a9-468d-f4ae-16742026567b"
      },
      "source": [
        "y_train"
      ],
      "execution_count": null,
      "outputs": [
        {
          "output_type": "execute_result",
          "data": {
            "text/plain": [
              "0        1\n",
              "1        1\n",
              "2        1\n",
              "3        1\n",
              "4        1\n",
              "        ..\n",
              "14995    0\n",
              "14996    0\n",
              "14997    0\n",
              "14998    0\n",
              "14999    0\n",
              "Name: label, Length: 15000, dtype: object"
            ],
            "text/html": [
              "<div>\n",
              "<style scoped>\n",
              "    .dataframe tbody tr th:only-of-type {\n",
              "        vertical-align: middle;\n",
              "    }\n",
              "\n",
              "    .dataframe tbody tr th {\n",
              "        vertical-align: top;\n",
              "    }\n",
              "\n",
              "    .dataframe thead th {\n",
              "        text-align: right;\n",
              "    }\n",
              "</style>\n",
              "<table border=\"1\" class=\"dataframe\">\n",
              "  <thead>\n",
              "    <tr style=\"text-align: right;\">\n",
              "      <th></th>\n",
              "      <th>label</th>\n",
              "    </tr>\n",
              "  </thead>\n",
              "  <tbody>\n",
              "    <tr>\n",
              "      <th>0</th>\n",
              "      <td>1</td>\n",
              "    </tr>\n",
              "    <tr>\n",
              "      <th>1</th>\n",
              "      <td>1</td>\n",
              "    </tr>\n",
              "    <tr>\n",
              "      <th>2</th>\n",
              "      <td>1</td>\n",
              "    </tr>\n",
              "    <tr>\n",
              "      <th>3</th>\n",
              "      <td>1</td>\n",
              "    </tr>\n",
              "    <tr>\n",
              "      <th>4</th>\n",
              "      <td>1</td>\n",
              "    </tr>\n",
              "    <tr>\n",
              "      <th>...</th>\n",
              "      <td>...</td>\n",
              "    </tr>\n",
              "    <tr>\n",
              "      <th>14995</th>\n",
              "      <td>0</td>\n",
              "    </tr>\n",
              "    <tr>\n",
              "      <th>14996</th>\n",
              "      <td>0</td>\n",
              "    </tr>\n",
              "    <tr>\n",
              "      <th>14997</th>\n",
              "      <td>0</td>\n",
              "    </tr>\n",
              "    <tr>\n",
              "      <th>14998</th>\n",
              "      <td>0</td>\n",
              "    </tr>\n",
              "    <tr>\n",
              "      <th>14999</th>\n",
              "      <td>0</td>\n",
              "    </tr>\n",
              "  </tbody>\n",
              "</table>\n",
              "<p>15000 rows × 1 columns</p>\n",
              "</div><br><label><b>dtype:</b> object</label>"
            ]
          },
          "metadata": {},
          "execution_count": 36
        }
      ]
    },
    {
      "cell_type": "code",
      "metadata": {
        "colab": {
          "base_uri": "https://localhost:8080/",
          "height": 241
        },
        "id": "4pBTO7JRaqfB",
        "outputId": "426198c2-7dcd-452a-8ffd-8a12a0ed57ce"
      },
      "source": [
        "y_train.head()"
      ],
      "execution_count": null,
      "outputs": [
        {
          "output_type": "execute_result",
          "data": {
            "text/plain": [
              "0    1\n",
              "1    1\n",
              "2    1\n",
              "3    1\n",
              "4    1\n",
              "Name: label, dtype: object"
            ],
            "text/html": [
              "<div>\n",
              "<style scoped>\n",
              "    .dataframe tbody tr th:only-of-type {\n",
              "        vertical-align: middle;\n",
              "    }\n",
              "\n",
              "    .dataframe tbody tr th {\n",
              "        vertical-align: top;\n",
              "    }\n",
              "\n",
              "    .dataframe thead th {\n",
              "        text-align: right;\n",
              "    }\n",
              "</style>\n",
              "<table border=\"1\" class=\"dataframe\">\n",
              "  <thead>\n",
              "    <tr style=\"text-align: right;\">\n",
              "      <th></th>\n",
              "      <th>label</th>\n",
              "    </tr>\n",
              "  </thead>\n",
              "  <tbody>\n",
              "    <tr>\n",
              "      <th>0</th>\n",
              "      <td>1</td>\n",
              "    </tr>\n",
              "    <tr>\n",
              "      <th>1</th>\n",
              "      <td>1</td>\n",
              "    </tr>\n",
              "    <tr>\n",
              "      <th>2</th>\n",
              "      <td>1</td>\n",
              "    </tr>\n",
              "    <tr>\n",
              "      <th>3</th>\n",
              "      <td>1</td>\n",
              "    </tr>\n",
              "    <tr>\n",
              "      <th>4</th>\n",
              "      <td>1</td>\n",
              "    </tr>\n",
              "  </tbody>\n",
              "</table>\n",
              "</div><br><label><b>dtype:</b> object</label>"
            ]
          },
          "metadata": {},
          "execution_count": 37
        }
      ]
    },
    {
      "cell_type": "code",
      "metadata": {
        "colab": {
          "base_uri": "https://localhost:8080/"
        },
        "id": "Jn1oARRrYGSl",
        "outputId": "348a2b36-7627-48dd-d05a-c37948a7e85f"
      },
      "source": [
        "y_test.size"
      ],
      "execution_count": null,
      "outputs": [
        {
          "output_type": "execute_result",
          "data": {
            "text/plain": [
              "5001"
            ]
          },
          "metadata": {},
          "execution_count": 38
        }
      ]
    },
    {
      "cell_type": "code",
      "metadata": {
        "colab": {
          "base_uri": "https://localhost:8080/"
        },
        "id": "sHssdeR3bQEm",
        "outputId": "fb181f38-ee13-4e28-f4af-dbaddc78a7ce"
      },
      "source": [
        "y_test.unique()"
      ],
      "execution_count": null,
      "outputs": [
        {
          "output_type": "execute_result",
          "data": {
            "text/plain": [
              "array(['0'], dtype=object)"
            ]
          },
          "metadata": {},
          "execution_count": 39
        }
      ]
    },
    {
      "cell_type": "markdown",
      "metadata": {
        "id": "R6Gm2MJwGeDu"
      },
      "source": [
        "**y_test had all labels 0's so we cannot test the trained model for label 1's**"
      ]
    },
    {
      "cell_type": "markdown",
      "metadata": {
        "id": "T5R-mKn8GoZt"
      },
      "source": [
        "**Making use of train_test_split() method helps in balanced spliting- in form of arrays**"
      ]
    },
    {
      "cell_type": "code",
      "metadata": {
        "id": "pgVCShl7Eu7U"
      },
      "source": [
        "X_train, X_test, y_train, y_test = train_test_split(X, y)"
      ],
      "execution_count": null,
      "outputs": []
    },
    {
      "cell_type": "code",
      "metadata": {
        "colab": {
          "base_uri": "https://localhost:8080/"
        },
        "id": "QNaEkDzmE3L-",
        "outputId": "2bc0a3a1-74c9-4446-c5ce-9f1d8697feb9"
      },
      "source": [
        "X_train"
      ],
      "execution_count": null,
      "outputs": [
        {
          "output_type": "execute_result",
          "data": {
            "text/plain": [
              "array(['i hate that i know some french...and the french you used  was the french i know',\n",
              "       ' If one song were to describe your life  what song would it be?',\n",
              "       'NERD!', ..., 'then ur game sucks. no crue  not buying it.',\n",
              "       '  haha ummm  6th grade. like the middle of the year but i only wore them sometimes cuz i only had one pair. now its all i wear since 7th',\n",
              "       \"wash yo' ass!\"], dtype=object)"
            ]
          },
          "metadata": {},
          "execution_count": 41
        }
      ]
    },
    {
      "cell_type": "code",
      "metadata": {
        "colab": {
          "base_uri": "https://localhost:8080/"
        },
        "id": "BurmOG1JFLJF",
        "outputId": "804895f9-19ea-4a75-aa1c-8f435edaf780"
      },
      "source": [
        "X_train.size"
      ],
      "execution_count": null,
      "outputs": [
        {
          "output_type": "execute_result",
          "data": {
            "text/plain": [
              "15000"
            ]
          },
          "metadata": {},
          "execution_count": 42
        }
      ]
    },
    {
      "cell_type": "code",
      "metadata": {
        "colab": {
          "base_uri": "https://localhost:8080/"
        },
        "id": "bO0ExBzVE5O7",
        "outputId": "10ca731b-db7e-4ac0-e463-c5e82258e43d"
      },
      "source": [
        "X_test"
      ],
      "execution_count": null,
      "outputs": [
        {
          "output_type": "execute_result",
          "data": {
            "text/plain": [
              "array([\"it's like gay people using the f word.  somehow  allowed.\",\n",
              "       'bitch please your gorgeous', ' WHUUT HAPPENEDD??', ...,\n",
              "       \"- i know  right!? it's lammmeee. except  i'd love her too.she's hot. and funny. you're right. i hate my life.\",\n",
              "       \"I swear this hour is just fucking twiddling it's thumbs as it passes. Ughhh hurry!\",\n",
              "       'i couldnt agree more. HATE sandra lee!'], dtype=object)"
            ]
          },
          "metadata": {},
          "execution_count": 43
        }
      ]
    },
    {
      "cell_type": "code",
      "metadata": {
        "colab": {
          "base_uri": "https://localhost:8080/"
        },
        "id": "ma9_G17_FN2o",
        "outputId": "6fca61d1-d6b2-4c6f-f3cc-013a16b4bace"
      },
      "source": [
        "X_test.size"
      ],
      "execution_count": null,
      "outputs": [
        {
          "output_type": "execute_result",
          "data": {
            "text/plain": [
              "5001"
            ]
          },
          "metadata": {},
          "execution_count": 44
        }
      ]
    },
    {
      "cell_type": "code",
      "metadata": {
        "colab": {
          "base_uri": "https://localhost:8080/"
        },
        "id": "VXqMMqnsE-Kw",
        "outputId": "e56f3010-60a8-4c4b-e107-455bcedf8633"
      },
      "source": [
        "y_train"
      ],
      "execution_count": null,
      "outputs": [
        {
          "output_type": "execute_result",
          "data": {
            "text/plain": [
              "array(['1', '0', '1', ..., '1', '0', '1'], dtype=object)"
            ]
          },
          "metadata": {},
          "execution_count": 45
        }
      ]
    },
    {
      "cell_type": "code",
      "metadata": {
        "colab": {
          "base_uri": "https://localhost:8080/"
        },
        "id": "VX-iE4IZFAZC",
        "outputId": "ebcd8833-3adb-4218-b651-16aee02db5db"
      },
      "source": [
        "y_train.size"
      ],
      "execution_count": null,
      "outputs": [
        {
          "output_type": "execute_result",
          "data": {
            "text/plain": [
              "15000"
            ]
          },
          "metadata": {},
          "execution_count": 46
        }
      ]
    },
    {
      "cell_type": "code",
      "metadata": {
        "colab": {
          "base_uri": "https://localhost:8080/"
        },
        "id": "AxWkjfSfFCos",
        "outputId": "8f4ea4a8-95fe-48e9-a1c2-0cecb29362c8"
      },
      "source": [
        "y_test"
      ],
      "execution_count": null,
      "outputs": [
        {
          "output_type": "execute_result",
          "data": {
            "text/plain": [
              "array(['1', '1', '0', ..., '0', '0', '1'], dtype=object)"
            ]
          },
          "metadata": {},
          "execution_count": 47
        }
      ]
    },
    {
      "cell_type": "code",
      "metadata": {
        "colab": {
          "base_uri": "https://localhost:8080/"
        },
        "id": "SbL4cPYaFGED",
        "outputId": "61f2fafa-6db5-4634-a1ae-84aa8ba2729c"
      },
      "source": [
        "y_test.size"
      ],
      "execution_count": null,
      "outputs": [
        {
          "output_type": "execute_result",
          "data": {
            "text/plain": [
              "5001"
            ]
          },
          "metadata": {},
          "execution_count": 48
        }
      ]
    },
    {
      "cell_type": "code",
      "metadata": {
        "id": "MtOXqL4m9otf"
      },
      "source": [
        "from sklearn.linear_model import *\n",
        "from sklearn.tree import *\n",
        "from sklearn.naive_bayes import *\n",
        "from sklearn.neighbors import *"
      ],
      "execution_count": null,
      "outputs": []
    },
    {
      "cell_type": "markdown",
      "metadata": {
        "id": "1Ppa_WOnRGCn"
      },
      "source": [
        "**DECISION TREE CLASSIFIER**"
      ]
    },
    {
      "cell_type": "code",
      "metadata": {
        "colab": {
          "base_uri": "https://localhost:8080/"
        },
        "id": "aqaEVtVl8gK3",
        "outputId": "841ca045-93d2-413f-98f3-515cbf4ac2e7"
      },
      "source": [
        "url = '/dataset.json'\n",
        "X, y = load_data(url)\n",
        "X_train, X_test, y_train, y_test = train_test_split(X, y)\n",
        "\n",
        "vect = CountVectorizer(tokenizer=tokenize)\n",
        "tfidf = TfidfTransformer()\n",
        "clf = DecisionTreeClassifier()\n",
        "\n",
        "    # train classifier\n",
        "X_train_counts = vect.fit_transform(X_train)\n",
        "X_train_tfidf = tfidf.fit_transform(X_train_counts)\n",
        "clf.fit(X_train_tfidf, y_train)\n",
        "\n",
        "    # predict on test data\n",
        "X_test_counts = vect.transform(X_test)\n",
        "X_test_tfidf = tfidf.transform(X_test_counts)\n",
        "y_pred = clf.predict(X_test_tfidf)\n",
        "#Score = clf.score((X_test_tfidf,y_test)\n",
        "\n",
        "labels = np.unique(y_pred)\n",
        "confusion_mat = confusion_matrix(y_test, y_pred, labels=labels)\n",
        "accuracy = (y_pred == y_test).mean()\n",
        "\n",
        "print(\"Labels:\", labels)\n",
        "print(\"Confusion Matrix:\\n\", confusion_mat)\n",
        "print(\"Accuracy:\", accuracy)\n",
        "print(\"Score:\",accuracy*100)\n"
      ],
      "execution_count": null,
      "outputs": [
        {
          "output_type": "stream",
          "name": "stderr",
          "text": [
            "/usr/local/lib/python3.10/dist-packages/sklearn/feature_extraction/text.py:521: UserWarning: The parameter 'token_pattern' will not be used since 'tokenizer' is not None'\n",
            "  warnings.warn(\n"
          ]
        },
        {
          "output_type": "stream",
          "name": "stdout",
          "text": [
            "Labels: ['0' '1']\n",
            "Confusion Matrix:\n",
            " [[2501  568]\n",
            " [ 140 1792]]\n",
            "Accuracy: 0.8584283143371326\n",
            "Score: 85.84283143371326\n"
          ]
        }
      ]
    },
    {
      "cell_type": "markdown",
      "metadata": {
        "id": "3OZequB6RS9E"
      },
      "source": [
        "**LOGISTIC REGRESSION**"
      ]
    },
    {
      "cell_type": "code",
      "metadata": {
        "colab": {
          "base_uri": "https://localhost:8080/"
        },
        "id": "b4-uiS_0-eMo",
        "outputId": "a4e11b29-8457-4681-f175-ac465ddc497d"
      },
      "source": [
        "url = '/dataset.json'\n",
        "X, y = load_data(url)\n",
        "X_train, X_test, y_train, y_test = train_test_split(X, y)\n",
        "\n",
        "vect = CountVectorizer(tokenizer=tokenize)\n",
        "tfidf = TfidfTransformer()\n",
        "clf = LogisticRegression()\n",
        "\n",
        "    # train classifier\n",
        "X_train_counts = vect.fit_transform(X_train)\n",
        "X_train_tfidf = tfidf.fit_transform(X_train_counts)\n",
        "clf.fit(X_train_tfidf, y_train)\n",
        "\n",
        "    # predict on test data\n",
        "X_test_counts = vect.transform(X_test)\n",
        "X_test_tfidf = tfidf.transform(X_test_counts)\n",
        "y_pred = clf.predict(X_test_tfidf)\n",
        "#Score = clf.score((X_test_tfidf,y_test)\n",
        "\n",
        "labels = np.unique(y_pred)\n",
        "confusion_mat = confusion_matrix(y_test, y_pred, labels=labels)\n",
        "accuracy = (y_pred == y_test).mean()\n",
        "\n",
        "print(\"Labels:\", labels)\n",
        "print(\"Confusion Matrix:\\n\", confusion_mat)\n",
        "print(\"Accuracy:\", accuracy)\n",
        "print(\"Score:\",accuracy*100)\n"
      ],
      "execution_count": null,
      "outputs": [
        {
          "output_type": "stream",
          "name": "stderr",
          "text": [
            "/usr/local/lib/python3.10/dist-packages/sklearn/feature_extraction/text.py:521: UserWarning: The parameter 'token_pattern' will not be used since 'tokenizer' is not None'\n",
            "  warnings.warn(\n"
          ]
        },
        {
          "output_type": "stream",
          "name": "stdout",
          "text": [
            "Labels: ['0' '1']\n",
            "Confusion Matrix:\n",
            " [[2527  529]\n",
            " [ 725 1220]]\n",
            "Accuracy: 0.749250149970006\n",
            "Score: 74.9250149970006\n"
          ]
        }
      ]
    },
    {
      "cell_type": "markdown",
      "metadata": {
        "id": "S4cgaVadRb7x"
      },
      "source": [
        "**RANDOM FOREST CLASSIFIER**"
      ]
    },
    {
      "cell_type": "code",
      "metadata": {
        "colab": {
          "base_uri": "https://localhost:8080/"
        },
        "id": "PUu9Lvva-vgC",
        "outputId": "416fdfa3-8cef-43ba-ad6f-446a1b5932b5"
      },
      "source": [
        "url = '/dataset.json'\n",
        "X, y = load_data(url)\n",
        "X_train, X_test, y_train, y_test = train_test_split(X, y)\n",
        "\n",
        "vect = CountVectorizer(tokenizer=tokenize)\n",
        "tfidf = TfidfTransformer()\n",
        "clf = RandomForestClassifier()\n",
        "\n",
        "    # train classifier\n",
        "X_train_counts = vect.fit_transform(X_train)\n",
        "X_train_tfidf = tfidf.fit_transform(X_train_counts)\n",
        "clf.fit(X_train_tfidf, y_train)\n",
        "\n",
        "    # predict on test data\n",
        "X_test_counts = vect.transform(X_test)\n",
        "X_test_tfidf = tfidf.transform(X_test_counts)\n",
        "y_pred = clf.predict(X_test_tfidf)\n",
        "#Score = clf.score((X_test_tfidf,y_test)\n",
        "\n",
        "labels = np.unique(y_pred)\n",
        "confusion_mat = confusion_matrix(y_test, y_pred, labels=labels)\n",
        "accuracy = (y_pred == y_test).mean()\n",
        "\n",
        "print(\"Labels:\", labels)\n",
        "print(\"Confusion Matrix:\\n\", confusion_mat)\n",
        "print(\"Accuracy:\", accuracy)\n",
        "print(\"Score:\",accuracy*100)\n"
      ],
      "execution_count": null,
      "outputs": [
        {
          "output_type": "stream",
          "name": "stderr",
          "text": [
            "/usr/local/lib/python3.10/dist-packages/sklearn/feature_extraction/text.py:521: UserWarning: The parameter 'token_pattern' will not be used since 'tokenizer' is not None'\n",
            "  warnings.warn(\n"
          ]
        },
        {
          "output_type": "stream",
          "name": "stdout",
          "text": [
            "Labels: ['0' '1']\n",
            "Confusion Matrix:\n",
            " [[2975   85]\n",
            " [ 150 1791]]\n",
            "Accuracy: 0.9530093981203759\n",
            "Score: 95.30093981203758\n"
          ]
        }
      ]
    },
    {
      "cell_type": "markdown",
      "metadata": {
        "id": "fWSowr3VRqVW"
      },
      "source": [
        "**KNeighbors Classifier**"
      ]
    },
    {
      "cell_type": "code",
      "metadata": {
        "colab": {
          "base_uri": "https://localhost:8080/"
        },
        "id": "OBtVcHD3-7LG",
        "outputId": "2df63844-6460-4503-c194-fe4ac18e16dd"
      },
      "source": [
        "url = '/dataset.json'\n",
        "X, y = load_data(url)\n",
        "X_train, X_test, y_train, y_test = train_test_split(X, y)\n",
        "\n",
        "vect = CountVectorizer(tokenizer=tokenize)\n",
        "tfidf = TfidfTransformer()\n",
        "clf = KNeighborsClassifier()\n",
        "\n",
        "    # train classifier\n",
        "X_train_counts = vect.fit_transform(X_train)\n",
        "X_train_tfidf = tfidf.fit_transform(X_train_counts)\n",
        "clf.fit(X_train_tfidf, y_train)\n",
        "\n",
        "    # predict on test data\n",
        "X_test_counts = vect.transform(X_test)\n",
        "X_test_tfidf = tfidf.transform(X_test_counts)\n",
        "y_pred = clf.predict(X_test_tfidf)\n",
        "#Score = clf.score((X_test_tfidf,y_test)\n",
        "\n",
        "labels = np.unique(y_pred)\n",
        "confusion_mat = confusion_matrix(y_test, y_pred, labels=labels)\n",
        "accuracy = (y_pred == y_test).mean()\n",
        "\n",
        "print(\"Labels:\", labels)\n",
        "print(\"Confusion Matrix:\\n\", confusion_mat)\n",
        "print(\"Accuracy:\", accuracy)\n",
        "print(\"Score:\",accuracy*100)\n"
      ],
      "execution_count": null,
      "outputs": [
        {
          "output_type": "stream",
          "name": "stderr",
          "text": [
            "/usr/local/lib/python3.10/dist-packages/sklearn/feature_extraction/text.py:521: UserWarning: The parameter 'token_pattern' will not be used since 'tokenizer' is not None'\n",
            "  warnings.warn(\n"
          ]
        },
        {
          "output_type": "stream",
          "name": "stdout",
          "text": [
            "Labels: ['0' '1']\n",
            "Confusion Matrix:\n",
            " [[2255  812]\n",
            " [ 720 1214]]\n",
            "Accuracy: 0.6936612677464508\n",
            "Score: 69.36612677464508\n"
          ]
        }
      ]
    },
    {
      "cell_type": "code",
      "metadata": {
        "id": "-VcrHXjn_iBT",
        "colab": {
          "base_uri": "https://localhost:8080/"
        },
        "outputId": "c609dcd1-58c4-4201-f3d1-a565c4639c0b"
      },
      "source": [
        "url = '/dataset.json'\n",
        "X, y = load_data(url)\n",
        "X_train, X_test, y_train, y_test = train_test_split(X, y)\n",
        "\n",
        "vect = CountVectorizer(tokenizer=tokenize)\n",
        "tfidf = TfidfTransformer()\n",
        "clf = KNeighborsClassifier()\n",
        "\n",
        "    # train classifier\n",
        "X_train_counts = vect.fit_transform(X_train)\n",
        "X_train_tfidf = tfidf.fit_transform(X_train_counts)\n",
        "clf.fit(X_train_tfidf, y_train)\n",
        "\n",
        "    # predict on test data\n",
        "X_test_counts = vect.transform(X_test)\n",
        "X_test_tfidf = tfidf.transform(X_test_counts)\n",
        "y_pred = clf.predict(X_test_tfidf)\n",
        "#Score = clf.score((X_test_tfidf,y_test)\n",
        "\n",
        "labels = np.unique(y_pred)\n",
        "confusion_mat = confusion_matrix(y_test, y_pred, labels=labels)\n",
        "accuracy = (y_pred == y_test).mean()\n",
        "\n",
        "print(\"Labels:\", labels)\n",
        "print(\"Confusion Matrix:\\n\", confusion_mat)\n",
        "print(\"Accuracy:\", accuracy)\n",
        "print(\"Score:\",accuracy*100)\n"
      ],
      "execution_count": null,
      "outputs": [
        {
          "output_type": "stream",
          "name": "stderr",
          "text": [
            "/usr/local/lib/python3.10/dist-packages/sklearn/feature_extraction/text.py:521: UserWarning: The parameter 'token_pattern' will not be used since 'tokenizer' is not None'\n",
            "  warnings.warn(\n"
          ]
        },
        {
          "output_type": "stream",
          "name": "stdout",
          "text": [
            "Labels: ['0' '1']\n",
            "Confusion Matrix:\n",
            " [[2221  815]\n",
            " [ 700 1265]]\n",
            "Accuracy: 0.6970605878824235\n",
            "Score: 69.70605878824236\n"
          ]
        }
      ]
    },
    {
      "cell_type": "code",
      "metadata": {
        "id": "rM9GGHYF_xPn"
      },
      "source": [
        "url = '/dataset.json'\n",
        "X, y = load_data(url)\n",
        "X_train, X_test, y_train, y_test = train_test_split(X, y)"
      ],
      "execution_count": null,
      "outputs": []
    },
    {
      "cell_type": "code",
      "metadata": {
        "colab": {
          "base_uri": "https://localhost:8080/"
        },
        "id": "gvbgtnlVGxNc",
        "outputId": "6311f313-c134-40fc-e1c5-9560651da951"
      },
      "source": [
        "X_train"
      ],
      "execution_count": null,
      "outputs": [
        {
          "output_type": "execute_result",
          "data": {
            "text/plain": [
              "array(['Agreed!  Twitter showed the way with the whale ;)',\n",
              "       'well I hate texting it every 5 sex',\n",
              "       ' Do any of your friends have children?', ...,\n",
              "       'ur right.......just managed to lock my phone and the fucking phone now asking me PUK code:(',\n",
              "       'I think Bangladesh did \"What\\'s Your Fantasy\"  and fuck what   anyone says  that song is a JAM...can\\'t front on it...',\n",
              "       'DEAD ASS?!?!?!?!?!'], dtype=object)"
            ]
          },
          "metadata": {},
          "execution_count": 58
        }
      ]
    },
    {
      "cell_type": "markdown",
      "metadata": {
        "id": "VHZ9ZYyIH6bg"
      },
      "source": [
        "**NAIVE BAYES ALGO**"
      ]
    },
    {
      "cell_type": "code",
      "metadata": {
        "id": "GiO2Gif6HWT5"
      },
      "source": [
        "from sklearn import preprocessing\n",
        "#creating labelEncoder\n",
        "le = preprocessing.LabelEncoder()\n",
        "# Converting string labels into numbers."
      ],
      "execution_count": null,
      "outputs": []
    },
    {
      "cell_type": "code",
      "metadata": {
        "colab": {
          "base_uri": "https://localhost:8080/"
        },
        "id": "42BegAD1HZs2",
        "outputId": "ade923d1-1bbf-4f3c-9667-636eda90624f"
      },
      "source": [
        "\n",
        "# Converting string labels into numbers.\n",
        "X_encoded=le.fit_transform(X_train)\n",
        "print(X_encoded)"
      ],
      "execution_count": null,
      "outputs": [
        {
          "output_type": "stream",
          "name": "stdout",
          "text": [
            "[ 4949 11155  2271 ... 11085  6463  5190]\n"
          ]
        }
      ]
    },
    {
      "cell_type": "code",
      "metadata": {
        "colab": {
          "base_uri": "https://localhost:8080/"
        },
        "id": "Dj0nSrqxIeQU",
        "outputId": "83f7595f-9cb9-4f98-9049-5a392b55ccee"
      },
      "source": [
        "X_encoded.shape"
      ],
      "execution_count": null,
      "outputs": [
        {
          "output_type": "execute_result",
          "data": {
            "text/plain": [
              "(15000,)"
            ]
          },
          "metadata": {},
          "execution_count": 61
        }
      ]
    },
    {
      "cell_type": "code",
      "metadata": {
        "colab": {
          "base_uri": "https://localhost:8080/"
        },
        "id": "3RFjn-PdH34u",
        "outputId": "8622f5fa-9cda-45ab-a5e5-953a5afe47cc"
      },
      "source": [
        "y_train"
      ],
      "execution_count": null,
      "outputs": [
        {
          "output_type": "execute_result",
          "data": {
            "text/plain": [
              "array(['1', '0', '0', ..., '0', '1', '1'], dtype=object)"
            ]
          },
          "metadata": {},
          "execution_count": 62
        }
      ]
    },
    {
      "cell_type": "code",
      "metadata": {
        "colab": {
          "base_uri": "https://localhost:8080/"
        },
        "id": "dTKqML5VJNcP",
        "outputId": "8e86aa17-e9d6-49ab-c3ac-0fced3352729"
      },
      "source": [
        "y_train.shape"
      ],
      "execution_count": null,
      "outputs": [
        {
          "output_type": "execute_result",
          "data": {
            "text/plain": [
              "(15000,)"
            ]
          },
          "metadata": {},
          "execution_count": 63
        }
      ]
    },
    {
      "cell_type": "code",
      "metadata": {
        "colab": {
          "base_uri": "https://localhost:8080/"
        },
        "id": "Vt-AXMg7IBMt",
        "outputId": "cd235f9b-383b-4470-c036-1d4c5c4b3175"
      },
      "source": [
        "Xt_encoded = le.fit_transform(X_test)\n",
        "print(Xt_encoded)"
      ],
      "execution_count": null,
      "outputs": [
        {
          "output_type": "stream",
          "name": "stdout",
          "text": [
            "[ 781 2637 4406 ... 4174 1212  777]\n"
          ]
        }
      ]
    },
    {
      "cell_type": "code",
      "metadata": {
        "colab": {
          "base_uri": "https://localhost:8080/"
        },
        "id": "TBe9VEZ9HnPy",
        "outputId": "a29f00ad-c4cd-458d-f689-a5372e7c7d7c"
      },
      "source": [
        "y_test"
      ],
      "execution_count": null,
      "outputs": [
        {
          "output_type": "execute_result",
          "data": {
            "text/plain": [
              "array(['0', '0', '1', ..., '1', '0', '0'], dtype=object)"
            ]
          },
          "metadata": {},
          "execution_count": 65
        }
      ]
    },
    {
      "cell_type": "code",
      "metadata": {
        "colab": {
          "base_uri": "https://localhost:8080/"
        },
        "id": "iSTTPD4CHjbg",
        "outputId": "cb2a8691-1fe6-446c-c18e-d6e0ed877f8d"
      },
      "source": [
        "from sklearn.naive_bayes import GaussianNB\n",
        "\n",
        "#Create a Gaussian Classifier\n",
        "model = GaussianNB()\n",
        "X_encoded= X_encoded.reshape(-1, 1)\n",
        "#y_train= y_train.reshape(-1, 1)\n",
        "Xt_encoded= Xt_encoded.reshape(-1, 1)\n",
        "#y_test = y_test.reshape(-1, 1)\n",
        "# Train the model using the training sets\n",
        "model.fit(X_encoded,y_train)\n",
        "y_pred = model.predict(Xt_encoded)\n",
        "\n",
        "labels = np.unique(y_pred)\n",
        "confusion_mat = confusion_matrix(y_test, y_pred, labels=labels)\n",
        "accuracy = (y_pred == y_test).mean()\n",
        "\n",
        "print(\"Labels:\", labels)\n",
        "print(\"Confusion Matrix:\\n\", confusion_mat)\n",
        "print(\"Accuracy:\", accuracy)\n",
        "print(\"Score:\",accuracy*100)"
      ],
      "execution_count": null,
      "outputs": [
        {
          "output_type": "stream",
          "name": "stdout",
          "text": [
            "Labels: ['0']\n",
            "Confusion Matrix:\n",
            " [[2999]]\n",
            "Accuracy: 0.5996800639872025\n",
            "Score: 59.968006398720256\n"
          ]
        },
        {
          "output_type": "stream",
          "name": "stderr",
          "text": [
            "/usr/local/lib/python3.10/dist-packages/sklearn/metrics/_classification.py:409: UserWarning: A single label was found in 'y_true' and 'y_pred'. For the confusion matrix to have the correct shape, use the 'labels' parameter to pass all known labels.\n",
            "  warnings.warn(\n"
          ]
        }
      ]
    },
    {
      "cell_type": "code",
      "metadata": {
        "colab": {
          "base_uri": "https://localhost:8080/"
        },
        "id": "zIbcKHJxHTCz",
        "outputId": "716f334c-fbb6-4adb-b9a3-c30c8c7b673b"
      },
      "source": [
        "def load_data(path):\n",
        "    df = pd.read_json(path, lines= True)\n",
        "\n",
        "    df[\"label\"] = df.annotation.apply(lambda x: x.get('label'))\n",
        "    df[\"label\"] = df.label.apply(lambda x: x[0])\n",
        "\n",
        "    X = df.content.values\n",
        "    y = df.label.values\n",
        "\n",
        "    return X, y\n",
        "\n",
        "def tokenize(text):\n",
        "\n",
        "    tokens = word_tokenize(text)\n",
        "    lemmatizer = WordNetLemmatizer()\n",
        "\n",
        "    clean_tokens = []\n",
        "    for tok in tokens:\n",
        "        clean_tok = lemmatizer.lemmatize(tok).lower().strip()\n",
        "        clean_tokens.append(clean_tok)\n",
        "    #print(clean_tokens)\n",
        "    return clean_tokens\n",
        "\n",
        "def display_results(y_test, y_pred):\n",
        "    labels = np.unique(y_pred)\n",
        "    confusion_mat = confusion_matrix(y_test, y_pred, labels=labels)\n",
        "    accuracy = (y_pred == y_test).mean()\n",
        "\n",
        "    print(\"Labels:\", labels)\n",
        "    print(\"Confusion Matrix:\\n\", confusion_mat)\n",
        "    print(\"Accuracy:\", accuracy)\n",
        "\n",
        "def main():\n",
        "    url = '/dataset.json'\n",
        "    X, y = load_data(url)\n",
        "    X_train, X_test, y_train, y_test = train_test_split(X, y)\n",
        "\n",
        "    #initializing\n",
        "    vect = CountVectorizer(tokenizer=tokenize)\n",
        "\n",
        "    tfidf = TfidfTransformer()\n",
        "    clf = RandomForestClassifier()\n",
        "\n",
        "    # train classifier\n",
        "    X_train_counts = vect.fit_transform(X_train)\n",
        "    X_train_tfidf = tfidf.fit_transform(X_train_counts)\n",
        "    clf.fit(X_train_tfidf, y_train)\n",
        "\n",
        "    # predict on test data\n",
        "    X_test_counts = vect.transform(X_test)\n",
        "    X_test_tfidf = tfidf.transform(X_test_counts)\n",
        "    y_pred = clf.predict(X_test_tfidf)\n",
        "\n",
        "    # predict on test data\n",
        "    X_test_counts = vect.transform([\"whoa stop you stupid bitch sjw\"])\n",
        "    comment=\"whoa stop you stupid bitch sjw\"\n",
        "    print(\"Comment given: \"+comment)\n",
        "    print(\"Applying CountVectorizer on the given comment:\")\n",
        "    print(X_test_counts)\n",
        "    X_test_tfidf = tfidf.transform(X_test_counts)\n",
        "    print(\"Applying Tfidf after CountVectorizer:\")\n",
        "    print(X_test_tfidf)\n",
        "    print(\"Results after applying RandomForest Algorithm\")\n",
        "    print(\"Given text: 'whoa stop you stupid bitch sjw' \")\n",
        "    print(\"Prediction: {}\\n\".format(clf.predict(X_test_tfidf)))\n",
        "    if(clf.predict(X_test_tfidf)=='1'):\n",
        "      print(\"The comment that you had done now correlates to Bullying.Stop doing this!\")\n",
        "    display_results(y_test, y_pred)\n",
        "\n",
        "main()\n"
      ],
      "execution_count": null,
      "outputs": [
        {
          "output_type": "stream",
          "name": "stderr",
          "text": [
            "/usr/local/lib/python3.10/dist-packages/sklearn/feature_extraction/text.py:521: UserWarning: The parameter 'token_pattern' will not be used since 'tokenizer' is not None'\n",
            "  warnings.warn(\n"
          ]
        },
        {
          "output_type": "stream",
          "name": "stdout",
          "text": [
            "Comment given: whoa stop you stupid bitch sjw\n",
            "Applying CountVectorizer on the given comment:\n",
            "  (0, 1984)\t1\n",
            "  (0, 12098)\t1\n",
            "  (0, 12186)\t1\n",
            "  (0, 13897)\t1\n",
            "  (0, 14299)\t1\n",
            "Applying Tfidf after CountVectorizer:\n",
            "  (0, 1984)\t0.33546890617064246\n",
            "  (0, 12098)\t0.4542794578041627\n",
            "  (0, 12186)\t0.475869675979749\n",
            "  (0, 13897)\t0.6514150445649383\n",
            "  (0, 14299)\t0.1740611341087284\n",
            "Results after applying RandomForest Algorithm\n",
            "Given text: 'whoa stop you stupid bitch sjw' \n",
            "Prediction: ['1']\n",
            "\n",
            "The comment that you had done now correlates to Bullying.Stop doing this!\n",
            "Labels: ['0' '1']\n",
            "Confusion Matrix:\n",
            " [[2931  125]\n",
            " [ 171 1774]]\n",
            "Accuracy: 0.9408118376324736\n"
          ]
        }
      ]
    },
    {
      "cell_type": "code",
      "metadata": {
        "id": "z3XPZeNV-5J4"
      },
      "source": [],
      "execution_count": null,
      "outputs": []
    },
    {
      "cell_type": "code",
      "metadata": {
        "colab": {
          "base_uri": "https://localhost:8080/",
          "height": 80
        },
        "id": "2Dbx5sVBe9Ud",
        "outputId": "86812448-e3f0-408e-f8e0-cfc53ef744b4"
      },
      "source": [
        "tfidf"
      ],
      "execution_count": null,
      "outputs": [
        {
          "output_type": "execute_result",
          "data": {
            "text/plain": [
              "TfidfTransformer()"
            ],
            "text/html": [
              "<style>#sk-container-id-2 {\n",
              "  /* Definition of color scheme common for light and dark mode */\n",
              "  --sklearn-color-text: black;\n",
              "  --sklearn-color-line: gray;\n",
              "  /* Definition of color scheme for unfitted estimators */\n",
              "  --sklearn-color-unfitted-level-0: #fff5e6;\n",
              "  --sklearn-color-unfitted-level-1: #f6e4d2;\n",
              "  --sklearn-color-unfitted-level-2: #ffe0b3;\n",
              "  --sklearn-color-unfitted-level-3: chocolate;\n",
              "  /* Definition of color scheme for fitted estimators */\n",
              "  --sklearn-color-fitted-level-0: #f0f8ff;\n",
              "  --sklearn-color-fitted-level-1: #d4ebff;\n",
              "  --sklearn-color-fitted-level-2: #b3dbfd;\n",
              "  --sklearn-color-fitted-level-3: cornflowerblue;\n",
              "\n",
              "  /* Specific color for light theme */\n",
              "  --sklearn-color-text-on-default-background: var(--sg-text-color, var(--theme-code-foreground, var(--jp-content-font-color1, black)));\n",
              "  --sklearn-color-background: var(--sg-background-color, var(--theme-background, var(--jp-layout-color0, white)));\n",
              "  --sklearn-color-border-box: var(--sg-text-color, var(--theme-code-foreground, var(--jp-content-font-color1, black)));\n",
              "  --sklearn-color-icon: #696969;\n",
              "\n",
              "  @media (prefers-color-scheme: dark) {\n",
              "    /* Redefinition of color scheme for dark theme */\n",
              "    --sklearn-color-text-on-default-background: var(--sg-text-color, var(--theme-code-foreground, var(--jp-content-font-color1, white)));\n",
              "    --sklearn-color-background: var(--sg-background-color, var(--theme-background, var(--jp-layout-color0, #111)));\n",
              "    --sklearn-color-border-box: var(--sg-text-color, var(--theme-code-foreground, var(--jp-content-font-color1, white)));\n",
              "    --sklearn-color-icon: #878787;\n",
              "  }\n",
              "}\n",
              "\n",
              "#sk-container-id-2 {\n",
              "  color: var(--sklearn-color-text);\n",
              "}\n",
              "\n",
              "#sk-container-id-2 pre {\n",
              "  padding: 0;\n",
              "}\n",
              "\n",
              "#sk-container-id-2 input.sk-hidden--visually {\n",
              "  border: 0;\n",
              "  clip: rect(1px 1px 1px 1px);\n",
              "  clip: rect(1px, 1px, 1px, 1px);\n",
              "  height: 1px;\n",
              "  margin: -1px;\n",
              "  overflow: hidden;\n",
              "  padding: 0;\n",
              "  position: absolute;\n",
              "  width: 1px;\n",
              "}\n",
              "\n",
              "#sk-container-id-2 div.sk-dashed-wrapped {\n",
              "  border: 1px dashed var(--sklearn-color-line);\n",
              "  margin: 0 0.4em 0.5em 0.4em;\n",
              "  box-sizing: border-box;\n",
              "  padding-bottom: 0.4em;\n",
              "  background-color: var(--sklearn-color-background);\n",
              "}\n",
              "\n",
              "#sk-container-id-2 div.sk-container {\n",
              "  /* jupyter's `normalize.less` sets `[hidden] { display: none; }`\n",
              "     but bootstrap.min.css set `[hidden] { display: none !important; }`\n",
              "     so we also need the `!important` here to be able to override the\n",
              "     default hidden behavior on the sphinx rendered scikit-learn.org.\n",
              "     See: https://github.com/scikit-learn/scikit-learn/issues/21755 */\n",
              "  display: inline-block !important;\n",
              "  position: relative;\n",
              "}\n",
              "\n",
              "#sk-container-id-2 div.sk-text-repr-fallback {\n",
              "  display: none;\n",
              "}\n",
              "\n",
              "div.sk-parallel-item,\n",
              "div.sk-serial,\n",
              "div.sk-item {\n",
              "  /* draw centered vertical line to link estimators */\n",
              "  background-image: linear-gradient(var(--sklearn-color-text-on-default-background), var(--sklearn-color-text-on-default-background));\n",
              "  background-size: 2px 100%;\n",
              "  background-repeat: no-repeat;\n",
              "  background-position: center center;\n",
              "}\n",
              "\n",
              "/* Parallel-specific style estimator block */\n",
              "\n",
              "#sk-container-id-2 div.sk-parallel-item::after {\n",
              "  content: \"\";\n",
              "  width: 100%;\n",
              "  border-bottom: 2px solid var(--sklearn-color-text-on-default-background);\n",
              "  flex-grow: 1;\n",
              "}\n",
              "\n",
              "#sk-container-id-2 div.sk-parallel {\n",
              "  display: flex;\n",
              "  align-items: stretch;\n",
              "  justify-content: center;\n",
              "  background-color: var(--sklearn-color-background);\n",
              "  position: relative;\n",
              "}\n",
              "\n",
              "#sk-container-id-2 div.sk-parallel-item {\n",
              "  display: flex;\n",
              "  flex-direction: column;\n",
              "}\n",
              "\n",
              "#sk-container-id-2 div.sk-parallel-item:first-child::after {\n",
              "  align-self: flex-end;\n",
              "  width: 50%;\n",
              "}\n",
              "\n",
              "#sk-container-id-2 div.sk-parallel-item:last-child::after {\n",
              "  align-self: flex-start;\n",
              "  width: 50%;\n",
              "}\n",
              "\n",
              "#sk-container-id-2 div.sk-parallel-item:only-child::after {\n",
              "  width: 0;\n",
              "}\n",
              "\n",
              "/* Serial-specific style estimator block */\n",
              "\n",
              "#sk-container-id-2 div.sk-serial {\n",
              "  display: flex;\n",
              "  flex-direction: column;\n",
              "  align-items: center;\n",
              "  background-color: var(--sklearn-color-background);\n",
              "  padding-right: 1em;\n",
              "  padding-left: 1em;\n",
              "}\n",
              "\n",
              "\n",
              "/* Toggleable style: style used for estimator/Pipeline/ColumnTransformer box that is\n",
              "clickable and can be expanded/collapsed.\n",
              "- Pipeline and ColumnTransformer use this feature and define the default style\n",
              "- Estimators will overwrite some part of the style using the `sk-estimator` class\n",
              "*/\n",
              "\n",
              "/* Pipeline and ColumnTransformer style (default) */\n",
              "\n",
              "#sk-container-id-2 div.sk-toggleable {\n",
              "  /* Default theme specific background. It is overwritten whether we have a\n",
              "  specific estimator or a Pipeline/ColumnTransformer */\n",
              "  background-color: var(--sklearn-color-background);\n",
              "}\n",
              "\n",
              "/* Toggleable label */\n",
              "#sk-container-id-2 label.sk-toggleable__label {\n",
              "  cursor: pointer;\n",
              "  display: block;\n",
              "  width: 100%;\n",
              "  margin-bottom: 0;\n",
              "  padding: 0.5em;\n",
              "  box-sizing: border-box;\n",
              "  text-align: center;\n",
              "}\n",
              "\n",
              "#sk-container-id-2 label.sk-toggleable__label-arrow:before {\n",
              "  /* Arrow on the left of the label */\n",
              "  content: \"▸\";\n",
              "  float: left;\n",
              "  margin-right: 0.25em;\n",
              "  color: var(--sklearn-color-icon);\n",
              "}\n",
              "\n",
              "#sk-container-id-2 label.sk-toggleable__label-arrow:hover:before {\n",
              "  color: var(--sklearn-color-text);\n",
              "}\n",
              "\n",
              "/* Toggleable content - dropdown */\n",
              "\n",
              "#sk-container-id-2 div.sk-toggleable__content {\n",
              "  max-height: 0;\n",
              "  max-width: 0;\n",
              "  overflow: hidden;\n",
              "  text-align: left;\n",
              "  /* unfitted */\n",
              "  background-color: var(--sklearn-color-unfitted-level-0);\n",
              "}\n",
              "\n",
              "#sk-container-id-2 div.sk-toggleable__content.fitted {\n",
              "  /* fitted */\n",
              "  background-color: var(--sklearn-color-fitted-level-0);\n",
              "}\n",
              "\n",
              "#sk-container-id-2 div.sk-toggleable__content pre {\n",
              "  margin: 0.2em;\n",
              "  border-radius: 0.25em;\n",
              "  color: var(--sklearn-color-text);\n",
              "  /* unfitted */\n",
              "  background-color: var(--sklearn-color-unfitted-level-0);\n",
              "}\n",
              "\n",
              "#sk-container-id-2 div.sk-toggleable__content.fitted pre {\n",
              "  /* unfitted */\n",
              "  background-color: var(--sklearn-color-fitted-level-0);\n",
              "}\n",
              "\n",
              "#sk-container-id-2 input.sk-toggleable__control:checked~div.sk-toggleable__content {\n",
              "  /* Expand drop-down */\n",
              "  max-height: 200px;\n",
              "  max-width: 100%;\n",
              "  overflow: auto;\n",
              "}\n",
              "\n",
              "#sk-container-id-2 input.sk-toggleable__control:checked~label.sk-toggleable__label-arrow:before {\n",
              "  content: \"▾\";\n",
              "}\n",
              "\n",
              "/* Pipeline/ColumnTransformer-specific style */\n",
              "\n",
              "#sk-container-id-2 div.sk-label input.sk-toggleable__control:checked~label.sk-toggleable__label {\n",
              "  color: var(--sklearn-color-text);\n",
              "  background-color: var(--sklearn-color-unfitted-level-2);\n",
              "}\n",
              "\n",
              "#sk-container-id-2 div.sk-label.fitted input.sk-toggleable__control:checked~label.sk-toggleable__label {\n",
              "  background-color: var(--sklearn-color-fitted-level-2);\n",
              "}\n",
              "\n",
              "/* Estimator-specific style */\n",
              "\n",
              "/* Colorize estimator box */\n",
              "#sk-container-id-2 div.sk-estimator input.sk-toggleable__control:checked~label.sk-toggleable__label {\n",
              "  /* unfitted */\n",
              "  background-color: var(--sklearn-color-unfitted-level-2);\n",
              "}\n",
              "\n",
              "#sk-container-id-2 div.sk-estimator.fitted input.sk-toggleable__control:checked~label.sk-toggleable__label {\n",
              "  /* fitted */\n",
              "  background-color: var(--sklearn-color-fitted-level-2);\n",
              "}\n",
              "\n",
              "#sk-container-id-2 div.sk-label label.sk-toggleable__label,\n",
              "#sk-container-id-2 div.sk-label label {\n",
              "  /* The background is the default theme color */\n",
              "  color: var(--sklearn-color-text-on-default-background);\n",
              "}\n",
              "\n",
              "/* On hover, darken the color of the background */\n",
              "#sk-container-id-2 div.sk-label:hover label.sk-toggleable__label {\n",
              "  color: var(--sklearn-color-text);\n",
              "  background-color: var(--sklearn-color-unfitted-level-2);\n",
              "}\n",
              "\n",
              "/* Label box, darken color on hover, fitted */\n",
              "#sk-container-id-2 div.sk-label.fitted:hover label.sk-toggleable__label.fitted {\n",
              "  color: var(--sklearn-color-text);\n",
              "  background-color: var(--sklearn-color-fitted-level-2);\n",
              "}\n",
              "\n",
              "/* Estimator label */\n",
              "\n",
              "#sk-container-id-2 div.sk-label label {\n",
              "  font-family: monospace;\n",
              "  font-weight: bold;\n",
              "  display: inline-block;\n",
              "  line-height: 1.2em;\n",
              "}\n",
              "\n",
              "#sk-container-id-2 div.sk-label-container {\n",
              "  text-align: center;\n",
              "}\n",
              "\n",
              "/* Estimator-specific */\n",
              "#sk-container-id-2 div.sk-estimator {\n",
              "  font-family: monospace;\n",
              "  border: 1px dotted var(--sklearn-color-border-box);\n",
              "  border-radius: 0.25em;\n",
              "  box-sizing: border-box;\n",
              "  margin-bottom: 0.5em;\n",
              "  /* unfitted */\n",
              "  background-color: var(--sklearn-color-unfitted-level-0);\n",
              "}\n",
              "\n",
              "#sk-container-id-2 div.sk-estimator.fitted {\n",
              "  /* fitted */\n",
              "  background-color: var(--sklearn-color-fitted-level-0);\n",
              "}\n",
              "\n",
              "/* on hover */\n",
              "#sk-container-id-2 div.sk-estimator:hover {\n",
              "  /* unfitted */\n",
              "  background-color: var(--sklearn-color-unfitted-level-2);\n",
              "}\n",
              "\n",
              "#sk-container-id-2 div.sk-estimator.fitted:hover {\n",
              "  /* fitted */\n",
              "  background-color: var(--sklearn-color-fitted-level-2);\n",
              "}\n",
              "\n",
              "/* Specification for estimator info (e.g. \"i\" and \"?\") */\n",
              "\n",
              "/* Common style for \"i\" and \"?\" */\n",
              "\n",
              ".sk-estimator-doc-link,\n",
              "a:link.sk-estimator-doc-link,\n",
              "a:visited.sk-estimator-doc-link {\n",
              "  float: right;\n",
              "  font-size: smaller;\n",
              "  line-height: 1em;\n",
              "  font-family: monospace;\n",
              "  background-color: var(--sklearn-color-background);\n",
              "  border-radius: 1em;\n",
              "  height: 1em;\n",
              "  width: 1em;\n",
              "  text-decoration: none !important;\n",
              "  margin-left: 1ex;\n",
              "  /* unfitted */\n",
              "  border: var(--sklearn-color-unfitted-level-1) 1pt solid;\n",
              "  color: var(--sklearn-color-unfitted-level-1);\n",
              "}\n",
              "\n",
              ".sk-estimator-doc-link.fitted,\n",
              "a:link.sk-estimator-doc-link.fitted,\n",
              "a:visited.sk-estimator-doc-link.fitted {\n",
              "  /* fitted */\n",
              "  border: var(--sklearn-color-fitted-level-1) 1pt solid;\n",
              "  color: var(--sklearn-color-fitted-level-1);\n",
              "}\n",
              "\n",
              "/* On hover */\n",
              "div.sk-estimator:hover .sk-estimator-doc-link:hover,\n",
              ".sk-estimator-doc-link:hover,\n",
              "div.sk-label-container:hover .sk-estimator-doc-link:hover,\n",
              ".sk-estimator-doc-link:hover {\n",
              "  /* unfitted */\n",
              "  background-color: var(--sklearn-color-unfitted-level-3);\n",
              "  color: var(--sklearn-color-background);\n",
              "  text-decoration: none;\n",
              "}\n",
              "\n",
              "div.sk-estimator.fitted:hover .sk-estimator-doc-link.fitted:hover,\n",
              ".sk-estimator-doc-link.fitted:hover,\n",
              "div.sk-label-container:hover .sk-estimator-doc-link.fitted:hover,\n",
              ".sk-estimator-doc-link.fitted:hover {\n",
              "  /* fitted */\n",
              "  background-color: var(--sklearn-color-fitted-level-3);\n",
              "  color: var(--sklearn-color-background);\n",
              "  text-decoration: none;\n",
              "}\n",
              "\n",
              "/* Span, style for the box shown on hovering the info icon */\n",
              ".sk-estimator-doc-link span {\n",
              "  display: none;\n",
              "  z-index: 9999;\n",
              "  position: relative;\n",
              "  font-weight: normal;\n",
              "  right: .2ex;\n",
              "  padding: .5ex;\n",
              "  margin: .5ex;\n",
              "  width: min-content;\n",
              "  min-width: 20ex;\n",
              "  max-width: 50ex;\n",
              "  color: var(--sklearn-color-text);\n",
              "  box-shadow: 2pt 2pt 4pt #999;\n",
              "  /* unfitted */\n",
              "  background: var(--sklearn-color-unfitted-level-0);\n",
              "  border: .5pt solid var(--sklearn-color-unfitted-level-3);\n",
              "}\n",
              "\n",
              ".sk-estimator-doc-link.fitted span {\n",
              "  /* fitted */\n",
              "  background: var(--sklearn-color-fitted-level-0);\n",
              "  border: var(--sklearn-color-fitted-level-3);\n",
              "}\n",
              "\n",
              ".sk-estimator-doc-link:hover span {\n",
              "  display: block;\n",
              "}\n",
              "\n",
              "/* \"?\"-specific style due to the `<a>` HTML tag */\n",
              "\n",
              "#sk-container-id-2 a.estimator_doc_link {\n",
              "  float: right;\n",
              "  font-size: 1rem;\n",
              "  line-height: 1em;\n",
              "  font-family: monospace;\n",
              "  background-color: var(--sklearn-color-background);\n",
              "  border-radius: 1rem;\n",
              "  height: 1rem;\n",
              "  width: 1rem;\n",
              "  text-decoration: none;\n",
              "  /* unfitted */\n",
              "  color: var(--sklearn-color-unfitted-level-1);\n",
              "  border: var(--sklearn-color-unfitted-level-1) 1pt solid;\n",
              "}\n",
              "\n",
              "#sk-container-id-2 a.estimator_doc_link.fitted {\n",
              "  /* fitted */\n",
              "  border: var(--sklearn-color-fitted-level-1) 1pt solid;\n",
              "  color: var(--sklearn-color-fitted-level-1);\n",
              "}\n",
              "\n",
              "/* On hover */\n",
              "#sk-container-id-2 a.estimator_doc_link:hover {\n",
              "  /* unfitted */\n",
              "  background-color: var(--sklearn-color-unfitted-level-3);\n",
              "  color: var(--sklearn-color-background);\n",
              "  text-decoration: none;\n",
              "}\n",
              "\n",
              "#sk-container-id-2 a.estimator_doc_link.fitted:hover {\n",
              "  /* fitted */\n",
              "  background-color: var(--sklearn-color-fitted-level-3);\n",
              "}\n",
              "</style><div id=\"sk-container-id-2\" class=\"sk-top-container\"><div class=\"sk-text-repr-fallback\"><pre>TfidfTransformer()</pre><b>In a Jupyter environment, please rerun this cell to show the HTML representation or trust the notebook. <br />On GitHub, the HTML representation is unable to render, please try loading this page with nbviewer.org.</b></div><div class=\"sk-container\" hidden><div class=\"sk-item\"><div class=\"sk-estimator fitted sk-toggleable\"><input class=\"sk-toggleable__control sk-hidden--visually\" id=\"sk-estimator-id-2\" type=\"checkbox\" checked><label for=\"sk-estimator-id-2\" class=\"sk-toggleable__label fitted sk-toggleable__label-arrow fitted\">&nbsp;&nbsp;TfidfTransformer<a class=\"sk-estimator-doc-link fitted\" rel=\"noreferrer\" target=\"_blank\" href=\"https://scikit-learn.org/1.5/modules/generated/sklearn.feature_extraction.text.TfidfTransformer.html\">?<span>Documentation for TfidfTransformer</span></a><span class=\"sk-estimator-doc-link fitted\">i<span>Fitted</span></span></label><div class=\"sk-toggleable__content fitted\"><pre>TfidfTransformer()</pre></div> </div></div></div></div>"
            ]
          },
          "metadata": {},
          "execution_count": 69
        }
      ]
    },
    {
      "cell_type": "code",
      "metadata": {
        "colab": {
          "base_uri": "https://localhost:8080/"
        },
        "id": "-HGJNtX9fB84",
        "outputId": "02571725-fb0e-41af-87ba-ec764d852ff1"
      },
      "source": [
        "X_test_tfidf"
      ],
      "execution_count": null,
      "outputs": [
        {
          "output_type": "execute_result",
          "data": {
            "text/plain": [
              "<5001x14441 sparse matrix of type '<class 'numpy.float64'>'\n",
              "\twith 67990 stored elements in Compressed Sparse Row format>"
            ]
          },
          "metadata": {},
          "execution_count": 70
        }
      ]
    },
    {
      "cell_type": "code",
      "metadata": {
        "colab": {
          "base_uri": "https://localhost:8080/"
        },
        "id": "kla2H-Zucluj",
        "outputId": "b161ff79-95f1-4966-dde6-35c3abd283aa"
      },
      "source": [
        "print(vect.vocabulary_)"
      ],
      "execution_count": null,
      "outputs": [
        {
          "output_type": "stream",
          "name": "stdout",
          "text": [
            "{'they': 12713, \"'re\": 55, 'not': 9048, 'my': 8712, 'preference': 10025, 'but': 2453, 'the': 12677, 'app': 1296, 'is': 6915, 'so': 11721, 'damn': 3597, 'fast': 4849, 'and': 1185, 'thorough': 12754, 'that': 12671, 'i': 6529, 'let': 7664, 'it': 6937, 'slide': 11594, '.': 134, 'you': 14307, 'work': 14091, 'in': 6705, 'cape': 2581, 'cod': 3049, 'why': 13951, 'fuck': 5312, 'am': 1137, 'up': 13392, 'early': 4309, 'argh': 1349, 'stupid': 12199, 'cousin': 3348, '&': 4, 'brother': 2336, 'nooo': 9017, 'id': 6565, 'find': 4980, 'interesting': 6844, 'to': 12875, 'be': 1780, 'honest': 6366, 'hmmm': 6303, '...': 136, 'first': 5006, 'baby': 1613, 'timothy': 12843, ':': 745, ']': 766, 'are': 1339, 'hitting': 6296, 'on': 9258, 'me': 8237, 'now': 9070, 'too': 12921, '?': 763, 'maybe': 8211, 'do': 4040, 'need': 8830, 'comic': 3111, 'avatar': 1524, 'back': 1622, '!': 0, 'oh': 9199, 'what': 13869, 'a': 785, 'spoil': 11921, 'sport': 11935, 'pussy': 10252, 'go': 5623, 'out': 9374, 'cold': 3066, 'take': 12457, 'video': 13554, 'today': 12882, 'burn': 2426, 'fat': 4854, 'blog': 2090, 'did': 3894, 'strike': 12158, 'nerve': 8865, 'http': 6453, '//tinyurl.com/69xzth': 233, '``': 784, 'a-bud': 787, 'thought': 12760, 'wa': 13672, 'dead': 3674, 'world': 14104, 'war': 13722, 'z': 14391, 'kick': 7305, 'much': 8645, 'as': 1390, 'know': 7393, 'author': 1506, 'mel': 8289, 'brook': 2330, \"'\": 5, 'son': 11779, 'suck': 12234, '..': 135, \"'m\": 35, 'guessing': 5828, 'an': 1176, 'online': 9268, 'only': 9270, 'item': 6946, 'hope': 6393, 'come': 3100, 'available': 1521, 'soon': 11788, 'd': 3556, 'for': 5150, 'when': 13887, 'dvd': 4281, 'tomorrow': 12908, 'night': 8940, 'michigan': 8379, 'state': 12034, 'vs.': 13632, 'north': 9038, 'dakota': 3586, 'ice': 6552, 'straight': 12128, 'loser': 7896, 'buy': 2471, 'dinner': 3937, 'at': 1454, 'publican': 10211, 'game': 5422, 'think': 12731, \"'s\": 58, 'left': 7629, 'we': 13782, 'should': 11403, 'just': 7200, 'head': 6110, 'or': 9323, 'right': 10779, 'fail': 4795, ')': 81, 'currently': 3517, 'happy': 6036, 'your': 14326, 'life': 7702, 'how': 6439, 'he': 6108, 'gon': 5646, \"'afro-centric\": 11, \"''\": 6, 'wit': 14026, 's-curl': 10948, 'lmao': 7796, 'lol': 7841, 'say': 11050, 'gay': 5461, 'all': 1074, 'time': 12838, 'way': 13772, 'pretty': 10060, 'more': 8566, 'people': 9621, 'get': 5525, 'offended': 9179, 'yummy': 14372, 'u': 13225, 'r': 10328, 'lulz': 7977, 'love': 7924, 'them': 12689, 'used': 13437, 'hate': 6064, 'with': 14028, 'passion': 9533, 'kid': 7315, '-': 92, 'ca': 2498, \"n't\": 8737, 'enough': 4514, 'of': 9170, 'can': 2557, 'play': 9816, 'little': 7781, 'guitar': 5841, 'learning': 7615, 'violin': 13581, 'musical': 8683, 'cheesy': 2805, 'entertaining': 4526, 'hmm': 6301, 'thank': 12652, 'chest': 2816, 'arm': 1361, 'haha': 5911, 'jayla': 7030, 'tok': 12891, 'dat': 3632, 'da': 3572, 'wrn': 14147, 'meanin': 8246, 'wear': 13790, 'panty': 9483, 'nothn': 9056, 'sexula': 11263, 'dnt': 4039, 'thankn': 12657, 'yes': 14266, 'about': 827, 'fucking': 5325, 'disowned': 3992, '*': 82, 'grumble': 5809, 'volunteer/guinea': 13619, 'pig': 9751, 'send': 11206, 'one': 9264, 'tell': 12580, 'mirage': 8447, 'bad': 1635, 'neighbor': 8846, 'played': 9820, 'those': 12756, 'volcano': 13614, 'sound': 11818, 'until': 13385, '2am': 489, 'bastages': 1746, '401': 592, 'always': 1127, 'between': 1932, 'cobourg': 3032, 'kingston': 7346, \"'ll\": 33, 'doing': 4064, 'joyous': 7159, 'trek': 13053, 'boxing': 2230, 'day': 3653, 'visit': 13593, 'relative': 10574, 'naah': 8745, 'no': 8969, 'whale': 13865, 'here': 6193, 'twitter': 13192, 'being': 1858, 'merciful': 8322, 'rest': 10682, ';': 751, '#': 1, 'mcl2': 8229, 'yeah': 14234, 'saying': 11053, 'cnn': 3015, 'decide': 3703, 'would': 14118, 'good': 5653, 'move': 8606, 'try': 13104, 'support': 12307, '.......': 140, 'got': 5691, 'stealing': 12050, 'others': 9361, 'generator': 5503, 'other': 9359, 'stuff': 12189, 'inside': 6802, 'home': 6344, 'big': 1967, 'honestly': 6367, 'wake': 13690, 'before': 1840, 'opening': 9305, 'our': 9370, 'eye': 4750, 'thru': 12788, 'rem': 10593, 'cycle': 3550, 'sleep': 11583, 'respond': 10676, 'use': 13436, 'by': 2482, 'asking': 1405, 'if': 6592, 'subject': 12216, 'really': 10457, 'fag-o-licious': 4788, 'yo': 14288, 'this': 12740, 'new': 8885, 'song': 11781, 'hot': 6419, 'verse': 13530, 'lyrical': 8006, 'fred': 5239, 'killed': 7329, 'background': 1624, 'because': 1814, 'click': 2974, 'any': 1263, 'listed': 7765, 'link': 7751, 'frustrating': 5301, 'elephant': 4415, 'anniversary': 1224, 'went': 13837, 'boi': 2137, 'na': 8742, 'braza': 2275, 'brizillian': 2315, 'steak': 12047, 'house': 6431, 'downtown': 4132, 'cincinnati': 2913, 'super': 12291, 'snazzy': 11683, 'asian': 1398, 'bahahahahhaha': 1656, 'jk': 7100, 'well': 13830, 'getting': 5531, 'fucked': 5317, 'see': 11174, 'next': 8900, 'year': 14241, 'hahahahaha': 5928, 'horrified': 6408, 'mum': 8665, 'squlor': 11976, '(': 80, 'hasnt': 6062, 'been': 1832, 'gone': 5648, 'long': 7864, 'im': 6652, 'chine': 2851, 'riding': 10773, 'till': 12829, 'end': 4489, '2008': 443, '//twitpic.com/vk9k': 281, 'dick': 3882, 'whittington': 13916, 'lolcat': 7845, 'nice': 8915, 'space': 11838, 'trousrs': 13082, 'bos': 2199, 'twitpanto': 13188, 'name': 8766, 'happens': 6032, 'missing': 8458, 'sock': 11740, 'disappear': 3961, 'dryer': 4215, 'longest': 7869, 'relationship': 10573, 'protecting': 10175, 'investor': 6877, 'eh': 4388, 'irrate': 6905, 'over': 9392, 'thing': 12725, 'illuminati': 6635, 'dickk': 3889, 'discover': 3974, 'beautiful': 1804, 'island': 6925, 'upon': 13404, 'which': 13895, 'may': 8208, 'build': 2392, 'own': 9421, 'society': 11739, 'make': 8069, 'rule': 10927, 'put': 10256, 'into': 6857, 'place': 9796, 'miss': 8456, 'haiku': 5975, 'famous': 4824, 'dickenson': 3888, 'exactly': 4671, 'sure': 12318, 'her': 6190, 'poetry': 9868, 'thats': 12675, 'crazy': 3404, 'wont': 14066, 'hit': 6291, 'city': 2927, 'til': 12828, '9:30': 740, 'will': 13984, 'few': 4937, 'block': 2085, 'from': 5290, 'spot': 11938, 'cock': 3035, 'wan': 13710, 'further': 5365, 'someone': 11766, 'told': 12894, 'katie': 7251, 'bitch': 2006, 'like': 7724, 'ehh': 4391, 'death': 3687, 'cab': 2500, 'jack': 6972, 'mannequin': 8109, 'fghsdj': 4943, 'lt': 7958, '3': 520, 'hehe': 6156, 'boycott': 2233, 'bar': 1708, 'carry': 2616, 'bank': 1700, 'tree': 13052, 'fight': 4956, 'off': 9174, 'griffin': 5772, 'guy': 5861, 'totally': 12965, 'pwnt': 10263, 'worry': 14108, 'iwill': 6960, 'sucha': 12231, 'nerd': 8860, 'v': 13462, '^_^': 770, 'doesnt': 4053, 'snow': 11707, 'thankyou': 12662, '//twitpic.com/sqha': 270, 'road': 10806, 'seattle': 11158, 'driver': 4183, 'morning': 8573, 's': 10946, 'weirdest': 13824, 've': 13507, 'ever': 4623, 'eaten': 4335, 'striped': 12164, 'sweater': 12361, '/': 160, 'ugh': 13248, 'again': 968, 'flight': 5056, 'delayed': 3747, 'hour': 6430, 'terminal': 12613, 'slut': 11625, 'lala': 7504, 'sooo': 11789, '.....': 138, 'mi': 8370, 'goreng': 5682, 'butterfly': 2461, 'die': 3902, 'after': 963, 'week': 13814, 'creative': 3415, 'answer': 1243, '=': 753, 'holy': 6342, 'shit': 11361, 'band': 1688, 'k': 7213, 'cucumber': 3485, 'viniger': 13574, 'low': 7947, 'cost': 3317, '19.99': 419, 'shipping': 11357, 'handling': 6015, 'want': 13719, 'look': 7872, 'girl': 5570, 'raven': 10416, 'okayyyy': 9230, 'none': 9004, 'matter': 8199, 'guy/girl': 5863, 'olivia': 9247, 'have': 6088, 'phone': 9710, 'wallet': 13704, 'breakfast': 2280, 'food': 5130, 'could': 3326, 'learn': 7612, 'magic': 8047, 'trick': 13061, 'wat': 13749, 'live': 7782, '//twitpic.com/s13a': 268, 'omg': 9253, 'scottiethehottie': 11114, 'retarded': 10697, 'spammer': 11844, 'photographer08': 9718, 'deleted': 3750, 'there': 12704, 'female': 4922, 'fun': 5345, 'thoughh': 12759, 'weird': 13822, 'second': 11162, 'ok': 9220, 'old': 9236, 'quick': 10310, 'cottage': 3323, 'cheese': 2799, 'colby': 3065, 'string': 12161, 'himself': 6270, 'annoying': 1230, 'him': 6266, 'his': 6285, 'fault': 4866, 'ha': 5887, 'unverified': 13387, 'address': 917, 'gt': 5812, 'same': 10991, 'nasty': 8785, 'cough': 3325, 'booooooo': 2182, 'some': 11759, 'hot-': 6420, 'mushroom': 8681, 'stock': 12098, 'huh': 6471, 'charisma': 2758, 'carpenter': 2608, 'cunt': 3501, 'also': 1117, 'btw': 2364, 'pepsi': 9628, 'logo/can': 7836, 'cause': 2655, 'mail': 8057, 'j/k': 6967, 'mean': 8245, 'fake': 4809, 'attitude': 1480, 'personality': 9658, 'shes': 11340, 'alive': 1072, 'um': 13283, 'ppl': 9993, 'rather': 10411, 'clean': 2959, 'bathroom': 1754, 'than': 12650, 'most': 8581, 'chore': 2876, 'doe': 4051, 'done': 4083, 'daily': 3583, 'dish': 3984, 'poly': 9897, 'tracking': 13003, 'reply': 10637, 'network': 8872, 'who': 13919, 'follow': 5113, 'follows': 5119, 'lil': 7734, 'freak': 5232, 'dude': 4233, 'ur': 13414, 'wack': 13678, 'better': 1929, 'playin': 9822, 'medium': 8271, 'above': 829, 'cuz': 3541, 'step': 12056, 'challenge': 2726, 'rock': 10821, 'god': 5627, 'such': 12230, 'myself': 8721, 'gah': 5403, 'sixtyone': 11526, 'inability': 6711, 'share': 11298, 'music': 8682, 'relying': 10592, 'youtube': 14337, '//is.gd/1yvl': 177, 'league': 7606, 'pas': 9530, 'broadband': 2320, 'hey': 6212, 'beggar': 1843, 'cant': 2575, 'chooser': 2872, 'hypocrite': 6525, 'depressing': 3801, 'valentine': 13482, 'anyway': 1278, 'equivalent': 4561, \"'bah\": 13, 'humbug': 6483, 'spproductions': 11944, 'kept': 7284, 'tellin': 12584, '4': 578, 'real': 10442, 'goin': 5638, 'everything': 4635, 'crowd': 3458, 'response': 10679, 'every': 4625, 'bukkake': 2396, 'lawl': 7581, '@': 764, 'bitchez': 2011, 'meh': 8287, 'round': 10891, 'actually': 896, 'growing': 5796, 'moment': 8531, 'except': 4678, 'caterpillar': 2648, 'incident': 6722, 'yesterday': 14269, 'water': 13757, 'oooo': 9283, 'orthodontics': 9348, 'expensive': 4716, 'aight': 1012, 'raising': 10368, 'generation': 5502, 'swing': 12384, 'sometime': 11772, '17th': 410, 'rocco': 10819, 'lotr': 7905, 'install': 6812, 'tolkien': 12897, 'font': 5126, 'ikr': 6625, 'knew': 7380, 'watch': 13750, 'without': 14031, 'laughing': 7568, 'hysterically': 6528, 'reason': 10464, 'student': 12183, 'bell': 1868, 'ring': 10783, 'programed': 10140, 'planet': 9805, 'fogret': 5102, 'hamas': 5997, 'took': 12927, 'gaza': 5469, 'executing': 4690, 'fatah': 4856, 'throwing': 12786, 'skyscraprs': 11562, 'palestinian': 9466, 'israel': 6933, 'walking': 13700, 'down': 4120, 'street': 12147, 'dog': 4056, 'drowning': 4196, 'canal': 2561, 'side': 11454, 'late': 7545, 'fired': 4997, '//is.gd/brvs': 183, 'itunes': 6953, '//is.gd/b4yp': 182, 'antrel': 1260, 'rolle': 10846, 'previewed': 10068, 'min': 8424, 'best': 1904, 'show': 11416, 'podcast': 9863, 'muster': 8695, 'strongest': 12172, 'emotion': 4470, 'human': 6477, 'truely': 13095, 'guess': 5825, 'smelly': 11647, 'uh': 13262, 'thin': 12724, 'exercising': 4693, 'eat': 4334, 'le': 7601, 'brownie': 2339, 'suppose': 12312, 'hilarious': 6257, 'environmental': 4542, 'sensitivity': 11216, 'hippie': 6280, 'stink': 12093, '+': 83, 'sea': 11141, '1': 333, '30': 527, 'yr': 14353, 'deal': 3678, 'board': 2125, 'feeln': 4913, 'parting': 9522, 'alone': 1098, 'boy': 2231, 'were': 13841, \"'d\": 18, 'tweeting': 13165, 'door': 4101, 'loud': 7913, 'admit': 928, 'teacher': 12535, 'poor': 9917, 'class': 2952, 'full': 5342, 'adult': 940, 'act': 884, 'mature': 8205, 'supposed': 12313, 'wow': 14125, 'bought': 2212, 'fashionable': 4847, 'biker': 1979, 'congrats': 3198, 'had': 5901, 'dream': 4161, 'involving': 6885, 'rhino': 10742, 'chasing': 2769, 'polo': 9894, 'cologne': 3080, 'everyone': 4631, 'represents': 10642, 'woman': 14054, 'sometimes': 11773, 'wish': 14021, 'll': 7793, 'm': 8008, 'afraid': 958, 'loose': 7889, 'espcially': 4584, 'poem': 9865, 'don': 4076, 't': 12413, 'eachother': 4300, 'loved': 7932, 'mate': 8189, 'french': 5252, 'umbracians': 13284, 'cg09': 2715, 'whupped': 13947, '}': 14435, 'paranoid': 9495, '808s': 710, 'definitely': 3736, 'news': 8893, 'favorite': 4875, 'kind': 7337, 'cookie': 3267, 'kmellon': 7377, '500': 628, 'page': 9448, 'job': 7109, 'doesn': 4052, 'niggaz': 8937, 'unite': 13352, 'fatron': 4863, 'hahahaha': 5924, 'ya': 14211, 'nd': 8812, 'o': 9113, 'ohkay': 9210, 'watz': 13768, 'myspace': 8724, 'aww': 1567, 'bf': 1939, 'busy': 2451, 'feel': 4908, 'boosie': 2185, 'whip': 13902, 'whatta': 13879, 'workout': 14101, 'summa': 12269, 'cum': 3497, 'laude': 7563, 'impressed': 6694, 'word': 14085, 'smart.': 11636, 'ta': 12426, 'poser': 9948, 'assume': 1437, 'including': 6727, 'bang': 1693, 'bros': 2334, 'ish': 6921, 'watched': 13752, 'while': 13896, 'tho': 12748, 'almost': 1096, 'ken-fuck-me': 7277, 'kentucky': 7283, 'kenfuckmeee': 7279, 'wo': 14045, 'stressing': 12154, 'dumb': 4250, 'yea': 14230, '>': 762, '_': 772, '<': 752, 'okay': 9224, 'parent': 9500, 'push': 10248, 'their': 12687, 'belief': 1861, 'child': 2837, '5': 622, \"'ve\": 77, 'already': 1110, 'forgotten': 5175, 'alcohol': 1050, 'merciless': 8324, 'fun-making': 5346, 'latin': 7556, 'commence': 3115, '....': 137, 'blogged': 2091, 'ran': 10376, 'jesus': 7075, 'kicking': 7312, 'heard': 6124, 'kann': 7228, 'witt': 14033, 'ye': 14229, 'olde': 9238, 'zombie': 14418, '4sho': 619, 'hip': 6277, 'hop': 6391, 'amp': 1168, 'b.': 1589, 'anything': 1274, '102.7': 356, '97.1': 731, 'lot': 7903, 'overcame': 9398, 'cancer': 2565, '2': 431, 'prolly': 10148, 'worst': 14111, 'loving': 7944, 'geek': 5485, 'club': 3006, 'heart': 6127, 'movie': 8609, 'face': 4770, 'holiday': 6334, 'alabama': 1037, 'blackberry': 2033, 'january': 7014, 'yours': 14329, 'mix': 8473, 'workplace': 14102, 'where': 13889, 'safe': 10961, 'harden': 6045, 'p': 9432, 'emo-ball': 4465, 'even': 4618, 'dressed': 4170, 'un-follow': 13294, 'pft-': 9686, 'anywhere': 1281, 'remember': 10603, 'call': 2530, 'benyl': 1892, 'forgot': 5174, 'detail': 3846, 'expect': 4711, 'comment': 3116, 'lh13': 7683, 'finally': 4978, 'shoe': 11383, 'coming': 3113, 'yay': 14228, 'literary': 7775, 'made': 8037, 'alergic': 1055, 'fruit': 5298, 'wink': 14008, 'huge': 6462, 'exp': 4708, 'publish': 10214, 'official': 9189, 'yet': 14274, 'probably': 10109, 'going': 5639, 'anymore': 1269, 'element': 4413, 'bush': 2439, 'fatigue': 4861, 'wait': 13687, \"'til\": 72, 'ship': 11356, 'texas': 12631, 'lame': 7508, 'she': 11314, 'ai': 1008, 'awesome': 1547, 'question': 10306, 'ohh': 9201, 'reallu': 10456, '[': 765, 'impersonating': 6680, 'unless': 13360, 'vulcan': 13636, 'action': 888, 'once': 9262, 'seven': 11255, 'worth': 14113, 'site': 11519, 'joomla': 7144, 'church': 2904, 'camp': 2551, 'kicked': 7308, 'something': 11769, 'never': 8881, 'lose': 7895, 'irrisitable': 6911, 'force': 5153, 'immovable': 6670, 'object': 9138, 'completely': 3155, 'probs': 10115, 'air': 1018, 'pissed': 9780, 'ready': 10441, 'mumbai': 8666, 'ass': 1414, 'soft': 11745, 'start': 12028, 'blowing': 2106, 'dood': 4093, 'justified': 7202, 'mba': 8218, 'pity': 9788, 'sorry': 11804, 'downtrodden': 4133, 'employee': 4475, 'whose': 13940, 'manager': 8091, 'become': 1818, 'learned': 7613, 'tie': 12820, 'ho': 6309, 'sick': 11451, 'bodtf': 2131, 'mekdot': 8288, 'hero': 6202, 'season': 11152, 'despised': 3836, 'lousy': 7921, 'high': 6241, 'school': 11090, 'special': 11867, 'boo': 2166, 'hiss': 6287, 'hahah': 5917, 'set': 11248, 'hezay': 6222, 'yup': 14374, 'nahhhh': 8757, 'kinda': 7338, 'neat': 8821, 'apos': 1295, 'achieved': 872, 'east-side': 4325, 'juice': 7175, 'whaaaaa-': 13860, 'feelin': 4909, 'geeeezus': 5484, 'mufucka': 8654, 'yee': 14248, 'hell': 6170, 'upset': 13409, 'allow': 1088, 'near': 8818, 'camcorder': 2545, 'direct': 3945, '3rd': 572, 'grade': 5713, 'nightmare': 8942, 'doooood': 4099, 'accent/cadence': 847, 'sister': 11514, 'swimming': 12382, 'pool': 9913, 'backyard': 1631, 'loveeeeeeeee': 7937, 'alexisssssssss': 1064, 'teew': 12567, 'fukinn': 5337, '//is.gd/ewzm': 191, 'turning': 13143, 'snowman': 11713, 'thanks': 12658, 'bird': 1995, 'flu': 5081, 'acting': 887, 'vega': 13508, 'trucker': 13091, 'www.truckingrooster.com': 14176, 'deadly': 3676, 'keep': 7268, 'em': 4435, 'smack': 11628, '-d': 106, 'half': 5986, 'pick': 9733, 'free': 5241, 'craigslist': 3384, 'driving': 4187, 'luxury': 7995, 'car': 2586, 'heh': 6155, 'coffee': 3057, 'whole': 13922, 'spite': 11915, 'climbed': 2980, 'top': 12941, 'you/have': 14312, 'kissed': 7353, 'looool': 7880, 'photo': 9715, '=d': 756, 'tu': 13120, 'aim': 1015, '233': 466, 'silvester': 11477, 'ou': 9365, 'pa': 9436, 'jamais': 7000, 'bourr': 2220, 'ensemble': 4517, '-_-': 100, 'mais': 8066, 'trop': 13080, 'ch': 2717, '232': 465, 'l': 7467, '224': 459, '-bas': 105, 'et': 4598, 'mdr': 8236, 'lieb': 7698, 'dich': 3881, 'stripper': 12166, 'pole': 9879, 'knitting': 7384, 'needle': 8836, 'impale': 6678, 'granny': 5729, '//twitpic.com/pyb6': 264, 'very': 13532, 'naughty': 8800, 'panda': 9476, 'doesnu2019t': 4054, 'chocolate': 2865, 'boyfriend': 2235, 'coulda': 3327, '9': 722, 'ill': 6629, 'shift': 11346, 'working': 14100, 'trying': 13108, 'gift': 5550, 'weather': 13793, 'succeed': 12225, 'tried': 13066, 'rain': 10360, 'wud': 14159, 'kno': 7385, 'wtf': 14153, 'aint': 1017, 'piss': 9779, 'b': 1585, 'mess': 8335, 'scott': 11113, 'said': 10966, 'walked': 13697, 'away': 1543, 'meant': 8251, 'alot': 1103, 'both': 2205, 'usually': 13448, 'talk': 12469, 'social': 11734, 'jjust': 7099, 'quite': 10318, 'jia': 7086, 'wrong': 14148, 'copy': 3286, 'looked': 7874, 'dumbass': 4252, 'he/she': 6109, 'screwed': 11129, 'jtp': 7165, 'douchebag': 4112, 'stewart': 12076, 'fancy': 4828, 'jeff': 7046, 'resident': 10667, 'pet': 9673, 'walk': 13696, 'straighten': 12129, 'hair': 5976, 'br00t4l': 2242, 'update': 13396, 'rating': 10412, 'cooky': 3269, 'meat': 8258, 'sauce': 11036, 'ragout': 10356, 'list': 7763, 'gack': 5397, 'ah': 985, 'freshness': 5261, 'refreshing': 10538, 'anywho': 1282, 'goodnight': 5665, 'join': 7129, 'either': 4398, 'lolz': 7859, 'khub': 7302, 'jamay': 7002, 'gee': 5482, 'jo': 7107, 'mil': 8406, 'baithain': 1663, 'bongay': 2161, 'quit': 10317, 'often': 9196, 'seeing': 11179, 'cool': 3270, 'episode': 4554, 'antsy': 1261, 'request': 10649, 'vacation': 13472, 'series': 11229, 'ps3': 10194, 'fantastic': 4835, 'device': 3859, 'xbox': 14184, 'slappin': 11573, 'kevinrose': 7290, 'stay': 12041, 'warm': 13726, 'kyle': 7464, 'lucky': 7967, 'ours': 9371, 'fine': 4982, 'seat': 11155, 'protector': 10178, 'great': 5748, 'britain': 2308, \"'em\": 21, 'color': 3083, 'owl': 9420, 'glad': 5588, 'reading': 10440, 'craziness': 3403, \"ma'am\": 8016, 'soo': 11787, 'bioshock': 1994, 'apartment': 1288, 'hunt': 6501, 'ewston': 4659, 'babe': 1605, 'hear': 6123, 'esp': 4583, 'dad': 3575, 'born': 2196, 'local': 7821, 'etsy': 4607, 'giving': 5585, '$': 2, 'cat': 2636, 'produce': 10127, 'elsewhere': 4431, 'confused': 3194, 'saw': 11049, 'far': 4837, 'bastard': 1747, 'called': 2532, 'guru': 5855, 'person': 9655, 'marc': 8125, 'might': 8398, 'fuckied': 5322, 'rim': 10782, 'pierogies': 9750, 'sausage': 11039, 'wwere': 14168, 'knock': 7387, 'lols': 7855, 'easter': 4328, 'biggest': 1971, 'phobia': 9707, 'nothing': 9055, 'smelling': 11646, 'sewing': 11257, 'period': 9644, 'spam': 11842, 'month': 8555, 'able': 820, 'email': 4439, 'since': 11487, \"'05\": 7, 'louie': 7916, 'pillow': 9759, 'crown': 3459, 'wore': 14090, 'sat': 11029, 'during': 4273, 'plane': 9803, 'ride': 10768, 'actor': 893, 'pork': 9929, 'radio': 10349, 'easily': 4321, 'although': 1123, 'smallville': 11633, 'nope': 9028, 'aware': 1542, 'commute': 3129, 'dealing': 3680, 'forth': 5198, 'raleigh': 10370, 'fayetteville': 4882, 'drake': 4147, 'mother': 8585, 'overjoyed': 9400, 'teeth': 12566, 'husband': 6512, 'retentive': 10699, 'tooth': 12934, 'care-his': 2594, 'rotting': 10887, 'themselves': 12694, 'turned': 13142, 'computer': 3162, 'website': 13802, 'hai': 5974, 'touch': 12968, 'hellooo': 6175, 'jordan': 7146, 'personal': 9656, 'assistant': 1433, 'anyone': 1270, 'named': 8767, 'kirby': 7349, 'whore': 13935, 'unspoken': 13380, 'prefer': 10024, 'tupac': 13135, 'singer': 11493, 'lee': 7626, 'lawlz': 7582, 'hoe': 6321, 'bet': 1915, 'silly': 11475, 'woah': 14046, 'jealous': 7038, 'stranger': 12132, 'srsy': 11984, 'ami': 1159, 'kat': 7245, 'mad': 8033, 'h': 5879, 'christ': 2884, 'xd': 14185, 'talei': 12465, 'remind': 10608, 'helllz': 6173, 'mama': 8080, 'tv': 13152, 'jeez': 7045, 'many': 8118, 'nee': 8828, 'dont': 4087, 'youre': 14327, 'talking': 12475, 'accurate': 865, 'yeh': 14251, 'devastatingly': 3854, 'good-looking': 5654, 'revenge': 10722, 'snubbed': 11717, 'trust': 13098, 'fist': 5014, 'serious': 11232, 'bout': 2222, 'bite': 2018, 'shut': 11440, 'hamster': 6006, 'figured': 4961, 'anna': 1219, 'still': 12088, 'language': 7525, 'trip': 13073, 'onto': 9274, 'plan': 9802, 'wut': 14161, 'read': 10436, 'boob': 2168, 'n': 8736, 'idea': 6569, 'tattoo': 12515, '1800qzak': 414, 'then': 12695, 'problem': 10112, 'solved': 11757, 'discount': 3973, 'contacting': 3234, 'immediately': 6667, 'iphone': 6891, 'camera': 2547, 'lack': 7488, 'apps': 1321, 'screen': 11125, 'waiting': 13689, 'missed': 8457, 'theatre': 12681, 'mine': 8433, 'double': 4108, 'flared': 5036, 'homo': 6360, 'aggrivation': 977, 'release': 10578, 'information': 6770, 'gladly': 5589, 'pay': 9568, 'wire': 14015, 'rerun': 10655, 'emo': 4464, 'bring': 2304, 'squatter': 11965, 'ago': 979, 'friend': 5269, 'nominate': 8992, 'benmack': 1888, 'shorty': 11399, 'award': 1541, 'business': 2442, 'recording': 10503, '2wks': 517, 'shame': 11290, 'rush': 10936, 'album': 1047, 'these': 12711, 'hard': 6042, 'spose': 11937, 'andy': 1191, 'bradie': 2249, 'choose': 2871, 'choice': 2866, 'shaun': 11305, 'regretted': 10557, 'karma': 7241, 'nyc': 9108, 'thinking': 12734, 'having': 6094, 'screening': 11127, 'fox': 5211, 'roll': 10845, 'through': 12779, 'aw': 1538, 'man': 8086, 'kevin': 7289, 'dated': 3637, '10': 345, 'pelvic': 9607, 'thrust': 12789, 'gangsta': 5432, 'pretend': 10052, 'classy': 2955, 'fav': 4870, '2nd': 511, 'bday': 1779, 'nigella': 8932, 'coca': 3034, 'cola': 3064, 'ham': 5995, '4got': 615, 'read/watched': 10437, 'quot': 10322, 'sashakane': 11026, 'gave': 5458, 'receipe': 10478, 'authenic': 1504, 'burrito': 2432, 'extra': 4744, 'filling': 4967, 'tasty': 12508, 'shown': 11422, 'lifted': 7709, 'direction': 3947, 'write': 14143, 'interested': 6843, 'keeping': 7269, 'theme': 12692, 'else': 4430, 'whoa': 13920, 'whats': 13877, 'fool': 5136, 'certainly': 2707, 'thinkin': 12733, 'vloggerhood': 13602, 'makin': 8073, 'believe': 1862, 'woke': 14050, 'men': 8307, 'greedy': 5753, 'telling': 12585, 'rumple': 10931, 'bailey': 1659, 'documentary': 4049, 'arab': 1332, 'count': 3332, 'reach': 10433, '250': 474, 'million': 8418, 'bunch': 2413, 'offence': 9177, 'recorded': 10502, 'shyt': 11446, 'hater': 6077, 'entitled': 4532, 'opinion': 9309, 'sb': 11059, 'hog': 6326, 'give': 5580, 'f': 4757, '480': 605, 'er': 4562, 'idk': 6581, 'help': 6179, '3.': 525, 'idaho': 6567, 'recently': 10484, 'moved': 8607, 'texas.4': 12632, 'plenty': 9834, 'picture': 9740, 'whatever': 13876, 'videos.5': 13558, 'pic': 9729, 'bucket': 2374, 'watching': 13755, 'mata': 8186, 'guna': 5848, '229': 461, 'cute': 3532, 'roflmfao': 10839, 'abbreviation': 815, 'jeg': 7049, 'idc': 6568, 'sux': 12348, 'alexis': 1059, 'stomach': 12104, 'hurt': 6508, 'black': 2029, 'nowadays': 9071, 'bourgie': 2219, 'successful': 12228, 'laugh': 7564, 'fear': 4890, 'owning': 9424, 'gun': 5847, 'stand': 12012, 'absolute': 836, 'power': 9987, 'amel': 1155, 'virtual': 13587, 'twitt': 13190, 'healthy': 6122, 'calorie': 2537, 'pah': 9449, 'haahaha': 5894, 'fella': 4919, 'chat': 2770, 'rubinathy15': 10914, 'delicious': 3754, 'towel': 12989, 'fckn': 4887, 'rack': 10346, 'lazy': 7592, 'bhut': 1947, 'trashy': 13039, 'tha': 12644, 'floor': 5071, 'king': 7343, 'tut': 13148, 'built': 2394, 'pyrmids': 10265, 'grow': 5795, 'grey': 5766, 'soul': 11811, 'goddess': 5633, 'joking': 7135, 'balloono': 1676, 'a.k.a': 793, 'bommer': 2155, 'lameguest': 7513, 'number': 9089, 'couch': 3324, 'paypal': 9577, 'using': 13444, 'identity': 6576, 'refuse': 10542, 'skipping': 11551, 'town': 12991, 'express': 4739, 'train': 13017, 'heel': 6152, 'rubber': 10911, 'pilot': 9760, 'autotune': 1519, 'gotten': 5697, 'hand': 6008, 'though': 12758, 'appreciate': 1315, 'wanted': 13720, 'sexy': 11266, 'lesbian': 7660, 'porn': 9931, 'gitu': 5578, 'jaman': 7001, 'dulu': 4248, 'male': 8075, 'chauvinist': 2774, 'justin': 7204, 'bieber': 1962, 'demi': 3768, 'lovato': 7923, 'barack': 1711, 'obama': 9134, 'babay': 1602, 'bother': 2206, 'post-nerd': 9960, 'procrastination': 10123, 'care': 2593, 'authorized': 1508, 'squatting': 11966, 'apology': 1294, 'flattened': 5042, 'lurgy': 7985, 'london': 7860, 'gin': 5564, 'occur': 9159, 'diy': 4026, 'post': 9958, 'office': 9188, 'alb': 1044, 'line': 7746, 'insane': 6794, 'balance': 1669, 'cheyenne': 2825, 'frank': 5223, 'butter': 2458, 'weak': 13784, 'spicy': 11898, 'bitter': 2023, 'sad': 10958, 'wack-ster': 13680, 'bed': 1824, 'mhmm': 8367, 'doin': 4063, 'team': 12540, 'overall': 9395, 'mistake': 8468, 'fix': 5020, 'cut': 3531, 'mouth': 8604, 'l.': 7469, 'awake': 1540, 'sleeping': 11585, 'hunting': 6503, 'hahahahahhaahha': 5951, 'creepy': 3426, 'stressed': 12152, 'x.x': 14182, 'boiled': 2140, 'egg': 4383, 'hahaha': 5918, 'awww': 1570, 'dnd': 4038, 'podcasts': 9864, 'settle': 11252, 'ridiculous': 10771, 'crossing': 3454, 'dubai': 4223, 'bm': 2122, 'forget': 5167, 'fullmoon': 5343, 'getogether': 5528, 'tonight': 12914, 'tabitha': 12435, 'jai': 6991, 'locascio': 7823, 'myspace.com/tabiisaninja': 8726, 'book-': 2176, '//www.facebook.com/profile.php': 301, 'id=1601024519': 6566, 'clue': 3009, 'please': 9829, 'tire': 12855, 'taquitos': 12493, 'rockettransfer.com': 10826, 'aj': 1026, 'court': 3345, 'dsm': 4220, 'hoping': 6397, 'otherwise': 9362, 'rape': 10392, 'brithday': 2309, 'amazing': 1146, 'fag': 4787, 'ask': 1401, 'fridge': 5267, 'rofl': 10837, 'monkey': 8548, 'bruce': 2344, 'bow': 2223, 'superior': 12297, 'wisdom': 14018, 'candy': 2569, 'wasnt': 13746, 'customer': 3530, 'biiiiiishop': 1977, 'punk': 10232, 'me.thats': 8240, 'ttaf': 13114, 'cking': 2937, 'promotion': 10158, 'ungrateful': 13346, 'snippy': 11696, 'showing': 11421, 'age': 970, 'happened': 6029, '--': 93, 'latency': 7548, 'tight': 12824, 'pant': 9481, 'smh': 11649, 'motto': 8595, 'two': 13207, 'older': 9239, 'herself': 6207, 'heading': 6113, 'anyhow': 1267, 'steelers': 12055, 'recovering': 10506, 'blogger': 2092, 'voice': 13610, 'andre': 1189, '3000': 530, 'reconsider': 10500, 'liter': 7772, 'ature': 1486, 'beet': 1837, 'bono': 2163, 'dark': 3621, 'saving': 11044, 'wealth': 13787, 'cheap': 2778, 'later': 7551, 'ember_myst': 4454, 'spellchaser': 11884, 'staking': 12005, 'claim': 2942, 'etherist': 4601, 'crush': 3467, 'married': 8150, 'last': 7538, 'pulled': 10223, 'license': 7693, 'plate': 9812, 'light': 7712, 'owe': 9418, 'didnt': 3900, 'crap': 3387, 'goodness': 5664, 'pronounce': 10159, 'sql': 11961, 'suckwell': 12246, 'php': 9722, 'fip': 4992, 'jpg': 7161, 'silent': 11470, 'j': 6963, 'speak': 11862, 'fluent': 5083, 'klingon': 7374, 'semi': 11202, 'around': 1365, 'promise': 10152, 'ohio': 9209, 'united': 13353, 'louisiana': 7918, 'fed': 4902, 'tiny': 12849, 'spoon': 11934, 'fork': 5176, 'wonder': 14060, 'chinese': 2852, 'toothpick': 12938, 'spaghetti': 11840, 'shredded': 11424, 'drinking': 4179, 'cassidee': 2631, 'applicantjan': 1308, 'mind': 8425, 'cleanup09': 2963, '-politicians': 120, 'ethic': 4603, 'exam': 4672, '2x': 518, 'yearly': 14244, 'test': 12623, 'guinea': 5837, 'smart': 11634, 'potbelly': 9973, '//twitpic.com/taap': 274, 'white': 13908, 'lie': 7697, 'hardest': 6047, 'possibly': 9957, 'odo': 9169, 'ferengi': 4927, 'skin': 11547, 'crawl': 3395, 'specie': 11870, 'yuck': 14358, 'row': 10899, 'mommie': 8535, 'part': 9514, 'gabby': 5395, 'kill': 7327, 'guinness': 5840, 'typing': 13221, 'twitted': 13191, 'instead': 6817, 'la': 7478, 'chicago': 2830, 'steph': 12058, 'tired': 12856, 'deck': 3707, 'hall': 5991, 'previous': 10069, 'gayest': 5466, 'statement': 12036, '........': 141, 'john': 7122, 'mayer': 8213, 'andrew': 1190, 'mcmahon': 8232, 'ahaha': 990, 'drink': 4176, 'themadhat': 12690, 'rescue': 10657, 'bonez': 2160, 'prison': 10096, 'ghost': 5542, 'haunt': 6085, 'ignoring': 6603, 'especially': 4585, 'al': 1034, 'qaeda': 10276, 'lookin': 7875, 'flip': 5058, 'flop': 5072, 'rained': 10362, 'mattbacak': 8198, 'audrey': 1491, 'hepburn': 6189, 'indeed': 6737, 'sheeeeit': 11319, 'shaydechelle': 11310, 'wrapped': 14132, 'facebook': 4772, 'switched': 12388, 'delete': 3749, 'account': 857, 'wid': 13960, 'open': 9302, 'pm': 9855, 'oops': 9297, '11': 365, 'enjoying': 4509, 'madonna': 8041, 'groovy': 5788, 'micky': 8382, 'rouke': 10890, 'engage': 4499, 'conversation': 3260, 'asshole': 1429, 'allowed': 1089, 'gov': 5701, 'nothin': 9054, 'mundane': 8671, '......': 139, 'kk': 7365, 'gender': 5495, 'ream': 10461, 'apple': 1306, 'spy': 11959, 'chrystal': 2896, 'behind': 1855, 'andys': 1193, 'drum': 4201, 'loovveee': 7890, 'chicken': 2832, 'complain': 3147, 'found': 5207, 'mood': 8558, 'jcroft': 7035, 'down-ass-bitches': 4121, 'adventure': 942, 'present': 10040, 'taquisha': 12492, 'must': 8688, 'christmas': 2890, 'understand': 13320, 'backwards': 1630, 'beauty': 1809, 'body': 2132, 'stop': 12114, 'bitching': 2014, 'past': 9540, 'cock-a-doodle-doo': 3036, 'hmph': 6308, 'niece': 8930, 'bear': 1791, 'claw': 2957, 'fang': 4832, 'juno': 7195, 'blow': 2103, 'text': 12633, 'somebody': 11762, 'fuckface': 5321, 'ugly': 13259, 'dancing': 3608, 'singing': 11495, 'spreading': 11949, 'happiness': 6035, 'sweet': 12370, 'random': 10381, 'yep': 14259, 'winner': 14009, 'flaming': 5035, 'worried': 14107, 'nobody': 8977, 'bye': 2483, 'failed': 4796, 'rapist': 10394, 'someday': 11763, 'rite': 10794, 'hbu': 6105, '//itweet.net/web/': 193, 'hoodie': 6378, 'thieving': 12722, 'close': 2994, 'seems': 11182, 'normal': 9035, 'family': 4823, 'worse': 14110, 'laughed': 7565, 'excuse': 4688, 'wash': 13739, 'lavish': 7579, 'meal': 8244, 'cook': 3266, 'vacasia': 13471, 'everytime': 4639, 'beat': 1797, 'outta': 9390, 'sitcom': 11518, 'character': 2751, 'reminds': 10610, 'zak': 14397, 'tall': 12478, 'complaining': 3149, '20': 438, 'degree': 3742, 'single': 11496, 'digit': 3920, 'imagine': 6658, 'below': 1874, '0.': 321, 'ahhh': 1004, 'infront': 6774, 'fan': 4825, 'commercial': 3121, 'rooster': 10869, 'larry': 7532, 'group': 5791, 'council': 3329, 'stopped': 12116, \"'night\": 45, 'motivated': 8588, '11pm': 371, \"'morning\": 39, 'emily': 4459, 'arrives': 1371, '5:30am': 652, 'tweet': 13160, 'inhaler': 6779, 'sign': 11460, 'weakness': 13786, '900': 726, 'havent': 6092, 'perfect': 9633, 'bottle': 2209, 'bourbon': 2218, 'tap': 12488, 'ummmm': 13289, 'screw': 11128, 'joke': 7134, 'mikkeller': 8405, 'barley': 1725, 'wine': 14005, 'joint': 7132, 'stepped': 12065, 'smoked': 11659, 'beer': 1836, 'earlier': 4306, 'retard': 10696, 'uhh': 13263, 'sooooo': 11792, 'guess.haha': 5826, 'icecream': 6553, 'akamonty': 1030, 'pt': 10204, 'funny': 5360, 'cassete': 2630, 'load': 7815, 'money': 8542, 'static': 12037, 'platinum': 9815, 'paper': 9486, 'submit': 12218, '2mmr': 506, 'inclination': 6723, 'fact': 4781, 'staying': 12043, 'another': 1240, 'freakin': 5235, 'dave': 3642, '9829': 735, 'anonymously': 1235, 'colour': 3086, 'nail': 8760, 'updating': 13397, 'whoever': 13921, 'mofo': 8517, 'asked': 1402, 'hella': 6171, 'depressed': 3800, 'story': 12123, 'correct': 3306, 'book': 2175, 'drew': 4172, \"'pigpen\": 51, 'atop': 1470, 'pencil': 9609, 'player': 9821, 'amusing': 1172, 'leaving': 7624, 'gayborhood': 5465, 'shopping': 11391, 'friendly': 5273, 'pee': 9596, 'holdin': 6331, 'ploop': 9838, 'gawd': 5459, 'lasandwich': 7534, 'calculus': 2522, 'studio': 12184, 'wht': 13943, 'jackinthebox': 6981, 'evn': 4646, 'mile': 8410, 'frmh': 5287, 'thts': 12793, 'askin': 1404, 'xp': 14199, 'key': 7292, 'keychain': 7295, 'bro': 2316, 'luck': 7964, 'dayyym': 3663, 'gurl': 5851, 'looking': 7876, 'touching': 12972, 'clothes': 3000, 'drag': 4141, 'shop': 11388, 'easy': 4331, 'hatin': 6081, '15': 394, 'youuuuu': 14345, 'everyday': 4630, 'point': 9870, 'race': 10338, 'dr': 4137, 'bottom': 2210, 'w/o': 13659, 'doubt': 4110, 'slowskis': 11617, 'ad': 900, 'dvrs': 4283, 'run': 10932, 'major': 8068, 'underpays': 13319, 'model': 8509, 'harassed': 6040, 'belittled': 1866, 'threatening': 12769, 'ability': 819, 'professional': 10134, 'not-over-the-top': 9050, 'somehow': 11765, 'youu': 14338, 'making': 8074, 'birthday': 1999, 'obviously': 9154, 'trend': 13054, 'aaanyyywhoooooooo': 800, 'uuuhm': 13457, 'marker': 8141, 'colored': 3084, 'crayon': 3398, '0_o': 328, 'maniac': 8103, 'sore': 11800, 'herpes': 6203, 'spanked': 11850, 'behave': 1851, 'work-kinda': 14092, 'software': 11747, 'installed': 6813, 'agree': 982, 'bif': 1966, 'spoiler': 11923, 'threeeeee': 12772, 'gas': 5446, 'price': 10074, 'finance': 4979, 'whelchers': 13886, 'fuckin': 5324, 'mcluhan': 8231, 'leary': 7616, 'translate': 13026, 'wrote': 14150, 'stuffy': 12193, 'nose': 9043, 'gilmore': 5562, 'died': 3903, 'knwo': 7403, 'sun': 12278, 'tinder': 12844, 'box': 2227, 'hinders': 6273, 'couple': 3340, 'circle': 2921, 'puuurty': 10261, 'legit': 7639, 'attention': 1479, 'bitchling': 2015, 'suckas': 12236, 'omfg': 9250, 'iwanna': 6958, 'neopets': 8858, 'wtffff': 14154, 'yah': 14216, 'itz': 6955, 'yew': 14277, 'neva': 8877, 'added': 909, 'ik': 6621, 'ben': 1879, 'benieuwd': 1886, 'entrepreneur.com': 4535, 'plug': 9844, 'pitch': 9785, '//bit.ly/ps0m': 165, 'mom/dad': 8530, 'monroe': 8552, 'youuuuuuu': 14346, 'internet': 6846, 'comcast': 3099, 'funnyy': 5361, 'childrenn': 2840, 'slidinqq': 11598, 'insiderr': 6804, 'juss': 7199, 'forr': 5194, 'yuu': 14381, 'mikeyy': 8404, 'nsakes': 9077, 'ggoing': 5538, 'conversating': 3259, 'reveal': 10718, 'anonymousness': 1236, 'buncha': 2414, 'foot': 5144, 'gim': 5563, 'sunshine': 12287, 'plse': 9843, 'ohhh': 9203, 'ummmmm': 13290, 'flavor': 5045, 'cream': 3407, 'change': 2737, 'plain': 9801, 'vanilla': 13494, 'raseberry': 10403, 'cheesecake': 2802, 'thattttt': 12676, 'alarm': 1041, 'hm': 6299, 'add': 908, 'contact': 3233, 'swear': 12358, 'autocorrect': 1515, 'ducking': 4230, 'brutal': 2355, 'drive': 4181, 'snap': 11677, 'psycho': 10201, 'coz': 3363, 'attended': 1477, 'ohlala': 9212, 'dago': 3580, 'ktny': 7449, 'tmpt': 12872, 'nongkrong': 9007, 'four': 5208, 'disagreeing': 3958, 'mid-major': 8390, 'whining': 13900, 'situation': 11522, 'nor': 9032, 'prove': 10185, 'bcs': 1776, 'undeserving': 13330, 'bike': 1978, 'doctor': 4047, 'zebra': 14403, 'parking': 9505, 'jerry': 7069, 'cowboy': 3358, 'hire': 6284, 'coach': 3024, \"'cuz\": 17, 'credit': 3421, 'poster': 9965, 'attn': 1481, 'townhouse': 12992, 'cable': 2505, 'speed': 11877, 'via': 13537, 'wireless': 14016, 'digis': 3919, 'buddhfied': 2377, 'shelf': 11328, 'bangkok': 1695, 'houseboy': 6433, 'locked': 7827, 'grew': 5765, 'win': 13995, 'shovel': 11413, 'true': 13093, 'plus': 9849, 'cover': 3350, 'certain': 2706, 'prostiture': 10171, 'killer': 7330, 'ect': 4352, 'steve': 12071, 'break': 2279, 'wee': 13810, 'youngun': 14323, 'lady': 7491, 'tumblr': 13129, 'goose': 5678, 'ryan': 10942, 'kelly': 7276, 'anybody': 1265, 'milk': 8414, 'nog': 8984, 'gross': 5789, 'yr.': 14354, 'amaretto': 1139, 'standard': 12013, 'tough': 12976, 'addiction': 912, 'along': 1099, 'hah': 5910, 'demanding': 3766, 'ass-grabs': 1418, 'payment': 9574, 'metronauts': 8354, 'shirt': 11360, 'folub': 5122, 'hammered': 6003, 'window': 14003, 'dayum': 3659, '10:22am': 358, 'limping': 7742, 'hurting': 6511, 'badly': 1644, 'lord': 7891, 'ive': 6957, 'variation': 13499, 'truce': 13089, 'slithering': 11609, 'bath': 1750, 'shower': 11418, 'mute': 8697, 'whenever': 13888, 'favourite': 4877, 'comedy': 3103, 'ahahahaha': 993, 'yer': 14264, 'needd': 8833, 'yaa': 14213, 'phonee': 9713, 'ahah': 989, 'owww': 9426, 'yhu': 14281, 'stratched': 12138, 'ftw': 5309, 'liking': 7733, 'strut': 12178, 'webwork': 13804, 'analogy': 1181, 'rail': 10358, 'merb': 8320, 'enjoyed': 4508, 'article': 1382, 'adam': 901, 'homework': 6354, 'josh': 7152, 'thurs': 12803, 'happen': 6027, 'cybershopping': 3549, 'store': 12119, 'amazon.com': 1149, 'retailer': 10695, 'beastsoftheeast.com': 1795, 'pull': 10222, 'helm': 6177, 'letting': 7668, 'throw': 12782, 'grill': 5773, 'ticket': 12814, 'thug': 12795, 'nigga': 8934, 'wood': 14069, 'eating': 4337, 'beetle': 1838, 'prety': 10062, 'regardless': 10547, 'consequence': 3211, 'girly': 5576, 'umm': 13287, 'running': 10935, 'jessicajarrell': 7074, 'atm': 1468, 'sympathize': 12402, 'w': 13646, 'goshzillions': 5689, 'bernie': 1899, 'madoff': 8040, '//is.gd/c9cu': 185, 'ignore': 6601, 'rude': 10916, 'obcene': 9135, 'c': 2489, 'exorcist': 4706, 'crappy': 3388, 'delivered': 3760, 'drawback': 4154, 'pride': 10079, 'formspring': 5183, 'pray': 10007, 'blip.fm': 2081, 'pushed': 10249, 'cart': 2619, 'safeway': 10963, '2yrs': 519, 'front': 5291, 'moist': 8519, 'ol': 9235, 'duncan': 4265, 'hines': 6275, 'bra': 2243, 'least': 7617, 'goolies': 5671, 'employer': 4476, 'supportive': 12311, 'seen': 11183, 'highlight': 6247, 'lott': 7908, 'reed': 10522, 'arguing': 1352, 'bob': 2129, 'troy': 13083, 'dry': 4214, 'erase': 4565, 'drunk': 4206, 'wiley': 13983, 'track': 13002, 'anthem': 1247, 'kasumi': 7244, 'bethharte': 1922, 'experience': 4718, 'tag-team': 12446, 'whup-ass': 13946, \"c'mon\": 2492, 'beth': 1920, '//twitpic.com/xipq': 289, 'verizon': 13527, 'contract': 3249, 'erg': 4566, 'luckily': 7966, 'highschool': 6249, 'ethnicity': 4606, 'difference': 3909, 'meaning': 8247, 'different': 3910, 'drm': 4188, 'crawled': 3396, 'trade': 13007, '13-sided': 386, 'paralellogram': 9494, 'pomegranate': 9901, 'obsessed': 9145, 'design': 3823, 'merry': 8331, 'exmas': 4704, 'hahahahahaahaha': 5929, 'silvey': 11478, 'compared': 3136, 'eeyore': 4375, 'demented': 3767, '8217': 712, 'listen': 7766, 'cow-loving': 3356, 'yahoo': 14218, 'slurpee': 11622, 'bag': 1646, 'cup': 3504, 'butt': 2457, 'horny': 6404, 'gremlin': 5763, 'zee': 14404, 'tighter': 12825, 'frog': 5289, 'lab': 7480, 'soooo': 11790, 'omfgshz': 9252, 'lemonbars': 7649, 'deep': 3717, 'content': 3239, 'focus': 5097, 'ghajini': 5539, 'glass': 5595, 'mall': 8077, 'almighty': 1093, 'neck': 8825, 're': 10429, 'pathetic': 9553, 'along-': 1100, 'torturing': 12955, 'pixel': 9792, 'blocking': 2089, 'hustle': 6515, 'sit': 11516, 'mob': 8498, 'bullshit': 2403, 'grave': 5742, 'passing': 9532, 'suddenly': 12249, 'drop': 4191, 'came': 2546, 'ducked': 4229, 'poured': 9982, 'mom': 8529, 'catholicism': 2650, 'sinner': 11501, 'birth': 1997, 'irked': 6898, 'strength': 12149, 'co-worker': 3021, 'employed': 4474, 'taking': 12462, 'posh': 9950, 'schooling': 11092, 'grin': 5776, 'date': 3635, 'gg': 5535, 'sending': 11208, 'instant': 6815, 'messagi': 8337, 'dirty': 3954, 'babyface_gm': 1615, 'bbw': 1771, 'describe': 3814, 'latent': 7550, 'bucs': 2376, 'justtt': 7208, 'dha': 3865, 'g': 5381, 'orgasm': 9338, 'dhat': 3866, 'bigg': 1969, 'dikk': 3924, 'ovum': 9416, 'alix': 1073, 'yuhh': 14362, 'betta': 1926, 'rachel': 10340, 'sayinnnnn': 11054, 'kenny': 7282, 'emotional': 4471, 'condom': 3183, 'departure': 3789, 'sonics': 11784, 'adopted': 933, 'squad': 11962, 'w/': 13649, 'cp3': 3365, 'hornet': 6402, 'pacific': 9439, 'nw': 9105, 'razor': 10423, 'explained': 4726, 'jizz': 7097, 'locally': 7822, 'slighty': 11600, 'perry': 9650, 'lick': 7694, 'loll': 7849, 'powerpoint': 9990, 'ten': 12599, 'compete': 3141, 'note': 9052, 'manage': 8088, 'party': 9526, \"c'est\": 2490, 'vie': 13561, 'wife': 13968, 'worked': 14095, 'april': 1325, 'funniest': 5358, 'hello': 6174, 'cooking': 3268, 'pancetta': 9475, 'halp': 5994, 'courrseeee': 3342, 'dudee': 4235, 'awhhh': 1559, 'chuz': 2908, 'yuh': 14361, 'dunno': 4268, 'remove': 10615, 'bec': 1811, 'cell': 2686, 'mark': 8140, 'manhood': 8101, 'downstairs': 4130, 'testicle': 12625, 'downloading': 4127, 'bogging': 2135, 'threatened': 12768, 'shave': 11306, 'haircut': 5980, 'bzzz': 2488, 'type': 13217, 'cheeeeeeeese': 2792, 'beu03c4ter': 1933, 'thu03b1n': 12794, 'formspru03b9ng': 5192, '//tr.im/m73w': 261, 'staring': 12023, 'sunglass': 12280, 'hugh': 6467, 'daughter': 3641, 'ceo': 2700, 'company': 3133, 'evolve': 4649, 'aaarrrg': 802, 'jebus': 7042, 'merch': 8321, 'doc': 4043, 'injuring': 6787, 'self': 11191, 'inflicted': 6765, 'pain': 9451, 'desperate': 3833, 'siiigghhh': 11465, 'urge': 13420, 'physically': 9726, 'abuse': 842, 'brain-deficient': 2259, 'stole': 12102, 'gaia': 5408, 'faggy': 4794, 'doll': 4067, 'paradiso': 9493, 'scared': 11069, 'parnoid': 9508, 'quiet': 10314, '//twitpic.com/qtt0': 265, 'o.o': 9124, 'bingo': 1989, 'waaaaay': 13675, 'ale': 1052, 'tricky': 13065, 'google': 5669, 'srsly': 11983, 'meantime': 8252, 'tetris_jeff': 12629, 'suggests': 12260, 'sarah': 11017, 'rly': 10802, 'lesson': 7663, \"leave'em\": 7621, 'spare': 11853, 'under': 13314, 'poinsetta': 9869, 'pot': 9970, 'check': 2784, 'ostratrich': 9353, 'bald': 1671, 'myyyy': 8734, 'obvious': 9152, 'following': 5117, '=op': 758, 'upsetting': 13410, 'enjoyable': 4507, 'explosion': 4734, 'mainstream': 8063, 'joining': 7131, 'insecure': 6799, 'degrading': 3741, 'intimidated': 6856, 'grooming': 5786, 'tool': 12928, 'file': 4962, 'clipper': 2986, 'biting': 2021, 'unsanitary': 13377, '//twitpic.com/tr56': 275, 'beamer': 1788, 'underwhelming': 13327, 'issue': 6935, 'on-board': 9260, 'enought': 4515, 'israeli': 6934, 'spanish': 11849, 'fm': 5092, 'kiss': 7351, 'pony': 9907, 'veryy': 13533, 'intelligent': 6832, 'bio': 1990, 'booo': 2180, 'whore.': 13937, 'yourself': 14331, 'shouldn': 11406, 'opposite': 9314, '-holiday': 113, 'hugs-': 6469, 'smile': 11651, 'burned': 2427, '2-ii': 433, '3iin': 569, '4iii': 616, 'magazine': 8045, 'thrown': 12787, 'ground': 5790, 'intense': 6835, 'madam': 8034, 'x': 14179, 'pink': 9769, 'followed': 5114, 'haunted': 6086, 'kan': 7226, 'wam': 13708, 'wayne': 13773, 'exact': 4670, 'review': 10725, 'fifteen': 4955, 'minute': 8445, 'save': 11042, 'includes': 6726, 'cspers': 3475, 'ok.': 9221, 'signing': 11464, 'bid': 1960, 'roadie': 10807, 'uv': 13459, 'filter': 4972, 'kit': 7356, 'glare': 5593, 'shot': 11400, 'france': 5221, 'hole': 6333, 'copping': 3284, 'offically': 9187, 'snore': 11704, 'nahh': 8755, 'lay': 7586, 'log': 7831, 'atheist': 1457, 'denies': 3778, 'existence': 4700, 'argue': 1351, 'personally': 9661, 'anyways': 1280, 'athiest': 1459, 'dang': 3610, 'sherriff': 11338, 'joe': 7116, 'jail': 6992, 'ffffound': 4942, 'invite': 6880, 'apparently': 1298, 'tweetup': 13168, 'fall': 4814, 'fabulous': 4769, 'blush': 2120, 'effort': 4380, 'counteract': 3334, 'enthusiasm': 4528, 'officially': 9190, 'lateral': 7552, 'lisp': 7762, 'battlestar': 1759, 'galactica': 5414, 'mythbusters': 8732, 'taken': 12458, 'tumble': 13127, 'escalator': 4580, 'ae': 948, 'meeting': 8280, '11am': 370, 'responsible': 10681, 'w/all': 13654, 'idiot': 6580, 'decided': 3704, 'fam': 4821, 'moon': 8559, 'beach': 1782, 'established': 4592, '7': 674, 'fangirl': 4833, 'kirstie': 7350, 'alley': 1079, 'mia': 8372, 'awesomeness': 1551, 'megavideo': 8286, 'offshore': 9194, 'hoster': 6416, '1/2': 342, 'slipper': 11606, 'mixtape': 8475, 'hype': 6524, 'ozzy': 9431, 'osbourne': 9350, 'library': 7690, 'script': 11132, 'upgrade': 13399, 'tolerance': 12896, 'drug': 4198, 'a.m': 794, 'seriously': 11234, 'precious': 10017, 'nate': 8789, 'rocking': 10828, 'shitty': 11370, 'gewd': 5532, 'motha': 8584, 'fucka': 5316, 'explode': 4729, 'unfollow': 13341, 'seem': 11180, '~30': 14437, 'buck': 2373, 'leave': 7620, '2-3': 432, 'entry': 4536, 'cont': 3232, 'level': 7669, 'bonus': 2165, 'picking': 9736, 'ither': 6947, 'yesturday': 14272, 'wouldnt': 14122, 'sheeyat': 11325, 'freezing': 5250, 'bust': 2445, 'chimney': 2848, 'shake': 11281, 'bowl': 2224, 'jelly': 7051, 'rare': 10400, 'sentence': 11218, 'sorta': 11806, 'mariannemancusi': 8133, 'cam': 2542, 'xmas': 14191, 'parked': 9504, 'shutter': 11442, 'paid': 9450, 'theater': 12680, 'fallopian': 4817, 'tube': 13122, 'whyy': 13953, 'aree': 1341, 'suchh': 12232, 'aa': 796, 'faggottt': 4792, 'lobster': 7820, 'ligature': 7710, 'portland-area': 9944, 'titanlineaudio': 12860, 'bj': 2026, 'kidding': 7318, 'bloody': 2101, 'anime': 1214, 'liked': 7726, 'bleach': 2063, 'santa': 11011, 'youngest': 14321, 'accidentally': 852, 'radioactive': 10350, 'vegetable': 13510, 'cooler': 3271, 'endow': 4494, 'super-power': 12292, 'mostly': 8583, 'pretender': 10055, 'status': 12039, 'asap': 1391, 'digg': 3916, 'j-fish': 6964, 'sneek': 11688, 'peak': 9587, 'cd': 2668, 'entirely': 4530, 'graph': 5733, 'input': 6793, 'beowulf': 1893, 'properly': 10163, 'sometiimes': 11771, 'unwieldy': 13389, \"i'ma\": 6531, 'memory': 8305, 'mouse': 8601, 'myth': 8730, '.........': 142, 'ewww': 4661, 'stolen': 12103, '//snipurl.com/7rq8p': 208, 'twittering': 13199, 'started': 12030, 'nostalgic': 9045, 'knowing': 7394, 'lmfao': 7804, 'create': 3411, 'muliple': 8661, 'formsprings': 5190, 'theyre': 12716, 'congratulating': 3201, 'humanitarian': 6479, 'mercifully': 8323, 'fatman': 4862, 'assholeman-who-will-piss-everyone-completely-the-fuck-off': 1430, 'reckon': 10492, 'rbl': 10425, 'lookup': 7877, 'reinstall': 10566, 'server': 11242, 'wrist': 14141, 'bleed': 2064, 'barf': 1720, 'stick': 12079, 'uhmm': 13270, '6th': 673, 'corner': 3297, 'randi': 10380, 'gorgeous': 5683, 'perspective': 9663, 'living': 7788, 'fit': 5015, 'austinites': 1501, 'htown': 6452, 'b/c': 1590, 'public': 10210, 'smoker': 11660, 'accident': 851, 'sent': 11217, 'across': 883, 'three': 12770, 'lane': 7521, 'traffic': 13012, 'heavy': 6142, 'spinning': 11909, 'wknd': 14040, 'assignment': 1431, 'editor': 4363, 'addressed': 918, 'weekend': 13817, 'eightysbaby': 4396, 'lakers': 7501, 'snide': 11693, 'burying': 2437, 'watchman': 13756, '//bit.ly/bv3e': 163, 'unlimited': 13362, 'budget': 2381, 'furthermore': 5366, 'gtalk': 5813, 'integration': 6831, 'handle': 6014, 'room': 10865, 'nezua': 8902, 'cripchick': 3436, '0:37': 326, 'pepper': 9625, '//tinyurl.com/69rbnb': 232, 'ily': 6649, 'anytime': 1276, 'retweeted': 10713, 'subsequently': 12222, '9773': 732, 'brain': 2258, 'troll': 13079, 'continues': 3245, 'fuk': 5334, 'rob': 10811, 'preach': 10013, 'rank': 10385, 'cock-choking': 3039, 'bonsai': 2164, 'beast': 1794, 'letitsnow': 7665, 'saturday': 11033, 'ew': 4658, 'thus': 12805, 'love/hate': 7928, 'dynamic': 4291, 'elmn8': 4428, 'vwls': 13645, 'spelling/grammar': 11887, 'spa': 11836, 'won': 14059, 'spelling': 11886, 'bee': 1828, 'bawling': 1761, 'twitch': 13183, 'i.': 6536, 'ammmmmbbaaaaaa': 1164, 'backround': 1627, 'co': 3018, 'starlet': 12025, '0': 320, 'client': 2977, 'course': 3344, 'arrrg': 1373, 'warped': 13735, 'gb': 5470, 'sex': 11258, 'confusing': 3195, 'embarrasing': 4448, 'whooped': 13930, 'large': 7530, 'yooozers': 14300, '442': 597, 'homie': 6357, 'sayin': 11052, 'searched': 11149, 'michelle': 8378, 'drilly': 4174, 'distribution': 4010, 'japan': 7016, 'chick': 2831, 'experimeting': 4721, 'uk': 13275, 'posted': 9964, 'guest': 5829, 'program': 10139, 'loveee': 7934, 'dessert': 3838, 'md': 8235, 'painful': 9452, 'hahahah': 5923, 'faux-man': 4868, 'tend': 12601, 'real-man-hate': 10443, '=/': 754, 'k-pax': 7215, 'explore': 4731, 'kick-ass': 7306, 'merten': 8332, '17yo': 411, 'follower': 5115, 'feb': 4900, 'moonlight': 8560, 'dryness': 4217, '5am': 653, 'wakeup': 13692, 'canda': 2567, 'roland': 10843, 'bright': 2300, 'sunny': 12283, 'sky': 11557, \"would'nt\": 14119, 'resist': 10668, 'finish': 4989, '//www.chatzy.com/498131478193': 298, 'chatroom': 2771, 'signed': 11463, \"'running\": 57, 'pleez': 9833, 'complete': 3154, 'fitness': 5017, 'lit': 7770, 'collection': 3076, 'louse': 7920, 'england': 4502, 'giggle': 5555, 'unfair': 13340, 'jam': 6996, 'known': 7396, 'fell': 4918, 'mya': 8713, 'start-ups': 12029, 'twiterers': 13185, 'defending': 3725, 'paulcarr': 9564, 'cbarrett': 2663, 'observed': 9143, 'seemed': 11181, 'easier': 4319, 'college': 3078, 'carly': 2604, 'unsung': 13381, 'riveted': 10799, 'sitting': 11521, 'dy': 4286, 'chill': 2844, 'each': 4299, 'confit': 3191, 'saltier': 10984, 'salty': 10985, 'frying': 5304, 'horrible': 6405, 'beatles': 1800, 'changed': 2738, 'icon': 6560, '//twitpic.com/wixa': 286, 'tooo': 12929, 'starving': 12032, 'filled': 4966, 'juicy': 7180, 'vitamin': 13597, 'rt': 10906, 'beagle': 1786, 'writing': 14145, 'tail-all': 12449, 'confessional': 3188, 'diary': 3880, 'dating': 3639, 'manual': 8116, 'vehicle': 13513, 'champ': 2733, 'tt': 13112, 'shell': 11329, 'helmet': 6178, 'huoooooooah': 6505, 'katrinaneufeld': 7252, 'smell': 11643, 'blackstone': 2039, 'variety': 13501, '.............': 146, 'wonderful': 14062, \"is'nt\": 6916, '................': 148, 'dork': 4105, '-steffy-': 127, 'liberal': 7687, 'republican': 10647, 'fund': 5349, 'raiser': 10367, 'jump': 7184, 'knw': 7402, 'york': 14303, 'paris': 9502, 'networking': 8874, 'dedicated': 3714, 'footie': 5148, 'weed': 13811, 'wannabe': 13716, 'wag': 13683, 'bummer': 2409, 'heores': 6188, 'sucked': 12237, 'heat': 6133, 'rise': 10791, 'dwn': 4284, 'cld': 2958, 'dominate': 4074, 'martini': 8164, 'kitchengirljo': 7358, 'jensen': 7061, 'thingie': 12726, 'squirrely': 11973, 'kia': 7304, 'dig': 3914, 'picturing': 9741, 'halloween': 5992, 'costume': 3321, 'wifey': 13969, 'huny': 6504, 'pasta': 9541, 'terror': 12620, 'role': 10844, 'sting': 12091, 'barb': 1712, 'delicous': 3756, 'reformatted': 10535, 'several': 11256, 'eventually': 4622, 'becomes': 1819, 'hug': 6461, 'reschedule': 10656, 'fa50': 4765, 'ultra': 13282, 'atl': 1464, '50k': 635, 'loop': 7888, '25k': 476, 'finding': 4981, 'poopy': 9916, 'boring': 2195, 'earth': 4315, 'stood': 12112, 'musician': 8685, 'hill': 6261, 'drama': 4148, 'poodle': 9910, 'toy': 12993, 'squeeze': 11968, 'judge': 7166, 'kroger': 7442, 'graduated': 5717, 'panama': 9473, 'fl': 5027, 'bobbypinning': 2130, 'continue': 3243, 'craving': 3394, 'portal': 9940, 'raid': 10357, 'warning': 13733, 'ohaii': 9200, 'scare': 11068, 'danny': 3617, 'crikey': 3433, 'speaking': 11863, 'narcotic': 8777, 'influence': 6766, 'solid': 11752, 'steel': 12053, 'lyric': 8005, 'clock': 2992, 'hahhahaha': 5971, 'th': 12643, 'ghetto': 5540, 'si': 11448, 'wtfuhh': 14155, 'tht': 12791, 'cuhh': 3490, 'trickk': 13063, 'catchh': 2642, 'ahh': 999, 'fade': 4785, 'homiee': 6358, 'bxtch': 2481, '33': 540, 'banquet': 1705, 'ramen': 10372, 'menu': 8317, 'football': 5146, 'mask': 8178, 'mechanical': 8263, 'meahh': 8243, 'hottest': 6427, 'met': 8344, 'medication': 8267, 'asleep': 1410, 'faster': 4851, 'avalanche': 1522, 'nipplesz': 8957, 'pierced': 9746, 'arse': 1377, 'wrinkely': 14140, 'cider': 2910, 'funeral': 5351, 'scored': 11107, '82': 711, 'final': 4976, 'lost': 7902, 'cremated': 3427, 'spread': 11948, 'ocean': 9163, 'summer': 12271, 'ouch': 9366, 'switch': 12387, 'topic': 12943, 'star': 12020, 'socially': 11736, 'inept': 6755, '2pm': 515, 'ergh': 4567, 'thick': 12718, 'spend': 11891, 'eve': 4616, 'wall-e.': 13703, 'messing': 8342, 'beta': 1916, 'murder': 8674, 'wp': 14128, 'version': 13531, 'widget': 13964, 'panel': 9478, '8th': 721, 'grader': 5714, 'awkwardness': 1564, 'entire': 4529, 'held': 6166, 'numb': 9087, 'tingling': 12846, 'rediculous': 10518, 'hahahha': 5961, 'emang': 4441, 'lagu2nya': 7496, 'bukannya': 2395, 'mellow': 8292, 'howu2019s': 6444, 'highly': 6248, 'estimated': 4596, 'bitch/': 2008, 'keycard': 7294, 'thingo': 12728, 'robbed': 10812, 'hahahahahaha': 5932, 'technology': 12558, '^': 767, 'rewrote': 10737, 'typo': 13222, 'bothering': 2208, 'awhh': 1558, 'aaron': 806, 'carter': 2620, 'bayside': 1765, 'secondhand': 11163, 'serenade': 11226, 'haley': 5985, 'carrie': 2612, 'underwood': 13329, 'haveing': 6090, 'energy': 4497, 'impatient': 6679, 'crabby': 3371, 'ugh.i': 13249, 'dh': 3864, 'snored': 11705, 'tossed': 12962, 'night.ur': 8941, 'vacay': 13474, 'y': 14204, 'whre': 13942, 'ofzo': 9197, 'gerard': 5517, 'umbrella': 13285, 'academy': 845, '-shame': 125, 'yelling': 14255, 'golden': 5641, 'axe': 1576, 'castle': 2635, 'crasher': 3391, 'newer': 8889, 'report': 10638, 'fucker': 5319, 'myownwoman407': 8720, 'dis': 3955, 'nikki': 8950, 'ann': 1217, 'finger': 4985, 'sashay': 11027, 'showin': 11420, 'fab': 4767, 'ruining': 10925, 'bffot': 1943, 'freaking': 5236, 'playing': 9823, 'ewwwwwww': 4665, 'interpretive': 6848, 'tbh': 12526, 'shitting': 11368, 'newegg.com': 8888, 'gig': 5552, 'together': 12888, 'message': 8336, 'mixed': 8474, 'margarita': 8128, 'freshy': 5262, 'squeezed': 11969, 'lime': 7737, '//twitpic.com/t47m': 271, 'vibe': 13538, 'neon': 8857, 'green': 5756, 'yeahh': 14235, 'buddie': 2378, 'contagious': 3235, 'culture': 3496, 'igot': 6606, 'jaw': 7024, 'brendon': 2292, 'offered': 9185, 'package': 9442, 'omgomgomg': 9255, 'flower': 5078, 'hmmmmmmmmmmmmmmmmmmmmmmmmmmmmmmmmmmmmmmmmmmmmmmmmmm': 6306, 'ga': 5388, 'inner': 6791, '..........': 143, 'suv': 12347, 'hazard': 6102, 'concerned': 3169, 'diviney': 4021, 'opened': 9304, 'whoop': 13928, 'idealist': 6571, 'case': 2626, 'appear': 1301, 'dropped': 4192, 'somewhere': 11776, 'n+': 8738, 't3': 12425, 'pu': 10207, 'uhp': 13273, 'shakespeare': 11282, 'hahahahahahjdshgskdg': 5949, 'marry': 8153, 'value': 13489, 'telemarketing': 12576, 'marketing': 8143, 'scheme': 11084, 'noone': 9015, 'truly': 13096, 'biazillion': 1953, 'meet': 8279, 'individual': 6748, 'helped': 6180, 'hopefully': 6395, 'likely': 7730, 'huddling': 6460, '30something': 534, 'sureeee': 12321, 'wrestling': 14138, '2.': 434, 'wk': 14039, 'explain': 4725, 'blowtorch': 2108, 'feeling': 4910, 'scion': 11099, 'disc': 3967, 'promo': 10154, 'mhm': 8366, 'skippy': 11553, 'unknowlingly': 13357, 'unintentionally': 13349, 'raised': 10366, 'science': 11095, 'shall': 11286, '13': 385, 'dammnn': 3596, '1st': 429, 'ima': 6654, 'wheres': 13891, 'brah': 2256, 'inworship': 6886, 'chuck': 2899, 'she-wolf': 11315, 'possible': 9956, 'root': 10870, 'faithless': 4807, 'struck': 12173, 'amor': 1166, 'uhm': 13268, 'frontal': 5292, 'nudity': 9083, 'tease': 12548, '=p': 759, 'bojangles': 2144, 'surprised': 12330, 'sqz': 11978, 'pg': 9687, 'fort': 5197, 'myers': 8717, 'in=laws': 6710, 'excited': 4685, 'ughh': 13250, 'packing': 9445, 'growl': 5797, 'father': 4860, 'typical': 13219, 'english': 4503, 'cracked': 3374, 'stil': 12086, '/3': 309, 'slapped': 11572, 'rescued': 10658, 'bat': 1749, 't-mobile': 12416, 'jking': 7101, 'brit': 2307, 'arrangement': 1368, 'politician': 9888, 'anally': 1179, 'raped': 10393, 'lube': 7961, 'knoow': 7391, '-p': 118, 'control': 3253, 'definition': 3737, 'mommy': 8537, 'cheerleader': 2798, 'hahha': 5967, 'ticketing': 12815, 'policy': 9882, 'payed': 9571, 'thw': 12806, 'rong': 10860, 'bizness': 2025, 'sandman': 11002, 'talked': 12470, 'bug': 2386, 'harder': 6046, 'accepted': 849, 'sibling': 11450, 'return': 10709, '|': 14434, 'tech': 12553, 'bwahaha': 2477, 'rhyme': 10745, 'zealand': 14402, 'twitterholic': 13197, 'greg': 5761, 'muuuuuuch': 8702, 'cry': 3470, 'immortal': 6669, 'invincible': 6878, 'privileged': 10102, 'all-powerful': 1076, 'above-da-law': 830, 'i-am-da-law': 6535, 'justify': 7203, 'fair': 4800, 'law': 7580, 'hows': 6443, 'ram': 10371, '360': 556, '360gb': 558, 'dude.i': 4234, '160gb': 400, 'dragging': 4143, \"g'night\": 5383, 'hawt': 6097, 'girlie': 5572, 'woot': 14081, 'swine': 12383, 'considering': 3216, 'laid': 7498, 'dawg': 3651, 'appropriate': 1318, 'nursing': 9096, 'serve': 11241, 'counting': 3335, 'sugary': 12257, 'effect': 4377, 'health': 6120, 'sallie': 10979, 'mae': 8043, 'divorce': 4023, 'minimal': 8439, 'snicker': 11692, 'whattttt': 13880, 'o________o': 9126, 'roller': 10847, 'coaster': 3028, 'extremely': 4747, 'shoot': 11387, 'guild': 5834, 'listening': 7769, 'deathcab': 3689, 'cutie': 3537, 'burning': 2428, 'staff': 11998, 'etc': 4599, 'yurr': 14378, 'reall': 10451, 'skinny': 11548, 'bitchh': 2013, 'isn': 6928, 'insult': 6824, 'talkn': 12477, 'trash': 13036, 'skank': 11533, 'isnt': 6929, 'u.': 13226, 'laterrrr': 7553, 'blanket': 2056, 'restriction': 10687, 'definitive': 3738, 'geared': 5478, 'towards': 12988, 'specific': 11872, 'i.e': 6537, 'slander': 11568, 'libel': 7686, 'obscenity': 9142, 'jocker': 7113, '50': 627, 'upstate': 13411, 'ny': 9107, 'hat': 6063, 'yell': 14252, 'msn': 8631, 'didn': 3899, 'jet': 7077, 'boat': 2128, \"y'all\": 14205, 'kitty': 7362, 'vid': 13552, 'purge': 10241, 'racially': 10342, 'religiously': 10589, 'gender-based': 5496, 'awfully': 1556, 'virgin': 13583, 'sunday': 12279, 'love-david': 7925, 'gray/r': 5744, 'november/r': 9069, 'destin': 3839, 'florida/': 5075, 'phony': 9714, 'giggling': 5557, 'lamb': 7507, 'category': 2646, 'gotcha': 5693, 'nite': 8959, 'cutee': 3533, 'lovee': 7933, 'hunny': 6500, 'anywhoo': 1283, 'vmarie': 13604, 'bomb': 2149, 'q': 10267, 'habit': 5896, 'awwww': 1571, 'adorable': 934, 'goddamn': 5632, 'kj': 7364, '49': 607, '//tinyurl.com/5mq4sq': 224, 'duke': 4245, 'lovely': 7940, 'penguin': 9616, 'edit': 4358, 'ashleypalmero': 1396, 'photography': 9719, 'l7': 7476, 'mainly': 8062, 'consolidating': 3220, 'clothing': 3001, 'dayumm': 3660, 'chock': 2863, 'anonamis': 1233, 'watever': 13764, '-stephanie': 128, 'iloveyou': 6641, 'hottie': 6428, 'jew-boy': 7079, 'september': 11222, '22nd': 462, 'depends': 3795, 'p.s': 9434, 'charge': 2754, 't.v': 12423, 'bedroom': 1826, 'wearing': 13791, 'chain': 2720, 'hanging': 6020, 'guyliner': 5865, 'premiere': 10032, 'ultimate': 13281, 'prank': 10006, 'american': 1158, 'travel': 13042, 'whiskey': 13906, 'fubar': 5311, 'combo': 3098, 'design_doll': 3824, 'zunes': 14428, 'rocket': 10825, 'turn': 13139, 'ne-yo': 8816, 'favouritest': 4878, 'awe': 1544, 'evr': 4651, 'listened': 7767, 'repeatedly': 10627, 'reminded': 10609, 'dane': 3609, 'baker': 1667, 'ahve': 1007, 'ehhh': 4392, 'good/day': 5656, 'hip-hop': 6278, 'kanye': 7231, 'nick': 8921, 'gonzalez': 5651, 'wedding': 13807, 'shud': 11433, 'grateful': 5740, 'worrying': 14109, 'country': 3337, 'twilight': 13173, 'homepage': 6351, '//mytwilightsearch.com': 198, 'summary': 12270, 'sga': 11272, 'crackfic': 3376, 'awful': 1554, 'yiyinglu': 14287, 'designed': 3825, 'connect': 3205, 'exchange': 4684, 'enabled': 4481, 'active': 890, 'sync': 12405, 'entourage': 4534, 'haaaha': 5892, 'marley': 8146, 'prollyy': 10149, 'amnesia': 1165, 'eligible': 4421, 'card': 2590, 'revocation': 10729, 'backup': 1629, 'heyy': 6217, 'anonymous': 1234, 'however': 6441, 'spell': 11883, 'hating': 6082, 'tabi': 12432, 'thanx': 12667, 'setup': 11254, 'gears2': 5479, 'ripping': 10790, 'phillips': 9700, 'ba-dum-bum': 1597, 'vote': 13622, 'web-voter': 13798, 'aye': 1578, 'learnin': 7614, 'anti': 1250, 'imo': 6672, 'whaaaaaaaaaat': 13861, 'hospital': 6412, 'contributed': 3251, 'five': 5019, 'orlando': 9345, 'showed': 11417, 'secret': 11164, 'animated': 1211, 'gif': 5549, 'calamityjen': 2520, 'beaten': 1798, 'l3+': 7475, 'v3': 13464, '3x': 574, 'y0u': 14208, 'b3': 1593, 'ky': 7463, '3v': 573, 'br': 2241, 'climax': 2978, 'scene': 11081, 'parodied': 9509, 'epic': 4551, 'craziest': 3400, 'raccoon': 10337, 'spent': 11893, 'programmed': 10141, 'machine': 8029, 'slap': 11570, 'blast': 2060, 'tinyurl': 12850, 'disgusted': 3982, 'revolting': 10730, 'prevalent': 10065, 'diz': 4027, 'gang': 5430, 'initiation': 6783, 'begin': 1846, 'downing': 4124, 'dan': 3603, 'panosian': 9480, 'queen': 10297, 'love/hate/power/savy/hollywood': 7930, 'cake': 2518, 'scam': 11063, 'resell': 10660, 'info': 6767, 'wet': 13855, 'swansea': 12354, 'detention': 3849, 'alright': 1112, 'ack': 877, 'doncha': 4082, 'killing': 7332, 'sugar': 12256, 'deserved': 3821, 'thunking': 12802, 'friggin': 5277, \"'thunking\": 71, 'daft': 3579, 'con': 3163, 'humping': 6493, 'jesper': 7072, '60-day': 662, 'ban': 1686, 'mtf': 8636, 'messenger': 8340, 'stuck': 12181, 'auntie': 1497, 'kim': 7334, 'grassy': 5738, 'ass=': 1423, 'crock': 3446, 'thankfully': 12655, 'mniehaus': 8493, 'mm': 8481, 'naples': 8775, 'tow': 12986, 'overnight': 9402, 'detroit': 3851, 'airport': 1021, 'margin': 8131, 'mobo': 8501, 'manufacturer': 8117, 'firmware': 5005, 'enter': 4520, 'contest': 3240, 'chopped': 2874, 'est': 4590, 'bambi': 1682, 'okaythats': 9227, 'immature': 6665, 'lmmmao': 7812, 'walkin': 13699, 'chuggin': 2901, 'mug': 8655, 'shoulda': 11404, 'beeen': 1830, 'trashman': 13038, 'stalker': 12008, 'arrested': 1370, 'supporter': 12309, 'felt': 4921, 'arrest': 1369, 'hardly': 6048, 'ton': 12910, 'stumbled': 12195, '//is.gd/a8cz': 181, '7th': 699, 'nicely': 8917, 'molding': 8523, 'nerdy': 8863, 'embrace': 4455, 'suprise': 12316, 'launch': 7571, 'nerdz': 8864, 'rool': 10864, 'vv': 13637, 'jealousy': 7039, 'bowling': 2226, 'eyez': 4754, 'rndm': 10803, 'retweeting': 10714, 'sucker': 12238, 'lawyer': 7584, 'vness': 13606, 'finesse': 4984, 'schedule': 11083, 'toddler': 12884, 'equal': 4557, 'excel': 4675, 'whine': 13898, 'bc': 1773, 'bully': 2405, 'sldnt': 11580, 'boxer': 2229, 'dance': 3605, 'jumpin': 7187, 'junk': 7193, 'muchly': 8647, 'proud': 10183, '//tinyurl.com/65kpkr': 230, 'patient': 9556, 'advocate': 947, 'ed': 4353, 'admin': 925, 'preface': 10023, 'launching': 7572, 'history': 6290, 'industry': 6752, 'pollgod': 9891, 'sp': 11835, 'member': 8300, 'cuter': 3534, 'abrams': 832, 'scorsese': 11110, 'lucas': 7963, 'similar': 11480, 'fanboy': 4826, 'uranus': 13416, 'hahahahhahahahha': 5959, 'crack': 3372, 'pluto': 9851, 'definantly': 3731, 'heyyy': 6218, 'lexxxi': 7678, 'wannnaa': 13718, 'llikkkee': 7795, 'asskk': 1434, 'meeh': 8277, 'somee': 11764, 'quesstionss': 10304, 'onn': 9271, 'myy': 8733, 'formspringggg': 5188, 'herrree': 6205, 'pizza': 9793, 'nc': 8811, 'no-sign': 8972, 'rat': 10408, 'surprisingly': 12331, 'sig': 11456, \"'ugh\": 74, 'dc': 3664, 'timberlakes': 12837, 'short': 11395, 'stack': 11996, 'timmy': 12842, 'honored': 6374, 'mo': 8495, 'fo': 5095, 'peeped': 9603, 'wizard': 14038, 'homeboy': 6346, 'blue': 2112, 'conflict': 3192, 'seriousss': 11237, 'believing': 1865, 'allllllll': 1086, 'neeeeeeed': 8838, 'byyyy': 2487, 'ay': 1577, 'ayyyy': 1582, 'luv': 7989, 'careful': 2598, 'soy': 11834, 'joy': 7157, 'tit': 12858, 'hardcore': 6044, 'leg': 7632, 'simple': 11483, 'neglected': 8842, 'winter': 14013, 'sort': 11805, 'torn': 12948, 'runner': 10934, 'tainting': 12453, 'private': 10101, 'visited': 13595, 'ball': 1673, '%': 3, '3.5': 526, 'voting': 13625, 'mccain': 8220, '18': 412, '//snipurl.com/9a5ct': 209, 'wnna': 14043, 'given': 5582, 'lotta': 7909, 'distaste': 4003, 'alphabet': 1107, 'twinkle': 13177, 'tune': 13132, 'emotionally': 4472, 'detached': 3845, 'twittr': 13204, 'prob': 10107, 'lyk': 8001, 'nowhere': 9072, 'harry': 6056, 'potter': 9976, 'rubbish': 10913, '8': 700, 'sleet': 11587, 'fluffy': 5086, 'wx': 14177, 'snowww': 11715, 'wind': 13999, 'talkin': 12473, 'fuckstick': 5329, '5th': 656, 'duffle': 4239, 'suitcase': 12263, 'ech': 4343, 'sweat': 12360, 'twice': 13171, 'flake': 5032, 'zippo': 14414, 'fueled': 5331, 'broken': 2326, 'tracee': 13001, 'girlfriend': 5571, 'fux': 5373, 'grandma': 5725, 'teach': 12534, 'collard': 3072, 'fresh': 5260, 'garden': 5438, 'curse': 3519, 'zune': 14427, 'enuff': 4538, 'blk': 2084, 'polo/cargo': 9895, 'pants/white': 9482, 'moving': 8612, 'hooked': 6384, 'inbox': 6716, 'sylar/peter': 12397, 'middle': 8392, 'condolence': 3182, '//twurl.nl/i3pwps': 296, 'latter': 7562, 'taste': 12505, 'politics': 9889, 'smith': 11657, 'mammal': 8084, 'prophet': 10165, 'heterosexual': 6210, 'anal': 1178, 'goo': 5652, '18r': 417, 'borthers': 2198, 'jordy': 7149, 'ahhaha': 1002, 'lovin': 7943, 'hiphop': 6279, 'ester': 4594, 'dean': 3681, 'thee': 12683, 'shyyttt': 11447, 'miniature': 8438, 'dressing': 4171, 't-shirt': 12419, 'booty': 2188, 'leisurely': 7643, 'fate': 4858, 'feeding': 4906, 'waging': 13685, 'breding': 2288, 'odd': 9167, 'bloxx': 2109, 'banned': 1703, 'worstseoblog': 14112, 'system': 12412, 'prohibited': 10144, 'url': 13427, 'database': 3634, 'hate-and-discrimination': 6066, 'uhhh': 13264, 'talented': 12467, '14': 388, 'zac': 14394, 'efron': 4381, 'duck': 4227, 'bartender': 1730, 'clearly': 2966, 'decepticonian': 3702, 'incomprehensible': 6729, 'steal': 12048, 'hood': 6377, 'yeshhh': 14268, 'sir': 11509, 'att': 1472, 'devil': 3860, 'donated': 4081, '100': 350, 'prop': 10161, '8.': 704, ':shrug': 750, 'squaresies': 11964, 'jaded': 6988, 'ruined': 10924, 'robot': 10818, 'dam': 3591, 'stll': 12096, 'favoroute': 4876, 'feedback': 4905, 'socialmedian': 11738, 'adjustment': 924, 'joanne': 7108, 'angel': 1198, 'xxxorcist': 14203, 'consultant': 3229, 'fly': 5088, 'bit': 2004, 'method': 8351, 'dying': 4289, 'surely': 12322, 'substance': 12223, 'barely': 1719, 'fourleaf': 5209, 'clover': 3004, 'resolved': 10672, 'quickly': 10312, 'antler': 1259, 'nah': 8754, 'extend': 4742, 'paradigm': 9491, 'greeting': 5760, 'aaye': 809, 'richard': 10756, 'gre': 5745, 'gay-re': 5463, 'jericho': 7063, 'cheater': 2782, 'thrilled': 12774, 'yuuuuuuu': 14385, 'regarding': 10546, 'tea': 12532, 'obsession': 9147, 'thermite': 12708, 'shape': 11295, 'taco': 12440, 'closed': 2995, 'per': 9629, 'temporarily': 12595, 'adium': 923, '75-80': 686, 'cpu': 3368, 'religion': 10587, 'bfe': 1940, 'combat': 3093, 'glow': 5611, 'lolll': 7851, \"'cause\": 15, 'creamy': 3410, 'soup': 11823, 'grr': 5801, 'vicariously': 13542, 'dammit': 3594, 'wild': 13980, 'talkk': 12476, '...........': 144, '999': 739, 'twist': 13180, 'smelled': 11645, 'caught': 2654, 'red': 10513, 'wing': 14007, 'popcorn': 9920, 'grocery': 5784, 'pretend-to-cut': 10053, 'clique': 2989, 'spring': 11951, 'charlottesville': 2763, 'l.a': 7470, 'tour': 12980, 'realized': 10449, 'intention': 6836, 'twin': 13174, 'hammer': 6002, 'norwich': 9042, '163': 401, 'letter': 7667, 'australia': 1502, 'yolanda': 14292, 'whooo': 13927, 'choke': 2867, 'fire': 4994, 'consider': 3213, 'peril': 9643, 'aries': 1358, 'itself': 6951, 'ditching': 4015, 'cross': 3451, 'dodge': 4050, '//tinyurl.com/63gsj7': 229, 'naww': 8807, '58390': 651, 'stephanie': 12060, 'meyer': 8360, 'hotel': 6422, 'wi-fi': 13957, 'needed': 8835, 'visible': 13591, 'bombing': 2153, 'pro-military': 10106, 'military': 8413, 'trouble': 13081, 'swedish': 12363, 'fish': 5011, 'reeeeses': 10523, 'yum': 14368, 'whatsoever': 13878, 'boot': 2186, 'reasonable': 10465, 'smaller': 11632, 'mikey': 8403, 'deprived': 3804, 'animal': 1210, 'oz': 9429, 'rockmount': 10829, 'fleur': 5051, 'de': 3672, 'li': 7684, 'black/silver': 2030, 'chfristmas': 2826, 'form': 5177, 'bt': 2361, 'chica': 2829, 'pero': 9648, 'pancake': 9474, 'sup': 12289, 'e.a': 4298, 'fringe': 5281, 'experiment': 4720, '60': 661, 'whaddya': 13863, 'against': 969, 'curve': 3522, 'gym': 5874, 'trimet': 13070, 'entertain': 4525, 'beef': 1831, 'jerky': 7066, 'nuno': 9094, 'bettencourt': 1928, 'victoriau2019s': 13550, 'toby': 12881, 'truck': 13090, 'rental': 10621, 'storage': 12118, 'exist': 4698, 'outlier': 9384, 'msg': 8628, 'success': 12227, 'circumstance': 2922, 'self-made': 11193, 'concept': 3167, 'endless': 4493, 'supply': 12306, 'pair': 9461, 'blood': 2099, 'skidding': 11542, 'grass': 5736, 'tide': 12818, 'pete': 9675, 'iz': 6961, 'st.': 11989, 'bernard': 1898, 'particularly': 9519, 'dunkin': 4266, 'campus': 2555, 'sheen': 11321, 'covered': 3352, 'salt': 10982, 'diet': 3905, 'edith': 4360, '//tinyurl.com/6a8yrr': 234, 'garland': 5440, \"'fuck\": 25, 'ehealthtrust': 4389, 'bugging': 2389, 'underneath': 13317, 'hahahahahahahha': 5946, 'useing': 13440, 'forever': 5165, 'taskpaper': 12504, 'sanity': 11008, 'gtd': 5814, 'hitlist': 6294, 'jive': 7095, 'sucka': 12235, 'cinque': 2918, 'hint': 6276, 'icing': 6557, 'skywriting': 11563, 'suggest': 12258, 'tag': 12445, 'selfish': 11195, 'meaningful': 8248, 's.o': 10951, 'humanity': 6480, 'kardashians': 7236, 'kendra': 7278, 'gator': 5455, 'stab': 11991, 'dare': 3620, 'sumthan': 12274, 'hidden': 6236, 'glacier': 5587, 'cap': 2578, 'creature': 3418, 'beyond': 1938, 'iccey': 6551, 'polar': 9878, 'dragon': 4144, 'lying': 8000, 'perhaps': 9642, 'horror': 6409, 'beeped': 1835, 'gad': 5398, 'vera': 13525, 'corination': 3293, 'rover': 10898, 'lived': 7784, '-kinly': 115, 'ignorance': 6599, 'rant': 10388, 'amberto': 1151, 'mannered': 8111, 'small': 11631, 'imitation': 6661, 'yogurt': 14291, 'recover': 10505, 'trader': 13009, 'greek': 5755, 'style': 12209, 'clueless': 3010, 'witty': 14035, 'eloquent': 4429, 'charming': 2766, 'swoon': 12390, 'thronkus': 12778, 'expecting': 4714, 'spotted': 11940, 'lithia': 7776, 'whaha': 13864, 'ja': 6969, 'maar': 8019, 'het': 6209, 'zon': 14422, 'raar': 10333, 'idee': 6573, 'ze': 14401, 'lezen': 7680, 'en': 4480, 'bryar': 2358, 'iets': 6591, 'tegen': 12568, \"'gezegt\": 26, 'heeft': 6151, 'je': 7037, 'moet': 8515, 'vragen': 13630, '160': 399, '36': 554, 'grannie': 5728, 'disneyland': 3990, 'choking': 2869, 'ow': 9417, 'splinter': 11919, 'regular': 10558, 'size': 11527, 'mini': 8436, 'perfer': 9636, 'sadly': 10959, 'blink': 2076, 'affect': 953, 'popularity': 9927, 'evil': 4644, 'wed': 13805, 'hemp': 6183, 'bracelet': 2245, 'earring': 4313, 'warty': 13738, 'gobblefuck': 5626, 'refers': 10531, 'graphic': 5734, 'error': 4575, 'capacity': 2579, 'carried': 2613, 'junsten': 7196, 'similarly': 11481, 'thenn': 12696, 'alpha': 1106, 'cloud': 3002, 'shaped': 11296, 'brings': 2306, 'prosperity': 10168, 'blew': 2073, 'concert': 3170, 'lacey': 7486, 'brandi': 2267, 'm.': 8009, 'megan': 8285, 'priceless': 10076, 'president': 10043, '{': 14433, 'chalupa': 2730, 'tb': 12525, 'pastor': 9544, 'homophobic': 6363, 'racist': 10345, 'compare': 3135, 'pedophile': 9595, '1900s': 420, 'mvie': 8704, 'trailor': 13016, 'parl': 9506, 'brilliant': 2303, 'newspaper': 8894, 'route': 10893, 'happening': 6031, 'inevitable': 6756, 'ughh~': 13252, 'uhmmmm': 13272, 'clarissssssa': 2947, '33333333': 547, 'gots': 5696, 'urgh': 13422, 'no1': 8973, 'hopin': 6396, 'casey': 2627, 'grrr': 5802, 'zone': 14423, 'darn': 3627, 'cv': 3543, 'frickin': 5265, 'turnover': 13146, 'flag': 5031, 'sd': 11139, 'denver': 3782, 'lead': 7602, 'deserve': 3820, 'me-go': 8239, '70': 679, 'cheque': 2814, 'reaction': 10435, 'jp': 7160, 'hafta': 5907, 'destiny': 3842, 'security': 11169, 'tsand': 13110, 'jungle': 7192, 'lotto': 7911, 'yellow': 14256, 'souljaboy': 11814, \"'damn\": 19, 'bac': 1620, 'yak': 14219, 'pint': 9773, 'indian': 6743, 'sincerely': 11489, 'nahhh': 8756, 'calm': 2536, 'cried': 3432, 'rough': 10889, 'economy': 4350, 'strange': 12131, 'bake': 1665, 'oven': 9391, 'buyin': 2472, 'brat': 2273, 'iphones': 6892, 'betty': 1931, 'ugler': 13254, 'psh': 10196, 'tip': 12851, 'integrate': 6830, 'welcome': 13826, 'delta': 3762, 'chi': 2827, 'bahama': 1657, 'breeze': 2290, 'sealed': 11144, 'deal-': 3679, 'unfortunately': 13343, 'surfing': 12326, \"'net\": 44, '4am': 610, 'janet': 7012, 'blacktionary': 2040, 'prouder': 10184, 'teaching': 12537, 'catch': 2640, 'blogtv': 2095, 'too-didnt': 12922, 'appreciated': 1316, 'god-that': 5628, 'flickr': 5054, 'quiz': 10320, 'quizzical': 10321, 'blind': 2074, 'windy': 14004, 'tch': 12528, 'twitteriffic': 13198, 'looooooool': 7883, 'frozen': 5296, 'february': 4901, 'listener': 7768, 'pplz': 9994, 'theirs': 12688, 'crue': 3461, 'buying': 2473, 'horse': 6410, 'rid': 10765, 'freestyle': 5246, 'fighting': 4958, 'trial': 13058, 'outside': 9389, 'bro-in-law': 2317, 'eco': 4347, 'nicest': 8918, 'recycled': 10511, 'toilet': 12890, 'lip': 7754, 'immune': 6671, 'oohh': 9279, 'bahah': 1652, 'sumthing': 12276, 'lovwe': 7946, 'closing': 2999, 'iced': 6555, 'radar': 10348, 'bu-bye': 2367, 'ikno': 6624, 'grul': 5808, 'fruit.r': 5299, 'strawberry': 12141, 'watermelon': 13762, 'berry': 1900, 'rasp': 10404, 'ughhh': 13251, 'melon': 8295, 'banana': 1687, 'pineapple': 9767, 'cherry': 2815, 'imposter': 6692, 'thousand': 12762, 'pregnant': 10028, 'gak': 5413, 'mungkin': 8672, 'berhasil': 1896, 'persistent': 9652, 'gmn': 5619, 'simply': 11485, 'smash': 11639, \"t'was\": 12414, 'hohoto': 6328, 'd40': 3569, 'slash': 11574, 'missread': 8463, 'hittin': 6295, 'bestttt': 1914, 'absolutely': 837, 'insane.hate': 6796, 'bearer': 1793, 'pistol': 9783, 'dede': 3712, 'hola': 6329, 'orli': 9346, 'www.luckystartups.com': 14174, 'interview': 6851, 'peep': 9602, 'ex-friend': 4667, 'o_0': 9125, '456': 601, 'blip': 2080, 'malicious': 8076, 'usual': 13446, 'nkotb': 8963, 'strip': 12162, 'poker': 9875, 'trainer': 13018, 'treadmill': 13047, 'enjoy': 4506, 'avril': 1537, 'nin': 8952, 'bsa': 2360, 'denying': 3784, 'maury': 8207, 'clear': 2964, 'daddy': 3576, 'suspect': 12342, 'multiple': 8664, 'infection': 6758, 'gout': 5699, 'med': 8264, 'sleepy': 11586, 'vvv': 13640, 'jbatman': 7032, 'snake': 11676, 'withdraw': 14029, 'aggressive': 976, 'commenting': 3119, 'fuck-ton': 5314, 'widely': 13962, 'newcastle': 8887, '-1': 96, '-6': 99, 'brassic': 2272, '//www.formspring.me/bornbadd': 302, 'process': 10117, 'fashion': 4846, 'reporter': 10640, 'reflect': 10532, 'research': 10659, 'wrestle': 14136, 'tilly': 12830, 'petie_martin': 9679, 'shondor': 11385, 'shabbos': 11276, 'donnie': 4086, 'addictive': 913, 'repeat': 10626, \"'93\": 10, '29-5-4': 487, 'swim': 12381, 'shark': 11302, 'van': 13491, 'dyke': 4290, 'oi': 9213, 'mac': 8022, 'pro': 10104, 'theflygirl': 12685, 'negro': 8844, 'elbow': 4403, 'blackjack': 2035, 'resorted': 10674, 'violence': 13578, 'sixteen': 11524, 'epitome': 4555, 'skers': 11540, 'struggle': 12175, 'grammar': 5722, 'peter': 9677, 'dear': 3683, 'gradeschool': 5715, 'wake.=': 13691, 'actual': 895, 'buckeye': 2375, 'peanut': 9588, 'w/chocolate': 13657, 'yummm': 14371, 'area': 1340, 'physical': 9725, 'feature': 4895, 'complimented': 3159, 'ahaa': 987, 'onee': 9266, 'eeeek': 4372, 'surround': 12335, 'sens': 11212, 'good.can': 5655, 'd/a': 3563, 'cheating': 2783, 'ax': 1574, 'murderer': 8675, 'soap': 11723, 'arent': 1344, 'due': 4237, 'suspicious': 12344, 'violent': 13579, '9ish': 742, 'putting': 10260, 'kennel': 7281, 're-think': 10432, 'set-up': 11249, 'ironically': 6902, 'twat': 13154, 'ahhahar': 1003, 'define': 3734, 'inconsiderate': 6730, 'mourning': 8599, 'enemy': 4496, 'passover': 9537, 'ritual': 10795, 'jew': 7078, 'defend': 3724, 'ourselves': 9372, 'relive': 10590, 'danced': 3606, 'wall': 13701, 'mart': 8158, 'betoven': 1923, 'bahahaha': 1654, 'un': 13293, 'endure': 4495, 'greed': 5752, 'meatspace': 8259, 'winding': 14001, \"'super\": 63, 'thnksss.': 12746, 'thass': 12669, 'ohhhhh': 9205, 'hi': 6231, 'tata': 12510, 'siiiigh': 11466, 'folding': 5109, 'becuz': 1823, 'entouch': 4533, 'brought': 2337, '//tinyurl.com/44aaob': 217, 'tonite': 12916, 'goodbye': 5658, 'mass': 8180, 'drumming': 4204, 'psshhh': 10198, 'mpls': 8619, 'stfu': 12078, 'piece': 9745, 'shiit': 11351, 'iglazer': 6597, 'announcement': 1227, 'defrag': 3739, 'fleece': 5049, 'collectible': 3075, 'continuity': 3247, 'hang': 6018, 'salem': 10975, 'portland': 9943, 'seahawks': 11142, 'cheer': 2797, 'opponent': 9310, 'and/or': 1186, 'negativity': 8841, 'meaningless': 8249, 'rick': 10760, 'warren': 13736, 'hatemonger': 6076, 'suit': 12262, 'strong': 12169, 'swaying': 12357, 'wii': 13974, 'childhood': 2838, 'youthful': 14336, 'impetuosity': 6681, 'sl': 11564, 'incredibly': 6736, 'shiver': 11371, '97': 730, 'besides': 1902, 'rapping': 10398, 'titty': 12862, 'jellyfish': 7053, 'soul-stealing': 11812, 'qc': 10277, 'overtaken': 9410, 'kfc': 7297, 'mashed': 8175, 'potatoe': 9972, 'scan': 11064, 'inking': 6789, 'mylar': 8719, 'penciling': 9610, 'cheek': 2794, 'chipmunk': 2855, 'righteous': 10780, 'scream': 11123, 'shawty': 11309, 'passed': 9531, 'momlogic': 8532, 'dollar': 4068, 'yelled': 14253, 'sunscreen': 12285, 'haha.yeah': 5913, 'cbd': 2664, 'seeeveeeennn': 11178, 'ummm': 13288, 'hottt': 6429, 'seniorrr': 11211, 'karrine': 7242, 'eva': 4614, 'mendes': 8308, 'zoe': 14417, 'vanessa': 13493, 'muffen': 8653, 'twit': 13182, 'ta-dah': 12427, 'lunch': 7980, 'clown': 3005, 'uhhhh': 13265, 'welllll': 13832, 'hahahaah': 5920, 'suree': 12319, 'sikeee': 11467, 'cow': 3355, 'acceptable': 848, 'scissors': 11102, 'knife': 7382, 'spear': 11864, 'sword': 12392, 'dildo': 3925, 'cattle': 2652, 'prod': 10125, 'disney': 3989, 'pocahontas': 9860, '666': 667, '6': 658, 'spending': 11892, 'literal': 7773, 'heaven': 6140, '//twitpic.com/xn5j': 291, 'untie': 13384, 'saltan': 10983, 'snuck': 11718, 'aidan': 1010, 'crib': 3431, 'screaming': 11124, 'squeezing': 11970, 'tummy': 13130, 'pirateesss': 9777, 'printing': 10093, 'press': 10045, 'moron': 8575, 'mah': 8053, 'harem': 6050, 'natl': 8795, 'hurricane': 6506, 'itd': 6945, 'folded': 5106, 'paaaaaaaarrrtttyyyy': 9437, 'lonesome': 7862, 'touchpad': 12973, 'usb': 13434, 'toshiba': 12960, 'blame': 2052, 'niggaitus': 8936, 'roth': 10885, 'ward': 13724, 'polamalu': 9877, 'candyman': 2570, 'mega': 8282, 'foodie': 5132, 'session': 11247, 'penis': 9617, '58': 645, '//tinyurl.com/59blcl': 220, 'nearly': 8820, 'big-ass': 1968, 'goodfellas': 5660, 'dependent': 3793, 'covering': 3353, 'freeze': 5248, 'stair': 12003, 'lenee': 7651, 'bo': 2123, 'incense': 6720, 'episcopalian': 4553, 'choked': 2868, 'pimp': 9761, \"'smart\": 59, 'shh': 11343, 'any1': 1264, 'mwah': 8706, \"y'know\": 14206, 'queenofspain': 10298, 'east': 4324, 'coast': 3027, 'ahem': 998, 'belgium': 1860, 'dumber': 4254, 'easyyy': 4333, 'ventrilaquist': 13522, 'dummy': 4258, 'deathly': 3690, 'afriad': 959, '40': 589, 'hoodsag': 6380, 'workin': 14099, 'cutting': 3540, 'bikerswag': 1980, 'thiss': 12741, 'fer': 4926, 'couldnt': 3328, 'sandra': 11003, 'ooo': 9281, 'hr': 6447, 'closet': 2998, 'un-pc': 13295, 'chalky': 2725, 'watermark': 13761, 'image': 6656, 'search': 11148, 'bored': 2191, 'nagging': 8753, 'lemon': 7647, 'peel': 9601, 'base': 1731, 'supposedly': 12314, 'citrus': 2926, 'foiled': 5103, 'foolproof': 5140, 'hpy': 6446, 'bthdy': 2362, 'apologizing': 1293, 'overactive': 9394, 'hormone': 6400, 'pretzel': 10063, 'bomb-diggity': 2150, 'temperature': 12591, 'tundra': 13131, 'alrightt': 1113, 'std': 12044, ':0': 746, 'fyi': 5380, 'rosary': 10874, '31st': 537, 'uplifting': 13402, 'avocado': 1534, \"'good\": 27, 'indulged': 6751, '2day': 492, 'homemade': 6350, 'nacho': 8748, 'olive': 9245, 'notice': 9057, 'forgiven': 5172, 'shelter': 11331, 'hiccup': 6235, 'scaring': 11074, 'cure': 3510, 'tail': 12448, 'perf': 9632, 'snl': 11697, 'sounded': 11820, 'hoarse': 6313, 'jaybee': 7028, 'floppy': 5073, 'disk': 3986, 'paint': 9454, 'retro': 10707, '//bkite.com/02rhw': 169, 'linux': 7753, 'gyrls': 5878, 'bi': 1948, 'lezzboo': 7681, 'rice': 10753, 'wordpress': 14088, 'boa': 2124, 'pipe': 9774, 'table': 12437, 'laptop': 7529, 'cord': 3289, 'strangle': 12134, 'chisel': 2860, 'buddy': 2380, 'all-natural': 1075, 'brainwashed': 2260, 'forum': 5202, 'bey': 1936, 'retrieve': 10706, 'nickname': 8925, 'trailer': 13015, 'ww2': 14167, 'playa': 9818, 'opaque': 9301, 'tights': 12826, 'hydrant': 6520, 'bruised': 2347, '4eva': 613, 'bad-snow-day': 1637, 'snowed': 11709, 'positive': 9952, 'noooooooooooooo': 9023, 'boyy': 2238, 'decision': 3706, 'manipulative': 8104, 'uphill': 13401, 'climb': 2979, 'branding': 2268, 'ballfuck': 1674, 'excellent': 4676, 'tdhurst': 12530, 'fraternity': 5230, 'pickle': 9737, 'scary': 11078, 'bread': 2278, 'w2': 13668, 'bousta': 2221, 'promote': 10156, 'redcliffe': 10515, 'wimp': 13994, '16f': 404, '2nite': 513, 'yeow': 14258, 'donkey': 4084, 'interwebs': 6853, 'surprise': 12329, 'u2013': 13233, '//veganom.com/': 297, 'garbage': 5436, 'perk': 9646, 'buttercup': 2459, 'priority': 10095, 'glorous': 5608, 'shopper': 11390, 'nana': 8769, 'ic': 6550, 'calorie/fat': 2538, 'eagle': 4302, 'six': 11523, 'frack': 5213, '7a-11p': 695, 'w/kids': 13658, 'informs': 6772, 'sense': 11214, 'community': 3128, 'half-serious': 5990, '3d': 566, 'omgosh': 9256, 'comfort': 3106, 'land': 7517, 'leader': 7603, 'wanderer': 13712, 'faith': 4806, 'mayag': 8209, 'va': 13469, 'heyheatherr': 6214, 'weatherr': 13795, 'wussup': 14160, 'ahahaha': 992, 'babershop': 1607, 'ahahaaa': 991, 'pulling': 10224, 'desperado': 3832, 'tactic': 12442, 'yur': 14377, 'shez': 11342, 'probly': 10113, 'lonely': 7861, 'flat': 5041, 'chested': 2817, 'ckant': 2935, 'anonymus': 1237, 'dumm': 4257, 'integral': 6829, 'plot': 9839, 'prisoner': 10097, 'hotness': 6423, 'ace': 868, 'comeback': 3101, \"i'd\": 6530, 'kinky': 7347, 'heck': 6147, 'mp': 8615, 'central': 2697, 'w3wt': 13671, 'sam': 10986, 'subscriber': 12220, 'ankle': 1216, 'dick-in-a-box': 3883, 'explains': 4728, 'timberlake': 12836, 'appearance': 1302, 'ant': 1246, 'ladyboy': 7492, 'oily': 9216, 'massage': 8181, 'yourscenesucks': 14330, 'jokingly': 7136, 'remarked': 10598, 'tear': 12543, 'third': 12737, 'heineken': 6163, 'conciously': 3172, 'unconciously': 13310, 'opportunity': 9312, 'z-co': 14392, 'spec': 11866, 'dirt': 3952, 'giant': 5547, 'pocket': 9861, 'peaceful': 9585, 'sail': 10968, 'inconvenience': 6731, 'longer': 7868, 'scientist': 11098, 'plz': 9854, 'jolly': 7139, 'holly': 6338, 'racial': 10341, 'irrelevant': 6907, 'prenup': 10035, 'lo-jack': 7814, 'implanted': 6683, 'billy': 1986, 'mitchell': 8471, 'norris': 9037, 'gut': 5856, 'chip': 2853, 'remembered': 10604, 'itv': 6954, 'fa': 4764, 'gay-for-pay': 5462, 'demand': 3765, 'bur': 2419, '`': 783, 'meter': 8349, 'luke': 7975, 'hulk': 6475, 'habs': 5897, 'leaf': 7605, 'toronto': 12950, 'embracing': 4456, 'wpmu': 14130, 'gorgous': 5684, 'puke': 10221, '191': 421, 'yuuppiitsannee': 14382, 'hiiemily': 6252, 'terrible': 12616, 'igo': 6604, 'lakez': 7503, 'karl': 7240, 'frustrated': 5300, 'chanel': 2736, 'mr.': 8621, 'lagerfeld': 7495, 'narrow': 8778, 'hold': 6330, 'steady': 12046, 'afterwards': 967, 'illegal': 6631, 'tempted': 12597, 'misbehave': 8450, 'sympathy': 12403, 'hobbie': 6314, 'o_o': 9128, 'shy': 11445, '500.': 629, 'michael': 8375, 'jackson': 6984, 'paymt': 9575, 'yucky': 14360, 'hitch': 6292, 'hike': 6255, \"c'mere\": 2491, 'sans': 11010, 'intentionally': 6837, \"'sux\": 65, \"'sucks\": 62, 'limit': 7738, 'cash': 2628, 'jello': 7050, 'damnit': 3600, 'teacup': 12538, 'bitchy': 2017, 'longview': 7870, 'data': 3633, 'ya.yea': 14212, 'bigger': 1970, 'probelm': 10111, 'bah': 1650, 'hots': 6424, 'juggernaut': 7172, 'uncle': 13308, 'wiki': 13977, 'demo': 3771, 'donut': 4090, 'handful': 6011, 'touring': 12982, 'bromance': 2328, 'codeword': 3054, 'losing': 7898, 'insulation': 6822, 'horrific': 6407, 'warns': 13734, 'summon': 12272, 'undead': 13312, 'follwoing': 5120, 'shayscene': 11312, 'winnie': 14010, 'cooper': 3278, 'topanga': 12942, 'yowza': 14351, 'chance': 2735, 'suing': 12261, 'ment': 8311, 'oracle': 9324, 'peoplesoft': 9623, 'login': 7833, 'enrolment': 4516, 'lung': 7983, 'flipu2013flops': 5062, 'ear': 4304, 'boardwalk': 2127, 'theotherpplwhodidntreadright': 12699, 'ev': 4613, 'lash': 7536, 'year-': 14242, 'forgetting': 5170, 'phrase': 9723, 'jeremy': 7062, 'clarkson': 2950, 'loserrr': 7897, 'young': 14319, 'glory': 5609, '300': 528, 'lmfaooooo': 7808, 'bacon': 1633, 'grown': 5798, 'weatherford': 13794, 'standing': 12014, 'hermanos': 6198, 'jamessime': 7005, 'dead_by_january_i_didnt_sign_up_for_this_shit': 3675, 'broke': 2325, 'tryin': 13107, 'nanny': 8771, 'fellow': 4920, 'soaper': 11724, 'plagiarism': 9798, 'dani': 3613, 'tel': 12571, 'disgusting': 3983, 'necessarily': 8823, 'hitler': 6293, 'general': 5499, 'germany': 5521, 'depression': 3802, \"o'malley\": 9118, 'drank': 4151, 'culprit': 3493, 'gab': 5393, 'leprechaun': 7657, 'landed': 7518, 'throat': 12777, 'constant': 3223, 'receiver': 10481, 'giver': 5583, 'prepare': 10036, 'blagojevich': 2043, 'campaign': 2552, 'slogan': 11613, 'shia': 11344, 'labeuaf': 7483, 'firm': 5004, 'nerd-o': 8862, 'gosh': 5687, 'bavarian': 1760, 'creme': 3428, 'whipped': 13903, 'distinctly': 4006, 'insider': 6803, 'it-': 6939, '9786': 733, 'pnc': 9857, 'cleveland': 2971, 'nazi': 8809, 'facist': 4779, 'commie': 3123, 'gentleman-like': 5510, 'moral': 8564, 'structure': 12174, 'pc': 9580, 'shakin': 11284, 'singin': 11494, 'colorful': 3085, 'combined': 3097, 'disco': 3970, 'babyyyy': 1618, 'paul': 9563, 'icm': 6559, 'reallllly': 10452, 'dhoni': 3871, 'marriage': 8149, 'redefined': 10516, 'ipod': 6893, 'emma': 4461, 'hahahahah': 5927, 'missssseddd': 8464, 'yuhhhhh': 14364, '222222': 458, '33333': 545, 'current': 3516, 'stress': 12151, 'acoustic': 880, 'yamaha': 14221, 'squier': 11971, 'telecaster': 12573, 'dusty': 4277, 'basement': 1734, 'clive': 2990, 'total': 12964, 'dominion': 4075, 'misstep': 8465, 'persume': 9665, 'scanman': 11066, 'asthepumpturns': 1444, 'horribly': 6406, 'judgemental': 7167, 'victim': 13548, 'zzzzzzzz': 14432, 'camper': 2553, 'jim': 7090, 'andi': 1188, 'phoned': 9712, 'invaded': 6870, 'digital': 3921, 'distributed': 4009, 'bd': 1778, 'alaska': 1042, 'postponed': 9968, 'alaskan': 1043, 'crab': 3370, 'auto': 1509, 'tuning': 13134, 'hook': 6383, 'royal': 10901, 'kicker': 7309, 'awesomes': 1552, 'rewind': 10736, 'bunny': 2418, 'mickey': 8381, 'jumbos': 7183, 'takj': 12463, 'ti': 12810, 'procrastinating': 10122, 'dm': 4032, 'misconstrued': 8451, 'timing': 12841, 'angry': 1206, 'ryan_b': 10943, 'chris': 2881, 'bangle': 1697, 'purests': 10240, 'enak': 4482, 'aja': 1027, 'wea': 13783, 'noooo': 9018, 'caffeine': 2511, 'celebrate': 2676, 'getaclewis': 5526, 'evening': 4619, 'begging': 1845, 'forgiveness': 5173, '6-year-old': 659, 'rocker': 10824, 'wtch': 14152, 'mike': 8402, 'reasoning': 10466, 'kobe': 7408, 'bryant': 2357, 'rooting': 10871, 'ohhhhhhh': 9207, 'wny': 14044, 'sc': 11060, '24th-28th': 472, 'ate': 1456, '000': 322, '________': 775, 'sears': 11151, 'sell': 11197, 'ceran': 2702, 'anyway-the': 1279, 'tale': 12464, 'pfftt': 9685, 'hve': 6517, 'popular': 9926, 'journal': 7154, 'pen': 9608, 'draw': 4153, 'payin': 9572, 'onterio': 9272, 'no-competition': 8971, 'canada': 2558, 'satan': 11030, 'cranky': 3386, 'weapon': 13788, 'survive': 12338, 'khaos': 7299, 'scar': 11067, 'jar': 7018, 'forgive': 5171, 'spooky': 11933, 'cock-tail': 3041, 'v8': 13466, 'glistening': 5599, 'dairy': 3584, 'order': 9329, 'dial': 3875, 'relegation': 10580, 'earn': 4311, 'dough': 4116, '50usd': 636, 'awz': 1573, 'liquor': 7760, 'foohl': 5134, 'approve': 1320, 'sensitive': 11215, 'mw': 8705, 'scrabble': 11118, 'tmi': 12870, 'folo': 5121, 'whaaaaat': 13862, 'kissing': 7354, 'hugging': 6466, 'estera': 4595, 'francis': 5222, 'ford': 5156, 'coppola': 3285, 'pinot': 9772, 'griego': 5770, 'offer': 9184, '30in': 532, 'referencing': 10529, 'cinema': 2914, 'display': 3994, '/nerd': 315, 'clarify-': 2946, 'punting': 10234, 'python': 10266, 'nannon_x': 8770, 'charles': 2760, 'yoooooooooouuuuuuuuuuuu': 14297, 'wutchu': 14162, 'choreography': 2877, 'aswell': 1451, 'fiat': 4946, 'sprayed': 11947, 'shaving': 11307, 'crime': 3434, 'heartbreaking': 6131, '.............................': 152, 'nemo': 8854, '........................': 151, '..................................': 153, 'fagget': 4789, 'chickhen': 2833, 'mansion': 8114, 'countryside': 3338, 'motorcycle': 8594, 'motherfucker': 8586, 'wouldve': 14124, 'maaan-fuck': 8017, 'busted': 2447, 'tryna': 13109, 'louis': 7917, 'nay': 8808, 'relevant': 10582, 'christian': 2886, 'chanukah': 2743, 'themself': 12693, 'mcr': 8234, 'humble': 6482, 'ferrell': 4929, 'yim': 14286, 'nugget': 9085, 'chuu': 2907, 'babeyy': 1608, 'canadian': 2560, '//kenny.smoovenet.com/grabpics/terrance.gif': 194, 'inferring': 6759, 'memorized': 8304, '10-4:30': 347, 'sweeet': 12366, '80': 707, 'ooops': 9294, 'interents': 6841, 'like/hate': 7725, 'jbt': 7034, 'kolika': 7414, 'kada': 7222, 'meni': 8310, 'nikad': 8947, 'nije': 8946, 'palo': 9470, 'pamet': 9471, 'udjem': 13245, 'kadu': 7223, 'woww': 14127, 'core': 3291, 'uranium': 13415, 'sputnik': 11958, 'pack': 9441, 'bribe': 2295, 'leah': 7607, 'redo': 10519, 'estimation': 4597, 'calculated': 2521, 'yu': 14356, 'lyee': 7998, 'behh': 1854, 'tearn': 12545, 'asz': 1453, 'nicee': 8916, '//twitpic.com/t9za': 273, 'owwwwwww': 9427, 'dedication': 3715, 'admire': 926, 'wd': 13781, 'repair': 10625, 'rug': 10921, 'chewed': 2822, 'unlike': 13361, 'stacy': 11997, 'bump': 2410, '1.': 337, 'dive': 4019, 'bungie': 2417, '4.': 582, '5.': 625, 'celebs': 2679, '6.': 660, '7.': 676, '9.': 724, '10.': 348, 'answered': 1244, '8-core': 702, 'rach': 10339, 'jobless': 7111, 'praise': 10004, 'despite': 3837, 'fukk': 5338, 'celtic': 2691, 'gooo': 5672, 'lakerrss': 7500, 'requires': 10653, 'gatliburg': 5454, 'necklace': 8827, 'gem': 5493, 'mountians': 8597, 'fixed': 5021, 'tyring': 13224, 'cube': 3483, 'publicly': 10213, 'mermaid': 8330, 'divorced': 4024, '2g': 496, 'ee': 4368, 'forward': 5203, 'stretch': 12155, 'amazon': 1148, 'mp3s': 8617, 'civilized': 2929, 'starbucks': 12021, 'mcdonald': 8223, 'do/get': 4041, 'houston': 6438, 'anus': 1262, 'p33t': 9435, 'wiff': 13970, 'teefs': 12563, 'bryce': 2359, 'trs': 13085, 'amasing': 1141, 'trusted': 13099, 'lately': 7547, 'onion': 9267, 'bacon-crunchy': 1634, 'crook': 3448, 'rengel': 10618, 'dems': 3775, 'corrupt': 3310, 'collier': 3079, 'gleeful': 5597, 'kumbaya': 7451, 'dome': 4072, 'denny': 3779, 'harvey': 6059, 'x-mas': 14181, 'rum': 10928, 'field': 4952, 'celebrity': 2678, 'elf': 4419, 'wow-this': 14126, 'resolution': 10671, \"'09\": 8, 'gno': 5620, 'brief': 2298, 'hahahahhaahhaha': 5957, 'ikrr': 6626, 'slow': 11616, 'lmfaoo': 7806, '333': 543, 'native': 8794, 'nun': 9093, 'acid': 876, 'convinced': 3263, '10.5': 349, 'gdnss': 5475, 'jus': 7198, 'vlog': 13601, 'mj': 8479, 'restaurant': 10683, 'marinates': 8135, 'shove': 11411, 'decoration': 3711, 'whatu2019s': 13881, 'thanksgiving': 12660, 'cop': 3280, 'dana': 3604, 'washed-up': 13741, 'park': 9503, 'womp': 14058, 'rigga-ma-rool': 10776, 'buts': 2456, 'automated': 1516, 'lover': 7941, 'gregory': 5762, 'okie': 9234, 'dokie': 4066, 'drawing': 4156, 'blank': 2055, 'noise': 8987, 'registered': 10553, 'voter': 13624, 'hahahahha': 5955, 'sneeze': 11690, 'burp': 2430, 'rudd': 10915, 'include': 6724, 'dip': 3943, 'utopia': 13454, 'woulda': 14120, 'wondering': 14063, 'rehearsing': 10563, '4da': 612, 'planning': 9807, '2knock': 503, 'dreamin': 4165, 'changing': 2739, 'icecubes': 6554, 'formerly': 5182, 'folk': 5111, 'southern': 11829, 'ether': 4600, 'domainers': 4071, 'domain': 4070, 'evidence': 4643, 'supporting': 12310, 'allegation': 1078, 'australian': 1503, 'euro': 4611, 'ehhhh': 4393, 'depend': 3791, 'scale': 11062, '1-5': 335, 'vegetarian': 13511, 'crippled': 3437, 'laying': 7588, 'upright': 13407, 'sh': 11274, 'karenlongstaff': 7238, 'kecks': 7264, 'pooch': 9909, 'fireplace': 4999, 'nye': 9109, 'fcc': 4885, 'mandate': 8095, 'station': 12038, 'broadcast': 2321, 'analog': 1180, 'signal': 11461, 'lolss': 7857, 'personalized': 9660, 'eddie': 4355, 'izzard': 6962, 'herb': 6192, 'tosha': 12959, 'haejin': 5905, 'goodin': 5662, '/u00bfpodru00edais': 317, 'visitar': 13594, 'u00bfquu00e9': 13229, 'parece': 9498, '//contandolospetalos.blogspot.com/': 171, 'talker': 12472, 'aliea': 1068, 'jesse': 7073, 'james': 7004, 'joplin': 7145, 'postman': 9967, 'deliver': 3759, 'apart': 1287, 'proper': 10162, 'samantha': 10988, 'lmao.r': 7797, 'midget': 8393, 'length': 7652, 'hahhahahahahah': 5972, 'you.r': 14310, 'purple': 10243, 'crayola': 3397, 'par-tay': 9489, 'speedy': 11879, 'clark': 2948, 'rockin': 10827, 'miserable': 8452, 'poppin': 9924, 'awwhhh': 1569, 'hmmmm': 6304, 'pirate': 9776, 'errrgg': 4576, 'prego': 10029, 'gf': 5534, 'umhuhh': 13286, 'flaw': 5048, 'buddiee': 2379, 'rydeeeerrrrssss': 10945, 'guh': 5832, 'tagged': 12447, 'lik': 7723, 'angie': 1204, 'pop': 9918, 'lokn': 7840, 'kraz': 7433, 'hgtv': 6224, 'impossible': 6691, 'yupz': 14376, 'socalcub': 11732, 'spice': 11897, 'polomex': 9896, 'git': 5577, 'sum': 12268, 'skating': 11536, 'battle': 1758, \"'the\": 70, 'advantage': 941, 'mentally': 8313, 'challenged': 2728, 'alert': 1056, 'thanlyou': 12666, 'ho-ho-whore': 6311, 'gasp': 5449, 'classic': 2953, 'gahhhhhh': 5406, 'heating': 6137, 'vent': 13519, 'booooo': 2181, 'dheyy': 3869, 'havee': 6089, 'causee': 2657, 'hosting': 6417, 'apache': 1286, 'roasted': 10810, '//twitpic.com/rt32': 267, 'delightful': 3757, 'normally': 9036, 'kryptonite': 7444, 'accomplish': 854, 'tuesday': 13125, 'mash': 8174, 'woody': 14073, 'freebirds/mash': 5242, 'dave_malby': 3643, 'colfax': 3069, 'agent': 974, 'sprint': 11954, 'jogging': 7121, 'eggnog': 4384, 'biology': 1992, 'voted': 13623, 'artistic': 1387, 'okaydokay': 9226, 'jimmy': 7091, 'machan': 8027, 'beau': 1802, 'taplin': 12490, 'punched': 10231, 'teo': 12608, 'jean': 7040, 'rumour': 10930, 'erica': 4569, 'fcas': 4884, 'axcuse': 1575, 'oatmeal': 9132, 'stephen': 12063, 'fatty': 4865, 'sinus': 11505, 'hungry': 6499, 'democracy': 3772, 'westerner': 13853, 'complacent': 3146, 'brave': 2274, 'v.': 13463, '1984.': 423, 'pleasure': 9831, 'haaa': 5889, 'qud': 10295, 'abouht': 824, 'thinq': 12736, 'iwas': 6959, 'surgery': 12328, '45-60': 599, 'sized': 11528, 'bladder': 2041, 'tranny': 13022, 'techno': 12557, 'continuously': 3248, 'king/or': 7345, 'universe': 13355, 'bein': 1857, 'huddled': 6459, 'winamp': 13997, 'browser': 2341, 'west': 13851, 'tower': 12990, 'chapelle': 2746, 'flipped': 5059, 'disregard': 3999, 'ce': 2670, 'someww': 11777, 'pinball': 9766, 'future': 5372, 'caved': 2660, 'fallout3': 4819, '.................': 149, 'femmes': 4924, 'publishing': 10215, 'obnoxious': 9141, 'ph.d.': 9688, 'dr.': 4138, 'triumphant': 13078, 'hillside': 6263, 'afternoon': 964, 'blond': 2096, 'audition': 1490, 'chair': 2721, 'identical': 6574, 'traditional': 13011, 'perfume': 9641, 'phenomenon': 9694, 'w/stink': 13663, 'farmer': 4840, 'hated': 6073, 'sesame': 11246, 'created': 3412, 'pecan': 9591, 'pie': 9743, 'original': 9342, 'halo': 5993, 'fri': 5263, 'telle': 12581, 'scorpion': 11108, 'maker': 8071, 'auto-correct': 1511, 'duh': 4241, 'alanis': 1040, 'morrissette': 8578, 'literally': 7774, 'destroyed': 3844, 'chillin': 2846, 'regis': 10552, 'spankin': 11851, 'on-': 9259, 'ferocious': 4928, 'cornered': 3298, 'rascally': 10402, 'skeevy': 11538, 'thx': 12808, 'lisa': 7761, 'healing': 6118, 'aka': 1029, 'fff': 4941, 'christy': 2893, 'canyon': 2577, 'me-future': 8238, 'florida': 5074, '2night': 512, 'mmmmmmmmmmmmmmmmmmmmmmmmmmmmmmmmmmmmmmmmmmmmmmmmmmmmmmmmmmmmmmmmmmmmmmmmmmmmmmmmmmmmmmmmmmmmmmmmmmmmmmmmmmmmmmmmmmmmmmmmmmmmmmmmmmmmmmmmmmmmmmmmmmmmmmmmmmmmmmmmmmmmmmmmmmmmmmmmmmmm': 8491, 'clever': 2972, '//tinyurl.com/axf82t': 253, 'snowstorm': 11714, 'wack-ass': 13679, 'accpet': 861, 'passport': 9538, 'irritated': 6913, 'baptist': 1707, 'barkely': 1723, 'impsn8n': 6702, 'knucklehead': 7401, 'fave': 4871, 'trrrble': 13084, 'designer': 3826, 'alwaysthink': 1130, 'likewise': 7731, 'insulting': 6825, 'morn': 8571, 'openly': 9306, 'weight': 13820, 'year-a': 14243, 'rarely': 10401, 'common': 3125, 'whatev': 13874, 'suave': 12213, 'spree': 11950, 'wamu': 13709, 'live-check': 7783, 'deposit': 3798, '90': 725, 'dicky': 3891, 'diagnosis': 3874, '3-5': 522, 'promo-': 10155, 'aspect': 1412, 'congratu-fucking-lations': 3199, 'jenna': 7057, 'stomp': 12105, 'mudhole': 8652, 'partially': 9515, 'anecdotal': 1196, 'leeds': 7628, 'print': 10090, 'fraser': 5228, 'gap': 5434, 'concession': 3171, 'raptr': 10399, 'seldo': 11189, 'dearly': 3685, 'naw': 8805, \"f'real\": 4758, 'momma': 8534, 'connection': 3206, 'babysinead': 1616, 'douche': 4111, 'zero': 14406, 'term': 12612, 'goal': 5625, 'difficult': 3913, 'monster': 8553, '260': 479, 'premium': 10034, 'upgrading': 13400, 'cope': 3281, 'basic': 1738, 'campy': 2556, 'leguizamo': 7641, 'wahlburg': 13686, 'swearing': 12359, 'stubborn': 12180, 'lcastinado': 7596, 'vip': 13582, 'sweet-ass': 12371, 'cu': 3480, 'tomorow': 12907, 'morning.sucks': 8574, 'sneak': 11684, 'asvice': 1450, 'fcuk': 4888, 'rap': 10390, 'lyrically': 8007, 'homophobe': 6362, 'terrified': 12617, 'secretly': 11166, 'sight': 11458, 'thankyuh': 12664, 'crash': 3389, 'necessary': 8824, 'conservative': 3212, 'chrome': 2894, 'parranda': 9510, 'corp': 3302, 'cc3pt': 2667, 'qon3': 10283, 'duuuu': 4280, 'mii': 8400, 'sharp': 11303, 'vagina': 13479, 'andymn': 1192, 'broad': 2319, '//tinyurl.com/6d4a86': 235, 'kkkkk': 7369, 'slinks': 11603, 'hiding': 6238, 'bammed': 1685, 'glark': 5594, 'improvise': 6701, 'relate': 10571, 'monit-whore': 8546, 'gong': 5649, 'required': 10652, 'diagnosed': 3873, 'mr': 8620, 'saved': 11043, 'messy': 8343, 'bashful': 1736, 'greater': 5749, 'sci-fi': 11094, 'sg': 11271, 'atlantis': 1466, 'sgc': 11273, 'patch': 9547, 'ballin': 1675, 'latest': 7555, 'birthcontrol': 1998, 'wth': 14156, 'hears': 6126, 'happier': 6033, 'violator': 13577, 'truth': 13103, 'urself': 13429, 'yeash': 14246, 'badhorse_': 1643, 'h2o': 5885, 'snapple': 11680, 'raspberry': 10405, 'oj-homestyle': 9219, 'juicey': 7179, 'edited': 4359, 'directly': 3948, 'out-of-town': 9376, 'reveler': 10721, 'arriving': 1372, 'tourist': 12983, 'prepared': 10037, 'toro': 12949, 'comple': 3151, 'service': 11244, 'shiat': 11345, 'datz': 3640, 'kuzo': 7462, 'lien': 7701, 'taller': 12479, 'trusting': 13101, 'muahahaha': 8642, 'eff': 4376, '//snipurl.com/9iryv': 210, 'gag': 5401, 'showtime': 11423, 'hehehe': 6158, 'vvvvv': 13642, 'sayoonarra': 11056, 'aardvark': 804, 'discontent': 3972, 'joie': 7126, 'thasss': 12670, 'cheeseburger': 2801, 'mayo': 8217, 'damn-fridays': 3598, 'bad_wookie_pun': 1638, 'keyboard': 7293, 'liek': 7700, 'aah': 803, 'distracted': 4007, 'ups': 13408, 'outing': 9382, 'twittetfriendz': 13202, 'youthassets': 14335, 'org': 9335, 'nature': 8798, 'tripping': 13076, 'seaworld': 11159, 'maternity': 8190, 'comfortably': 3108, 'zip': 14412, 'jeans-liz': 7041, 'lange': 7523, 'mid-belly': 8389, 'ri-dic-u-lous': 10749, 'markmancao': 8144, 'hush': 6513, 'puppy': 10235, 'describes': 3815, 'earliest': 4307, 'ryanruppe': 10944, '4gb': 614, 'leech': 7627, 'lend': 7650, 'stalking': 12009, 'tab': 12429, 'ssaam': 11986, 'agreed': 983, 'slimy': 11602, '24/7': 469, '92': 728, 'mill': 8416, 'blocked': 2087, 'souplantation': 11824, 'grassroots': 5737, 'project': 10145, 'involve': 6882, 'fatboy': 4857, 'brighten': 2301, 'considerably': 3214, 'cert': 2705, 'chili': 2843, '2bits': 491, 'gander': 5429, 'miami': 8373, 'custom': 3529, 'immagrants': 6664, 'nut': 9098, 'critique': 3444, 'lurk': 7986, '17': 405, 'nh': 8908, 'grid': 5768, 'bus': 2438, 'flavio': 5044, 'recognize': 10494, 'gene': 5497, 'hackman': 5900, 'lowe': 7951, 'cupidboi79': 3507, 'paulkaplan5': 9565, 'dj': 4028, 'che': 2775, 'heavily': 6141, 'slackin': 11565, 'self-serving': 11194, 'confession': 3187, 'tattling': 12514, 'plicating': 9837, 'awhhhh': 1560, 'milwaukee': 8422, 'alpine': 1108, 'grizzly': 5781, 'originally': 9343, 'memphis': 8306, 'anti-gay': 1253, 'protester': 10181, 'sardine': 11022, 'aerodynamic': 951, 'ummmmmmm': 13292, 'tourn': 12984, 'yeppp': 14261, 'nena': 8855, 'stitch': 12095, 'actin': 886, 'whe': 13882, 'restricted': 10686, 'sidewalk': 11455, 'pong': 9905, 'dina': 3931, '23': 463, 'okc': 9232, 'sean': 11145, 'stouffer': 12125, 'wasn': 13745, 'skeleton': 11539, 'glove': 5610, 'fingerless': 4988, 'naturally': 8797, 'beachhh': 1784, 'sheet': 11324, '8.40': 705, 'arial': 1356, '//openzap.com': 200, '12-09-08': 374, '//ping.fm/f3aka': 203, 'flo': 5066, 'unattractive': 13301, 'tightywhities': 12827, 'cent': 2694, 'feelingggggg': 4911, \"you'recoming\": 14308, 'alan': 1039, 'charity': 2759, 'hun': 6494, 'xox': 14195, 'nigggahh': 8938, 'loveeyou': 7938, 'charter': 2768, 'advice': 946, 'received': 10480, 'ooga': 9277, 'booga': 2173, 'foocha': 5129, 'jourdan': 7153, 'georgia': 5516, 'cnt': 3016, 'bless': 2070, 'alseep': 1116, 'button': 2464, 'trusty': 13102, 'saturn': 11035, 'nevadagrey': 8878, 'is/was': 6917, 'last.fm': 7539, 'santogold': 11013, 'roundhouse': 10892, 'fiscal': 5010, 'teh': 12569, 'moneez': 8541, 'hd': 6106, 'george': 5515, 'w.': 13647, 'oic': 9214, 'conspiracy': 3222, 'socialing': 11735, 'nasa': 8779, '//bit.ly/lvzw': 164, 'yeahhhh': 14237, 'trapped': 13035, 'everywhere': 4641, 'homies': 6359, 'beckett~': 1816, 'fob': 5096, 'coat': 3029, 'channel': 2740, 'constructive': 3227, 'steroid': 12070, 'traveling': 13044, 'annoyed': 1229, 'prettyest': 10061, 'tuscan': 13147, 'delancey': 3745, 'alton-darby': 1125, 'hungover': 6498, 'job.i': 7110, 'stopping': 12117, 'guinea-pig': 5838, 'obese': 9137, 'shiiiit': 11349, 'formspringgg': 5187, 'funi': 5352, 'depeche': 3790, 'mode': 8508, 'se': 11140, '//twitter.com/tcar/status/1073343643': 293, 'ignorant': 6600, 'rag': 10352, 'bone': 2159, 'surf': 12323, 'grab': 5708, 'sweaty': 12362, 'thirsty': 12739, 'consumer': 3231, 'nuthin': 9099, 'arousing': 1367, 'bhhah': 1946, 'e': 4294, 'geigh': 5490, 'beeeeeitch': 1829, 'painted': 9456, 'wooden': 14070, 'mets': 8357, '//twitpic.com/vhtp': 280, 'looooool': 7882, 'rookie': 10863, 'corporation': 3304, 'aquarium': 1330, 'hotdog': 6421, 'kidd': 7316, 'ndd': 8814, 'knoo': 7390, 'reallyy': 10458, 'theeree': 12684, 'stupidd': 12201, 'scaredd': 11070, 'sayy': 11057, 'anythingg': 1275, 'haahar': 5895, 'taelin': 12444, 'lameee': 7511, 'neither': 8850, 'heiffa': 6160, 'op': 9299, 'ilike': 6628, 'pikk': 9754, 'diff': 3907, 'introvert': 6866, 'extrovert': 4748, 'roomie': 10867, 'naboo': 8747, 'slobber': 11611, 'sticky': 12084, 'tape': 12489, 'kanyes': 7232, 'admirer': 927, 'ie': 6588, 'constitutional': 3226, '//tinyurl.com/4upez4': 218, 'treat': 13049, 'astonishing': 1446, 'era': 4563, 'tom': 12898, 'cruise': 3463, 'jennjaye': 7060, 'illness': 6634, 'satc': 11031, 'corbett': 3288, 'fagggggg': 4790, 'touche': 12969, 'humility': 6487, 'eueryone': 4609, 'nsfw': 9078, '//tinyurl.com/6d9ew5': 236, 'welll': 13831, 'gadget': 5399, 'introducing': 6864, '-/': 95, 'stayin': 12042, 'hers': 6206, 'him-r': 6267, 'ro': 10804, 'quest': 10305, 'collect': 3073, 'eleventy': 4418, 'billion': 1985, 'bad-ass': 1636, 'flock': 5069, 'locus': 7829, 'horde': 6399, 'samba': 10990, 'amigo': 1161, 'recipe': 10489, 'becoz': 1821, 'bleh': 2067, 'spirit': 11911, 'gubgivits': 5821, 'thingies': 12727, 'arv': 1389, 'pownce': 9991, 'sings': 11497, 'pre-empt': 10010, 'soulmate': 11816, 'ghey': 5541, 'hacker': 5899, 'edward': 4367, 'bella': 1870, 'slightly': 11599, 'building': 2393, 'liar': 7685, 'threat': 12767, 'unexplained': 13338, 'coincidence': 3062, 'kindly': 7340, 'kkkkayy': 7368, 'ual': 13242, 'us-sino': 13432, 'flour': 5076, 'darlin': 3625, 'inconvenient': 6732, 'youuu': 14342, 'leweb': 7673, 'str8': 12127, 'technically': 12556, 'penetration': 9614, 'vcard': 13505, 'noticed': 9058, 'upp': 13405, 'hoody': 6381, 'tablet': 12438, 'premire': 10033, 'gangplank': 5431, 'phoenix': 9709, 'boulder': 2213, 'ep': 4548, 'tween': 13158, 'taunt': 12519, 'atleast': 1467, 'friday': 5266, 'dearest': 3684, 'babydoll': 1614, 'ruin': 10923, 'starting': 12031, 'hide': 6237, 'decent': 3701, 'lastnight': 7543, 'lachlan': 7487, 'ala-god-damn-bama': 1036, 'bidness': 1961, 'skool': 11556, 'mattress': 8204, 'sale': 10974, 'losman': 7899, 'net': 8870, 'tatum': 12517, 'krista': 7436, 'profile': 10137, 'herer': 6195, 'oread': 9333, 'obsesed': 9144, 'gav': 5457, 'brake': 2262, 'police': 9881, 'decorated': 3710, 'devi': 3858, 'slit': 11608, 'commerce': 3120, 'driven': 4182, 'realtor': 10459, '7/8ths': 678, 'stimulus': 12090, 'housing': 6437, 'market': 8142, 'high/drunk': 6243, 'surreee': 12333, 'idol': 6585, 'beautiful-': 1805, 'example': 4673, 'superman': 12299, '//tinyurl.com/5sgv8c': 227, 're-read': 10431, 'drafts-': 4140, 'humiliation-play': 6486, 'hump': 6491, 'metal-bristled': 8346, 'hairbrush': 5979, 'invisible': 6879, 'sneaking': 11686, 'nonsense': 9010, 'jerking': 7065, 'applied': 1310, 'bill': 1983, 'promis': 10151, 'chef': 2807, 'hairnet': 5981, 'obsessing': 9146, 'delivery': 3761, 'synonym': 12409, 'fighter': 4957, 'bitten': 2022, 'border': 2190, 'newsstand': 8896, 'esquire': 4587, 'ii': 6613, 'evys': 4657, 'laundry': 7573, 'enclosing': 4483, 'assed': 1427, 'reasononing': 10467, 'evelyn': 4617, 'katiana': 7250, 'alwayz': 1131, 'hearing': 6125, 'lock': 7826, 'yank': 14222, 'lightsabers': 7721, 'relaxing': 10577, 'salad': 10973, 'play-that': 9817, 'tweens': 13159, 'w/potty': 13662, 'blah-blah-blah': 2045, 'nightmaremyles': 8943, 'hoovered': 6390, 'bean': 1789, 'prezzies': 10072, 'romantic': 10853, 'zzzz': 14431, 'freaked': 5234, 'earthquake': 4316, 'uranusquakes': 13417, 'caan': 2499, 'maccas': 8026, 'brotha': 2335, 'bootcamp': 2187, 'manana': 8094, 'samee': 10993, 'bby': 1772, 'ism': 6927, 'ghwt': 5546, 'need2bust': 8831, 'owns': 9425, 'saulrand': 11037, '140': 389, 'candle': 2568, 'vougel': 13627, 'adangta': 904, 'jadi': 6989, 'ane': 1195, 'taa': 12428, 'aku': 1033, 'marah': 8123, 'ne': 8815, 'buat': 2369, 'muka': 8659, 'mrh': 8623, 'esh': 4582, 'toast': 12878, 'maple': 8121, 'syrup': 12411, 'carpet': 2609, 'response/actions': 10680, '2b': 490, 'ideal': 6570, 'love/hate/dislike': 7929, 'cha': 2718, 'specially': 11868, 'arrrgghhh': 1374, 'steven': 12072, 'non-gay-roommate': 9000, 'pimping': 9763, 'electricals': 4408, 'hades': 5903, 'junkie': 7194, '/deadpoor': 312, 'adam_callender': 902, 'flavored': 5046, 'seasoning': 11154, 'obvious/safe/kick-ass-game': 9153, 'lbp': 7595, 'mgs4': 8363, 'resistance': 10669, '7:00': 691, 'fatter': 4864, 'cuddle': 3487, 'disturbing': 4013, 'levigroker': 7672, 'ambiance': 1152, 'sushi': 12341, 'jianken': 7087, 'poser-metro': 9949, 'retooling': 10703, 'erotica': 4573, 'objective-c': 9139, 'toasted': 12879, 'wats': 13766, '501': 632, '9824': 734, 'borrow': 2197, 'rocky': 10832, 'inflation': 6764, 'woooo': 14078, 'deary': 3686, 'figure': 4959, 'son-of-a-bitch': 11780, 'prius': 10099, 'gallon': 5417, 'tank': 12485, 'aeongotbeats': 950, 'everybody': 4628, 'region': 10550, 'mystery': 8728, 'hon': 6364, 'hub': 6455, 'stepdad': 12057, 'arkansas': 1360, 'fiance': 4944, 'peso': 9672, 'nailed': 8761, 'alien': 1069, 'craft': 3381, 'mafia': 8044, 'cigarette': 2912, 'risk': 10792, 'disease': 3980, 'diabetes': 3872, 'catching': 2643, 'dyed': 4288, 'unnatural': 13366, 'chief': 2834, 'caffiene': 2512, 'addicted': 911, 'dew': 3861, 'abour': 825, 'retiring': 10702, 'futr': 5371, 'mmmmmm': 8489, 'awhile': 1562, 'textin': 12636, 'offa': 9176, 'dk': 4030, 'likeeeee': 7729, 'buhh': 2390, 'derekbender': 3810, 'scumbag': 11138, 'foosball': 5143, 'savvyfatty': 11048, '1hunid': 427, 'improves': 6700, 'adamar': 903, 'feed': 4904, '2do': 495, 'fairy': 4804, 'freplce': 5256, 'dncr1804': 4037, 'emo-esque': 4466, 'skip': 11549, 'india': 6742, 'national': 8791, 'schmack': 11086, 'goooooood': 5677, 'pbj': 9579, 'discmaakers': 3969, 'paying': 9573, 'trait': 13020, 'krebs': 7434, 'youuur': 14343, 'daddyyy': 3577, 'breathe': 2285, 'underwater': 13325, 'regularly': 10559, 'woe': 14049, 'talley': 12480, 'rhomboid': 10743, 'triangular': 13059, \"'washcloth\": 78, 'bark': 1722, 'sedge': 11173, 'scrub': 11135, 'unique': 13351, 'swag': 12351, 'lmaooooo': 7801, 'misquoted': 8455, 'jane': 7011, 'austin': 1500, 'prejudice': 10031, 'javeed': 7023, '1-800-': 336, 'lolol': 7852, 'msunderstoodxxx': 8633, 'ddd': 3668, 'roxx': 10900, 'mary': 8168, 'frodo': 5288, 'clan': 2945, 'gifted': 5551, 'hag': 5908, 'astronaut': 1448, 'saliva': 10978, 'transferring': 13024, 'ridic': 10770, 'sold': 11751, 'involved': 6883, 'romantically': 10854, 'lanky': 7526, 'tennis': 12605, 'jailbreak': 6993, 'n95': 8741, 'cam.no': 2543, 'setting': 11251, 'huuuh': 6516, 'ohky': 9211, '16.04.10': 398, 'written': 14146, 'illmatic': 6633, 'penga': 9615, 'somethings': 11770, 'arnt': 1364, 'ourss': 9373, 'eek': 4373, 'punch': 10230, 'sophisticated': 11798, 'eep': 4374, 'sweetness': 12376, 'grad': 5712, 'te': 12531, 'up=/': 13394, 'boheme': 2136, 'serious.real': 11233, 'athlete': 1460, 'cheat': 2780, 'convince': 3262, 'exorbitantly': 4705, 'priced': 10075, 'goody': 5666, 'krockxp': 7441, 'entered': 4522, 'ms.': 8627, '//tinyurl.com/7f2h7g': 245, 'rosario': 10873, 'dame': 3593, 'dash': 3630, 'oliver': 9246, 'stone': 12107, 'alexander': 1058, 'shifting': 11347, 'reader': 10439, 'pernicious': 9647, 'violated': 13576, 'payoff': 9576, 'fascinates': 4844, 'youth': 14334, 'curriculum': 3518, '//is.gd/ex9m': 192, 'remembering': 10605, 'bass': 1745, 'bible': 1955, '//is.gd/5wm4': 178, 'mmmm': 8487, 'mud': 8651, 'kat/dog': 7246, 'poo': 9908, 'out.i': 9377, 'procrastinator.': 10124, '58382': 649, 'insomnia': 6807, 'nyquil': 9111, 'excedrin': 4674, 'honey': 6369, 'pryce': 10192, 'differently': 3911, 'selling': 11199, 'deployed': 3797, 'blur': 2117, 'achieve': 871, 'impression': 6695, 'bubbly': 2371, 'shovelin': 11414, 'negates': 8839, 'warmer': 13728, 'months.r': 8556, 'strapped': 12137, 'placed': 9797, 'television': 12579, 'overated': 9397, 'shoestringless': 11384, 'nike': 8948, 'loook': 7879, 'slip': 11604, 'offs': 9192, 'guilty': 5836, 'ulrike': 13280, 'naked': 8762, 'japanese': 7017, 'helping': 6182, 'brunette': 2349, 'blonde': 2097, 'tyme': 13216, 'robocop': 10817, 'jones': 7143, 'd.w': 3562, 'accuse': 866, 'jeslous': 7071, 'shew': 11341, 'sizee': 11529, 'comedian': 3102, 'babaysitting': 1603, 'lawn': 7583, 'mowing': 8613, 'legal': 7633, 'gold': 5640, 'restuarant': 10689, 'wentz': 13838, 'prevents': 10066, 'chopper': 2875, 'cock-blocked': 3038, 'favrd': 4879, 'prayer': 10008, 'culkins': 3492, 'comin': 3112, 'frisco': 5283, 'atrium': 1471, 'godaddy': 5629, 'cprpoker': 3367, 'us': 13431, 'disconnected': 3971, 'steam': 12051, 'secusuck': 11170, 'section': 11168, 'sweetheart': 12374, 'clash': 2951, 'complement': 3153, 'hahahahahahaha': 5935, 'bahaha': 1653, 'firefox': 4998, 'safari': 10960, 'sample': 10996, 'wolfnoma': 14053, 'scotch': 11111, 'ail': 1014, 'sparkling': 11856, 'addition': 916, 'resume': 10692, 'lololol': 7854, 'gu': 5816, 'did/do': 3896, 'leat': 7618, 'nadda': 8752, 'hum': 6476, 'scrooge': 11134, 'tx': 13208, 'stockton': 12100, 'pigeon': 9752, 'countless': 3336, 'occasion': 9155, 'lullabot': 7976, 'drupal': 4212, 'golf': 5644, 'heave': 6139, 'plusthe': 9850, 'korean': 7425, 'fabsubbing': 4768, 'gmail': 5618, 'avoid': 1535, 'deleting': 3751, 'tucked': 13123, 'folder': 5107, 'gordon': 5679, 'brown': 2338, 'recall': 10476, 'irish': 6897, 'tainted': 12452, 'product': 10129, 'linen': 7747, 'religious': 10588, 'annoy': 1228, 'rotflmaooooooo': 10884, 'cumleone': 3498, 'spiderman': 11901, 'tobey': 12880, 'creativity': 3417, 'hillary': 6262, 'gained': 5412, 'accountability': 858, 'wi': 13956, 'determined': 3850, 'y0': 14207, 'k3': 7217, 'c0rnd0q': 2495, 'ian': 6542, 'tommorrow': 12905, '0_0': 327, 'tomvenuto': 12909, 'solution': 11755, 'craaaaaaaazzzzzzzzzzy': 3369, 'gahaha': 5404, 'packin': 9444, 'sloshed': 11614, 'animatronic': 1213, 'thigh': 12723, 'stronger': 12171, 'concrete': 3178, 'powered': 9988, 'yooooo': 14295, 'rinnalovesjb': 10786, 'heyhey': 6215, 'sccessful': 11079, 'venture': 13523, 'l.a.': 7471, 'giggled': 5556, 'dyslexic': 4293, 'rubbing': 10912, 'california': 2528, 'peeeeisssssssst': 9598, \"i'o\": 6532, 'carbs': 2589, 'b4': 1596, 'fujitsu': 5333, 'sfansnap': 11270, 's300': 10953, 'loading': 7816, 'important': 6690, 'viseversa': 13590, 'wanting': 13721, 'sleeve': 11588, 'slog': 11612, 'mention': 8314, 'average': 1528, 'implied': 6684, 'evolved': 4650, 'dislike': 3987, '/b/': 311, \"'omglol\": 48, 'fray': 5231, 'roflrofl': 10840, 'ex': 4666, 'fancied': 4827, 'politely': 9886, 'declined': 3708, 'conceited': 3165, 'brian': 2294, 'regan': 10544, 'clip': 2985, 'blushy': 2121, 'haha.i': 5912, 'matt': 8196, 'overanalying': 9396, 'rod': 10834, 'lov': 7922, 'stroke': 12167, 'differnt': 3912, 'littla': 7780, 'numba': 9088, 'texting': 12637, 'massive': 8182, 'amount': 1167, 'sustanol': 12346, 'deca': 3698, 'jackman': 6983, \"it'smissing\": 6938, 'thirdorso': 12738, 'spacebarkeystroke.actually': 11839, 'slim': 11601, 'leakage': 7610, 'crashing': 3392, 'el': 4400, 'yumm': 14369, 'blunt': 2115, 'besties': 1912, 'cuss': 3525, 'ooopsie': 9295, 'pow': 9985, 'ecoterrorists': 4351, 'rented': 10622, 'helicopter': 6169, 'enviroment': 4540, 'faa': 4766, 'lalala': 7505, 'apparel': 1297, 'daa': 3573, 'daaa': 3574, 'yuletide': 14367, 'carol': 2606, 'laaaa': 7479, 'hollywood': 6340, 'mmm': 8483, '//i120.photobucket.com/albums/o163/kelcee247/0000diesal.jpg': 176, 'craig': 3382, 'voicemail': 13611, 'depart': 3786, 'oldest': 9240, 'minded': 8426, 'excepting': 4679, 'speard': 11865, 'dontcha': 4089, 'sleducators': 11582, 'humorous': 6490, 'retribution': 10705, 'target': 12496, 'treated': 13050, 'freaky': 5238, 'considered': 3215, 'rose': 10875, 'russian': 10938, 'match': 8187, 'mentioning': 8316, 'specifially': 11871, 'blah': 2044, 'creeeeepy': 3422, 'flirt': 5063, 'chrysler': 2895, 'hubby': 6456, 'recession': 10486, 'remembers': 10606, 'burger': 2422, 'lever': 7670, 'caller': 2533, 'chunk': 2903, 'invading': 6871, 'prezzure': 10073, 'dissin': 4002, 'roommate': 10868, 'hujikhjkuiljkkj': 6473, 'lmaoooooo': 7802, '-.-': 94, 'aren': 1343, 'photonucket.r': 9720, 'checked': 2787, 'potty': 9977, 'jedi': 7043, 'novel': 9067, 'yesh': 14267, 'scruff': 11136, 'classmate': 2954, '-love': 116, 'ribbon': 10751, '=gay': 757, 'reception': 10485, 'snowmageddon': 11712, 'bummed': 2408, 'britt': 2313, 'lilt601': 7736, 'wordofsouth': 14087, 'albut': 1048, '09': 325, 'l-bain': 7468, 'fart': 4841, 'roast': 10809, 'midnight': 8395, 'grind': 5778, 'friend.r': 5270, 'complicated': 3157, 'spilled': 11905, 'hence': 6184, 'brad': 2247, 'angelina': 1201, 'blurry': 2119, '//twitpic.com/rddb': 266, '247': 470, 'workhorse': 14097, '8+': 701, 'soulless': 11815, 'myer': 8716, 'retirement': 10701, 'cb2009': 2662, 'blocker': 2088, 'maul': 8206, 'exit': 4703, 'ramp': 10374, 'separate': 11219, 'realize': 10448, 'discovered': 3975, 'microwaved': 8387, 'smoke': 11658, 'daydreaming': 3655, 'ipa': 6889, 'beckoning': 1817, 'makeup': 8072, 'memo': 8302, 'depth': 3805, 'consume': 3230, 'hateration': 6078, 'mohawk': 8518, 'rotf': 10881, 'canon': 2574, 'bradjward': 2250, 'nikon': 8951, 'freddy': 5240, 'frugal': 5297, 'gurrage.com-': 5854, 'registration': 10554, 'fee': 4903, 'cred': 3419, 'cane': 2571, 'jaye': 7029, 'crutch': 3468, 'position': 9951, 'kcrw': 7262, 'dd': 3666, 'sober': 11728, 'youuuu': 14344, 'zipper': 14413, 'housework': 6436, 'waking': 13693, 'lr': 7957, 'kitchen': 7357, 'jan': 7009, 'dieting': 3906, 'boiler': 2141, 'breaking': 2282, 'petty': 9681, 'idnt': 6584, 'cumputa': 3499, 'lyke': 8002, 'sortaa': 11807, 'charice': 2757, 'hate.you.so.much': 6072, 'dutch': 4278, 'ho-ho': 6310, 'nicolas': 8928, 'sinterklaas': 11504, 'thumb': 12796, '4.0': 583, 'gpa': 5705, 'semester': 11201, 'gesticulates': 5524, 'wayyyy': 13777, 'tooooo': 12931, 'easilyyyyyyy': 4322, 'funxykins': 5362, 'pill': 9758, 'closest': 2997, 'evanston': 4615, 'z-lister': 14393, 'gloriously': 5607, 'unaffected': 13298, 'friendfeed': 5271, 'downtime': 4131, 'scoble': 11104, '4-': 579, 'explaining': 4727, 'huckabee': 6458, 'vision': 13592, 'motion': 8587, 'detect': 3847, 'rec': 10475, 'sprting': 11956, 'opposed': 9313, 'non': 8996, 'm3': 8012, 'nn3r': 8965, 'qu': 10289, 'kly': 7375, 'luk3d': 7974, 'y0ur': 14209, 'f0rm': 4761, 'pr': 9998, 'nq': 9075, '+ur3': 91, 'qq3': 10286, '0rq': 331, 'y3+': 14210, 'q0+': 10269, 'h0rny': 5883, 'd3n': 3568, 'vv3': 13639, 'unpr0+3': 13371, '+3d': 86, 'd0': 3565, '+h': 89, 'nk': 8962, 'pr3qn': 9999, 'envious': 4539, 'orientation': 9340, 'tutoring': 13151, '14th': 393, 'lotsa': 7907, 'murphy': 8676, 'square': 11963, 'wheat': 13883, 'waaaay': 13676, 'empty': 4478, 'rhetoric': 10739, 'probally': 10110, 'parsley': 9513, 'sued': 12251, 'garnish': 5443, 'wage': 13684, 'penn': 9618, 'shitbird': 11362, 'teller': 12583, 'irrisistably': 6910, 'jamie': 7007, 'indy': 6753, 'foreverrr': 5166, 'suk': 12265, 'reinvent': 10567, 'cleaning': 2962, 'ui': 13274, 'streamlined': 12145, 'intuitive': 6868, 'mckinnon': 8228, 'soooooo': 11793, 'august': 1494, 'tongue': 12912, '2gb': 497, 'supple': 12304, 'gaff': 5400, 'ranger': 10384, 'griffen': 5771, 'copper': 3283, 'elec': 4405, 'motor': 8593, 'toughbook': 12977, 'crocheting': 3445, 'vodka': 13609, 'haven': 6091, '//www.youtube.com/watch': 306, 'v=tkjyzhzhokm': 13467, 'feature=popular': 4896, 'fb': 4883, 'refused': 10543, 'wanker': 13715, 'wondered': 14061, 'muzak': 8703, 'bronx': 2329, \"'oh\": 47, 'slurpees': 11623, 'hilary': 6258, 'duff': 4238, 'veneer': 13517, 'partner': 9525, '130': 387, 'lb': 7594, '165': 402, 'muscle': 8677, 'eu': 4608, 'inca': 6718, 'ma': 8015, 'intreb': 6858, 'mi-a': 8371, 'fost': 5205, 'pusa': 10247, 'intrebarea': 6859, 'primul': 10084, 'rand': 10378, '8330': 715, 'megabus': 8283, 'transporation': 13030, 'snob': 11699, 'thang': 12651, '0n': 330, 'proof': 10160, 'understands': 13323, 'film': 4968, 'alliance': 1080, 'ilu': 6648, 'therefore': 12707, 'joydaily': 7158, 'igorthetroll': 6605, 'pidpoid': 9742, 'splashed': 11916, '1.29': 339, 'aroundme': 1366, 'task': 12503, 'gahh': 5405, 'brush': 2351, 'basically': 1739, 'you/http': 14313, '//lofistl.com': 196, 'awesome/bad': 1549, 'you/': 14311, 'crossover': 3455, 'decade': 3699, 'carl': 2602, 'reiner': 10565, 'reprised': 10644, 'brady': 2254, 'clarke': 2949, 'homebasenyc': 6345, 'alice': 1067, 'sigh': 11457, 'respect': 10675, 'macy': 8032, 'float': 5067, 'hay': 6099, 'boston': 2203, 'vista': 13596, 'ily2': 6650, 'hacked': 5898, 'artist': 1386, 'shizz': 11375, 'okayyyyyy': 9231, 'soda': 11742, 'kool': 7421, 'aid': 1009, 'lied': 7699, 'papparazzi': 9487, 'hooray': 6389, 'chelsea': 2809, 's.': 10950, 'loyal': 7955, 'stressful': 12153, 'partier': 9521, 'intersting': 6850, 'snowball': 11708, 'drugz': 4199, 'record': 10501, 'woodwork': 14072, 'ange': 1197, 'sez': 11269, 'amarok': 1140, 'syncing': 12407, 'coped': 3282, 'bull': 2399, 'addict': 910, 'ulcer': 13278, 'lining': 7750, 'goddamit': 5630, 'portage': 9939, 'wise': 14019, 'drukenness': 4200, 'ensue': 4518, 'explorer': 4732, 'limited': 7740, 'bankroll': 1702, 'marerockcity': 8127, 'ohhhh': 9204, 'aujala': 1495, 'celebrating': 2677, 'marathon': 8124, 'stickler': 12082, 'adriane': 936, 'torres': 12953, '29': 486, '//tinyurl.com/6pey6r': 239, '~': 14436, 'krystle': 7445, 'unpredictable': 13372, 'stanley': 12018, 'gate': 5451, 'sudoku': 12250, 'memeing': 8301, 'evo_terra': 4648, 'cock-measuring': 3040, 'fetish': 4934, 'injured': 6786, \"'nam\": 43, 'breath': 2284, 'printer': 10092, 'posting': 9966, 'gram': 5721, 'carmel': 2605, 'haa': 5888, 'rapper': 10395, 'hosues': 6418, 'captain': 2584, 'luc': 7962, 'pic-card': 9730, 'enter-prize': 4521, \"pic-y'know\": 9731, 'templesmith': 12594, 'vey': 13535, 'plumbing-i': 9847, '2inches': 501, 'shouldnt': 11407, 'nosy': 9047, 'soooooooooooooooooooo': 11794, 'in2': 6709, 'belive': 1867, 'pjs': 9795, 'scorreeee': 11109, 'insanity': 6797, 'gabba': 5394, 'replacement': 10632, 'threw': 12773, 'spotlight': 11939, 'logo': 7835, 'one.no': 9265, 'toooo': 12930, 'yoga': 14290, 'easy.thats': 4332, 'i-10': 6533, 'i-45': 6534, 'slept': 11590, 'ambien': 1153, 'jay-z': 7027, '..................': 150, 'assuming': 1439, 'presently': 10042, 'afford': 956, 'leverage': 7671, 'fastest': 4852, 'prettiest': 10056, 'biz': 2024, 'yuk': 14366, '398': 562, 'gettin': 5530, '//': 161, 'avery': 1529, 'cartoon': 2621, 'resemble': 10661, 'touchy': 12975, 'feely': 4914, 'vincentdooly': 13570, 'dsmoore': 4221, 'sht': 11430, 'cereal': 2703, 'ahhhh': 1005, 'sil': 11468, 'dancer': 3607, '1860': 416, 'mid-night': 8391, 'o-clock': 9119, 'neverr': 8883, 'turkish': 13138, 'a-hole': 789, 'cultural': 3495, 'frosting': 5294, 'hildebrant': 6259, 'grace': 5711, '21': 454, 'router': 10894, 'uhmmm': 13271, '__': 773, 'bwaha': 2476, '//www.gethuman.com/': 303, 'amazed': 1143, 'gain': 5411, 'loss.these': 7901, 'week.amazing': 13815, 'bamf': 1684, 'cker': 2936, 'thankful': 12654, 'info/directions': 6768, 'polygamist': 9899, 'serial': 11228, 'networkers': 8873, 'doh': 4061, 'richest': 10758, 'elvis': 4433, 'oprah': 9317, 'numbnuts': 9091, 'warned': 13732, 'daniel': 3615, 'understanding': 13322, 'knee': 7379, 'cardiac': 2591, 'crisis': 3440, '+prior': 90, 'hebt': 6146, 'forbidden': 5152, 'territory': 12619, 'comfortable': 3107, 'doodle': 4094, 'twhirl': 13170, 'whale-itis': 13866, 'unable': 13296, 'knoww': 7397, 'stale': 12006, 'duhhhhh': 4244, 'persnickety': 9654, 'reboot': 10473, 'palin': 9467, 'political': 9887, 'sanjaya': 11009, 'perfection': 9634, 'wp.com': 14129, 'reviewing': 10726, 'easiest': 4320, 'rickroll': 10761, 'pussyr': 10254, 'march': 8126, 'ironic': 6901, 'require': 10651, 'populist': 9928, 'limp': 7741, 'goldies': 5642, 'nastiest': 8781, 'movin': 8611, 'spleen': 11917, '112': 368, 'okae': 9223, 'utah': 13450, 'jansport': 7013, 'alors': 1101, 'tait': 12454, 'bien': 1964, 'vous': 13628, 'avez': 1530, 'du': 4222, '234': 467, 'tre': 13046, 'folles': 5112, 'pendant': 9611, 'lapdance': 7528, 'samediiii': 10992, 'bash': 1735, 'nickelback': 8923, 'staind': 12002, 'unexpected': 13336, 'expected': 4713, 'attracted': 1483, 'chillen': 2845, 'punt': 10233, 'caryn': 2623, 'relieved': 10586, 'boise': 2143, 'missoula': 8460, 'w/your': 13666, 'predictive': 10022, 'nahhhhh': 8758, 'suckin': 12239, 'columbus': 3089, 'mcgaffigan': 8226, 'nao': 8772, 'overhaul': 9399, 'refer': 10526, 'chewing': 2823, 'tabbacco': 12430, 'brooke': 2331, 'carrot': 2615, 'pat': 9546, 'chose': 2878, 'acted': 885, 'trashed': 13037, 'aha': 986, 'juuust': 7209, 'footage': 5145, 'incredible': 6735, 'penny': 9619, 'carrying': 2617, 'grudge': 5806, 'urine': 13426, 'onlky': 9269, 'jap': 7015, 'automatic': 1517, 'airsoft': 1023, 'rifle': 10775, 'awee': 1546, '58371': 647, 'wasted': 13748, 'gamble': 5421, 'sylar': 12396, 'villian': 13568, 'competing': 3142, 'ass-kicking': 1419, 'chippers': 2857, 'spider': 11900, 'heylin1234': 6216, 'oooh': 9282, '-_o': 102, 'oopsie': 9298, 'epi': 4550, 'todd': 12883, 'ruinning': 10926, 'generallyt': 5501, 'burglary': 2423, 'jst': 7164, 'waited': 13688, 'dow': 4119, 'auto-dm': 1512, 'related': 10572, 'rotten': 10886, 'bitey': 2019, 'kardashian': 7235, 'annoys': 1231, 'reggie': 10548, 'yoooooooooou': 14296, 'tarlynxeno': 12500, 'yoooooou': 14298, 'toooooo': 12932, 'kocker': 7409, 'cept': 2701, 'quarter': 10294, 'pinky': 9770, 'stuff-yeah': 12191, 'naa': 8743, 'prefers': 10026, 'check/fix': 2785, 'awesomely': 1550, '20min': 452, 'robert': 10814, '19': 418, 'sarath': 11019, 'amazingly': 1147, 'astoundingly': 1447, 'sham': 11289, 'crumble': 3465, 'diaper': 3879, 'fkkin': 5026, 'bicthes': 1958, 'needa': 8832, 'hatinqq': 6083, 'booby': 2171, 'amazin': 1145, 'yopu': 14302, 'fkk': 5025, 'iloveeyou': 6639, 'tweets-thats': 13166, 'keedingg': 7265, 'regard': 10545, '//is.gd/a4vq': 180, 'curious': 3512, 'j/p': 6968, 'gbp': 5473, 'hosted': 6415, 'karaoke': 7233, \"'t\": 66, 'nda': 8813, 'lobby': 7818, 'half-ass': 5987, 'nj': 8961, 'focused': 5098, 'whn': 13918, 'gonn': 5650, '2gether': 498, 'november': 9068, 'deed': 3716, 'breast': 2283, 'implant': 6682, 'tax': 12521, 'expense': 4715, 'tee': 12561, \"'buffy\": 14, 'participate': 9517, 'mathias': 8193, 'furry': 5364, 'touched': 12970, 'lammmeee': 7515, 'too.she': 12925, 'downn': 4128, 'hermy': 6201, 'dentist': 3781, 'shocked': 11379, 'islandcubfree': 6926, 'cuttin': 3539, 'slumdogs': 11619, \"o'clock\": 9114, 'whever': 13893, 'vids': 13560, 'government': 5702, 'regulating': 10560, 'introduction': 6865, 'throwaway': 12783, 'beginning': 1850, 'snuggie': 11719, 'blanket-loving': 2057, 'martinandlegend': 8162, 'abs': 834, 'uncomfortable': 13309, 'surgeon': 12327, 'wouldn': 14121, 'brussels': 2354, 'sprout': 11955, 'don+': 4077, 'vv0rk': 13638, 'forecast': 5158, '//is.gd/clbj': 186, 'braless': 2263, 'rollercoasters': 10850, 'dreamhost': 4163, 'lexis_': 7677, 'fairytale': 4805, 'mantra': 8115, 'librarian': 7689, 'deannaa': 3682, 'imyyy': 6704, 'leotard': 7655, 'walmart': 13707, 'whoo-hoo': 13926, 'brussel': 2353, 'srouts': 11980, 'yuckie': 14359, 'cabbage': 2501, 'purchase': 10236, 'refund': 10540, 'oooooooohhhhhhh': 9291, 'telepathically': 12577, 'minds.r': 8429, 'sparkle': 11855, 'life.r': 7703, 'oj': 9218, 'business.r': 2443, 'lordschmindie': 7892, 'nada': 8751, '12/31': 379, 'firework': 5002, 'kel': 7273, 'turbo': 13136, 'drunker': 4211, 'drunkener': 4209, 'pffft': 9684, 'ewwwwwweyy': 4664, 'mcdonalds': 8224, 'hw': 6519, 'outlet': 9383, 'access': 850, 'alexiss': 1061, 'homoo': 6361, 'niggyyy': 8939, 'jason': 7021, 'storm': 12122, 'sandwich': 11005, 'manitoba': 8105, 'remained': 10595, 'polite': 9885, 'civil': 2928, 'stephenharper': 12064, 'g00d': 5386, 'art': 1381, 'vag': 13477, 'loudest': 7914, 'sympathetic': 12401, 'gear': 5477, 'begged': 1844, 'rainbow': 10361, 'corny': 3299, '//twitpic.com/vme7': 284, 'ud': 13244, 'suxd': 12349, 'dick.bt': 3886, 'rit': 10793, 'syndication': 12408, '-hellz': 112, 'qoinqq': 10282, 'wannah': 13717, 'quy': 10326, 'duhh': 4242, 'jackie': 6979, 'remainder': 10594, '2009': 445, 'kruger': 7443, 'wipe': 14014, '666.': 668, 'hardy': 6049, 'answering': 1245, 'questiosn': 10308, 'okayy': 9228, 'harsh': 6057, 'buzz': 2474, 'shaking': 11285, '7.99': 677, 'directed': 3946, 'miller': 8417, 'keel': 7267, 'backdrop': 1623, 'instrumentals': 6820, 'performing': 9640, 'pea': 9583, 'responded': 10677, 'vary': 13502, 'immoral': 6668, 'bigot': 1972, 'yahh': 14217, 'babeyyygirl': 1610, 'matterr': 8201, 'testicals': 12624, 'hawaiian': 6096, 'hiamoe': 6233, 'ttyl8r': 13119, 'hahahahhaahaha': 5956, 'raise': 10365, 'shirley': 11359, 'phelps': 9693, 'roeper': 10836, 'ung': 13344, 'say.also': 11051, 'abused': 843, 'homeland': 6348, 'jocko': 7114, 'miranda': 8448, 'yuhz': 14365, '3xy': 576, 'm0+h': 8010, 'fu': 5310, 'vtu': 13633, 'dming': 4035, 'hazelnut': 6104, 'aaronage': 807, 'dayyy': 3662, 'hawthorne': 6098, '//tinyurl.com/7b7nze': 244, 'monday': 8540, 'hols': 6341, 'pilaf': 9755, 'bama': 1681, 'sony': 11786, 'vibrating': 13540, 'squeeee': 11967, 'moan': 8497, 'mustache': 8691, 'apologises': 1291, 'eeeeit': 4371, '7:51': 693, 'rogue': 10842, 'correctly': 3309, 'communist': 3127, 'rouge': 10888, 'confidence': 3189, 'cow-tipping': 3357, 'snipe-hunting': 11695, 'picky': 9739, 'orange': 9327, 'guzzle': 5869, 'sing': 11491, 'ginger': 5566, 'unibroue': 13348, '7:00pm': 692, 'generic': 5504, 'chemical': 2810, 'angelzilla': 1202, 'managed': 8089, 'transport': 13031, 'ltr': 7959, 'rational': 10413, 'beg': 1841, 'partyn': 9528, 'duhhh': 4243, 'parm': 9507, 'noodle': 9013, 'jasonyates': 7022, 'code': 3051, 'causing': 2658, 'shitload': 11365, 'testing': 12627, 'noah': 8974, 'detective': 3848, 'gumshoe': 5846, 'wright': 14139, 'www.icareformybody.info': 14173, 'scrambled': 11119, 'forgeting': 5168, 'badge': 1642, 'geez': 5489, 'lauriewrites': 7576, 'margeaux': 8129, 'octave': 9165, 'range': 10383, 'grate': 5739, 'slider': 11595, 'meng': 8309, 'operating': 9308, 'shuts': 11441, 'specialty': 11869, 'cling': 2981, 'potato': 9971, 'ricer': 10754, 'popover': 9922, 'pan': 9472, 'carb': 2588, 'wy': 14178, 'thy': 12809, 'wayyy': 13776, 'irresponsible': 6909, 'projectile': 10146, 'vomiting': 13621, 'volcanic': 13613, 'eruption': 4577, 'pumped': 10227, 'nevershoutnever': 8884, '2.2': 435, 'screwy': 11130, 'sarcastic': 11021, 'humor': 6489, 'tends': 12603, 'tick': 12812, 'username': 13442, 'tthan': 13116, 'dunut': 4270, 'filmed': 4970, 'failure': 4798, 'api': 1289, 'vick': 13546, 'skippin': 11550, 'irl': 6899, 'tied': 12821, 'davros': 3650, 'haejin.r': 5906, 'pox': 9992, 'shoulder': 11405, 'finger.r': 4986, 'dubble': 4224, 'bubble': 2370, 'gum': 5843, 'painting.r': 9459, 'rollerblade': 10848, 'ilyke': 6651, 'sweety': 12377, 'loki': 7839, 'rubbed': 10910, 'ingredient': 6778, 'humankind': 6481, 'immediate': 6666, 'disposal': 3995, '200': 441, 'yeay': 14247, 'meeee': 8275, 'stevenotes': 12073, 'g1': 5387, 'tombstone': 12902, 'uncut': 13311, 'dope': 4103, 'heatsink': 6138, 'bent': 1890, 'courier': 3341, 'solve': 11756, 'cockroach': 3044, 'exists': 4702, 'hate-y-ish': 6070, 'probowl': 10114, 'attending': 1478, 'rate': 10410, 'chalking': 2724, 'seasonal': 11153, 'broccoli': 2322, 'nova': 9066, 'videotape': 13559, 'lmfaoooooo': 7809, 'nicoo': 8929, 'ahaah': 988, 'fxck': 5379, 'dashboard': 3631, 'cyclist': 3551, 'already.r': 1111, 'of.r': 9171, 'ahead.r': 997, 'bullmastiff': 2402, 'purebreed': 10238, 'correction': 3308, 'fashionista': 4848, 'los': 7894, 'angeles': 1200, 'xmen': 14193, 'thai': 12648, 'figure.im': 4960, 'whitest': 13912, 'upload': 13403, 'eventbox': 4621, 'huhuhu': 6472, 'tooos': 12933, 'gw': 5870, 'juga': 7170, 'sama': 10987, 'deja': 3743, 'vu': 13634, 'lipstick': 7756, 'waffle': 13682, '08': 324, 'ot': 9356, 'egobait.com': 4386, 'twitpic': 13189, 'shizzle': 11376, 'alternate': 1120, 'postsecret': 9969, 'secrettweet': 11167, 'nakedness': 8764, 'amuses': 1171, 'nipple': 8956, 'nap': 8774, 'planned': 9806, 'coolest': 3272, 'ap': 1284, 'awkward': 1563, 'justlikeanovel': 7207, 'gaily': 5409, 'darling': 3626, 'holla': 6336, 'supergay': 12295, 'encore': 4484, 'bathtub': 1755, 'restrain': 10685, 'knocking': 7389, ':1': 747, 'fully': 5344, 'barfworthy': 1721, 'nastradamus': 8783, 'zach': 14395, 'translator': 13028, 'prime': 10081, 'recent': 10483, 'rocked': 10823, 'webpage': 13801, 'howard': 6440, 'investing': 6876, 'w3n': 13670, 'l0': 7472, 'virginity': 13585, 'within': 14030, 'byrne': 2484, 'voiceover': 13612, 'eason': 4323, 'serving': 11245, 'basis': 1741, 'tad': 12443, 'insensitive': 6800, 'gga': 5536, 'kiddin': 7317, 'danie': 3614, 'oo': 9276, 'guurrrl': 5859, 'muchoo': 8648, 'thereeeee': 12706, 'descended': 3813, 'fortunately': 5200, 'half-hour': 5988, 'whatcha': 13870, 'qa': 10275, '-kaycee': 114, 'wednesday': 13809, 'sweeling': 12367, 'pasteninja': 9543, 'translation': 13027, 'coma': 3092, 'slaughtered': 11577, 'peta': 9674, 'd.': 3559, 'stocking': 12099, 'anythinclude': 1273, 'user': 13441, 'ing': 6776, 'deny': 3783, 'schnauzer': 11089, 'ears~always': 4314, 'wished': 14022, 'hildie': 6260, 'tails~how': 12450, 'cropping': 3450, 'mann': 8108, 'chrissy': 2883, 'savannah': 11041, 'bianca': 1950, 'lots': 7906, 'tommy': 12906, 'dishwasher': 3985, 'battery': 1757, 'sk': 11532, 'chud': 2900, 'homework.dang': 6355, 'gns3': 5622, 'dynamips': 4292, 'manner': 8110, 'v=wjehii-jjhe': 13468, 'feature=youtu.be': 4897, 'pal': 9463, 'jaron': 7020, 'tone': 12911, 'clicquot': 2976, 'korbel': 7423, 'natural': 8796, 'foolish': 5139, 'atheletes': 1458, '35': 552, 'drain': 4146, 'hamfisted': 5999, 'ass-backwards': 1416, 'keesha': 7270, 'bwnt': 2479, 'headed': 6112, 'lucked': 7965, 'moustache': 8603, 'beard': 1792, 'mistletoe': 8470, 'sweezy': 12378, 'havin': 6093, 'mimosa': 8423, 'homey': 6356, 'dublin': 4225, 'sunset': 12286, 'smileyyyyy': 11654, 'maynn': 8216, 'trippin': 13075, 'dridri': 4173, 'betcha': 1918, 'cuffed': 3489, 'tender': 12602, 'wen': 13834, 'ifirst': 6594, 'juz': 7211, 'prissy': 10098, 'occurance': 9160, '45': 598, 'pound': 9979, 'wifi': 13971, 'seatac': 11156, 'nn': 8964, 'f0rq3+': 4762, 'b0u+': 1592, 'h03': 5882, 'dick-tongue': 3885, 'del': 3744, 'mar': 8122, 'morbid': 8565, 'leon': 7653, 'layoff': 7590, 'traveled': 13043, 'contracted': 3250, 'draft': 4139, 'shivoo': 11373, 'chairman': 2722, 'tudds': 13124, 'shira': 11358, 'gore': 5681, '//tinyurl.com/5jb76v': 223, 'offset': 9193, 'crow': 3457, 'nest': 8869, 'squlour': 11977, 'restore': 10684, 'def': 3719, 'cals': 2540, 'perfectly': 9635, 'mindset': 8430, 'parwents': 9529, 'recommendation': 10496, '-5': 98, 'teased': 12549, 'amber': 1150, 'bitchx': 2016, 'deserted': 3819, 'selfishness': 11196, 'limitation': 7739, 'texter': 12635, 'ron': 10859, 'browz': 2342, 'sandbar': 11001, 'ehukai': 4394, 'honoli': 6371, 'hilo': 6264, '//twitpic.com/py9p': 263, '//dznr.org/87pa': 172, 'bumped': 2411, 'unsanity': 13378, '-thread': 131, 'lasagna': 7533, 'veggie': 13512, 'fried': 5268, 'wedge': 13808, 'tater': 12512, 'baked': 1666, 'ham.oh': 5996, 'millisecond': 8419, 'patience': 9555, 'saint': 10970, 'willpower': 13991, 'bathrobe': 1753, 'a+s': 786, 'mattarmendariz': 8197, '10:40am': 360, 'cocktail': 3045, 'tj': 12864, 'xen': 14188, 'arsclan': 1376, 'midieval': 8394, 'upgradable': 13398, 'pathway': 9554, 'continual': 3242, 'attack': 1473, 'entirety': 4531, 'yeahhh': 14236, 'lmmfao': 7811, 'shuddup': 11435, 'grownass': 5799, 'gaaaaay': 5389, 'snapped': 11679, 'funk': 5353, 'sparkly': 11857, 'gloomy': 5604, 'knocked': 7388, 'ann-margaret': 1218, 'tiffany': 12822, 'vibrate': 13539, 'moto': 8591, 'realizing': 10450, 'debatable': 3692, 'egypt': 4387, 'toothbrush': 12936, 'rip': 10788, 'foolin': 5137, 'leppard': 7656, 'hahahahahahahhaahahhahaa': 5947, 'knowwww': 7399, 'escaped': 4581, 'yikes': 14285, 'w.e': 13648, 'hysterical': 6527, 'twam': 13153, '=twitter': 760, '//tinyurl.com/555cqr': 219, 'scientific': 11097, 'formspringg': 5186, 'noo': 9012, 'peeve': 9604, 'sippin': 11507, 'dun': 4264, 'kewl': 7291, 'eats': 4338, 'blintz': 2079, 'marquess': 8148, 'queensbury': 10299, 'apply': 1312, 'garde': 5437, 'former': 5181, 'bailout': 1661, 'bailouts': 1662, 'pushing': 10250, 'daisy': 3585, 'occasionally': 9156, 'grape': 5730, 'albert': 1045, 'eyeliner': 4753, 'smearing': 11642, 'unfortuantly': 13342, 'sour': 11825, 'krawt': 7432, 'moby': 8502, 'readathon': 10438, 'bedford': 1825, 'melville': 8298, 'began': 1842, 'looooooove': 7884, 'editing': 4361, 'honduran': 6365, 'chilean': 2842, 'peruvian': 9667, 'hdsov': 6107, 'hi-def': 6232, 'smell-o-vision': 11644, 'i.smell.boogina': 6539, 'evryday': 4655, 'absorb': 838, 'ex-husband': 4669, 'stoopid': 12113, 'deciding': 3705, 'hehee': 6157, 'intro': 6861, 'cucumber+rspec': 3486, 'dddd': 3669, 'promisee': 10153, '3333': 544, 'parade': 9490, 'texan': 12630, 'scum': 11137, 'shoved': 11412, 'fwy': 5378, 'hobby': 6316, 'legally': 7635, 'inanimate': 6712, 'haptics': 6037, 'feather-light': 4894, 'angle': 1205, 'deliberate': 3753, 'smashed': 11640, 'bane': 1692, 'belly': 1872, 'sofa': 11744, 'discussion': 3979, 'kona': 7418, 'cali': 2526, 'unacceptable': 13297, 'playtime': 9826, 'purely': 10239, 'dirrrty': 3951, 'milton': 8421, \"'look\": 34, 'homeward': 6353, 'melt': 8297, 'ruth': 10940, 'ion': 6887, 'peppermint': 9626, 'mocha': 8503, 'nonfat': 9006, 'chai': 2719, 'toe': 12885, 'earlobe': 4308, 'hahhaha': 5969, 'kegel': 7271, 'virginia': 13584, 'tlking': 12866, 'irritate': 6912, 'courtesy': 3346, 'chirp': 2859, 'wholeheartedly': 13923, 'entertainment': 4527, 'depended': 3792, 'wrap': 14131, 'willy': 13992, 'banker': 1701, 'grasp': 5735, 'peach': 9586, 'subscription': 12221, 'roger': 10841, 'stupidest': 12203, 'jumping': 7188, 'conclusion': 3175, 'holding': 6332, 'producer': 10128, 'musta': 8690, 'pittsburgh': 9787, 'exporting': 4736, 'cmu': 3013, 'tan': 12484, 'connex': 3207, 'lastlee': 7542, 'equally': 4558, 'snl.r': 11698, 'sweetiepie18': 12375, 'ragamuffin': 10353, 'crude': 3460, 'david': 3646, 'cc': 2666, 'thinner': 12735, 'truculence': 13092, 'rockabilly': 10822, 'bouncing': 2216, 'cup-able': 3505, 'ewwwe': 4662, 'innocent': 6792, 'sheesh': 11323, 'tryhard': 13106, 'beluga': 1878, 'forehead': 5159, 'insane-o': 6795, '10lbs': 363, 'chubbier': 2897, 'dfference': 3863, 'overseas': 9408, 'accuracy': 864, 'krk': 7439, 'temp': 12589, 'ross': 10879, 'bcoz': 1775, 'dress': 4169, 'obtainable': 9150, 'latenight': 7549, 'munchies': 8669, 'pwoplw': 10264, 'haz': 6101, 'quote': 10323, 'everythings': 4637, 'ache': 870, 'reather': 10469, 'b-slap': 1588, 'dialogue': 3877, 'camping': 2554, \"'posed\": 52, 'peace': 9584, 'transmission': 13029, 'replicate': 10635, 'sworn': 12394, 'co2': 3023, 'cristyissues': 3441, 'stripped': 12165, 'plaid': 9800, 'owned': 9422, 'x-': 14180, 'dochobbes': 4044, 'prize': 10103, 'desktop': 3831, 'closer': 2996, 'gambit': 5420, 'ggilmore': 5537, 'hurry': 6507, 'yoville': 14350, 'height': 6161, 'ft/in': 5307, 'centimeter': 2696, 'measure': 8256, 'velour': 13515, 'advert': 943, 'imagined': 6659, \"'mummy\": 41, 'contribution': 3252, 'tks': 12865, 'schmidt': 11088, 'nicholson': 8920, 'valid': 13485, 'cheated': 2781, 'autopilot': 1518, 'rapperbigpooh': 10396, 'sheila': 11327, 'easton': 4330, 'prince': 10085, 'poet': 9867, 'rboscia': 10426, 'hipsterville': 6283, 'myside': 8723, 'jkjk': 7103, 'lezzzdoooittt': 7682, 'ahha': 1000, 'analyzing': 1184, 'givafuck': 5579, 'friendless': 5272, 'previously': 10070, 'stated': 12035, 'firey': 5003, 'atmospher': 1469, '50ft': 634, 'barbarella': 1714, 'mcgowan': 8227, 'flashing': 5038, 'dirtier': 3953, 'iandrea': 6543, 'worldwide': 14106, 'mslika': 8630, 'youve': 14348, 'stoned': 12108, 'gouthami': 5700, 'kannu': 7229, 'adchifying': 907, 'lift': 7708, 'perverted': 9670, 'high-tech': 6242, 'meldcole': 8290, 'arghh': 1350, 'plant': 9808, 'gdocs': 5476, 'underlying': 13316, 'referring': 10530, 'hatey-hate': 6080, 'luvvers': 7993, 'technical-cum-legal': 12555, 'expertise': 4722, 'bot': 2204, 'impressive': 6696, 'everythinnn': 4638, 'yeaaah': 14233, 'ooh': 9278, 'whooty': 13934, 'grls': 5782, 'sweeney': 12368, 'silliest': 11474, 'inversely': 6875, 'despise': 3835, 'organization': 9336, 'otaku': 9357, 'cosplay': 3316, 'application': 1309, 'relies': 10585, 'conspicious': 3221, 'kindness': 7341, 'grumpy': 5810, 'fareway': 4839, 'brand': 2265, 'imac': 6655, 'edible': 4357, 'strategy': 12139, 'marget': 8130, 'segmentation': 11186, 'itune': 6952, 'bred': 2287, 'spotty': 11941, 'heartbeat': 6130, 'jackienopants': 6980, 'wistfull': 14025, 'graduate': 5716, 'misspelled': 8462, 'mountain': 8596, 'nuvo': 9103, 'imprint': 6697, 'princess': 10086, 'tootin': 12939, 'dern': 3812, 'notch': 9051, 'ughk': 13253, 'ihave': 6609, 'bluehost': 2114, 'grilled': 5774, 'cozy': 3364, 'snort': 11706, 'xxx': 14202, 'karate': 7234, 'soundtrack': 11822, 'terri': 12615, 'bwahahaha': 2478, 'immaculate': 6663, 'conception': 3168, 'miracle': 8446, 'kurt': 7453, 'cobain': 3031, 'impress': 6693, 'gathering': 5453, '+_+': 88, 'hifftt': 6240, 'ninja': 8954, 'accent': 846, 'cain': 2514, 'some1': 11761, 'missu': 8466, 'geologic': 5514, 'snobbery': 11700, 'neede': 8834, 'catchy': 2645, 'whas': 13868, 'rappin': 10397, 'anger': 1203, 'ayeeeeee': 1580, '//twitpic.com/xinl': 288, 'cocky': 3046, 'phil': 9697, 'twittered': 13196, 'ordinary': 9332, 'lolspeak': 7856, 'confyushion': 3196, 'rejection': 10570, 'marries': 8151, 'bushwhacking': 2440, 'alchy': 1049, 'verrrryyy': 13529, 'overwelmed': 9413, '.ass': 156, 'inherently': 6780, '.srt': 159, 'format': 5178, 'soccer': 11733, 'faggot': 4791, 'ahead': 996, 'rlly': 10801, '4/20': 588, 'collected': 3074, 'sticker': 12080, 'rabbit': 10334, 'prolific': 10147, 'career': 2596, 'effing': 4379, 'keller': 7274, 'mobb': 8499, 'porking': 9930, 'fortpolk': 5199, 'rebellion': 10472, 'goddamm': 5631, 'costco': 3319, 'ranch': 10377, 'diner': 3932, 'emaled': 4440, '30th': 535, 'study': 12185, 'xoxo': 14196, 'marv': 8165, 'areola': 1346, 'implode': 6686, 'laughter': 7570, 'elite': 4423, 'cringe': 3435, 'sureee': 12320, 'list.r': 7764, 'skydiver': 11558, 'babiesr': 1612, 'oldr': 9242, 'gardenr': 5439, 'drasticallyr': 4152, 'reid': 10564, 'urghhh': 13423, 'trauma': 13041, 'bruno': 2350, 'thehell': 12686, 'youhave': 14316, 'eclair': 4345, 'jamican': 7006, 'patty': 9562, 'pooey': 9911, 'twaters': 13155, 'shite': 11363, 'slang': 11569, 'hey-dumb-fuck-guys-stop-trying-so-hard': 6213, 'joined': 7130, 'circus': 2923, 'perform': 9638, 'oak': 9130, 'hollow': 6337, 'custard': 3528, 'crave': 3393, 'guaranteed': 5819, 'italian': 6944, 'africa': 960, 'gunna': 5849, 'yourselves': 14332, 'forced': 5154, 'frequently': 5259, 'vividly': 13600, 'comp': 3131, 'subjective': 12217, 'jon': 7141, 'honorary': 6373, 'formatting': 5179, 'wall-e': 13702, 'south': 11828, 'america': 1157, '//tinyurl.com/6xmnyr': 242, 'calling': 2534, 'amen': 1156, 'bradsucks': 2253, 'subscribe': 12219, 'kaydoll': 7256, 'bettaa': 1927, 'rhubinathy': 10744, 'othe': 9358, 'bofa': 2133, 'acct': 862, 'grueling': 5807, 'cust': 3527, 'clipse': 2988, 'breihan': 2291, 'v3rmillion': 13465, 'obvi': 9151, 'rightt': 10781, 'thhere': 12717, 'trty': 13086, 'wackiland': 13681, 'garage': 5435, 'nicca': 8913, 'cured': 3511, 'hateful': 6074, 'viking': 13567, 'n3qro': 8740, 'wuzz': 14165, 'mmmmmmm': 8490, 'studying': 12187, 'jks': 7105, 'honolulu': 6372, 'non-stop': 9002, 'effin': 4378, 'ihu': 6612, 'hahahhaa': 5962, 'alexisssss': 1063, 'thozz': 12763, 'gona': 5647, 'shtt': 11431, 'touchhh': 12971, 'yyyyou': 14390, '-remz': 123, 'idkk': 6583, 'mwauuuhhh': 8709, 'seanhackbarth': 11146, 'hate-fest': 6068, 'label': 7481, 'birdwalk': 1996, 'gucci': 5822, 'bandana': 1689, 'aite': 1025, 'hott': 6425, 'hundred': 6495, 'jaaaay': 6970, 'kaaaaayyyyyy': 7220, 'concealed': 3164, 'redundant': 10520, 'swatch': 12356, 'cyber': 3547, 'marks-a-lot': 8145, 'notion': 9061, 'co-pilot': 3020, 'charging': 2756, '//sharebee.com/c0756ec0': 207, 'bios': 1993, '/emo': 313, 'hey~~happy': 6221, 'movie~': 8610, 'proff': 10136, '//twitpic.com/v2mo': 279, 'superhero': 12296, 'tense': 12606, 'jonas': 7142, 'freind': 5251, 'celibate': 2684, 'mourns': 8600, 'celibacy': 2683, 'demise': 3769, '//twurl.nl/a16z8c': 295, 'muahahahahaahahahahahahahahaaha': 8643, 'cradle': 3380, 'snatcher': 11682, 'bb': 1766, 'ducky': 4231, 'u00bflistography': 13228, '74': 685, '//tinyurl.com/6q8olq': 241, 'sponsor': 11927, 'olympics': 9249, '10ish': 362, 'dumpling': 4262, 'beautifulllll': 1807, 'vampire': 13490, 'sexual': 11261, 'angst': 1207, 'plugin': 9845, 'soemthing': 11743, 'lameeee': 7512, 'suggestion': 12259, 'singapore': 11492, '1/10': 341, 'celphone': 2690, 'sweeeeeeeeeeeet': 12364, 'blamed': 2053, 'accomplishment': 855, 'trippy': 13077, 'intend': 6833, 'disposing': 3998, 'clipping': 2987, 'frienf': 5275, 'showering': 11419, 'cork': 3294, 'mhr': 8368, 'lo': 7813, 'hav': 6087, 'ooooh': 9284, 'weasel': 13792, 'fuzzy': 5374, 'nod': 8982, 'drivin': 4186, '-10': 97, 'btwn': 2365, 'marino': 8137, 'romo': 10857, 'whitten': 13915, 'feell': 4912, 'demon': 3773, 'cease': 2672, 'desist': 3829, 'backpack': 1626, 'german': 5520, 'guten': 5857, 'morgen': 8569, 'seesmic': 11184, 'independently': 6740, '32': 538, 'poison': 9873, '2go': 500, 'hearty': 6132, 'sirloin': 11511, 'butcher': 2454, 'rib': 10750, 'economical': 4349, 'fking': 5024, 'joe-bear': 7117, 'exercise': 4692, 'drumk': 4202, 'ummmmmm': 13291, 'jersey': 7070, 'down-sizing': 4122, 'wardrobe': 13725, 'accommodate': 853, 'jamaica': 6998, 'cyandle': 3546, 'queer': 10301, 'ftr': 5308, 'ashley': 1395, 'alil': 1070, 'stud': 12182, 'poop': 9915, 'ashton': 1397, 'kutcher': 7457, 'noting': 9060, 'mere': 8326, 'keeking': 7266, 'plethora': 9835, 'handsome': 6016, 'leather': 7619, 'jacket': 6977, 'port': 9936, 'charlotte': 2762, 'nopeee': 9030, 'dickmode': 3890, 'recovers': 10507, 'suffer': 12252, 'prussia': 10191, 'unexpectedly': 13337, 'independent': 6739, 'legged': 7637, 'jr': 7162, 'areopostale': 1347, 'instyle': 6821, 'bigtime': 1973, 'ach': 869, 'spelled': 11885, 'initial': 6782, 'g.': 5385, 'emahsnouoy': 4438, 'that-my': 12672, 'weird-i': 13823, 'cramp': 3385, 'searching': 11150, 'lovelovelove': 7939, 'barnes': 1726, 'fractured': 5214, 'pickup': 9738, 'ibuprofin': 6549, 'brb': 2277, 'slitting': 11610, 'shrinkage': 11427, 'retail': 10694, 'occurred': 9161, 'gayy': 5467, 'boyyu2665': 2239, 'idid': 6578, 'textt': 12640, '//tinyurl.com/6fro26': 238, 'suntem': 12288, 'dar': 3619, 'gandem': 5428, 'sa': 10954, 'gasim': 5448, 'mascota': 8172, 'putem': 10257, 'scoate': 11103, 'din': 3930, 'dulap': 4246, 'cand': 2566, 'vrem': 13631, 'acuzam': 899, 'pe': 9582, 'cineva': 2915, 'nenorocul': 8856, 'nostru': 9046, 'somet': 11767, 'kum': 7450, 'den': 3776, 'aston': 1445, 'diva': 4018, 'pug': 10219, 'harvest': 6058, 'realz': 10460, 'allz': 1092, 'stupid-ass-rodimus': 12200, 'fantabibulous': 4834, 'seriously.r': 11235, 'adtr': 938, 'emarosa': 4442, 'emmure': 4463, 'thrashin': 12765, 'instrumental': 6819, 'underoaths': 13318, 'thankz': 12665, 'suffered': 12253, 'nnw': 8968, 'organized': 9337, 'skim': 11546, 'trimmingi': 13071, 'fastu2013paced': 4853, 'purposeful': 10245, 'juggling': 7173, 'thundercunt': 12801, 'childish': 2839, 'idgaf': 6577, 'acre': 881, 'caucasian': 2653, 'monkey-fuck': 8549, 'nigka': 8944, 'capture': 2585, 'snowing': 11710, 'alraedy': 1109, 'heb': 6144, '27': 482, '4.16': 584, 'stroll': 12168, '4.30': 585, 'reference': 10528, 'mingle': 8435, '=_=': 755, 'tweeted': 13163, 'tweetdeck': 13162, 'teetdeck': 12565, 'unsure': 13382, 'hannah': 6022, 'loss': 7900, 'deathbed': 3688, 'vigil': 13565, 'eas': 4318, 'cussing': 3526, 'hahahahahahahahahahahahahahahahaha': 5941, 'unemployment': 13334, 'increase': 6734, 'gangster': 5433, 'claimed': 2943, 'polygamy': 9900, 'grrrr': 5803, 'shag': 11280, 'buaha': 2368, 'squirrel': 11972, 'finished': 4990, '73': 684, 'growth': 5800, 'ebooks': 4341, 'belonged': 1873, 'cellphone': 2688, 'patterened': 9558, 'coweta': 3359, 'balcony': 1670, 'rub': 10909, 'bedtime': 1827, 'funn': 5355, 'twitmance': 13186, 'in-studio': 6708, 'sherrod': 11339, 'designing': 3827, 'cs': 3474, 'afterparty': 965, 'flier': 5055, 'wreckin': 14135, 'slipped': 11605, 't.o': 12421, 'nomore': 8995, 'sickness': 11453, 'fib': 4947, \"'guide\": 28, 'chow': 2879, 'bare': 1718, 'surrogate': 12334, 'adopt': 932, 'ghurrr': 5545, 'nuttin': 9100, 'busyy': 2452, 'txt': 13209, 'serration': 11240, 'foe': 5100, 'failing': 4797, 'bentley': 1891, 'assessment': 1428, 'introduced/email/contact': 6863, 'gud': 5823, 'dump': 4259, 'nondescript': 9003, 'fookin': 5135, 'augh': 1493, 'reow': 10624, 'slipping': 11607, 'castanza': 2634, 'maried': 8134, 'banjamin': 1699, 'valkyrie': 13486, 'gota': 5692, 'kute': 7458, 'graemem': 5718, 'lame-duck': 7510, 'scotsman': 11112, 'fixing': 5023, 'lame-ass': 7509, 'cabo': 2506, 'alexx': 1066, 'remark': 10597, 'speech': 11876, 'telw': 12587, 'altho': 1122, 'totnes': 12967, 'brietastic': 2299, 'ricky': 10763, 'martin': 8160, 'bradda': 2248, 'cl-ass-y': 2941, 'whaaaa': 13859, 'perv': 9668, 'survival': 12337, 'stompin': 12106, 'playoff': 9824, 'cowgurls': 3360, 'au': 1487, '35c': 553, 'swap': 12355, 'honour': 6375, 'musically': 8684, 'cobra': 3033, 'starship': 12027, 'moddest': 8507, 'whosz': 13941, 'niggaaa': 8935, 'neeci': 8829, 'bon': 2157, 'voyage': 13629, 'riva': 10796, 'derci': 3808, 'sayonara': 11055, '43': 595, 'kg': 7298, 'smurfet': 11673, 'smurf': 11672, 'earl': 4305, 'gullible': 5842, 'ceiling': 2674, '60db': 663, 'cessna-level': 2713, 'rockyd': 10833, 'livejournal': 7785, 'jrock': 7163, 'rotation': 10880, 'lj': 7791, 'inducing': 6750, 'non-coffee': 8998, 'drinker': 4177, '~santi~': 14440, 'bury': 2436, 'treasure': 13048, ':3': 748, 'congratulation': 3202, 'dissertation': 4001, 'niiice': 8945, 'boricua': 2193, 'boricuas': 2194, 'pattinson': 9561, 'chard': 2753, 'excess': 4683, 'man-boobs': 8087, 'phytos': 9727, 'mineee': 8434, 'toothpaste': 12937, 'ent': 4519, 'aprove': 1327, 'yeppppppppppppppppppp': 14263, 'yacht': 14215, 'embarassment': 4444, 'guus': 5860, 'foing': 5104, 'black_milk': 2032, 'crunch': 3466, 'raw': 10418, 'graham': 5720, 'kilo': 7333, 'tcot': 12529, 'yet.but': 14276, '709': 683, 'tweets.does': 13167, 'karted': 7243, 'knwon': 7404, 'lifestyle': 7706, 'britneys': 2312, 'pectoral': 9592, 'development': 3856, 'fusion': 5369, 'parellels': 9499, 'dailup': 3582, 'johnson': 7124, 'gatorade': 5456, 'soak': 11722, 'replenish': 10634, 'electrolyte': 4411, 'cleo': 2968, 'stumper': 12197, 'otoh': 9364, 'passionately': 9535, 'touchscreen': 12974, 'port+oj': 9937, 'it.as': 6941, 'remedy': 10602, '............': 145, 'testosterone': 12628, 'honk': 6370, 'horn': 6401, 'defect': 3722, 'cheetos': 2806, 'torito': 12946, 'salsa': 10981, '8230': 713, 'gooood': 5675, 'shuffle': 11436, 'randomly': 10382, '12.55': 377, 'invention': 6874, 'proved': 10186, 'rosenbergradio': 10877, 'cipha': 2920, 'youd': 14314, 'hahahahahhaha': 5952, 'hahahahahaahahahaha': 5930, 'guarantee': 5818, 'ust': 13445, 'floating': 5068, 'sink': 11498, 'survives': 12340, 'coaching': 3025, 'boyz': 2240, 'rayray': 10422, 'lowdown': 7950, '^^': 769, 'usa': 13433, 'nationwide': 8793, 'danielle': 3616, 'skill': 11545, 'davebenjamin': 3644, 'sniff': 11694, 'cavity': 2661, 'cinnabuns': 2917, 'younger': 14320, 'meanwhile': 8253, 'allieoop95': 1082, 'brookoverroxx': 2332, 'songg': 11782, 'vaginaaaaaaaaa': 13480, 'nekked': 8851, 'azz': 1584, 'tym': 13215, 'doezz': 4055, 'processing': 10119, 'eatin': 4336, 'meah': 8242, '52nd': 640, 'fuckery': 5320, 'welcomed': 13827, 'fiancee': 4945, 'stare': 12022, 'pallys': 9468, 'warcraft': 13723, 'iii': 6614, 'waldo': 13695, 'helga': 6168, 'guys-lucas': 5867, 'mclaine': 8230, 'gabe': 5396, 'jake': 6995, 'nathan': 8790, 'girls-': 5574, 'maddie': 8035, 'cassie': 2632, 'nicky': 8926, '3:39': 564, '-dakota': 107, 'lookat': 7873, 'highest': 6245, 'qtr': 10288, '-haa': 111, 'guessedd': 5827, 'righhtttt': 10778, 'maryyyy': 8170, 'ilovee': 6638, 'mayb': 8210, 'becuase': 1822, 'youhr': 14317, 'discovery': 3976, 'cosmetic': 3315, 'destroy': 3843, 'notorious': 9062, 'd8': 3570, 'everything-except': 4636, 'vacuum': 13475, 'sorrrrrrrrrrry': 11802, 'bitched': 2010, 'falafel': 4812, 'nachoes': 8749, 'tune/album': 13133, 'kkkkkk': 7370, 'sixth': 11525, 'dimension': 3928, 'forsure': 5195, 'boy/girl': 2232, 'scout': 11117, 'strugglin': 12177, 'speach': 11861, 'flying': 5091, \"o'hare\": 9117, 'advertise': 944, 'pls': 9842, 'molly': 8525, 'maid': 8056, 'cleanin': 2961, \"mf'in\": 8361, 'regret': 10555, 'haris': 6051, \"did'nt\": 3895, 'martin001': 8161, 'lite': 7771, 'oooohh': 9285, 'neighborhood': 8847, '8:30': 718, 'coffeeclub': 3058, 'miley': 8411, 'southside': 11832, 'leavin': 7623, 'disz': 4014, 'crazii': 3401, 'tearsz': 12546, 'filipino': 4964, 'leprecon': 7658, 'jumped': 7185, 'scarred': 11077, 'laser': 7535, 'treatment': 13051, 'pimple': 9764, 'metrosexual': 8356, 'involves': 6884, 'boop': 2184, '44': 596, 'pedifile': 9593, 'insects/bugs': 6798, 'anti-bug': 1252, 'harassing': 6041, 'quality': 10290, 'togetherr': 12889, 'alternative': 1121, 'hahlo': 5973, 'convos': 3265, 'kellidunlap': 7275, 'nervous': 8866, 'appointment': 1314, 'hilton': 6265, 'thta': 12792, 'certainty': 2708, 'definatly': 3733, 'woo': 14067, 'engineer': 4501, 'becka': 1815, 'unnecessary': 13367, 'britney': 2311, 'shocking': 11381, 'span': 11848, 'butthole': 2463, '//is.gd/c6vm': 184, 'obsolete': 9149, 'jacob': 6985, 'bestie': 1910, 'mr.b': 8622, 'fest': 4931, 'nevermind': 8882, 'brainwave': 2261, 'u32e1what': 13240, 'reality': 10447, 'alejandro': 1054, 'gaga': 5402, 'rudolf': 10919, 'heresy': 6196, '100pancheros': 354, '1chipotle': 426, 'here-it': 6194, 'st': 11988, 'yeaaaaa': 14232, 'kepted': 7285, 'tossing': 12963, 'cardio': 2592, 'ordered': 9330, 'defeat': 3720, 'liquidweb': 7759, 'bff': 1941, 'forevah': 5164, 'powerful': 9989, 'utility': 13452, 'non-intuitive': 9001, 'itinerary': 6950, 'dere': 3809, 'werever': 13844, 'subconscious': 12215, 'fucken': 5318, 'badevan': 1641, 'eliminate': 4422, 'jesuslovessmnb': 7076, 'deluca': 3763, 'twinke': 13176, 'whateva': 13875, 'danger': 3611, 'k.': 7216, 'december': 3700, 'mannnyyy': 8112, 'srry': 11982, 'dedicate': 3713, 'gigantic': 5553, 'cutter': 3538, 'jkjkjk': 7104, 'iget': 6595, 'offense': 9182, 'rawrr': 10419, 'oooops': 9293, 'shd': 11313, 'intriguing': 6860, 'chockenberry': 2864, 'lugar': 7970, 'hocking': 6319, 'loogies': 7871, 'san': 10998, 'jose': 7150, 'income': 6728, 'stream': 12143, 'pandora': 9477, 'ttyl': 13118, 'over-rated': 9393, 'newest': 8890, 'pickin': 9735, 'slamming': 11567, 'scarin': 11073, 'koo': 7419, 'snack': 11674, 'ember': 4453, 'babble': 1604, 'discussing': 3978, 'w/out': 13661, 'forbid': 5151, 'saran': 11018, 'keanu': 7263, 'mighty': 8399, 'proton': 10182, 'neutron': 8876, 'jeroboam': 7067, 'exponentially': 4735, 'michigander': 8380, 'suffering': 12254, 'ilove': 6637, 'tcard': 12527, 'frenchys': 5253, 'fry': 5303, 'cornbread': 3296, '12.': 375, \"s'pose\": 10947, 'vincinity': 13571, 'beached': 1783, 'blessed': 2071, 'pregnancy': 10027, '__________': 777, 'sneaker': 11685, 'recreation': 10509, 'mtch': 8635, 'ht': 6451, 'hahahhaha': 5964, 'hhaahhaahahaha': 6226, 'humanely': 6478, 'exploited': 4730, 'successfully': 12229, 'numerous': 9092, 'jordon': 7148, 'gnocchi': 5621, 'bubbz': 2372, 'nooooooooooooooooo': 9025, 'post-traumatic': 9962, 'inbred': 6717, 'blunts': 2116, 'sometimes-today': 11774, 'concur': 3179, 'thoroughly': 12755, 'kickled': 7314, 'boyfriend/girlfriend': 2236, 'snobbish': 11701, 'eastern': 4329, 'hollyrhoffman': 6339, 'humidity': 6485, 'humid': 6484, 'injection': 6785, 'c++': 2494, 'win32': 13996, 'uhhhhh': 13266, 'adapt': 905, 'semblance': 11200, 'moderation': 8512, 'perishable': 9645, 'taxi': 12522, 'hoe-ishness': 6322, 'sin': 11486, 'sinned': 11500, 'opppzz': 9316, '78deg': 690, 'tweetin': 13164, 'nikkas': 8949, 'hustla': 6514, 'worker': 14096, 'soothing': 11797, 'telemarketers': 12575, 'shady': 11279, 'false': 4820, 'drobo': 4189, 'hobo': 6317, 'prom': 10150, 'shiiit': 11350, 'crew': 3429, 'acttin': 894, 'aching': 874, '//xrl.us/greengiant': 308, 'shout': 11408, 'kouhai~': 7428, 'resulting': 10691, 'chaos': 2744, 'irresistible': 6908, 'turkey': 13137, 'mildly': 8409, 'guykawaski': 5864, 'munch': 8668, 'w/our': 13660, 'tyler': 13214, \"mo'fos\": 8496, 't-pain': 12417, 'bond': 2158, 'fackin': 4780, 'seriousness': 11236, 'wes': 13849, 'constantly': 3224, 'rage': 10354, 'affair': 952, 'tonightt': 12915, '//twitpic.com/y2yl': 292, '700.': 681, 'glutinous': 5616, '3r': 571, 'sneaky': 11687, 'mousepad': 8602, 'recovery': 10508, 'ex-gays': 4668, 'cruising': 3464, 'restroom': 10688, '1/3rd': 344, 'meanzz': 8254, 'nawt': 8806, 'guyz': 5868, 'shitt': 11366, 'fuken': 5335, 'alwyz': 1132, 'marissa': 8139, 'taylor': 12524, 'partied': 9520, 'jolie': 7137, 'tinkerbell': 12847, 'sacto': 10957, 'cali-': 2527, 'alto': 1124, 'low-fat': 7949, 'macbook': 8025, 'quantumofsuck': 10293, 'transporter': 13033, 'upping': 13406, 'seanzageek': 11147, 'amd': 1154, 'thiz': 12742, 'nasttty': 8784, 'istick': 6936, 'appreciative': 1317, 'shat': 11304, 'tabilicious': 12434, 'electronic': 4412, 'clerk': 2969, 'kathynewman': 7249, 'tatties': 12513, 'turnip': 13144, 'creamed': 3408, 'spinach': 11908, 'master': 8183, 'skippping': 11552, 'cj': 2930, 'wendy': 13835, 'oriental': 9339, 'iam': 6541, 'cuzzin': 3542, 'gratin': 5741, 'yeeah': 14249, 'youngin': 14322, 'shed': 11317, 'piled': 9756, 'boon': 2179, 'hhrs': 6230, 'alottttt': 1105, 'winning': 14011, 'lottery': 7910, '-a': 103, 'concord': 3176, 'tenant': 12600, 'filthy': 4975, 'rich': 10755, 'polly': 9892, 'shunned': 11438, 'amish': 1162, 'shun': 11437, 'outcast': 9378, 'fuss': 5370, 'emacs-rails': 4437, 'codebase': 3052, 'emacs': 4436, 'lucy': 7968, 'ella': 4424, 'tempting': 12598, 'racing': 10343, 'evo': 4647, 'metallic': 8347, 'stripe': 12163, 'tinted': 12848, 'evilbeet': 4645, 'kate': 7247, 'advertisement': 945, 'mtvs': 8639, 'boiling': 2142, 'frendzz': 5254, 'krissy': 7435, 'tootsie': 12940, '454333': 600, 'yeahp': 14239, 'luh': 7971, 'herm': 6197, 'groupie': 5792, 'confess': 3186, 'purty': 10246, 'binder': 1988, 'insert': 6801, 'handy': 6017, 'jerk': 7064, 'hendersonville': 6186, 'faka': 4808, 'sapien': 11015, 'alos': 1102, 'ia': 6540, 'department': 3788, 'mstv': 8632, 'dispanded': 3993, 'lok': 7838, 'bu': 2366, 'actualy': 897, 'fel': 4916, 'sory': 11809, 'eminem': 4460, 'willl': 13989, 'tought': 12979, 'anouther': 1241, 'disappointed': 3964, 'removed': 10616, 'appeased': 1304, 'breathing': 2286, 'luving': 7991, 'scarf': 11071, 'equate': 4559, 'criticism': 3442, 'capitalize': 2583, 'leahsairy': 7608, 'mecca': 8261, 'gr8': 5707, 'cloved': 3003, 'sca': 11061, 'bitin': 2020, 'gett': 5529, 'chew': 2821, 'ping': 9768, 'cheesey': 2803, 'merely': 8327, 'flash': 5037, 'cameraphones': 2548, 'tilt': 12832, 'taintchoke': 12451, 'shakesperean': 11283, 'tragedy': 13014, 'ibastard': 6546, 'convertible': 3261, '89': 717, 'mustang': 8692, 'supershuttle': 12301, 'primetime': 10083, 'shuttle': 11443, 'lax': 7585, 'confiscation': 3190, 'saaaammee': 10955, '//twitter.grader.com': 294, 'house.haha': 6432, 'flist': 5065, 'striked': 12159, 'heartattack': 6129, 'alyssa': 1136, 'patd': 9548, 'philip': 9698, 'seymour': 11268, 'hoffman': 6325, 'brent': 2293, '1-10': 334, 'thermometer': 12710, 'aviod': 1533, 'sprinkle': 11953, 'wallpaper': 13705, 'flooding': 5070, 'cedar': 2673, 'river': 10797, 'june': 7190, 'imma': 6662, 'alrite': 1115, 'talisa': 12468, 'jared': 7019, 'leto': 7666, '25th': 477, '26th': 481, 'echelon': 4344, 'doooor': 4100, 'stereotyped': 12067, 'cult': 3494, 'cache': 2507, 'followng': 5118, 'bolt': 2148, 'molotov': 8526, 'mt': 8634, 'spokane': 11925, '7days': 696, 'skier': 11543, 'manko': 8107, 'koshinukei': 7427, 'teme': 12588, 'bastard/bitch': 1748, 'womenwhotech': 14057, 'bustin': 2449, 'jieber': 7088, '//tinyurl.com/6dunlq': 237, '3333333333': 548, 'wooo': 14077, 'predictability': 10020, 'whuup': 13948, 'predictable': 10021, 'kev': 7288, 'existing': 4701, 'duo': 4271, 'school-something': 11091, 'clermont': 2970, 'center': 2695, 'kitsap': 7359, 'vermont': 13528, 'casanova': 2625, 'yatty': 14226, 'exposure': 4738, 'gaming': 5426, 'maylene': 8214, 'bueno': 2383, 'silently': 11471, 'strong_bow': 12170, 'smoking': 11662, 'inject': 6784, 'expand': 4709, 'thingy': 12729, 'courrupted': 3343, 'fandom/reads': 4830, 'fanfic': 4831, 'protect': 10174, 'tub': 13121, 'germ': 5519, 'blessing': 2072, 'disguise': 3981, 'depending': 3794, 'mmmhm': 8486, 'hahaa': 5914, 'mesg': 8334, 'crossed': 3453, 'w/1': 13650, 'allisoncarter': 1083, 'sandal': 11000, 'noononoononnnoononnonononoonon': 9016, 'mongler': 8544, 'nstraighten': 9079, 'targeted': 12497, 'prosecuted': 10167, 'statute': 12040, '8/13/09': 706, '//poetic-beauty81.deviantart.com/art/a-rok-shining-star-163949988': 204, 'k-8': 7214, 'terifying': 12611, 'suspected': 12343, 'ended': 4491, '2:00': 488, 'welkom': 13829, 'besluiten': 1903, 'volgen': 13615, '//www.topshop.com/webapp/wcs/stores/servlet/productdisplay': 304, 'beginindex=20': 1847, 'viewallflag=false': 13563, 'catalogid=19551': 2639, 'storeid=12556': 12121, 'categoryid=160952': 2647, 'parent_category_rn=42344': 9501, 'productid=1762331': 10130, 'langid=-1': 7524, 'volunteer': 13618, 'whoopin': 13933, 'kin': 7336, 'jennifer': 7059, 'anniston': 1223, 'hairy': 5982, 'lem': 7644, 'opacity': 9300, 'costa': 3318, 'rica': 10752, 'practice': 10001, 'witch': 14027, 'bakery': 1668, 'hadda': 5902, 'asks': 1408, 'wiifitenthused': 13975, '//twitpic.com/vkky': 282, 'leggins': 7638, 'stirrup': 12094, 'jeep': 7044, 'impacted': 6677, 'furnace': 5363, 'panic': 9479, 'saurez': 11038, 'gudd': 5824, 'eww': 4660, 'aside': 1399, 'shovelling': 11415, 'african': 961, 'location': 7825, 'handing': 6013, 'raining': 10363, 'seth': 11250, '4:30': 608, 'persuaded': 9664, 'argument': 1353, 'sped': 11875, 'webstars': 13803, 'nessarenee': 8868, 'juicee': 7176, 'masturbate': 8185, 'retweet': 10712, 'hector': 6148, 'kitteenip': 7360, 'extract': 4745, 'react': 10434, 'sudden': 12248, 'oxymoron': 9428, 'geesh': 5488, 'watchin': 13754, 'maryy': 8169, 'hha': 6225, 'strangerrrs': 12133, 'kayla': 7257, 'phoebe': 9708, 'tricked': 13062, 'hahahahaahahahahah': 5926, 'presumptous': 10049, 'pricksy': 10078, 'wicksies': 13959, 'arises': 1359, 'sweetest': 12373, 'sends': 11209, '//austingirlblog.wordpress.com': 162, 'imply': 6687, '3-4': 521, 'jbatmann': 7033, 'cynical': 3553, 'frankly': 5226, 'coal': 3026, 'hydro': 6522, 'owner': 9423, 'economic': 4348, 'welfare': 13828, 'pump': 10226, 's0': 10952, 'rd': 10427, 'bruh': 2345, 'bust3d': 2446, '0f': 329, 'm0mmasz': 8011, 'sh3': 11275, 'sturizin': 12205, 'do3': 4042, 'cture': 3479, 't0': 12424, 'be3': 1781, 'ry': 10941, 'ppy': 9997, 'puzzie': 10262, 'spamming': 11845, 'hugest': 6464, 'serena': 11225, 'kidnapped': 7321, 'latina': 7557, 'michaela': 8376, '3-6': 523, 'stdout': 12045, 'tty': 13117, 'output': 9387, 'bestfriend': 1909, 'lates': 7554, 'rhyming': 10747, 'strap': 12136, 'pervert': 9669, 'uncalled': 13306, 'cooling': 3274, 'tequila': 12609, 'lure': 7984, 'reciprocity': 10490, 'lauren': 7575, 'ski': 11541, '+1': 84, '+2': 85, 'quik': 10315, 'bombsquad': 2154, 'quiks': 10316, 'posse': 9955, 'rap-a-lot': 10391, 'monmouth': 8550, 'environment': 4541, 'minister': 8441, 'vanwyngarden': 13496, 'mgmt': 8362, 'wks': 14041, 'fla': 5028, 'mirror': 8449, 'yuppp': 14375, 'screencasts': 11126, 'source': 11826, 'serato': 11224, 'crackin': 3379, 'loan': 7817, 'spazzy': 11860, 'spontaneity': 11929, 'stability': 11993, 'therapeutic': 12701, 'scroll': 11133, 'filtering': 4974, 'main': 8059, 'mindful': 8427, 'mercury': 8325, 'poisoning': 9874, 'mamet': 8082, 'piven': 9789, 'where-ever': 13890, 'resizes': 10670, 'lipgloss': 7755, 'matching': 8188, 'liner': 7748, 'moracco': 8563, 'complained': 3148, 'clearwire': 2967, 'starring': 12026, 'costner': 3320, 'karkar': 7239, 'spike': 11903, 'barbed': 1716, 'flamethrower': 5034, 'bitch-slapped': 2007, 'ding': 3933, '28': 485, 'blondie': 2098, 'laughin': 7567, '//twitpic.com/uzdf': 278, 'healthier': 6121, 'old-fashioned': 9237, 'bar-': 1709, 'glance': 5592, 'mystique': 8729, 'hombre': 6343, 'eitherrrrrr': 4399, 'census': 2693, 'schmensus': 11087, 'beautidul': 1803, 'shane': 11293, 'laughhh': 7566, 'pix.ly': 9791, 'hadnt': 5904, 'pissed.you': 9781, 'to.hope': 12876, 'relax': 10575, 'thinker': 12732, 'mrs.teacher': 8626, 'all.damn': 1077, 'thumbnail': 12797, 'av': 1520, 'tqbf': 12999, 'combination': 3096, 'slur': 11621, 'camino': 2549, 'chic': 2828, 'whipping': 13904, 'klepto': 7373, 'homeless': 6349, 'moltz': 8528, 'isdoingitwrong': 6919, 'daydream': 3654, 'tractor': 13006, 'ollie': 9248, 'yall': 14220, 'gypsy': 5877, 'faves': 4873, 'ac/dc': 844, '//tinyurl.com/94v4b5': 250, 'apple/hate': 1307, 'microsoft': 8385, 'snappy': 11681, 'wiener': 13966, 'flyer': 5090, 'friggen': 5276, 'glamour': 5591, '7lbs': 697, 'represented': 10641, 'burdeon': 2420, 'drawn': 4157, 'numbness': 9090, 'sheez': 11326, 'phone-cam': 9711, 'pix': 9790, 'appt': 1322, '3pm': 570, 'dman': 4033, 'achingly': 875, 'mario': 8138, 'magical': 8048, 'lasted': 7540, 'leading': 7604, 'everybodies': 4627, 'turnaround': 13140, 'bibingka': 1954, 'bbf': 1769, 'ng': 8903, 'disappointing': 3965, 'sincerity': 11490, 'absitence': 835, '//is.gd/d2pt': 188, 'uptake': 13412, 'unamed': 13299, 'char': 2750, 'formspring.me/aleak': 5185, 'basket': 1742, 'tearing': 12544, 'sneeks': 11689, 'vuitton': 13635, 'rolling': 10851, 'tarzan': 12501, 'draggin': 4142, '____________': 779, 'web': 13796, 'alter': 1119, 'ego': 4385, 'mwahahah': 8708, 'stat': 12033, 'separated': 11220, 'sucky': 12247, 'steph125': 12059, '2morrow': 507, 'mmovie': 8492, 'embarrassing': 4450, 'outfit': 9380, 'teasing': 12550, 'blower': 2104, 'matthudgins': 8203, 'tozer': 12995, 'compensate': 3140, 'ravanayan': 10415, 'sistas': 11513, 'j-lo': 6965, 'vida': 13553, 'spontaneous': 11930, 'ferrero': 4930, 'rocher': 10820, 'induce': 6749, 'zit': 14415, 'chin': 2849, 'awhhhhhhhhhhhhhhhhhh': 1561, '//tinyurl.com/6py66j': 240, 'wonderr': 14065, 'maybee': 8212, 'babeyyboy': 1609, 'photogenic': 9717, 'no-': 8970, 'inflated': 6763, 'rent': 10620, 'generously': 5506, 'portioned': 9942, 'sumthin': 12275, 'charmin': 2765, 'muh': 8657, 'prsarahevans': 10190, 'socialmedia': 11737, 'mussel': 8687, 'web-people': 13797, 'nationality': 8792, 'waste': 13747, 'textingg': 12638, 'hermioneway': 6200, 'tres': 13057, 'generally': 5500, 'davidlano': 3647, '9am': 741, '7pm': 698, \"'bad\": 12, 'sinking': 11499, 'pushup': 10251, 'corporate': 3303, 'beautifully': 1808, 'worded': 14086, 'w/10k': 13651, 'merit': 8329, 'aloha': 1097, 'flowin': 5079, 'mainland': 8061, 'apologize': 1292, 'bottom-feeding': 2211, 'twitter/last.fm': 13195, 'babeeee': 1606, 'giggidy': 5554, 'd3': 3567, 'f0r': 4760, 'dozenth': 4135, 'tosh': 12958, '9835': 737, '9834': 736, 'cock-a-doodle-doooooooooo': 3037, 'shortstop': 11398, 'mid': 8388, 'vice-versa': 13543, 'training': 13019, 'basketball': 1743, 'dae': 3578, 'harrd': 6055, 'mindvvv': 8432, 'enuf': 4537, 'jan.': 7010, 'tedious': 12560, 'kinnn': 7348, 'silence': 11469, 'darkness': 3623, 'excercise': 4681, '17.': 406, 'usher': 13443, 'irrational': 6906, 'chiropractor': 2858, 'facility': 4777, 'alcoholic': 1051, 'chevere': 2819, 'daley': 3588, 'hispanic': 6286, 'wooly': 14076, 'certificate': 2710, 'lego': 7640, 'attractive': 1484, 'sorrrry': 11803, 'recommended': 10497, 'gblnetwkr': 5472, 'adaptive': 906, '1000': 351, 'booding': 2172, 'sobranie': 11729, '//bit.ly/voyu': 168, 'festival': 4932, 'savior': 11045, 'lotusphere': 7912, 'contain': 3236, 'metal': 8345, '57357': 644, '//twitpic.com/sbrn': 269, 'surface': 12324, 'rail/trolleys': 10359, 'blinked': 2077, 'charged': 2755, 'assault': 1424, 'ass-whooping': 1422, 'sakoyo': 10972, 'cupcake': 3506, 'a.': 790, 'apt': 1328, 'eying': 4755, 'vcs': 13506, 'silicon': 11472, 'valley': 13487, '2010': 447, 'nibbling': 8912, 'tak': 12456, 'snad': 11675, 'ani': 1209, 'nemel': 8853, 'psat': 10195, 'ted': 12559, 'budu': 2382, 'muset': 8679, 'stahnout': 12001, 'hrat': 6448, 'mam': 8079, 'fronte': 5293, 'fallout': 4818, 'dalsi': 3590, 'yoou': 14301, 'remy': 10617, 'bitchassness': 2009, 'mummy': 8667, 'festive': 4933, 'np': 9074, 'whirlpool': 13905, 'exe': 4689, 'raycroft': 10421, 'pooh': 9912, 'stung': 12198, 'embarraced': 4447, 'collector': 3077, 'edition': 4362, 'channeling': 2741, 'william': 13985, 'gibson': 5548, 'maddow': 8036, 'segregate': 11187, 'thriller': 12775, 'glock': 5603, 'spencer': 11889, 'xdeartragedyo': 14186, 'landfill': 7519, 'reserve': 10663, 'adrianne': 937, 'icyfrance': 6563, 'kombucha': 7416, 'unleash': 13359, 'fury': 5368, 'gastronomics': 5450, 'stew': 12075, 'tallllll': 12481, 'piercing': 9747, 'hottboi': 6426, 'lonestar': 7863, 'reattach': 10470, 'improve': 6699, 'digestive': 3915, 'smile4mexxx': 11652, 'bimbo': 1987, 'worthless': 14114, 'dumping': 4261, 'ethinicity': 4604, 'chapter': 2749, 'aria.i': 1355, '52': 639, 'pose': 9947, 'forgets': 5169, 'pin': 9765, 'drinkin': 4178, 'blastin': 2061, '50cent': 633, 'pudding': 10218, 'oviously': 9415, 'iloveyouhh': 6643, 'moree': 8567, 'mythbuster': 8731, 'alameda': 1038, 'cast': 2633, 'vvvvvvvummmmmmmmm': 13644, 'stored': 12120, 'asp': 1411, 'galore': 5418, '0007': 323, 'partition': 9523, 'winblows': 13998, 'osx': 9355, 'long-ass': 7865, 'samanthaaaaaaaaaa': 10989, 'lexi': 7674, 'weridest': 13846, 'cutest': 3536, 'thread': 12766, 'stage': 12000, 'okaaaaayyy': 9222, 'dammm': 3595, 'p-b-pig': 9433, 'exhausted': 4695, 'checkin': 2789, 'dik': 3923, 'voltage': 13616, 'grease': 5746, 'returned': 10710, 'illiterate': 6632, 'cockgobbling': 3043, '___________': 778, '850th': 716, 'preteen': 10051, \"'peaceful\": 50, 'disagree': 3957, 'funnier': 5357, 'jiz': 7096, 'sonic': 11783, 'lunar': 7979, 'popful': 9921, 'fooling': 5138, 'zig': 14410, 'idris': 6587, 'n.o': 8739, 'drummer': 4203, 'highjacker': 6246, 'contemplating': 3238, 'eod': 4545, 'appears': 1303, 'lifetime': 7707, 'beverage': 1934, 'brand-specific': 2266, 'booze': 2189, 'infinitely': 6761, 'waaaaaay': 13674, 'shared': 11299, 'exiled': 4697, 'committed': 3124, 'delay': 3746, 'shee': 11318, 'bihh': 1975, 'saidd': 10967, 'shore': 11394, '//lmgtfy.com/': 195, 'q=what+is+a+dero': 10274, '3f': 567, 'heavy-hitter': 6143, 'vagabond': 13478, 'blackmail': 2036, 'signature': 11462, 'math': 8191, 'guide': 5833, 'sucking': 12240, 'cub': 3481, '9r': 744, 'physic': 9724, '8r': 720, 'heyyyyyyyy': 6220, 'pocoyo': 9862, 'angus': 1208, 'some.r': 11760, 'iloveyoubaby': 6642, 'iloveyoutoobabygirl': 6645, 'asking-in': 1406, 'lilke': 7735, 'thaaa': 12646, 'hate.being.cold': 6071, 'mozart': 8614, 'asconn': 1392, 'newport': 8892, 'ct': 3476, 'blucas': 2111, 'loveable': 7931, 'goof': 5667, 'instantly': 6816, 'houseee': 6434, 'router-nerd': 10895, 'nora': 9033, 'thomas': 12749, 'misplacing': 8454, 'barbara': 1713, 'tela': 12572, 'laughn': 7569, '314.': 536, 'insist': 6806, 'persisting': 9653, 'senile': 11210, 'psychotic': 10203, 'washed': 13740, 'paradise': 9492, 'whhenz': 13894, 'birthdeyy': 2000, 'hipster': 6282, 'dianor': 3878, 'noarmsjames': 8975, 'beats+lyrics': 1801, 'dove': 4118, 'ebay': 4340, 'hellish': 6172, 'bettter': 1930, 'legendary': 7636, 'chiko': 2836, 'iloveyouutoobabyy': 6647, '//is.gd/ed5v': 190, 'cursed': 3520, 'marvel': 8166, 'thong': 12751, 'munich': 8673, 'nom': 8991, 'shrug': 11429, 'bullshiz': 2404, 'myspaces': 8727, 'university': 13356, 'cheeky_geeky': 2796, 'lmaoo': 7798, 'yurt': 14380, 'niche': 8919, 'watt': 13767, 'meann': 8250, 'whorer': 13938, 'anthony.formspring': 1248, 'doucher': 4114, 'prostitute': 10172, 'downey': 4123, 'magnetic': 8051, 'carlos': 2603, 'whittaker': 13914, 'goshh': 5688, 'surrealism': 12332, 'roald': 10808, 'dahl': 3581, 'wrestlher': 14137, \"'you\": 79, 'fdo': 4889, 'snape': 11678, 'typed': 13218, 'ozonemag.com': 9430, 'pornstar': 9934, 'zerooooo': 14407, 'kaya': 7255, 'tongue-in-cheek': 12913, 'partying': 9527, 'embarassed': 4443, 'syler': 12398, '252': 475, 'ber': 1894, 'anythanqq': 1272, 'foremost': 5162, 'willing': 13986, 'whom': 13924, 'weaker': 13785, 'thier': 12721, 'feminist': 4923, 'underwear': 13326, 'youll': 14318, 'zomgz': 14421, 'fontfeed': 5127, '174': 408, '5000': 630, 'puter': 10258, 'pesky': 9671, 'mccormick': 8221, 'nwi': 9106, 'rehearse': 10562, 'repetitive': 10629, 'repertoire': 10628, 'retort': 10704, 'whistling': 13907, 'non-chalantly': 8997, 'hahahahahahahahahahahahahhahaha': 5944, 'overrated': 9406, 'lifegroup': 7704, 'expressive': 4740, 'drunken': 4208, 'twirl': 13179, '3204694136': 539, 'comfortness': 3109, 'meow': 8318, 'o-face': 9120, 'pro-gator': 10105, 'anti-anyone': 1251, 'asinine': 1400, 'optimizing': 9321, 'buried': 2425, 'receiving': 10482, 'foodbanks': 5131, 'robin': 10816, 'batman': 1756, 'spidermans': 11902, 'sake': 10971, 'whiny': 13901, 'popped': 9923, 'freecycle': 5243, 'description': 3816, 'hauled': 6084, 'whorey': 13939, 'fukka': 5339, 'samurai': 10997, 'embedding/linking': 4451, 'webkit': 13800, 'compile': 3145, 'worky': 14103, 'obsest': 9148, 'wiv': 14036, 'stephbarnard': 12062, 'dec': 3696, 'wayy': 13775, 'yous': 14333, 'dictatorship': 3892, 'guevara': 5831, 'cubicle': 3484, 'somthing': 11778, 'pretended': 10054, 'werent': 13843, 'lmfaooo': 7807, 'nonetheless': 9005, 'strep': 12150, '6:54': 670, '38': 560, 'honesty': 6368, 'piston': 9784, 'socal': 11731, 'applaud': 1305, 'execution': 4691, 'magenta': 8046, 'ugo': 13261, 'vein': 13514, 'iv': 6956, 'infusion': 6775, 'orff': 9334, 'led': 7625, 'payback': 9569, 'womanizer': 14055, 'slave': 11578, '1.69/gal': 340, 'loxy': 7954, 'smtg': 11667, 'chury': 2906, 'cgy': 2716, 'heated': 6134, 'buttonless': 2466, 'witten': 14034, '47': 604, 'giveaway': 5581, 'gcpets': 5474, 'predator': 10018, '53': 641, '25': 473, 'noon': 9014, 'tempature': 12590, 'howling': 6442, '55n-40w-170n-olivew': 643, '270n': 483, 'ick': 6558, 'melodramatist': 8293, 'magician': 8049, 'idr': 6586, 'ironman': 6903, 'cancellation': 2563, 'wed.': 13806, 'hasn': 6061, 'anomalously': 1232, 'ree-ply': 10521, 'fictional': 4950, 'fill': 4965, 'okay.r': 9225, 'chameleon': 2732, 'aired': 1019, 'woopin': 14080, 'challet': 2729, 'basque': 1744, '-not-': 117, 'thought-provoking': 12761, 'darko': 3624, '2012': 448, 'creaming': 3409, 'animation': 1212, 'icp': 6561, 'weve': 13856, 'juggalos': 7171, 'hahhaa': 5968, 'stuff-': 12190, 'process-': 10118, '16': 396, 'beanie': 1790, 'farthest': 4842, 'swirl': 12386, 'brunch': 2348, 'gaaaaayer': 5390, 'celetics': 2682, 'osterich': 9352, 'unnngggg': 13369, 'recount': 10504, 'longboard': 7867, 'spook': 11931, 'com': 3091, 'yoo': 14293, 'editorialising': 4364, 'blogging': 2094, 'bbc': 1768, 'offender': 9180, 'perogued': 9649, 'canadawest': 2559, 'tapped': 12491, 'reckless': 10491, 'reused': 10716, 'wrapping': 14133, 'divorcing': 4025, 'hmp': 6307, 'aiint': 1013, 'gbg': 5471, 'conroversy': 3209, 'legalizing': 7634, 'prostitution': 10173, 'oversimplify': 9409, 'fitting': 5018, 'repression': 10643, 'adding': 915, 'payroll': 9578, 'collapse': 3070, 'division': 4022, 'chrimbo': 2880, 'jfk': 7083, 'thereby': 12705, 'indirectly': 6747, 'nurturing': 9097, 'trustin': 13100, 'facetious': 4775, 'low-calorie': 7948, 'browning': 2340, 'deutsch': 3852, 'b-mo': 1587, 'absurd': 839, 'preparing': 10038, 'whatchu': 13873, 'meen': 8278, 'whiz': 13917, 'yankee': 14223, 'rioting': 10787, 'nooooooo': 9021, 'streetwear': 12148, 'kikk': 7325, 'nogin': 8985, 'werd': 13839, 'doit': 4065, 'yo~': 14352, 'parrtayy': 9512, 'hahahahahahahahaha.your': 5937, 'eric': 4568, 'lumines': 7978, 'mizuguchi': 8477, 'standtard': 12015, 'imagination': 6657, 'conform': 3193, 'path': 9552, 'amyspace': 1174, 'hoochie': 6376, 'ghurl': 5544, 'split': 11920, 'chrisbrogan': 2882, 'nra': 9076, 'fad': 4784, 'overpriced': 9405, 'hahahahahah': 5931, 'reliable': 10583, 'celery': 2681, 'nooooo': 9019, 'positivity': 9954, 'julia': 7182, 'boredddddddd': 2192, 'vinyl': 13575, 'didja': 3898, 'g-r-e-a-t.r': 5384, 'lap': 7527, 'ass-bitten': 1417, 'primeluva': 10082, 'ceviche': 2714, 'skiing': 11544, 'boarding': 2126, 'opt': 9319, 'cocoa': 3047, 'sucks.sorry': 12245, 'embaresed': 4445, 'okayyy': 9229, 'twinface': 13175, 'atcq': 1455, 'kodiak': 7410, 'slick': 11593, 'glib': 5598, 'stumble': 12194, 'sounding': 11821, 'half-life': 5989, 'understandable': 13321, 'athletic': 1461, 'analogy/comment': 1182, 'madmain': 8038, 'coke': 3063, 'litter': 7778, 'natalie': 8788, 'portman': 9945, '//twitpic.com/t7y5': 272, 'uke': 13276, 'charango': 2752, 'ibm': 6547, 'ala': 1035, 'papapapapa': 9485, 'dreamboat': 4162, 'spazz': 11859, 'eodm': 4546, 'swift': 12380, 'farwyde': 4843, 'nautity': 8801, 'motivator': 8590, 'cluster': 3011, 'bum': 2406, 'phase': 9691, 'dino': 3938, 'yepp': 14260, '123': 381, '789': 689, 'pun': 10229, 'intended': 6834, 'fairr': 4803, 'biatch': 1951, 'mattered': 8200, 'adidas': 922, 'requesting': 10650, 'trickster': 13064, 'hobbit': 6315, 'everydamnday': 4629, \"e'rbody\": 4295, 'coolin': 3273, 'buggin': 2388, 'sore/stiff': 11801, 'reallly': 10454, 'rudness': 10918, 'degrade': 3740, 'crazzzy': 3406, 'dime': 3927, 'wendys': 13836, 'milf': 8412, 'hahar': 5966, 'inappropriate': 6713, 'savor': 11047, 'makenzie': 8070, 'bacn': 1632, '24th': 471, 'buffalo': 2384, 'congradulations': 3197, 'neil': 8849, 'gaiman': 5410, \"'preludes\": 53, 'nocturne': 8981, 'dreamhunters': 4164, 'thn': 12743, 'funnest': 5356, 'mwahaha': 8707, 'idk.down': 6582, 'knight': 7383, 'adedd': 919, 'secretless': 11165, 'muscular': 8678, 'calf': 2525, 'lace': 7485, 'drove': 4195, 'waving': 13769, 'windmill': 14002, 'baaaaah': 1598, 'elequant': 4416, 'loveyouto': 7942, 'attorney': 1482, 'vet': 13534, 'daytime': 3658, 'host': 6413, 'omgee': 9254, 'brazilian': 2276, 'wax': 13770, 'waxed': 13771, '//formspringme.zendesk.com/home': 174, 'association': 1436, 'stamp': 12011, 'ficiton': 4948, 'popcicles': 9919, 'api/ical': 1290, '2mrrw': 509, 'handed': 6010, 'oil': 9215, 'flame': 5033, 'mme': 8482, 'non-existant': 8999, 'shephard': 11334, 'reproduce': 10645, 'overpopulate': 9404, 'rusty': 10939, 'throwed': 12785, 'disorganized': 3991, 'accumulating': 863, 'spouse': 11943, 'arctic': 1338, 'whaa': 13858, '12.1.5.0': 376, 'microsoft.sharepoint.upgrade.spsearchdatabasesequence': 8386, 'vm': 13603, 'peek': 9600, 'sho': 11377, \"freak'n\": 5233, '4.5.': 587, 'convo': 3264, 'fierce': 4954, 'kidlets-good': 7320, 'bl': 2028, 'phat': 9692, '-p.': 119, 'wolfmother': 14052, 'velvet': 13516, 'revolver': 10733, 'awsomeeeeeee': 1566, 'jointed': 7133, 'tine911': 12845, 'rewarded': 10735, '26': 478, 'txts': 13210, '24': 468, 'christine': 2889, 'wel': 13825, 'tipsy': 12852, 'hel': 6165, 'juic': 7174, 'frm': 5286, 'unlock': 13363, 'exotic': 4707, 'demote': 3774, 'revisionism': 10728, 'geass': 5480, 'hahahahaaha': 5925, 'phail': 9689, 'headphone': 6114, 'brace': 2244, 'fcked': 4886, 'jawkdna': 7025, 'riverboat': 10798, 'fetlife': 4936, 'greeter': 5759, 'gotchu': 5694, 'manee': 8097, 'psychology': 10202, 'interest': 6842, 'doo': 4092, 'gedd': 5481, 'wopinqq': 14083, 'ukulele': 13277, 'filtered': 4973, 'oooooohhh': 9290, 'gort': 5685, 'doomsday': 4097, 'manages': 8092, 'mister': 8469, 'reef': 10525, 'sitch': 11517, 'reservoir': 10665, 'ommmgg': 9257, 'hiiii': 6254, 'haahaa': 5893, 'theaitch': 12679, 'imp': 6675, 'server-hugger': 11243, 'moniker': 8545, 'wise-ass': 14020, 'boomer': 2178, 'whuut': 13949, 'happenedd': 6030, 'ramon': 10373, 'warrior': 13737, 'rope': 10872, '4:30a.m': 609, 'comeon': 3105, 'mental': 8312, 'beng': 1885, 'faking': 4811, 'tlkn': 12868, 'donahue': 4078, 'complaint': 3150, 'hoppe': 6398, 'ravin': 10417, 'rabids': 10336, 'oral': 9325, 'date/marry': 3636, 'unprotected': 13374, 'spill': 11904, 'hunger': 6497, 'chumby': 2902, 'qweerty': 10327, 'loft': 7830, 'mojoes': 8522, 'owen': 9419, 'blade': 2042, 'temptation': 12596, 'jack-in-the-box': 6973, 'vic': 13541, 'himm': 6269, 'hodgman': 6320, 'excerpt': 4682, 'conclude': 3174, 'somewhat': 11775, 'deaf': 3677, 'hmmmmm': 6305, 'pleeeeeease': 9832, \"'v4sudh4\": 76, \"'qbarq\": 54, \"'meow\": 36, \"'spherical\": 61, 'fugly': 5332, 'trace': 13000, 'disappears': 3963, 'nintendo': 8955, 'oldschoolftw': 9243, 'directv': 3950, 'dsl': 4219, 'love-hate': 7926, 'texted': 12634, 'quitting': 10319, 'pouring': 9983, 'phn': 9706, 'theory': 12698, 'deffinately': 3728, 'hime': 6268, 'waterpark': 13763, 'lmaoooo': 7800, 'ayt': 1581, 'molested': 8524, 'lmfaooooooo': 7810, 'torrent': 12952, 'dd-wrt': 3667, 'tomato': 12899, 'boiiiii': 2139, 'xmas/hanukkah': 14192, 'hahahahahahahahahahahahaha': 5940, 'hahahahahahahahahahahahahahahahahahaahahahahahahahahahaahahaahahaah': 5942, 'tiptoe': 12853, 'yey': 14279, 'drunkenness': 4210, 'dialing': 3876, 'latke': 7560, 'anyones': 1271, 'cajones': 2516, 'marryyyyy': 8155, 'durr': 4274, 'suckkaaa': 12241, 'yuhhhh': 14363, 'moooee': 8561, 'h-a-t-e': 5880, 'streak': 12142, 'suprised': 12317, 'urie': 13424, 'drumset': 4205, '4rm': 618, 'ooooowwwww': 9292, 'productive': 10131, 'skate': 11535, 'anticipation': 1257, 'inauguration': 6714, 'shallomj': 11288, 'resent': 10662, 'development/design': 3857, '//ping.fm/4gnjj': 202, 'emergency': 4458, 'casper': 2629, 'ofcourse': 9173, 'scipio': 11100, 'mondai': 8539, 'mailing': 8058, 'republic': 10646, 'dragonfly': 4145, 'shining': 11354, 'everyones': 4632, 'face.r': 4771, 'throughout.r': 12781, 'water.r': 13759, 'wiggling': 13973, 'funky': 5354, 'aaahhhh': 798, 'belladonna': 1871, 'uber': 13243, 'urban_lindsay': 13418, '//www.zazzle.com/failwhale': 307, 'rumor': 10929, 'coworkers': 3362, \"'tardfulness\": 69, 'hefty': 6154, 'ijs': 6619, 'controversial': 3255, 'cigar': 2911, 'genre': 5509, 'managing': 8093, '//tinyurl.com/axmzxe': 254, 'xoxoashleyxo': 14197, 'nba': 8810, 'championship': 2734, 'knicks': 7381, 'tamale': 12482, 'erk': 4571, 'sod': 11741, 'serling': 11238, 'nearby': 8819, 'rats-i': 10414, 'fantasy': 4836, 'seed': 11175, 'ffb': 4940, 'shalll': 11287, 'woohoo': 14075, 'stonkered': 12111, 'wobbly': 14048, 'gutful': 5858, 'recommends': 10498, 'cups/night': 3508, 'factor': 4783, 'intestine': 6854, 'released': 10579, 'crybaby': 3471, 'uf': 13246, 'staff/players': 11999, 'manhattanite': 8100, 'zucker': 14426, 'garren': 5444, 'rollerblading': 10849, 'painting': 9458, 'doodling': 4095, 'formspringing': 5189, 'planting': 9809, 'smiling': 11655, 'modeling': 8510, 'superstar': 12302, 'woodson': 14071, 'geeeeez': 5483, 'nopppeeee': 9031, 'scrawny': 11122, 'ifeel': 6593, 'bcuz': 1777, 'wrecked': 14134, 'refreshed': 10537, 'stuf': 12188, 'frknn': 5285, 'schtick': 11093, 'zappos': 14398, 'youur': 14341, 'nakeed': 8765, 'lowkey': 7952, 'shock': 11378, 'telemarketer': 12574, 'eps': 4556, 'trueblood': 13094, 'alybrooke': 1134, 'ff': 4938, 'huck': 6457, 'dlololol': 4031, \"g'morning\": 5382, 'tony_d': 12920, 'vader': 13476, 'clubhouse': 3007, 'tils': 12831, 'whinier': 13899, 'matronly': 8195, 'cheaply': 2779, 'megakoko': 8284, 'stove': 12126, 'lighter': 7717, 'unlawful': 13358, 'combatant': 3094, 'imprisoners': 6698, 'fricken': 5264, 'sand': 10999, 'w/42': 13652, 'inch': 6721, 'plasma': 9810, 'earphone': 4312, 'pfffffffffffffftttt': 9682, 'zest': 14408, 'audacious': 1488, 'appeal': 1299, 'deliciousness': 3755, 'atitude': 1463, 'almosr': 1095, 'urrday': 13428, 'smiley': 11653, 'pleased': 9830, 'jenndow': 7058, 'jenf80': 7056, 'twitter-whore': 13193, 'silver': 11476, 'surfer': 12325, 'crackheads': 3378, 'stable': 11994, 'counrty': 3330, 'linked': 7752, 'brang': 2270, 'essence': 4589, 'thanxxxxxx': 12668, 'woop': 14079, 'studyin': 12186, '_________': 776, 'paterson': 9551, 'joseph': 7151, 'aleeeexis': 1053, 'wooah': 14068, 'babyyyyy': 1619, 'alotta': 1104, 'dunnt': 4269, 'gotz': 5698, 'phizzle': 9705, 'reeemembr': 10524, 'shoppn': 11393, 'thingys': 12730, 'rastaaa': 10407, '-andrea': 104, 'onthe': 9273, 'u30c4': 13239, 'popsicle': 9925, 'stop.': 12115, 'exciting': 4686, 'youu2019d': 14339, 'gluten': 5613, 'traderjoes': 13010, 'recommend': 10495, 'silk': 11473, '30mins-and': 533, 'naaah': 8744, 'broker': 2327, 'anygirl': 1266, 'unwrapping': 13390, 'ckute': 2939, 'resort': 10673, 'dipping': 3944, 'download': 4125, 'hahahahahahahahahaha': 5938, 'whyyyyyyyyyyyy': 13955, 'jd': 7036, 'carribean': 2611, 'shiz': 11374, 'abrilll': 833, 'iloveyhuuu': 6640, 'muchooo': 8649, 'cd87': 2669, 'co-na': 3019, 'knob': 7386, 'grief': 5769, 'jb': 7031, 'consistent': 3218, 'km': 7376, 'chaotic': 2745, 'invariably': 6872, 'that.i': 12673, 'achievement': 873, 'irogs': 6900, 'tiresome': 12857, 'gl': 5586, 'atty': 1485, 'percentage': 9630, '2lb': 504, 'baltimore': 1679, 'travis': 13045, 'ob/gyn': 9133, 'vent/blog/whine': 13520, 'judgment': 7169, 'ponder': 9904, 'jollity': 7138, 'pre-monday': 10012, 'hhahahaha': 6228, 'kombat': 7415, 'belt': 1876, 'mkay': 8480, '2days': 494, 'yt': 14355, 'volume': 13617, 'blaring': 2058, 'celine': 2685, 'deon': 3785, 'jacked': 6976, 'betrayal': 1925, 'harmony': 6054, 'flashpink': 5040, 'uglier': 13256, 'alittle': 1071, 'dumbfuck': 4255, 'donate': 4080, 'shooooo': 11386, 'gow2': 5703, 'omfggg': 9251, 'teyana': 12642, 'blakbillgates': 2050, 'proposition': 10166, 'marrying': 8154, 'fairfax': 4801, 'chesthair': 2818, 'alll': 1084, 'dayy': 3661, 'outnumbered': 9386, 'uhm.i': 13269, 'toward': 12987, 'supose': 12303, 'ptsd': 10206, 'iraq': 6896, 'recieved': 10488, 'nomination': 8993, 'mtv': 8638, 'deserves': 3822, 'spammed': 11843, 'douchebaggery': 4113, 'desk': 3830, 'piling': 9757, 'toad': 12877, 'fn': 5094, 'sox': 11833, 'methodical': 8352, 'unnerving': 13368, 'pj': 9794, 'im2': 6653, 'hsdpa': 6450, 'hahhahah': 5970, 'bloggin': 2093, 'hof': 6324, 'ballot': 1677, 'perez': 9631, 'headache': 6111, 'avoided': 1536, 'provoke': 10189, 'weaponry': 13789, 'defenceless': 3723, \"'defend\": 20, 'bomber': 2152, 'bashing': 1737, 'ashamed': 1393, 'outdated': 9379, 'papa': 9484, 'ninel': 8953, 'sighting': 11459, 'stiff': 12085, 'a^a^a^a^a^a^a^a^a^a': 795, 'kiis': 7323, 'lingerie': 7749, 'bagel': 1648, 'tourette': 12981, 'genius': 5508, 'lmaooooooo': 7803, 'chart': 2767, 'oit': 9217, 'blockbuster': 2086, 'persia': 9651, 'forme': 5180, 'bureau': 2421, 'authentically': 1505, 'aveda': 1526, 'jay': 7026, '//tinyurl.com/w2xzw': 257, 'sero': 11239, 'iim': 6617, '...............': 147, 'pedo': 9594, 'heart/': 6128, 'sobbed': 11727, 'supported': 12308, 'dinosaur': 3939, 'phantom': 9690, 'melody': 8294, 'faux-mance': 4869, 'bringing': 2305, 'nervous/excited': 8867, '//tinyurl.com/5nv2tl': 226, 'joeljohnson': 7118, 'measurable': 8255, 'defined': 3735, 'damned': 3599, 'hostage': 6414, 'felching': 4917, 'edc': 4354, 'thad': 12647, 'fence': 4925, 'noir': 8986, 'grapey': 5732, '.org': 158, 'refresh': 10536, 'emo-indie': 4468, 'fated': 4859, 'adfreak': 920, 'adrants': 935, 'lox': 7953, 'thoro': 12753, 'prodigy': 10126, 'nore': 9034, 'smooth': 11663, 'located': 7824, 'betch': 1917, 'lordy': 7893, 'cage': 2513, 'dint': 3941, 'illusion': 6636, 'seller': 11198, 'toldja': 12895, 'archive': 1336, 'steaming': 12052, 'cognac': 3060, 'formsrping': 5193, 'molten': 8527, 'lava': 7577, 'airway': 1024, 'tweetboooooooomb': 13161, 'sporting': 11936, 'event': 4620, 'falling': 4816, 'krkipp99': 7440, 'xo': 14194, 'bil': 1981, 'bernanke': 1897, 'soory': 11795, 'icicle': 6556, 'tomb': 12901, 'tampon': 12483, 'dining': 3935, 'nono': 9008, 'pacifist': 9440, 'conundrum': 3256, 'kyy': 7466, 'gymboy': 5875, 'plyometrics': 9853, 'tory': 12956, 'ty': 13211, 'nuf': 9084, 'boyfran': 2234, 'bridge': 2297, 'noe': 8983, 'britteny': 2314, 'bi-sexual': 1949, 'corpse': 3305, 'nishana': 8958, 'iguess': 6607, 'mhe': 8364, 'anymo': 1268, 'philosophy': 9703, '^-^': 768, 'sitter': 11520, 'werewolf': 13845, 'sexiest': 11260, 'capitalist': 2582, 'dogma': 4059, 'praying': 10009, 'chipotle': 2856, 'mattfink': 8202, '//bit.ly/qmqj': 166, 'loyalty': 7956, '//refinedgeek': 205, 'wos': 14116, '//www.e-castig.com/index.php': 300, 'r=v1og5': 10332, 'mod_ella': 8506, '//tinyurl.com/5hdbje': 222, 'smart-ass': 11635, 'ela': 4401, 'hygiene': 6523, 'stuart': 12179, 'maclean': 8031, 'faux': 4867, 'stumbly': 12196, 'bumbly': 2407, 'prairie': 10003, 'companion': 3132, 'hahahahahahahahahahahhahahahaha': 5945, 'book.r': 2177, 'polester': 9880, 'teal': 12539, 'blouse': 2102, 'jacklayton': 6982, 'pmharper': 9856, 'eight': 4395, 'oscar': 9351, 'semicolon': 11203, 'sub': 12214, 'par': 9488, 'dalesandros': 3587, 'orjim': 9344, 'chitty': 2861, 'dogsled': 4060, 'brrrrrr': 2343, 'willingly': 13987, 'nicce': 8914, 'masterbate': 8184, 'tomcat': 12903, 'woken': 14051, 'malt': 8078, 'blend': 2068, 'burritoville': 2433, 'bagntrash': 1649, 'disappeared': 3962, 'jelly-bean': 7052, 'givin': 5584, 'clicking': 2975, 'positively': 9953, 'plump': 9848, 'chubby': 2898, 'caint': 2515, 'areee': 1342, 'variant': 13498, 'shittiness': 11367, 'ibruprfn': 6548, 'jupiter': 7197, 'rosie': 10878, \"o'donnell\": 9115, 'davis': 3649, 'retire': 10700, 'mobile': 8500, 'blubber': 2110, 'pressuring': 10048, 'resurrection': 10693, 'nigg': 8933, 'hamburger': 5998, 'bailing': 1660, 'leopard': 7654, 'assumed': 1438, 'rundown': 10933, 'nashville': 8780, 'shitfaced': 11364, 'plateau': 9813, 'favve': 4881, 'fukin': 5336, 'gammon': 5427, '2times': 516, 'ofa': 9172, 'ole': 9244, 'yeller': 14254, 'elevator': 4417, 'esta': 4591, 'aqui': 1331, 'whtvr': 13944, 'd.c.': 3561, 'colombia': 3082, 'd.c': 3560, 'film4+1': 4969, 'pret': 10050, 'kook': 7420, 'procrastinated': 10121, 'iq': 6894, 'pretttyyy': 10059, 'eatting': 4339, 'kraft': 7431, 'pdx': 9581, 'gresham/troutdale': 5764, 'sandy': 11007, 'corruptness': 3312, 'telephone': 12578, '3469': 551, 'folie': 5110, 'deux': 3853, 'tmobile': 12871, 'flue': 5082, 'ewwww': 4663, 'bossman': 2202, 'somethin': 11768, 'grabbed': 5709, 'disaster': 3966, 'cologne/': 3081, '~_~': 14438, 'foodsies': 5133, 'flirting': 5064, 'spicy.r': 11899, 'mexican.r': 8359, 'har': 6038, 'uuummm': 13458, '//tinyurl.com/75wwrp': 243, '6:30pm': 669, 'smite': 11656, 'shudder': 11434, 'melissa808': 8291, 'lifeless': 7705, 'faced': 4773, 'blinding': 2075, 'reflecting': 10533, 'pajnstl': 9462, 'mon': 8538, 'shittt': 11369, 'emmm': 4462, 'wuz': 14164, 'messin': 8341, 'bathing': 1752, 'bathe': 1751, 'catalinaloves': 2638, 'hash': 6060, 'o.c': 9122, 'syck': 12395, '1977.': 422, 'quantity': 10292, 'frequent': 5258, 'sizing': 11530, 'childrens': 2841, 'lizzy': 7790, 'enforcing': 4498, 'realllyyyy': 10455, '//omf.gd/1/': 199, 'ured': 13419, 'charm': 2764, 'toothache': 12935, 'vomit': 13620, 'crashed': 3390, 'concret': 3177, 'scraped': 11120, 'preciate': 10016, 'bag/purse': 1647, 'hive': 6297, 'razorblade': 10424, 'titz': 12863, 'mapl': 8120, 'flvrd': 5087, 'ugli': 13255, 'widow': 13965, 'hahahahahahah': 5934, 'lezbian': 7679, 'thankyouverymuch': 12663, 'mrs.dallor': 8625, 'loli': 7846, 'lean': 7611, 'protein': 10179, 'catch-all': 2641, 'wicked': 13958, 'uqhhh': 13413, 'iquess': 6895, 'goht': 5637, 'youh.': 14315, 'hiii': 6253, 'galosh': 5419, 'viewing': 13564, 'black/white': 2031, 'becoming': 1820, 'antiquated': 1258, 'doug': 4115, 'heil': 6162, 'wishlist': 14024, 'alllrighhhtyy': 1087, 'obeist': 9136, 'hieght': 6239, 'according': 856, 't-mo': 12415, 'gasface': 5447, 'fuckitty': 5327, 'catholic': 2649, 'claus': 2956, 'elysiumgwj': 4434, 'certis': 2712, 'demiurge': 3770, 'gwjrabbit': 5873, 'nudging': 9082, 'whiterabbit819': 13911, 'inexplicably': 6757, 'fascinating': 4845, 'balding': 1672, 'amateur': 1142, 'ab': 810, 'sr': 11979, 'grinched': 5777, 'danville-ites': 3618, 'alexisnicolehodnett': 1060, 'besttestt': 1913, 'frann': 5227, 'iloveyouu': 6646, 'lexiflagss': 7675, 'bam': 1680, 'yvonne': 14387, 'cwasont': 3544, 'badass': 1639, 'err:508': 4574, 'baiting': 1664, 'afl': 957, 'mwhahahaa': 8710, 'hazel': 6103, 'driveway': 4185, 'mexican': 8358, 'function': 5347, 'cellfonne': 2687, 'banging': 1694, 'headshot': 6115, 'bride': 2296, 'ghosties': 5543, 'columbine': 3088, 'hamlet': 6001, 'spoilt': 11924, 'poon': 9914, 'phillyd': 9702, 'unrealistic': 13375, 'expectation': 4712, 'in-n-out': 6707, ':runs': 749, 'creatively': 3416, 'spiritually': 11913, 'venti': 13521, 'latte': 7561, 'prof': 10132, 'credential': 3420, 'watered': 13760, 'artile': 1385, 'comparison': 3138, 'marmite': 8147, 'bbq': 1770, 'beyonce': 1937, 'oooommmmmmmmg': 9286, 'dangerous': 3612, 'cryn': 3472, \"hate'n\": 6065, 'leak': 7609, 'mem': 8299, 'opera': 9307, 'princessersatz': 10087, 'soooon': 11791, 'knowww.r': 7398, 'kiiddding': 7322, '9na': 743, 'spray': 11946, 'victoria': 13549, 'a.j': 791, 'bothered': 2207, 'perth': 9666, 'cheese.r': 2800, 'kuz': 7461, 'ithink': 6948, 'tawking': 12520, 'prostitues': 10170, 'watcher': 13753, '/wordpress/wp-content/plugins': 319, '/themes': 316, '/uploads': 318, '2.7': 436, 'interface': 6845, 'himto': 6271, 'hooker.hahaha': 6386, 'zodiac': 14416, '//en.wikipedia.org/wiki/charybdis_': 173, 'dumbed': 4253, 'entertaiin': 4524, 'mhee': 8365, 'comfy': 3110, 'logic': 7832, 'cubase': 3482, 'photoshop': 9721, 'lighting': 7719, 'ft.': 5306, 'pre-lit': 10011, 'creating': 3414, 'killin': 7331, 'survived': 12339, 'damage': 3592, 'shin': 11352, 'optimus': 9322, 'frankies': 5225, 'whore-ay': 13936, 'palm': 9469, 'avid': 1532, 'eon': 4547, 'wilt': 13993, 'shrine': 11425, 'southland': 11831, 'butttt': 2468, 'andd': 1187, 'muchh': 8646, 'cingular': 2916, 'favv': 4880, 'deffo': 3730, 'ditto': 4016, 'topping': 12944, 'moreee': 8568, 'eastcoast': 4326, 'mason': 8179, 'betha': 1921, 'curren': 3515, 'wrt': 14151, 'stogie': 12101, 'hellz': 6176, 'muggs': 8656, '//tinyurl.com/8ecw8m': 246, 'pumpkin': 10228, 'hvnt': 6518, 'fml': 5093, 'cosign': 3314, 'cofee': 3056, 'brandyn': 2269, 'wha': 13857, 'revision': 10727, 'concise': 3173, 'twerp': 13169, 'every1': 4626, 'w/the': 13664, 'sumtimes': 12277, 'moron.i': 8576, 'revealing': 10719, 'feeiling': 4907, 'electricity': 4409, 'd/l': 3564, 'followin': 5116, '4-5': 580, 'stanford': 12017, '1001': 353, 'bruise': 2346, 'ididnt': 6579, 'creater': 3413, 'rad': 10347, 'assure': 1441, 'ought': 9367, '^__^': 771, 'tara': 12494, 'spehshul': 11880, 'doris': 4104, 'behavior': 1852, 'munchkin-themed': 8670, 'harass': 6039, 'scarlett': 11075, 'cuisinart': 3491, 'dcc-2000': 3665, 'coffeemaker.haha': 3059, 'flippen': 5060, 'goood': 5673, 'it.on': 6943, 'agony': 980, 'cabin': 2504, 'pressure.my': 10047, 'galaxy': 5416, 'dea': 3673, 'ihit': 6611, \"'mother\": 40, 'quickest': 10311, 'elton': 4432, 'sneezing': 11691, 'rankest': 10386, 'sweep': 12369, 'stupidddd': 12202, 'accountt': 860, 'bestest': 1907, 'amywhere': 1175, 'awwwwz': 1572, 'noble': 8976, 'mamma': 8083, 'overnover-': 9403, \"'fat\": 23, 'experienced': 4719, 'meditate': 8270, 'rflecting': 10738, 'thnkng': 12744, 'kn': 7378, 'icystorm': 6564, 'romance': 10852, 'moneywell': 8543, 'ibank': 6545, 'gerry': 5523, 'twinsie': 13178, 'mentioned': 8315, 'sob': 11726, 'aarontait': 808, 'blahblah': 2046, 'soubd': 11810, 'luv/hate': 7990, 'spoiled': 11922, '/again/': 310, 'shampoo': 11292, 'conditioner': 3181, 'booba': 2169, 'corentin': 3292, 'up-justin': 13393, 'clutter': 3012, 'e-mail': 4297, 'gamed': 5423, 'pateint': 9549, 'didint': 3897, 'nurse': 9095, 'robbery': 10813, 'impact': 6676, 'offend': 9178, 'deeply': 3718, 'dozen': 4134, 'time-wise': 12839, 'vocab': 13607, 'belting': 1877, 'fiddler': 4951, 'roof': 10862, 'jewish': 7080, 'sm3ll': 11627, 'lykk': 8004, 'c0tt': 2496, 'q3': 10272, 'h33s3': 5886, 'sharin': 11300, '~nerd': 14439, 'frustration': 5302, 'vicious': 13545, 'koala': 7406, 'ashlee': 1394, 'www.findersingle.com': 14172, 'wishfulthinker': 14023, 'lool': 7878, 'thatll': 12674, 'chels': 2808, 'countdown': 3333, 'ight': 6596, 'pimped': 9762, 'returning': 10711, 'weeeell': 13813, 'gtg': 5815, 'lol.bye': 7843, 'xx': 14201, 'teary': 12547, 'eyed': 4752, 'xentury': 14189, 'toughpads': 12978, 'jeffstaple': 7048, 'kobaa': 7407, 'equipment': 4560, 'fiction': 4949, 'medieval': 8269, 'supe': 12290, 'cody': 3055, 'lemonade': 7648, 'embryo': 4457, 'sperm': 11894, 'sickening': 11452, 'vivid': 13599, 'alt': 1118, 'moistness': 8520, 'toseecopulation': 12957, 'dawn': 3652, 'shivering': 11372, 'layer': 7587, 'antibiotic': 1255, 'emo-hair+hip': 4467, 'hop-fitted': 6392, 'lighten': 7715, 'dudo': 4236, 'doggy': 4058, 'aunt': 1496, 'mp3': 8616, 'ldap': 7599, '12/2006': 378, 'clubin': 3008, 'byron': 2485, 'pacsun': 9446, 'metropark': 8355, 'beating': 1799, 'geekcast': 5486, 'inspirational': 6809, 'philly': 9701, 'metaphor': 8348, 'northerner': 9040, 'southerner': 11830, 'joiee': 7127, 'lemming': 7646, 'laneige': 7522, 'whitening': 13910, 'breakin': 2281, 'whiten': 13909, 'acne': 879, 'coooooool': 3277, 'kyu': 7465, '5000k': 631, 'beginner': 1849, 'thomasott.net': 12750, '700mbs': 682, 'miiiiiiiiiiiiiiiiiiiiiiiiiine': 8401, '33333333333': 549, 'abortion': 822, 'hysteria': 6526, 'bugger': 2387, 'cannible': 2573, 'electricuted': 4410, 'duck-i': 4228, 'out-duck': 9375, 'amusement': 1170, 'therapist': 12702, '//www.vamooz.com/': 305, 'shaddup': 11278, 'goooood': 5676, 'marinating': 8136, 'jkjb98': 7102, 'trade-off': 13008, 'sm': 11626, 'cancelled': 2564, 'photocopy': 9716, 'cracker': 3375, 'scoop': 11105, 'fat-free': 4855, 'ww': 14166, 'ri': 10748, 'ulouse': 13279, 'cynic': 3552, 'xpect': 14200, 'therapy': 12703, 'kickg': 7310, 'kinetic': 7342, 'typography': 13223, 'dissatisifed': 4000, 'sunrise': 12284, 'patries': 9557, 'fragile': 5216, 'stamen': 12010, 'envy': 4544, 'bandwidth': 1691, 'o.': 9121, 'embarrassed': 4449, 'favor': 4874, 'vaca': 13470, 'woowhoo': 14082, 'smokies': 11661, 'creek': 3423, 'potentially': 9974, 'reckoned': 10493, '78': 688, 'facto': 4782, 'sukka': 12266, 'channing': 2742, 'ammmmm': 1163, 'strict': 12156, 'ello': 4427, 'cheney': 2813, 'kkk': 7366, 'vegemite': 13509, 'buttered': 2460, 'nomnom': 8994, 'weeeee': 13812, 'eg': 4382, 'assing': 1432, 'maria': 8132, 'wombat': 14056, 'imovie': 6674, '2008.': 444, 'downloaded': 4126, 'usv': 13449, 'careing': 2600, 'genuinly': 5512, 'barlett': 1724, 'artificially': 1384, 'puckering': 10217, 'sphincter': 11896, 'shep': 11333, 'supermarket': 12300, 'trans': 13023, 'crisco': 3439, 'bolognaise': 2147, 'enlighten': 4511, 'plane-gobblin': 9804, 'lito': 7777, 'sunnuva': 12282, 'tarintowers': 12499, 'plow': 9840, 'plowed': 9841, 'boogie': 2174, 'aboard': 821, 'hamilton': 6000, 'unwarranted': 13388, 'hedgehog': 6149, 'definately': 3732, 'i.hate.him': 6538, 'uggg': 13247, 'twisted': 13181, 'highway': 6250, 'work-wise': 14093, 'finishing': 4991, 'grapefruit': 5731, 'yuuu': 14383, 'fourth': 5210, 'privacy': 10100, 'serioulsy': 11231, '//tinyurl.com/yozen3': 258, 'a.job.being': 792, 'pfffft': 9683, 'bragger': 2255, \"'online\": 49, 'usuallly': 13447, 'micro-hate': 8383, '1408': 391, 'ps2': 10193, 'squirting': 11975, 'otherinbox': 9360, '//otherinbox.com': 201, 'overload': 9401, 'muhh': 8658, 'qirl': 10280, 'qive': 10281, 'thaa': 12645, 'nick-name': 8922, 'terrifying': 12618, 'ludacris': 7969, 'vvvvvvv': 13643, 'oddest': 9168, 'layout': 7591, 'annd': 1220, 'hoeee': 6323, 'orr': 9347, 'ther': 12700, 'brock': 2323, 'hibachi': 6234, 'huli': 6474, 'riden': 10769, 'waay': 13677, 'cathyrnmarie': 2651, 'hahaaaahaaha': 5915, 'torture': 12954, 'realllly': 10453, 'kkkk': 7367, 'dropper': 4193, 'query': 10303, 'processor': 10120, 'www.cantstopthis.net': 14169, 'upcoming': 13395, 'stark': 12024, 'yua': 14357, 'liil': 7722, 'h.b.m': 5881, 'fwum': 5377, 'iit': 6618, 'truace': 13088, 'toyboy': 12994, 'condensation': 3180, 'windex': 14000, 'u2665': 13238, 'ethnic': 4605, 'document': 4048, 'debating': 3694, 'dimensional': 3929, '//tinyurl.com/67rel4': 231, 'billing': 1984, 'rsa': 10905, 'beaker': 1787, 'red-bull': 10514, 'whoop-ass': 13929, 'ouija': 9368, 'mishel': 8453, 'checkbook': 2786, 'nooooooooooooooo': 9024, '1440': 392, 'zaxby': 14400, 'cordele': 3290, '//loopt.us/i0a8qq': 197, 'robertocstone': 10815, 'juiceman': 7178, 'blinkin': 2078, 'nastiness': 8782, 'standup': 12016, 'math/science': 8192, 'neutralizing': 8875, 'horniness': 6403, 'dumb-ass': 4251, 'santos': 11014, 'snowy': 11716, 'vacationing': 13473, 'whale-like': 13867, 'mnths': 8494, '40.': 590, 'frigid': 5279, 'avalon': 1523, 'khia': 7300, 'slicehost': 11592, 'tutorial': 13150, 'slice': 11591, 'tru': 13087, 'weiner': 13821, 'gps': 5706, 'kay': 7254, 'hii': 6251, 'ceara': 2671, 'liqour': 7757, 'donwill': 4091, 'yvette': 14386, 'manhattan': 8099, '16-04-2010': 397, 'saref': 11023, 'serif': 11230, 'anthropomorphic': 1249, 'neee': 8837, 'shopped': 11389, 'grandmother': 5726, 'sucks.merry': 12244, \"'firsts\": 24, '-the': 129, 'flavoured': 5047, 'baseball': 1732, 'foos': 5142, 'copyright': 3287, '169': 403, 'abcd91': 816, 'reserved': 10664, 'neal': 8817, 'peart': 9590, 'badd': 1640, 'ckuss': 2938, 'evrybody': 4654, 'cabbie': 2502, 'import': 6689, 'shepherd': 11335, 'mutt': 8700, 'aniston/vince': 1215, 'vaughan': 13504, 'burnt': 2429, 'tirb': 12854, 'tim.': 12834, 'giiiiiirl': 5559, 'trackpad': 13004, 'ray': 10420, 'youz': 14349, 'baybay': 1763, 'whoopee': 13931, 'hung': 6496, 'publicity': 10212, '2015': 449, 'dropping': 4194, 'nuke': 9086, 'vimax': 13569, 'fom': 5123, 'thr': 12764, 'curly': 3513, 'engaged': 4500, 'phewwww': 9696, 'twitorfit.com': 13187, 'twitter/hotornot': 13194, 'mashup': 8176, 'clone': 2993, 'seee': 11177, 'dese': 3817, 'crazi': 3399, 'patti': 9560, 'labelle': 7482, 'arsenio': 1379, 'bishes': 2001, 'aqree': 1329, 'aboutt': 828, 'lavendar': 7578, 'eukkkk': 4610, 'sensational': 11213, 'violet': 13580, 'flashlight': 5039, 'w/a': 13653, 'hookhand': 6387, 'hangin': 6019, 'collar': 3071, 'd-e-a-d': 3558, 'colder': 3067, 'environmentally': 4543, 'foo': 5128, 'butiful': 2455, 'waz': 13778, 'urz': 13430, 'sec': 11160, '53x': 642, 'm3+3r': 8013, 'q0': 10268, 'ld': 7598, 'iloveyoumorebabygirl': 6644, 'outrage': 9388, 'benson-': 1889, 'wtm': 14157, 'didntt': 3901, 'whud': 13945, 'kuute': 7460, 'eachothuh': 4301, 'burgundy': 2424, 'unf': 13339, 'protest': 10180, 'dreaming': 4166, 'beaver': 1810, 'routine': 10896, '//camstudio.org': 170, 'distinctive': 4005, 'drty': 4197, 'ahhhhh': 1006, 'snowinggggggg': 11711, 'arrrghghghghhhhh': 1375, 'bestiee': 1911, 'questioning': 10307, 'kickle': 7313, '7:54pm': 694, 'tanning': 12487, 'salon': 10980, '8or9': 719, 'isayah': 6918, 'der': 3806, 'exposed': 4737, '36-exposure': 555, 'undeveloped': 13331, 'hunter': 6502, 'ending': 4492, 'story~': 12124, 'werre': 13848, 'swamped': 12353, 'dental': 3780, 'jamaican': 6999, 'grandama': 5724, 'kindest': 7339, 'generous': 5505, 'drawer': 4155, 'aftenoon-': 962, 'caching': 2508, 'shayla': 11311, 'eden': 4356, 'firewood': 5001, 'ike': 6623, 'amazes': 1144, 'safest': 10962, 'airplane': 1020, 'imo.hate': 6673, 'grit': 5780, 'jamba': 7003, 'saporta': 11016, 'googled': 5670, 'pornotube': 9933, 'youporn': 14324, 'pornhub': 9932, 'tp': 12996, 'glitter': 5600, 'sunlight.lmao.and': 12281, 'transform': 13025, 'ooowwww': 9296, 'utmost': 13453, 'must-read': 8689, '//tr.im/1xh8': 260, 'kkkkkkkkk': 7371, 'lightsaber': 7720, 'gewoon': 5533, 'kutavond': 7456, 'toen': 12886, 'kon': 7417, 'ook': 9280, 'niet': 8931, 'slapen': 11571, 'hele': 6167, 'nacht': 8750, 'dus': 4275, 'gelijk': 5491, 'doorgegaan': 4102, 'naar': 8746, 'werk': 13847, 'vanmorgen': 13495, 'thief': 12720, 'boxed': 2228, 'creepiest': 3425, 'cancel': 2562, 'yorkie': 14306, 'myb': 8714, 'footballll': 5147, 'hughes': 6468, 'director': 3949, 'breeding': 2289, 'rodney': 10835, \"'in\": 31, 'sequence': 11223, 'islamist': 6924, 'adtrotrain': 939, 'unhappy': 13347, 'undeniably': 13313, 'ridiculously': 10772, 'que': 10296, '.its': 157, 'muah': 8641, 'jen': 7055, 'bundesliga': 2415, 'brasilian': 2271, 'bossanova': 2201, 'licking': 7695, 'hahahaahha': 5922, 'blase': 2059, 'stye': 12208, 'consult': 3228, 'hiking': 6256, 'peps/frens': 9627, 'fiend': 4953, '182': 415, 'skype': 11561, '333333': 546, 'abandoned': 812, 'wilderness': 13982, 'heath': 6136, 'insurance': 6826, 'majesters': 8067, 'throwback': 12784, 'harlem': 6053, 'abanks32': 813, 'homegirl': 6347, '45th': 602, 'ditz': 4017, 'stranded': 12130, '//twitpic.com/uakz': 277, 'outlook': 9385, 'fluently': 5084, 'settled': 11253, 'keith': 7272, 'smarting': 11638, 'not-being-crowned-the-next-russert': 9049, '.3': 154, 'nothches': 9053, 'blackberrydom': 2034, 'unsick': 13379, 'inthe': 6855, 'rechargeable': 10487, 'barstools': 1728, 'lasting': 7541, 'retwisted': 10715, 'maintenance': 8065, 'inlovee': 6790, 'softball': 11746, 'view': 13562, 'frisbee': 5282, 'sombrero': 11758, 'urgent': 13421, 'sender': 11207, 'jules': 7181, 'cock-up': 3042, 'spooked': 11932, 'hhahahahaah': 6229, 'me2': 8241, 'exhaustedd': 4696, 'yawn': 14227, 'ywan': 14388, 'wheel': 13885, 'fortune': 5201, 'indicates': 6746, 'spin': 11906, 'dorkass': 4106, '3-year-old': 524, '//tinyurl.com/8vgfyp': 248, 'cheddar': 2791, 'purged': 10242, 'kijiji': 7324, 'caramal': 2587, 'stern': 12069, '//twitpic.com/tyu9': 276, 'suburb': 12224, 'wide': 13961, 'blackout': 2037, 'johnny': 7123, 'walker': 13698, 'joeschmitt': 7120, 'thanks~': 12661, 'fvrd': 5375, 'mint-chocolate': 8444, 'cone': 3184, 'alltime': 1091, 'pringle': 10089, 'gloat': 5601, 'proven': 10187, 'bleeping': 2066, 'employment': 4477, 'agency': 973, 'dec.': 3697, 'temping': 12592, 'imean': 6660, 'foreal': 5157, 'zarlom': 14399, 'censorship': 2692, 'pissing': 9782, 'negative': 8840, 'winnipeg': 14012, '//tinyurl.com/3z2pkr': 216, 'drina.': 4175, 'dread': 4159, 'verbal': 13526, 'portion': 9941, '//snurl.com/8fhdw': 211, 'suzemuse': 12350, 'dictionary.com': 3893, 'monocled': 8551, 'unglassed': 13345, 'phew': 9695, 'bollock': 2146, 'wank': 13713, 'cunty': 3503, 'cunter': 3502, 'bandwagon': 1690, 'beiber': 1856, 'arg': 1348, '2.99': 437, 'shank': 11294, 'primary': 10080, 'pulp': 10225, 'arcade': 1334, 'yummyone': 14373, 'attend': 1476, 'barry': 1727, 'used-to-be': 13438, 'sheriff': 11336, 'branch': 2264, 'cerritos': 2704, 'wlw': 14042, 'marvellous': 8167, 'rome': 10855, '-s': 124, 'lol=': 7844, 'damnn': 3601, '3c': 565, 'reset': 10666, 'dingleberry': 3934, 'everyother': 4633, 'lightening': 7716, 'mcqueen': 8233, 'babysitting': 1617, 'hannukah': 6024, 'burst': 2435, 'laffing': 7493, 'formspring.me': 5184, 'yelp': 14257, 'soulja': 11813, 'haitian': 5984, 'hate-ee-uhn': 6067, 'kissable': 7352, 'buster': 2448, 'shamed': 11291, 'christopher': 2892, 'encouraged': 4486, 'bklyn': 2027, '2k9': 502, 'jack-of-all-trades-in-the': 6974, 'mindtouch': 8431, 'zeno': 14405, 'finalist': 4977, 'jolt': 7140, 'enterprise': 4523, '//is.gd/cleo': 187, 'geeking': 5487, 'sophomore': 11799, 'connnnceidddddeddd': 3208, 'loooove': 7885, 'bcbryar': 1774, 'stonetalon': 12110, 'mtns': 8637, 'stranglethorn': 12135, 'anagram': 1177, 'outgoing': 9381, '125mg': 382, 'doihknowyuh': 4062, 'andyuhrlike': 1194, 'spammingmyfs': 11846, 'bilbrauer': 1982, 'cartwheel': 2622, 'sustainable': 12345, 'stak': 12004, 'likee': 7727, 'result': 10690, 'masculine': 8173, 'crackhead': 3377, 'ink': 6788, 'experiance': 4717, 'template': 12593, 'nico': 8927, 'nopee': 9029, 'psychic': 10200, 'thrive': 12776, 't.t': 12422, 'carefully': 2599, 'mornin': 8572, '-with': 133, 'actvities-': 898, 'girls/guys': 5575, 'applies': 1311, 'wirelss': 14017, 'tshirt/boxers': 13111, 'titanic': 12859, 'title': 12861, 'nickis': 8924, 'tring': 13072, 'moffit': 8516, 'cntr': 3017, 'valet': 13484, 'bracelet-': 2246, 'perspctv': 9662, 'tnx': 12874, 'luigi': 7972, 'masion': 8177, 'christofer': 2891, 'hahahar': 5960, 'blissfully': 2083, 'unaware': 13302, 'genentech': 5498, 'westin': 13854, 'offsite': 9195, 'camaro.r': 2544, 'beastttt': 1796, 'mustcha': 8694, 'finee': 4983, 'hermet': 6199, '20yrs': 453, 'aged': 971, 'combichrist': 3095, 'flintacious': 5057, 'hampshire': 6005, 'receieved': 10477, 'reported': 10639, \"'metric\": 38, 'peezy': 9605, 'celeb': 2675, 'terrorist': 12621, 'leftist': 7631, 'thursday': 12804, 'museum': 8680, 'muthatrucka': 8698, 'it.i': 6942, '172': 407, 'jordin': 7147, 'albertsons': 1046, 'rockstars': 10830, 'rockstartups': 10831, 'ideas.damn': 6572, 'forsurre': 5196, 'dhatss': 3868, 'blcks': 2062, 'vmodas': 13605, 'johnwilliams713': 7125, 'concentrate': 3166, 'qq': 10285, 'r3': 10330, 'rq': 10904, 'd0n': 3566, 'console': 3219, 'tec': 12552, 'ellas': 4425, 'beteter': 1919, '4chan': 611, 'caused': 2656, 'hmm.r': 6302, 'invented': 6873, 'navi': 8802, 'dexter': 3862, 'thesoxroxmaster': 12712, 'shuck': 11432, 'sheos': 11332, 'dilent': 3926, 'gos/cloudos': 5686, 'avflox': 1531, 'becase': 1813, 'uofa': 13391, 'navy': 8804, 'byus': 2486, 'flow': 5077, 'cheeky': 2795, 'notification': 9059, 'dom': 4069, 'global': 5602, 'warming': 13729, 'smacked': 11630, '4suree': 620, 'jmo1200': 7106, 'tim': 12833, 'biskup': 2003, 'kiddy': 7319, 'regreted': 10556, 'happaneing': 6026, 'always.r': 1128, 'grand': 5723, 'announced': 1226, 'q1': 10271, 'warm.its': 13727, 'latinas': 7558, 'competition': 3143, 'fir': 4993, 'scribd': 11131, 'presentation': 10041, '//bit.ly/thmh': 167, 'u.s.a': 13227, 'rinky': 10785, 'dinky': 3936, 'gom': 5645, 'shelling': 11330, 'solitaire': 11753, 'deathtrap': 3691, 'kitteh-heat': 7361, 'corollary': 3300, 'sched': 11082, 'personal.r': 9657, 'self-importance': 11192, 'certianly': 2709, 'yepppppppp': 14262, 'kanjiong': 7227, 'eclipse': 4346, 'programming': 10142, 'theoratical': 12697, 'sujects': 12264, 'architecture': 1335, 'smarter': 11637, 'qualtily': 10291, 'cboys': 2665, 'goodluck': 5663, 'workign': 14098, 'chattanooga': 2772, 'zackly': 14396, 'chipeft': 2854, 'reqd': 10648, 'abundance': 841, '//rurl.org/18kr': 206, 'dupa': 4272, 'vezi': 13536, 'mai': 8055, 'putin': 10259, 'excelurile': 4677, 'mult': 8662, 'povestile': 9984, 'mooosta': 8562, 'w/c': 13656, 'existed': 4699, 'scissor': 11101, 'mouthy': 8605, 'slag': 11566, 'philippine': 9699, 'jamaca': 6997, 'midwestern': 8397, 'lake': 7499, 'wazap': 13779, 'forcing': 5155, 'luvya': 7994, 'chevys': 2820, 'cadillacs': 2509, 'stereotype': 12066, 'newton': 8898, 'biological': 1991, 'mixture': 8476, 'noooooo': 9020, 'eeeeee': 4369, 'meee': 8274, 'greasy': 5747, 'simplicity': 11484, 'petersen': 9678, 'mississippi': 8459, 'hoof': 6382, 'jeffreyparadise': 7047, 'richiepanic': 10759, 'benefit': 1884, 'koi': 7413, 'osu': 9354, 'grandpa': 5727, 'lyedd': 7997, 'alexa': 1057, 'dunkins': 4267, 'journchat': 7155, 'cyrus': 3555, '11a-2p': 369, 'orbitcast': 9328, 'sirius': 11510, 'xm': 14190, '//tinyurl.com/a49xds': 251, 'stoner': 12109, '//twitpic.com/vl1t': 283, 'jae': 6990, 'randalls': 10379, 'expired': 4724, 'blahh': 2047, 'bluray': 2118, 'girllfriend': 5573, 'uglly': 13258, 'willll': 13990, 'evven': 4656, 'callled': 2535, 'katellyn': 7248, 'aggress': 975, 'kristens': 7437, 'tighht': 12823, 'kaboodle': 7221, 'shawn': 11308, 'bradley': 2251, '9-foot-tall': 723, 'rejected': 10569, 'welp': 13833, 'shocker': 11380, 'progressive': 10143, 'enhancment': 4504, 'gay~': 5468, 'mosquito': 8580, 'haaaay': 5891, 'kickin': 7311, 'blackslashwhite': 2038, '//tinyurl.com/a4nst2': 252, 'poultry': 9978, 'stupidity': 12204, 'matrix': 8194, 'ie7': 6589, 'appealing': 1300, '//twitpic.com/wlgq': 287, 'tpo': 12997, 'aug.': 1492, '10th': 364, 'irritating': 6914, 'weren': 13842, 'pavlova': 9567, '//twitpic.com/ksek': 262, 'infinity': 6762, 'spit': 11914, 'roflmao': 10838, 'slda': 11579, 'goten': 5695, 'cn': 3014, 'betr.how': 1924, 'bh': 1945, 'polyester': 9898, 'leisure': 7642, 'mojo': 8521, 'iep': 6590, '-so': 126, \"'89\": 9, \"'mercy\": 37, 'michaeljamesway': 8377, 'frankiero': 5224, 'remix': 10611, 'd=': 3571, 'blendmom': 2069, 'nnot': 8967, 'aging': 978, 'nevamind': 8880, 'stiletto': 12087, 'competitor': 3144, 'symbian': 12399, 'nokia': 8990, 'bih': 1974, 'siamese': 11449, 'presence': 10039, 'wayward': 13774, 'woof': 14074, 'select': 11190, 'thruthful': 12790, 'faker': 4810, 'frightened': 5278, 'targets/walmarts': 12498, 'ohhla': 9208, 'blahhhh': 2049, 'carrier': 2614, 'spamspamspamspamspamspamspamspamspamspamspamspamspamspamspamspamspamspamspamspamspamspamspamspamspamspamspamspamspamspamspamspamspamspamspamspamspamspamspamspamspamspamspamspamspamspamspamspamspamspamspamspamspamspamspamspamspamspamspamspamspam': 11847, 'mht': 8369, 'klatrev': 7372, '230': 464, 'ske': 11537, 'solberg': 11750, 'han': 6007, 'friluftsmand': 5280, 'og': 9198, 'tidligere': 12819, 'ansat': 1242, 'spejder': 11881, 'sales-whore': 10976, '5other': 655, 'glee': 5596, 'sainless': 10969, 'w/anyone': 13655, 'jezebel': 7081, 'jade': 6987, 'rajq': 10369, 'addies': 914, 'lemenadeee': 7645, 'replace': 10630, 'spying': 11960, 'hagrid': 5909, 'viva': 13598, '42': 594, 'analysis': 1183, 'diego': 3904, 'destination': 3840, 'zz': 14429, 'f3r0usi0s': 4763, 'intercontinental': 6840, 'virtually': 13588, 'ciontinue': 2919, 'derickrethans': 3811, 'bach': 1621, '//twitpic.com/xm6u': 290, 'cya': 3545, '6pm': 672, 'zzy': 14430, 'qh+3r': 10279, 'q3r': 10273, 'w00d': 13667, '+3r': 87, 'q00d': 10270, 'b3d': 1595, 'k3q': 7218, '3xc3rc': 575, 'qh+3n': 10278, 'wcw': 13780, 'ishould': 6922, 'lu': 7960, 'myself-must': 8722, 'nakedbard': 8763, 'practical': 10000, 'dalmatian': 3589, 'hahahaa': 5919, 'shiny': 11355, 'ttabaabiii': 13113, 'loooovvvveee': 7886, '3yayaay': 577, 'hmhmhnhmyyeess': 6300, 'goeez': 5635, 'lockerbudddie': 7828, 'disturbance': 4012, 'tomlin': 12904, 'mycoke': 8715, 'reward': 10734, 'speedier': 11878, 'shoddy': 11382, 'r=r1wwn': 10331, 'cooool': 3276, 'riddleee': 10767, 'gooogleeee': 5674, 'calender': 2524, 'wikipedia': 13978, 'modest': 8514, 'suchho': 12233, 'stalk': 12007, 'pausing': 9566, '411': 593, 'simedays': 11479, 'henry': 6187, 'swinger': 12385, 'ppo': 9995, 'elliott': 4426, 'samosa': 10995, 'canteen': 2576, 'yorkers': 14304, 'yorkers+holiday': 14305, 'shopping+crowded': 11392, 'lot=': 7904, 'whatchou': 13872, 'willis': 13988, 'twatted': 13156, 'hkdimon': 6298, 'akismet': 1032, 'bungee': 2416, 'aruge': 1388, 'fla.': 5029, 'rply': 10903, 'heals': 6119, 'xdfcvghjkl': 14187, 'thunder': 12798, 'spark': 11854, 'w3': 13669, 'stingy': 12092, 'yeswhat': 14273, 'slumber': 11618, '12': 373, 'joiieeeee': 7128, 'lalalovee': 7506, 'worldly': 14105, 'blahhh': 2048, 'montana': 8554, 'glamorous': 5590, 'duty': 4279, 'loudly': 7915, 'grove': 5794, 'mamatulip': 8081, 'electric': 4407, 'monthy': 8557, '3g': 568, 'pittsburg': 9786, 'ict': 6562, 'oct.': 9164, 'lobbyist': 7819, 'theyd': 12714, 'digging': 3918, 'soothes': 11796, 'deffinatly': 3729, 'poeple': 9866, 'believeing': 1863, 'modern': 8513, 'medicine': 8268, 'graveyard': 5743, 'muuuuahhhahaha': 8701, 'probable': 10108, '2day-i': 493, 'evry': 4652, 'othr': 9363, \"'specially\": 60, '//graphics1.snopes.com/photos/arts/graphics/toilet2.jpg': 175, 'seedless': 11176, 'carson': 2618, 'washer': 13742, 'refridgerator': 10539, 'hahahahahahhaha': 5948, 'ooooo': 9287, 'driveu2013thru': 4184, 'allie': 1081, 'vickers': 13547, '99': 738, 'bold': 2145, 'pearl': 9589, 'kb': 7260, 'pussyyy': 10255, 'enola': 4512, 'flyaround': 5089, 'lds': 7600, 'blake': 2051, 'lively': 7786, 'ariel': 1357, 'tons': 12918, 'thanking': 12656, 'yyyessss': 14389, 'beseeest': 1901, 'cohoclate': 3061, 'aaaaaanndgummy': 797, 'prostate': 10169, 'spasm': 11858, 'cta': 3477, 'dramaqueenrissa': 4149, 'hannah_rae': 6023, 'departed': 3787, 'greenville': 5758, 'magpie': 8052, 'underground': 13315, 'talent': 12466, 'sto': 12097, 'rdbms': 10428, 'gentler': 5511, 'cave': 2659, 'btr': 2363, 'wil': 13979, 'wheaton': 13884, 'mamszz': 8085, 'voucher': 13626, 'differ': 3908, 'chappelle': 2747, 'embellish': 4452, 'fancy-assed': 4829, 'nyetwarty': 9110, 'reoccur': 10623, '4-6': 581, '22.': 456, 'shoutem': 11409, 'mic': 8374, 'lighbulb': 7711, 'meowl': 8319, 'b/f': 1591, 'b-list': 1586, 'elainea': 4402, 'nnnaaaahhh': 8966, '60th': 664, '61st': 666, 'karen': 7237, 'intalnirile': 6827, 'viitoare': 13566, 'pentru': 9620, 'asta': 1443, 'pacate': 9438, 'nu': 9081, 'ajung': 1028, 'mabuti': 8021, 'hangover': 6021, 'playz': 9827, 'paintz': 9460, 'wallz': 13706, 'cpmouter': 3366, 'sed': 11171, 'stickie': 12081, 'happend': 6028, 'ss': 11985, '-do': 108, 'hippy': 6281, 'chemical-y': 2811, 'enormous': 4513, 'freedom': 5244, 'inspiration': 6808, \"'how\": 30, 'centred': 2698, 'spinoff': 11910, 'asl': 1409, 'hissing': 6288, 'roach': 10805, 'reject': 10568, 'supre': 12315, 'chea': 2776, 'hometown': 6352, 'cleverrrrrrrrrrrrrrr': 2973, 'expanding': 4710, 'magnet': 8050, 'controller': 3254, 'grub': 5805, 'marshmallow': 8157, 'yodda': 14289, 'tourofnilgiris': 12985, 'tent': 12607, 'wildcraft': 13981, 'participant': 9516, 'atlanta': 1465, 'bart': 1729, 'incorporated': 6733, 'newwest': 8899, 'skyla': 11559, 'minnie': 8442, 'sprawl': 11945, 'transportation': 13032, 'remote-control': 10612, 'greatest': 5750, '//www.chrisbrogan.com': 299, 'goodeye': 5659, 'gamerscore': 5425, '19th': 425, 'u2584u2588u2580': 13235, 'u2588u2584': 13236, 'u2588u2584u2588': 13237, 'u2580u2588u2580': 13234, 'fsing': 5305, 'unmanageable': 13364, 'fraggle': 5215, 'unemployed': 13333, 'r.': 10329, 't.i': 12420, 'rainsongs': 10364, 'broookkkeeeee': 2333, 'zew': 14409, 'fukkinnn': 5340, 'luvv': 7992, 'lykee': 8003, 'ohhemmgee': 9202, '/fuck/': 314, 'hahahahhahah': 5958, 'thakssssssssssssss': 12649, 'allston': 1090, 'evry1': 4653, 'bamboozle': 1683, 'tic': 12811, 'graf808': 5719, 'agreat': 981, 'unboxed': 13305, '51': 637, 'featured': 4898, 'busting': 2450, 'too-fucking-right': 12923, 'virgnin': 13586, 'sexuality': 11262, 'xoxoxo': 14198, 'cursing': 3521, 'baaaaahhhhh': 1599, 'ppt': 9996, 'printed': 10091, 'coworker': 3361, 'henceforth': 6185, 'fishy': 5013, 'pepe': 9624, 'filipina': 4963, 'foreigner': 5161, 'righ': 10777, 'shotgun': 11401, 'smoothy': 11665, 'yummie': 14370, 'jgarber': 7085, 'bangor': 1698, 'rampage': 10375, '10:30': 359, 'abbey': 814, 'bier': 1965, 'cafe': 2510, 'juneau': 7191, 'epaper': 4549, 'baaaad': 1600, 'cjb2m5': 2931, 'serf': 11227, 'coverage': 3351, 'sucks.': 12242, '58372': 648, 'guy-polite': 5862, 'vocabulary': 13608, 'crystal': 3473, 'koekjemom': 7411, 'merge': 8328, 'ihdontmind': 6610, 'goahead': 5624, 'journey': 7156, 'hee': 6150, 'rhymed': 10746, 'ahhaaha': 1001, 'il': 6627, 'stylish': 12210, 'jjprojects': 7098, 'garrett': 5445, 'insightful': 6805, 'helpful': 6181, 'good=/': 5657, 'co.': 3022, 'dmbass': 4034, 'fuckk': 5328, 'hatersss.': 6079, 'lahh': 7497, 'yhuu': 14283, 'lexiii': 7676, 'awesomestt': 1553, 'sisterr': 11515, 'crop': 3449, 'audio': 1489, 'lag': 7494, 'qoutes': 10284, 'muchos': 8650, 'noisey': 8988, 'foreign': 5160, 'puk': 10220, 'eisner': 4397, 'myk': 8718, 'oaaa': 9129, 'tellen': 12582, 'khlou00e8': 7301, '38c': 561, 'dhats': 3867, 'mmmag': 8484, 'disagrees': 3959, 'hydrated': 6521, 'hand-me-down': 6009, 'admitted': 929, 'lust': 7988, 'kristinaking': 7438, 'iso': 6930, 'bleeding': 2065, 'melonheads': 8296, 'navigate': 8803, 'distracting': 4008, 'cal': 2519, 'foggy': 5101, 'ingen': 6777, 'tokusatsu': 12893, 'hammond': 6004, 'buzzed': 2475, 'twiddling': 13172, 'goldman': 5643, 'unending': 13335, 'seething': 11185, 'warms': 13730, 'painful/sad': 9453, 'faggoty': 4793, 'secks': 11161, 'blowjob': 2107, 'pointing': 9871, '_______': 774, 'fishing': 5012, 'compliment': 3158, 'litterally': 7779, 'commented': 3118, 'obliously': 9140, 'liquid': 7758, 'jumper': 7186, 'whatchoo': 13871, 'hp': 6445, 'gluten-free': 5614, 'newly': 8891, 'avenaceous': 1527, 'oat': 9131, 'glutenous': 5615, 'yooh': 14294, 'snobby': 11702, 'tracksuit': 13005, 'victory': 13551, 'vengeance': 13518, 'chamber': 2731, 'swooooooord': 12391, 'francaise': 5220, 'mabad': 8020, '127': 383, 'martindeboer': 8163, 'igniter': 6598, 'wouldt': 14123, 'dhis': 3870, 'pelt': 9606, 'necc': 8822, 'valuable': 13488, 'conference': 3185, 'people.you': 9622, 'tlkk': 12867, 'qurls': 10325, 'yurselff': 14379, 'whilst': 13897, 'aussie': 1498, 'overtaking': 9411, 'minimize': 8440, 'aaand': 799, 'www.cdw.com': 14170, 'familiar': 4822, 'beneath': 1882, 'swallow': 12352, 'ki': 7303, 'recycle': 10510, 'bun': 2412, 'frat': 5229, 'afterward': 966, 'usctrojans': 13435, 'spanking': 11852, 'skanky': 11534, 'benjamin': 1887, 'hahahahahhahahhaahhahahahah': 5954, 'ayee': 1579, 'yerr': 14265, 'infoooo': 6769, 'neptunegrand': 8859, 'bfff': 1942, 'cheak': 2777, 'crackberry': 3373, 'messed': 8339, 'funning': 5359, 'bahahahaha': 1655, 'fuckinggg': 5326, 'likey': 7732, 'congratulate': 3200, 'laden': 7490, 'synth': 12410, 'begining': 1848, 'jodi': 7115, 'healht': 6117, 'coded': 3053, 'alrighty': 1114, 'boyu2019s': 2237, 'purpose': 10244, 'polish': 9883, 'kuszinn': 7455, 'kus': 7454, 'dooooo': 4098, 'nottt': 9064, 'porshe': 9935, 'kiko': 7326, 'transwhatever': 13034, 'potion': 9975, 'guys-': 5866, 'twix': 13205, 'tm': 12869, 'slashfic': 11576, 'guardian': 5820, 'wuw': 14163, 'craigsanaotmy': 3383, 'avec': 1525, 'heures': 6211, 'bonjour': 2162, 'semio': 11205, 'lollipop': 7850, 'lolipop': 7847, 'dum': 4249, 'cheeeering': 2793, 'hairball': 5978, 'ahahahahaha': 994, 'disclaimer': 3968, 'believer': 1864, 'christards': 2885, 'seminar': 11204, '._': 155, 'takeover': 12459, 'cory': 3313, 'erik': 4570, 'erykah': 4578, 'badu': 1645, 'dumd': 4256, 'fainted': 4799, 'angela': 1199, 'dulled': 4247, 'mebbe': 8260, 'cani': 2572, 'personality.super': 9659, 'ill.': 6630, 'password': 9539, 'groom': 5785, 'burried': 2431, 'awh': 1557, 'yourr': 14328, 'estate': 4593, 'pond': 9903, 'rhett': 10740, 'sizzling': 11531, 'nevah': 8879, 'werdplay': 13840, 'feat': 4892, 'geronimo': 5522, 'jvc': 7212, 'lcd': 7597, 'monitor': 8547, 'awe-fucking-some': 1545, '4k': 617, 'long-sleeve': 7866, 'ringer': 10784, 'irony': 6904, 'geriatric': 5518, 'chalk': 2723, 'bapper': 1706, 'picked': 9734, 'radish': 10351, 'april2': 1326, 'msi': 8629, 'bloodhound': 2100, 'stereotyping': 12068, 'ricotta': 10764, 'charlestrippy': 2761, 'carefree': 2597, 'giggly': 5558, 'barbies': 1717, 'rosenberg': 10876, '//tinyurl.com/5fhths': 221, 'writin': 14144, 'brill': 2302, 'meebo': 8273, 'lazy-ass': 7593, 'myzou': 8735, 'slashed': 11575, 'funding': 5350, 'discussed': 3977, 'praline': 10005, 'pure': 10237, 'defecation': 3721, 'nonsensical': 9011, 'bro-rape': 2318, 'beautiful-you': 1806, 'nibbled': 8910, 'nibble': 8909, 'nibblin': 8911, '5-6': 624, '7-8': 675, 'sheeit': 11320, 'gurlz': 5853, '20-30cm': 440, 'metric': 8353, '1000+questions': 352, 'yesterday.but': 14270, 'yesterday.what': 14271, 'remaining': 10596, 'mini-poster': 8437, 'glorious': 5606, 'norway': 9041, 'spagross': 11841, 'supercuts': 12294, 'impulsive': 6703, 'joell': 7119, 'cudi': 3488, 'portable': 9938, 'empire': 4473, 'thnks': 12745, 'torment': 12947, 'bryan': 2356, 'uglyyy': 13260, '5/19/10': 626, 'feather': 4893, 'macaroni': 8023, 'cabel': 2503, 'venturing': 13524, 'lameness': 7514, 'prevailed': 10064, 'isht': 6923, 'rely': 10591, 'hahahahahahahah': 5936, 'him~': 6272, '-question-': 121, 'tash': 12502, 'remotely': 10613, 'identified': 6575, 'doomed': 4096, 'heal': 6116, 'rude-bitch': 10917, 'kurot': 7452, 'tat': 12509, 'fopr': 5149, 'tution': 13149, 'maam': 8018, 'fodder': 5099, 'everlasting': 4624, 'uncertainty': 13307, 'whether': 13892, 'guiness': 5839, 'king-o-rama': 7344, 'medal': 8265, 'eyebrow': 4751, 'insted': 6818, 'totaly': 12966, 'postal': 9963, 'slurps': 11624, 'feenstra': 4915, 'bliss': 2082, 'webb': 13799, 'sari': 11025, 'yaar': 14214, 'sceen': 11080, 'mutilple': 8699, 'variable': 13497, 'cared': 2595, 'caring': 2601, 'terry': 12622, 'preichet': 10030, 'hindsight': 6274, 'interrupted': 6849, 'qtpie': 10287, 'curbed': 3509, 'couture': 3349, 'beneficial': 1883, 'noooot': 9026, 'rember': 10600, 'biblical': 1956, 'chop': 2873, 'cat-sized': 2637, 'sweeeet': 12365, 'fukn': 5341, 'lmaooo': 7799, 'druunk': 4213, 'shorten': 11396, '//tinyurl.com/8rkl9r': 247, 'elementary': 4414, 'daysz': 3657, 'cushion': 3524, 'relief': 10584, 'yeaaa': 14231, 'became': 1812, 'multi-millionaire': 8663, 'smudge': 11670, 'ginny_caputo': 5567, 'tumbleweed': 13128, 'mahalo': 8054, 'airport-': 1022, '//twitpic.com/w588': 285, 'yeeeeeeeeeeesssss': 14250, 'salinger': 10977, 'argumentative': 1354, '1999': 424, 'abducted': 818, 'lateley': 7546, 'retroactively': 10708, 'dismembered': 3988, 'continuing': 3246, 'kow': 7429, 'gymnastics': 5876, 'bullcrap': 2400, 'clearer': 2965, 'dreary': 4168, 'frensh': 5255, 'origin': 9341, 'europe': 4612, '2001': 442, 'hogwart': 6327, 'cyprus': 3554, 'landlord': 7520, 'the.illumanati': 12678, 'hoodies': 6379, 'lindsey': 7745, 'challenge.': 2727, 'livesteez': 7787, 'kimber_regator': 7335, 'revelation': 10720, 'smug': 11671, 'spoke': 11926, 'turnbull': 13141, 'shuns': 11439, 'cross-train': 3452, 'muay': 8644, 'hahahhahaahhahaha': 5965, 'mod_alex': 8505, 'cot4': 3322, 'getchur': 5527, 'complex': 3156, 'sokeri': 11748, 'convergence': 3258, 'nerd-lives': 8861, 'beware': 1935, 'wobble': 14047, 'babi': 1611, '76ers': 687, 'gm': 5617, 'elgin': 4420, 'baylor': 1764, 'higher': 6244, 'stuuupid': 12207, 'kaylas': 7258, 'kool-aid': 7422, 'whwhwhwhoa': 13950, 'ck': 2932, 'aluminum': 1126, 'falcon': 4813, 'jingle': 7093, 'wou': 14117, 'chlamydia': 2862, '1200': 380, 'replaced': 10631, 'replacing': 10633, '808': 709, 'ply': 9852, 'coba': 3030, 'tebak': 12551, 'ini': 6781, 'bahasa': 1658, 'apa': 1285, 'kamu': 7225, 'ngerti': 8904, 'ngga': 8905, 'ngomong': 8907, 'yeahhhhhhhhhhhhhhhhh': 14238, 'asudden': 1449, 'sharing': 11301, 'ljka': 7792, 'acronym': 882, 'folderol': 5108, 'lol-': 7842, 'traffic-': 13013, 'piggy-chain': 9753, 'keyshia': 7296, 'profession': 10133, 'commerical': 3122, 'iseeya': 6920, 'realised': 10445, 'strikingly': 12160, 'embarq': 4446, 'kansa': 7230, '-dorthy': 109, 'congregation': 3204, 'earwax': 4317, 'mula': 8660, 'why/how': 13952, 'ranking': 10387, 'fleshbot': 5050, '//is.gd/a3ah': 179, 'wiked': 13976, 'activex': 891, 'awful.i.hate.being.ill': 1555, 'eyre': 4756, 'prettttty': 10057, 'call/gmail': 2531, 'meeeeeeee': 8276, 'dx': 4285, 'realist': 10446, 'bicycle': 1959, 'commuting': 3130, 'hosed': 6411, 'dust': 4276, 'foul': 5206, 'romey': 10856, 'naomi': 8773, 'post-2008': 9959, 'election': 4406, 'revengenow': 10723, 'nahhhhhhhhhhhhhhhhh': 8759, 'whoopi': 13932, 'rtd': 10907, 'unbelieveable': 13304, 'cajun': 2517, 'krab': 7430, 'missus': 8467, 'knuckle': 7400, 'www.tinyurl.com': 14175, 'china': 2850, 'taiwan': 12455, 'oki': 9233, 'macau': 8024, 'portugese': 9946, 'stealer': 12049, 'british': 2310, 'meryl': 8333, 'streep': 12146, 'arsonist': 1380, 'ridden': 10766, 'strictly': 12157, 'timb': 12835, 'army': 1362, 'certified': 2711, 'essay': 4588, 'pardoned': 9497, 'facing': 4778, 'roomates': 10866, 'annie': 1222, 'sufjan': 12255, 'stevens': 12074, 'scarier': 11072, 'wrose': 14149, 'abt': 840, 'in-law': 6706, 'rkn': 10800, 'smidge': 11650, '_that_': 782, 'milky': 8415, 'mormon': 8570, 'attempt': 1475, 'messaging': 8338, 'telstra': 12586, 'conroy': 3210, 'net.au': 8871, 'dreamt': 4167, 'hugerobots': 6463, 'palace': 9464, 'revolution': 10731, 'californication': 2529, 'duchovny': 4226, '700': 680, 'hoard': 6312, '2give': 499, 'poncey': 9902, 'protection': 10176, 'theyr': 12715, 'aswesome': 1452, 'boobie': 2170, 'westcoast': 13852, 'eastcoasters': 4327, 'grrrrr': 5804, 'milano': 8408, 'likeee': 7728, 'anorexic': 1238, 'giraffe': 5569, 'rasputin': 10406, 'tacky': 12439, 'prettty': 10058, 'queue': 10309, 'invited': 6881, 'emo/prep/jock': 4469, 'commonly': 3126, 'misspell': 8461, 'pale': 9465, 'universal': 13354, 'bradmantv': 2252, '83': 714, 'affliction': 954, 'tribal': 13060, 'throughout': 12780, 'deli': 3752, 'chappy': 2748, 'acknowledgment': 878, 'gurl/boy': 5852, 'catchphrase': 2644, 'talkinbto': 12474, 'hahahaahahahahahaahahahahahah': 5921, 'urinates': 13425, 'plumbing': 9846, 'azn': 1583, 'sexed': 11259, 'coool': 3275, 'light-reflecting': 7713, 'sphere': 11895, 'rear': 10462, 'kayleigh': 7259, 'lololast': 7853, 'pollyanna': 9893, 'contains': 3237, '610': 665, '330': 541, 'bounced': 2215, 'ignored': 6602, 'sheep': 11322, 'shrink': 11426, 'offline': 9191, 'gen': 5494, 'downside': 4129, 'indianola': 6745, 'meetups': 8281, 'isolation': 6932, '5lbs': 654, 'bulk': 2398, 'visa': 13589, 'citizen': 2925, 'po': 9859, 'auto-tuned': 1514, 'orangatang': 9326, 'lolis/moe/fansubs/mecha/yaoi': 7848, 'continued': 3244, 'springsteen': 11952, 'nobu': 8979, 'auto-tune': 1513, 'hummin': 6488, 'digitally': 3922, 'remastered': 10599, 'o.k': 9123, 'cheeseyyy': 2804, 'mcd': 8222, 'mandated': 8096, 'education': 4366, 'newsy': 8897, '1.0': 338, 'squirt': 11974, 'm80': 8014, 'firecracker': 4996, 'basin': 1740, 'eradicate': 4564, 'snuggle': 11720, 'davidpatterson3': 3648, 'stache': 11995, 'tug': 13126, 'lakerss': 7502, 'bbbyyyyy': 1767, '2o1o': 514, 'santagold': 11012, 'bibliography': 1957, 'cite': 2924, 'mmmh': 8485, 'mrs.': 8624, 'caldwell': 2523, 'precede': 10015, 'lovingly': 7945, 'royalpurp': 10902, 'd-block': 3557, 'apricot': 1324, 'exfoliating': 4694, 'bead': 1785, 'twitching': 13184, 'fritos': 5284, 'ooooooh': 9289, 'petro': 9680, 'bux': 2470, 'skyline': 11560, 'weekly': 13818, 'enivetable': 4505, 'bommm': 2156, 'justine': 7205, 'remeber': 10601, 'camo': 2550, 'dddr': 3671, 'respons': 10678, 'fingerd': 4987, 'workd': 14094, 'fwd': 5376, 'denial': 3777, 'ugliest': 13257, 'crutons': 3469, \"'take\": 67, 'passionate': 9534, 'fold': 5105, 'regina': 10549, 'spektor': 11882, 'featuring': 4899, 'external': 4743, 'frame': 5219, 'paddy-ass': 9447, 'uwgb': 13461, 'lassie': 7537, 'mutant': 8696, 'offensive': 9183, 'flipping': 5061, 'dumped': 4260, 'sleazy': 11581, 'bombarded': 2151, '15-20.': 395, 'swell': 12379, 'deff': 3727, 'hebrew': 6145, 'jackass': 6975, 'millon': 8420, 'firstr': 5009, 'sexxyy': 11265, 'mommma': 8536, 'logitech': 7834, 'dinovo': 3940, 'informed': 6771, 'labor': 7484, 'unprepared': 13373, 'teamblack': 12542, 'paintball': 9455, 'drool': 4190, 'derby': 3807, 'eron': 4572, 'godly': 5634, 'lesser': 7662, 'performance': 9639, 'unmarried': 13365, 'complection': 3152, 'fuckign': 5323, 'bendele': 1881, 'knowledge': 7395, 'buffy': 2385, 'gellar': 5492, 'mang': 8098, 'blowin': 2105, 'nostalga': 9044, 'curvy': 3523, 'suai': 12212, 'bell-end': 1869, 'a-fucking-dorable': 788, 'yarn': 14225, 'braid': 2257, 'elderly': 4404, 'bangladesh': 1696, 'ronson': 10861, 'routing': 10897, 'orthodontist': 9349, 'docotr': 4046, 'cl': 2940, 'ean': 4303, 'eeeeew': 4370, 'jock': 7112, 'piercings': 9748, 'tweakers': 13157, 'tayler': 12523, 'plea': 9828, '//thetyser.com/': 213, 'fraking': 5217, 'arsehole': 1378, 'ripley': 10789, 'amy': 1173, 'winehouse': 14006, 'refusal': 10541, 'rehab': 10561, 'zro': 14425, 'too.lucky': 12924, 'sucks.how': 12243, 'arabic': 1333, '58126': 646, 'wopping': 14084, '5yrs': 657, 'newbie': 8886, 'sonin': 11785, 'juiceegapeach': 7177, 'mbd': 8219, 'flick': 5053, 'courtyard': 3347, 'marriott': 8152, 'dick-ish': 3884, 'desire': 3828, 'skittle': 11555, 'genuois': 5513, 'torpedo': 12951, 'open-toed': 9303, '4volumize': 621, '10-15': 346, '375': 559, 'broil': 2324, '-__-': 101, 'layne': 7589, 'refered': 10527, 'promoting': 10157, 'recommened': 10499, '//tinyurl.com/62m3z7': 228, 'glue': 5612, 'hfc': 6223, 'asplode': 1413, \"'turns\": 73, 'maryz41': 8171, 'sleighz': 11589, 'reverse': 10724, 'noooooooooo': 9022, 'tickle': 12816, 'toetag': 12887, 'anytyme': 1277, 'kcoolbye': 7261, 'continental': 3241, 'lindsay': 7744, 'lohan': 7837, 'machete': 8028, 'juvenile': 7210, 'aaargh': 801, 'symptom': 12404, 'fallen': 4815, '5-14': 623, 'everytday': 4634, 'buurrrrr': 2469, 'calraigh': 2539, 'spotz': 11942, 'doggie': 4057, 'commentary': 3117, 'provided': 10188, 'yhuuu': 14284, 'yhur': 14282, 'saturdayy': 11034, '484': 606, '264': 480, '3364': 550, 'texture': 12641, 'chex': 2824, 'corona': 3301, 'momlogic.com': 8533, \"fuck'n\": 5313, '-there': 130, 'property': 10164, 'rotfl': 10882, 'dateing': 3638, 'alxeander': 1133, 'luk': 7973, 'boii': 2138, 'tyga': 13212, 'tooey': 12926, 'faveee': 4872, 'timee': 12840, 'district': 4011, 'thwirl': 12807, 'checker': 2788, 'gai-damn': 5407, 'ain': 1016, 'hatein': 6075, 'fone': 5125, 'riffner': 10774, 'flaunt': 5043, 'comparing': 3137, 'baha': 1651, 'l00kin': 7474, 'beezy': 1839, 'hurted': 6510, 'rebel': 10471, 'grabbing': 5710, '2morw': 508, 'austen': 1499, 'gaaaambit': 5391, 'implying': 6688, 'gogo': 5636, 'dvr': 4282, 'opportunie': 9311, 'attacked': 1474, 'ricksavage': 10762, 'jg': 7084, 'quoted': 10324, 'partna': 9524, 'neice': 8845, 'sis.lol': 11512, 'uhhmm': 13267, 'divinewrite': 4020, 'e-book': 4296, 'garlic': 5441, 'leslea': 7661, 'hugz': 6470, 'sumpin': 12273, 'jabbawockeez': 6971, 'gathered': 5452, 'jist': 7094, 'davey': 3645, \"'reply\": 56, 'bar-b-q': 1710, 'mmmmm': 8488, 'map': 8119, 'yeahs': 14240, 'hard/expert': 6043, 'boo-urns': 2167, 'fetishist': 4935, 'madman': 8039, '300+': 529, 'kahala': 7224, 'spin-off': 11907, 'lamont': 7516, 'pipeline': 9775, 'negociating': 8843, 'pu01ddu05dfu05dfu0131u029es': 10208, 'u028eu0287u0287u01ddu0279d': 13232, 'u01ddu0279u0250': 13230, 'nou028e': 9065, 'uu01ddu0265u0287': 13455, 'su0131u0265u0287': 12211, 'pu0250u01ddu0279': 10209, 'uu0250u0254': 13456, 'u025fu0131': 13231, 'aboustly': 826, 'occultclassic': 9158, 'emulation': 4479, 'component': 3160, 'particular': 9518, '140.': 390, 'deluged': 3764, 'lunch/coffee': 7981, 'sargent': 11024, 'jaja': 6994, 'mua': 8640, 'ck4u': 2933, 'backing': 1625, 'hahahahahahaah': 5933, 'spency': 11890, 'ddddd': 3670, 'ehem': 4390, 'shiiiiit': 11348, 'tardy': 12495, 'kohl': 7412, 'fitfam': 5016, 'boss': 2200, 'ordering': 9331, 'galactus': 5415, 'blaming': 2054, 'st8': 11990, 'skit': 11554, 'zomg': 14420, '1one': 428, 'dothan': 4107, 'sleepin': 11584, 'clld': 2991, '2much': 510, 'prick': 10077, 'kthxbye': 7448, 'cod5': 3050, '360.': 557, 'lmfao.r': 7805, 'hahagreat': 5916, 'corrected': 3307, 'queensland': 10300, 'techie': 12554, 'pirillo': 9778, 'despereaux': 3834, 'ratatouille': 10409, 'superbad': 12293, 'marshall': 8156, 'sandwiche': 11006, 'tasting': 12507, 'encourage': 4485, 'desert': 3818, 'auto-assume': 1510, 'spac': 11837, 'arentcha': 1345, 'torch': 12945, '//tinyurl.com/pxw3w': 255, 'bx': 2480, 'episcopal': 4552, 'bishop': 2002, 'banoffee': 1704, 'wub': 14158, 'renovator': 10619, 'ff3': 4939, 'abandon': 811, 'hawaii': 6095, 'infrastructure': 6773, 'daylight': 3656, 'penetrate': 9613, 'warmth': 13731, 'sipping': 11508, 'tequilaggedon': 12610, 'hekp': 6164, 'sherrieholmes': 11337, 'louislandon': 7919, 'petefromthehip': 9676, 'encouraging': 4487, 'rear-end': 10463, 'congratz': 3203, 'unapologetic': 13300, 'spelt': 11888, 'eveyln': 4642, 'awwesome': 1568, 'jezuss': 7082, 'consistency': 3217, 'relaxed': 10576, 'vat': 13503, '20+': 439, 'mpg': 8618, 'unreasonable': 13376, 'greeeeeeeeeeeen': 5754, 'flaccid': 5030, 'testifies': 12626, 'am/pm': 1138, 'j.': 6966, 'depp': 3799, 'corn': 3295, 'bogart': 2134, 'alynndeluc': 1135, 'cris': 3438, 'disposed': 3997, 'teela': 12564, 'post-shoe': 9961, 'narcissistic': 8776, 'prez': 10071, 'ikan': 6622, 'musik': 8686, 'myspace.com/pokemonboyz7': 8725, 'ey': 4749, 'uninteresting': 13350, 'beens': 1833, 'farely': 4838, 'teaachgee': 12533, 'ianit': 6544, '3315': 542, 'jumprope': 7189, 'mizzjess': 8478, 'hayyy': 6100, \"'my\": 42, 'score': 11106, 'teachin': 12536, 'stickshift': 12083, 'mwhahahahahaha': 8711, 'llalala': 7794, 'firstgiving.com': 5007, 'firstgiving.org': 5008, 'firewall': 5000, 'heyyyyyy': 6219, 'coltrane': 3087, 'zoom': 14424, 'prog': 10138, 'spontaeity': 11928, 'libs': 7691, 'kiya': 7363, 'superjail': 12298, 'streaming': 12144, '//tinyurl.com/5n55hg': 225, 'solar': 11749, 'tabithaaaaaa': 12436, 'youuuuuuuuuuuuuu': 14347, 'extraordinary': 4746, 'hapa': 6025, 'cyberbullying=jail': 3548, 'zimbabwe': 14411, 'wiz': 14037, 'fixin': 5022, 'authority': 1507, 'prada': 10002, 'whitney': 13913, 'celerbity': 2680, 'talken': 12471, 'ranting': 10389, 'debug': 3695, 'removal': 10614, 'wider': 13963, 'hahahahahha': 5950, 'burroughs': 2434, 'bukowski': 2397, 'ginsberg': 5568, 'nat': 8787, \"ass'n\": 1415, 'county': 3339, '//is.gd/dgf5': 189, 'thnxs': 12747, 'lighthearted': 7718, 'you-': 14309, 'tabbbbbi': 12431, 'dsfdsfdsgfdfgsd': 4218, 'katy': 7253, 'useful': 13439, 'goodie': 5661, 'jamz': 7008, 'rotflmao': 10883, 'seizure': 11188, 'flowing': 5080, 'dion': 3942, 'artificial': 1383, 'sweetener': 12372, 'biiaaaatch': 1976, 'isolate': 6931, 'delish': 3758, 'expressway': 4741, 'tneezy': 12873, 'tripp': 13074, 'polk': 9890, 'centrelink': 2699, 'exclamation': 4687, 'overuse': 9412, 'c4+1': 2497, 'moronic': 8577, 'playaa': 9819, \"'fail\": 22, 'capactiy': 2580, 'blueberry': 2113, 'unusual': 13386, 'still.r': 12089, 'bergk': 1895, '228': 460, 'affligem': 955, 'bitach': 2005, 'awsome': 1565, 'predict': 10019, 'laswtnight': 7544, 'science-based': 11096, 'composite': 3161, 'patent': 9550, 'double-blind': 4109, 'plastic': 9811, 'reasons-': 10468, 'pattern': 9559, 'washington': 13744, 'piano': 9728, 'hugged': 6465, 'behaviour': 1853, 'nekkid': 8852, 'kissy': 7355, 'facee': 4774, 'iowa': 6888, '1/3': 343, 'prioritize': 10094, 'ec': 4342, 'splendid': 11918, 'queerdo': 10302, 'powahh': 9986, 'grunny': 5811, 'onyd': 9275, 'vain': 13481, '30ft': 531, 'ladder': 7489, '10ft': 361, 'gp': 5704, '//tinyurl.com/8woa3j': 249, 'wating': 13765, 'instance': 6814, 'terminate': 12614, 'intarwebz': 6828, 'friendship': 5274, 'anne': 1221, 'yappin': 14224, 'calvin': 2541, 'caryrn': 2624, \"'cunt\": 16, 'untaken': 13383, 'shoul': 11402, 'ngl': 8906, 'vinegrette': 13573, 'offering': 9186, 'scottish': 11115, 'anothe': 1239, 'aeddon': 949, 'smosh': 11666, '2050965967': 451, 'disapointed': 3960, 're-add': 10430, 'looooong': 7881, 'turnout': 13145, 'tpt': 12998, 'whyyyyy': 13954, 'humpback': 6492, 'convenient': 3257, 'trim': 13069, 'pongo': 9906, 'dont/': 4088, 'cruel': 3462, 'dependss': 3796, 'jerrrk': 7068, 'hurt/help/stand': 6509, 'painter': 9457, 'plague': 9799, 'sinqle': 11503, 'sag': 10964, 'exceptionally': 4680, 'mock': 8504, 'richard_barley': 10757, 'savitto': 11046, 'mostest': 8582, 'apriciate': 1323, 'pto': 10205, 'kuup': 7459, 'switching': 12389, 'korea': 7424, 'madrid': 8042, 'milan': 8407, 'neightbor': 8848, 'taught': 12518, 'sexyer': 11267, 'sippi': 11506, 'indi': 6741, 'tennessee': 12604, 'sassy': 11028, 'pardon': 9496, 'intrusion': 6867, '//tinyurl.com/2ezd68': 214, '3:20+': 563, 'frequency': 5257, '94.9': 729, 'barbecue': 1715, 'varies': 13500, 'regionally': 10551, 'tomato-': 12900, 'vinegar-based': 13572, 'mustard': 8693, 'trilogy': 13068, 'peed': 9597, 'groupiee': 5793, 'textinqq': 12639, 'formsprinqq': 5191, 'nonrealistic': 9009, 'aargh': 805, 'wal-mart': 13694, 'drunk-tweet': 4207, 'twitterware': 13201, 'sloth': 11615, 'iparty': 6890, 'pssst': 10199, 'odb': 9166, 'www.daboard.com': 14171, 'jimmysticks': 7092, 'sedated': 11172, 'decorate': 3709, 'pokin': 9876, 'twitterverse': 13200, 'commander': 3114, 'interaction': 6839, 'pounded': 9980, 'kickass': 7307, 'fasten': 4850, 'seatbelt': 11157, 'pussycat': 10253, 'smoothly': 11664, 'accutally': 867, 'spirit-': 11912, 'stabbed': 11992, 'snooze': 11703, 'buttone': 2465, 'chemistry': 2812, 'jada': 6986, 'straw': 12140, 'pucker': 10216, 'dmx': 4036, 'sandwhich': 11004, 'sultan': 12267, 'best.': 1905, '-rape-': 122, 'kettle': 7286, 'korn': 7426, 'dramatic': 4150, 'sspitsbergen': 11987, 'lidell': 7696, 'thicke': 12719, 'heey': 6153, 'wana': 13711, 'justins': 7206, 'forest': 5163, 'gump': 5845, 'constitute': 3225, 'trilla': 13067, '4.5': 586, 'christina': 2888, 'aguilera': 984, 'pressure': 10046, 'cleaned': 2960, 'mechanic': 8262, 'thankee': 12653, 'sai': 10965, 'l00k': 7473, 'alwaysgayalways': 1129, 'watch/rewatch': 13751, 'sate': 11032, 'gay-wadishness': 5464, 'appo': 1313, 'guilt': 5835, 'succeeded': 12226, 'thundercats': 12800, 'hooooo': 6388, 'trendy': 13055, 'next-door': 8901, 'belenophobic': 1859, 'memorieskillme': 8303, 'chatted': 2773, 'interpret': 6847, 'sincere': 11488, 'accountable': 859, 'functional': 5348, 'iilove': 6616, 'yuuuaaa': 14384, 'akekeke': 1031, 'simon': 11482, 'groban': 5783, 'curly-haired': 3514, '8-cup': 703, 'thedivasoffial': 12682, 'duct': 4232, 'nocturnal': 8980, '46-49': 603, 'mindlessly': 8428, 'lic': 7692, 'abcdefghijklmnopqrstuvwxyz': 817, 'nuu-uhh': 9102, 'fairly': 4802, 'coldplay': 3068, 'uverse': 13460, 'sept': 11221, 'inspires': 6811, 'gwen': 5871, 'youposted': 14325, 'oooooo': 9288, '6gb': 671, 'indiana': 6744, 'packed': 9443, 'sliding': 11597, 'preview': 10067, 'ballz': 1678, 'quickwitted': 10313, 'gooftastic': 5668, 'haaaaaaaaa': 5890, 'pointless': 9872, 'foooooooooooooood': 5141, 'loveeee': 7935, 'alexissssssssssss': 1065, 'vvvv': 13641, 'activate': 889, 'fon': 5124, 'freely': 5245, 'tonn': 12917, 'kennedy': 7280, 'churchill': 2905, 'abraham': 831, 'lincoln': 7743, 'shouting': 11410, \"'kin\": 32, 'wankaz': 13714, 'opposition': 9315, 'wig': 13972, 'ijuz': 6620, 'tryfe': 13105, 'heatery': 6135, 'freeway': 5247, 'booooooonkers': 2183, 'abou': 823, 'donna': 4085, 'stapler': 12019, 'shroomies': 11428, 'fpr': 5212, 'rabbitsu2019': 10335, 'hahahahahahahahahahaha': 5939, 'annmt': 1225, 'tony': 12919, 'interviewed': 6852, 'counselor': 3331, 'principal/headmaster': 10088, '0the': 332, 'paybks': 9570, 'souter': 11827, 'christianity': 2887, 'mithra': 8472, 'tehehehe': 12570, 'insulin': 6823, '_o': 781, 'holidaze': 6335, 'bestfiend': 1908, 'playstation': 9825, 'videorecording': 13557, 'videoclip': 13555, 'bgdrummerboy34': 1944, 'infertile': 6760, 'schitzephrenia': 11085, 'adolescent': 931, 'adhd': 921, 'crazily': 3402, 'carona': 2607, 'gumed': 5844, 'u_u': 13241, 'dickens': 3887, '12:30': 384, 'covert': 3354, 'ops': 9318, '400': 591, 'dpi': 4136, 'soundboard': 11819, '1800': 413, 'motivation': 8589, 'biatchh': 1952, 'interact': 6838, 'proceeded': 10116, 'hrm': 6449, 'greece': 5751, 'trample': 13021, 'mee': 8272, 'professor': 10135, 'giligan': 5560, 'coconut': 3048, 'tyierdurden': 13213, 'pastel': 9542, 'lurking': 7987, 'cunning': 3500, 'drinkinggg': 4180, 'duffy': 4240, '108': 357, 'pastrami': 9545, 'noopee': 9027, 'chiiiiiiiiiiild': 2835, 'amici': 1160, 'feast': 4891, '//tinyurl.com/these-hats-are-damn-tradition': 256, '11.2': 367, 'tiddly': 12817, 'destined': 3841, \"'uncles\": 75, '11.': 366, 'lunchtime': 7982, 'criagslist': 3430, 'defensive': 3726, 'coordinator': 3279, 'included': 6725, 'rememeber': 10607, 'peeing': 9599, 'fucktard': 5330, 'tick.tock': 12813, 'passle': 9536, 'northern': 9039, 'soar': 11725, 'h0w': 5884, 'on-line': 9261, 'rer': 10654, 'hoped': 6394, 'mack': 8030, 'approval': 1319, 'judging': 7168, 'youu2019re': 14340, 'flew': 5052, 'frosty': 5295, 'iilooveeyouu': 6615, 'alexiss.': 1062, 'clinicals': 2984, 'spunk': 11957, 'hahahahahahahahahahahahahahahahahahaha': 5943, 'earlyerr': 4310, 'ounce': 9369, 'weigh': 13819, \"o'fuzzy\": 9116, 'activity': 892, 'racism': 10344, 'smater': 11641, 'pneumonia': 9858, 'shorter': 11397, 'latino': 7559, 'smexiest': 11648, 'mosey': 8579, 'thunderbird': 12799, 'smtp': 11669, 'twitting': 13203, 'bitchezz': 2012, 'beloww': 1875, 'yeww': 14278, 'ckan': 2934, 'herr': 6204, 'gawt': 5460, 'sayz': 11058, 'based': 1733, 'corrupted': 3311, 'neckalce': 8826, 'sinning': 11502, 'awaiting': 1539, 'piercings/tattoos': 9749, 'b33fy': 1594, 'housewife': 6435, 'nastyy': 8786, 'namee': 8768, 'wierdest': 13967, 'dye': 4287, 'l8': 7477, '11pm+': 372, 'tokbox': 12892, 'yet-': 14275, 'maintaining': 8064, 'sobriety': 11730, 'tabiahhhh': 12433, 'unbelievable': 13303, 'unpack': 13370, 'mcfaddern': 8225, 'ati': 1462, 'nvidia': 9104, 'huan': 6454, 'green.r': 5757, 'understood': 13324, 'asscheeks': 1425, 'underwire': 13328, 'zombs': 14419, 'invade': 6869, 'romy': 10858, 'midway': 8396, 'grippos': 5779, 'diggiety': 3917, '//tinyurl.com/yrqwmz': 259, 'dart': 3628, 'pinned': 9771, 'checking': 2790, '27th': 484, 'scandalous': 11065, '512k': 638, 'ethernet': 4602, 'loveeeee': 7936, 'crotch': 3456, \"smack'em\": 11629, 'thermodynamics': 12709, 'anti-internet': 1254, 'tacobot': 12441, 'psp': 10197, 'tasted': 12506, 'bend': 1880, 'lesbain': 7659, 'hahahhaaaa': 5963, 'rufus_': 10920, 'jackhammer': 6978, 'slumlord': 11620, 'nutty': 9101, 'ttc': 13115, 'creep': 3424, 'libertarian': 7688, '//tinyurl.com/2f6xbm': 215, 'survey': 12336, 'nsync': 9080, 'backstreet': 1628, 'toss': 12961, 'newsroom': 8895, 'ctrl': 3478, 'ocd': 9162, 'loltomino': 7858, 'best/worst': 1906, 'laura': 7574, 'dock': 4045, 'endearment': 4490, 'ginderelly': 5565, 'hooker': 6385, 'escalade': 4579, 'guestlist': 5830, 'pice': 9732, 'trasler': 13040, 'movement': 8608, 'swore': 12393, 'her.friend': 6191, 'introduced': 6862, 'claire': 2944, 'histery': 6289, 'everyway': 4640, 'protective': 10177, 'compassionate': 3139, 'enjoys': 4510, 'exploring': 4733, 'boundary': 2217, 'expierenced': 4723, 'recycling': 10512, 'damper': 3602, 'sarcasm': 11020, 'bullheaded': 2401, 'perfet': 9637, 'sexxy': 11264, 'nott': 9063, 'specifically': 11873, 'overrates': 9407, 'mounts.i': 8598, 'maine': 8060, 'tattooed': 12516, 'optimistic': 9320, 'waaaaaaaaaaay': 13673, 'x86': 14183, '-v': 132, '-f': 110, 'darwin': 3629, 'disabled': 3956, 'worthwhile': 14115, 'themadmat': 12691, 'chillinqq': 2847, 'relentless-bitch': 10581, 'twizzlers': 13206, 'hhaha': 6227, 'developed': 3855, 'haiti': 5983, 'jelouse': 7054, 'gunther': 5850, 'rhianna': 10741, 'dre': 4158, 'fading': 4786, 'ihad': 6608, 'yearz': 14245, 'mayne': 8215, 'stuffhahhahahaha.r': 12192, 'whoo': 13925, 'retarded.': 10698, 'pour': 9981, 'liz': 7789, 'jilly': 7089, 'grimy': 5775, 'trenton': 13056, 'freakshow': 5237, 'o___o': 9127, 'sorting': 11808, 'washing': 13743, 'drying': 4216, 'wordsliveinlies': 14089, 'scrappys_girl': 11121, 'gameplay': 5424, 'threee': 12771, 'rugrats': 10922, 'undies': 13332, 'beep.hello': 1834, 'moto.its': 8592, 'teeannuhh': 12562, 'gossiper': 5690, 'indyank': 6754, 'harisn': 6052, 'wesleyclouden': 13850, 'vancouver': 13492, 'aig': 1011, 'off-site': 9175, 'receive': 10479, 'chomo': 2870, 'yoooou': 14299, 'incase': 6719, 'heheheh': 6159, 'amputated': 1169, \"'talking\": 68, 'leave/live': 7622, 'reflects': 10534, 'crazzyyy': 3405, 'rebounding': 10474, 'bounce': 2214, 'askfrasco': 1403, 'distinct': 4004, 'mania': 8102, 'justice': 7201, 'witness': 14032, 'presidential': 10044, 'debate': 3693, 'specified': 11874, 'thanksfully': 12659, 'ageing': 972, 'penelope': 9612, 'depressive': 3803, 'compaq': 3134, '=x': 761, 'brushing': 2352, 'knot': 7392, 'hair.id': 5977, 'polished': 9884, 'occassionallyby': 9157, 'shine': 11353, 'filmmaking': 4971, 'nyt': 9112, 'garnettlee': 5442, 'videogames': 13556, '1up': 430, 'hesitant': 6208, 'seal': 11143, 'tatas': 12511, 'frambozen': 5218, 'wristband': 14142, 'assclowns': 1426, 'carpool': 2610, 'darkest': 3622, 'symbol': 12400, 'parrot': 9511, '2222': 457, 'rev': 10717, '202': 450, '201': 446, 'realise': 10444, 'redesign': 10517, 'shabby': 11277, 'steeler': 12054, 'dumpster': 4263, 'donald': 4079, 'trump': 13097, 'noze': 9073, 'it-lots': 6940, 'furthest': 5367, 'askk': 1407, 'stuuuff': 12206, 'solo': 11754, 'overwelming': 9414, 'preacher': 10014, 'ohhhhhh': 9206, 'typicall': 13220, 'meddling': 8266, 'killahills': 7328, 'dispose': 3996, 'piec': 9744, 'bieber.duh': 1963, 'russia': 10937, 'sabi': 10956, 'niya': 8960, 'clingy': 2982, 'deleating': 3748, 'raging': 10355, 'uti': 13451, 'management': 8090, 'ru': 10908, 'implmenting': 6685, 'itil': 6949, 'meth': 8350, 't-rex': 12418, 'noisy': 8989, '2many': 505, 'water-': 13758, 'fire-proof': 4995, 'encrypted': 4488, 'forwarded': 5204, 'archived': 1337, '101': 355, 'ka': 7219, 'column': 3090, 'happiest': 6034, 'adobe': 930, 'dominant': 4073, 'platform': 9814, 'shaq': 11297, 'assured': 1442, 'f.o.e': 4759, 'kthxbai': 7447, '58389': 650, 'modem': 8511, 'synced': 12406, 'hate-mail': 6069, '_him_': 780, 'guantanamo': 5817, 'bay': 1762, 'criticize': 3443, 'doules': 4117, 'cicar': 2909, 's-l-o-w': 10949, 'struggled': 12176, 'edmund': 4365, 'gwenn': 5872, 'almond': 1094, 'supplement': 12305, 'anticipating': 1256, 'takin': 12461, 'greyhound': 5767, 'thou': 12757, 'naty': 8799, 'love-sweet': 7927, 'comedy-mr.': 3104, 'fuck/suck/touch': 5315, 'phishing': 9704, '//status.twitter.com/': 212, 'assumption': 1440, 'inborn': 6715, 'left-handedness': 7630, 'bushy': 2441, 'facial': 4776, 'plez': 9836, 'kthnx': 7446, 'vichick': 13544, 'weekday': 13816, 'dreading': 4160, 'measured': 8257, 'wonderland': 14064, 'groove': 5787, 'taker': 12460, 'srrrry': 11981, 'offends': 9181, 'lighted': 7714, 'ass-kissy': 1420, 'independence': 6738, 'gaaah': 5392, \"'surprise\": 64, 'minor': 8443, 'freezind': 5249, 'hahahahahhahahahahahaha': 5953, 'largest': 7531, 'sausage-like-thing': 11040, 'revolve': 10732, 'cellulars': 2689, 'fluff': 5085, 'c+': 2493, 'gilligan': 5561, 'oldie': 9241, 'clinic': 2983, '22': 455, 'espn': 4586, 'stephanieeeeey': 12061, 'awesome-': 1548, \"'hate\": 29, 'nobotty': 8978, 'thoo': 12752, 'buhht': 2391, 'kettlebell': 7287, 'inspired': 6810, 'gloria': 5605, 'shw': 11444, 'w/who': 13665, 'knws': 7405, 'scarletts': 11076, 'valerie': 13483, 'croissant': 3447, 'handicapped': 6012, 'microbiology': 8384, 'souly': 11817, 'mankind': 8106, 'genetics': 5507, 'replied': 10636, 'looove': 7887, 'buttt': 2467, 'allll': 1085, 'ahahahahahahaha': 995, 'yhough': 14280, 'tanking': 12486, 'assmartini': 1435, 'scottsdale': 11116, 'shea': 11316, 'bowled': 2225, 'ass-miss': 1421, 'djbigdaddy': 4029, 'slideshare': 11596, 'arnold': 1363, 'butthead': 2462, 'martha': 8159, 'stewert': 12077, 'baaah': 1601, 'lyin': 7999, 'sammich': 10994, 'manny': 8113, 'cutesied': 3535, '800-soapie-kha': 708, '176': 409, 'oncers': 9263, 'hockey': 6318, 'team-': 12541, 'smthing': 11668, \"'nucks\": 46, 'gordons': 5680, '90min': 727, 'businessweek': 2444, 'lycra': 7996}\n"
          ]
        }
      ]
    },
    {
      "cell_type": "code",
      "metadata": {
        "colab": {
          "base_uri": "https://localhost:8080/"
        },
        "id": "0UmwO2W2xlEX",
        "outputId": "308e2655-90dd-417a-81da-7fa75bb718e7"
      },
      "source": [
        "X_train"
      ],
      "execution_count": null,
      "outputs": [
        {
          "output_type": "execute_result",
          "data": {
            "text/plain": [
              "array(['Agreed!  Twitter showed the way with the whale ;)',\n",
              "       'well I hate texting it every 5 sex',\n",
              "       ' Do any of your friends have children?', ...,\n",
              "       'ur right.......just managed to lock my phone and the fucking phone now asking me PUK code:(',\n",
              "       'I think Bangladesh did \"What\\'s Your Fantasy\"  and fuck what   anyone says  that song is a JAM...can\\'t front on it...',\n",
              "       'DEAD ASS?!?!?!?!?!'], dtype=object)"
            ]
          },
          "metadata": {},
          "execution_count": 73
        }
      ]
    },
    {
      "cell_type": "code",
      "metadata": {
        "colab": {
          "base_uri": "https://localhost:8080/"
        },
        "id": "u5sASU9fyuyj",
        "outputId": "9728582a-e946-4b8c-bf30-3b69cb4200d8"
      },
      "source": [
        "y_train"
      ],
      "execution_count": null,
      "outputs": [
        {
          "output_type": "execute_result",
          "data": {
            "text/plain": [
              "array(['1', '0', '0', ..., '0', '1', '1'], dtype=object)"
            ]
          },
          "metadata": {},
          "execution_count": 74
        }
      ]
    },
    {
      "cell_type": "code",
      "metadata": {
        "id": "yGLd-oOeyxIn",
        "colab": {
          "base_uri": "https://localhost:8080/",
          "height": 141
        },
        "outputId": "788b0eff-8808-448a-f07a-a359d645d55a"
      },
      "source": [
        "X_train1=X_train.to_xarray"
      ],
      "execution_count": null,
      "outputs": [
        {
          "output_type": "error",
          "ename": "AttributeError",
          "evalue": "'numpy.ndarray' object has no attribute 'to_xarray'",
          "traceback": [
            "\u001b[0;31m---------------------------------------------------------------------------\u001b[0m",
            "\u001b[0;31mAttributeError\u001b[0m                            Traceback (most recent call last)",
            "\u001b[0;32m<ipython-input-78-d0106b8c1252>\u001b[0m in \u001b[0;36m<cell line: 1>\u001b[0;34m()\u001b[0m\n\u001b[0;32m----> 1\u001b[0;31m \u001b[0mX_train1\u001b[0m\u001b[0;34m=\u001b[0m\u001b[0mX_train\u001b[0m\u001b[0;34m.\u001b[0m\u001b[0mto_xarray\u001b[0m\u001b[0;34m\u001b[0m\u001b[0;34m\u001b[0m\u001b[0m\n\u001b[0m",
            "\u001b[0;31mAttributeError\u001b[0m: 'numpy.ndarray' object has no attribute 'to_xarray'"
          ]
        }
      ]
    },
    {
      "cell_type": "code",
      "metadata": {
        "colab": {
          "base_uri": "https://localhost:8080/",
          "height": 141
        },
        "id": "aIgNxaD6y4HE",
        "outputId": "bdfd6ed3-82d3-4fba-806f-0993284971b8"
      },
      "source": [
        "X_train1"
      ],
      "execution_count": null,
      "outputs": [
        {
          "output_type": "error",
          "ename": "NameError",
          "evalue": "name 'X_train1' is not defined",
          "traceback": [
            "\u001b[0;31m---------------------------------------------------------------------------\u001b[0m",
            "\u001b[0;31mNameError\u001b[0m                                 Traceback (most recent call last)",
            "\u001b[0;32m<ipython-input-77-ff60e6bfcb24>\u001b[0m in \u001b[0;36m<cell line: 1>\u001b[0;34m()\u001b[0m\n\u001b[0;32m----> 1\u001b[0;31m \u001b[0mX_train1\u001b[0m\u001b[0;34m\u001b[0m\u001b[0;34m\u001b[0m\u001b[0m\n\u001b[0m",
            "\u001b[0;31mNameError\u001b[0m: name 'X_train1' is not defined"
          ]
        }
      ]
    },
    {
      "cell_type": "code",
      "metadata": {
        "id": "v1GZvHr8zEuM"
      },
      "source": [
        "y_train1=y_train.to_xarray"
      ],
      "execution_count": null,
      "outputs": []
    },
    {
      "cell_type": "code",
      "metadata": {
        "colab": {
          "base_uri": "https://localhost:8080/"
        },
        "id": "st5ia4EHzNUU",
        "outputId": "854dc752-25aa-4a2c-aaac-5b7528497b02"
      },
      "source": [
        "y_train1"
      ],
      "execution_count": null,
      "outputs": [
        {
          "output_type": "execute_result",
          "data": {
            "text/plain": [
              "<bound method NDFrame.to_xarray of 0        1\n",
              "1        1\n",
              "2        1\n",
              "3        1\n",
              "4        1\n",
              "        ..\n",
              "14995    0\n",
              "14996    0\n",
              "14997    0\n",
              "14998    0\n",
              "14999    0\n",
              "Name: label, Length: 15000, dtype: object>"
            ]
          },
          "metadata": {
            "tags": []
          },
          "execution_count": 128
        }
      ]
    },
    {
      "cell_type": "code",
      "source": [
        "import pandas as pd\n",
        "\n",
        "def load_data(path):\n",
        "    \"\"\"\n",
        "    Loads data from a JSON file, extracts features and labels, and returns them.\n",
        "\n",
        "    Args:\n",
        "        path (str): The path to the JSON file.\n",
        "\n",
        "    Returns:\n",
        "        tuple: A tuple containing the features (X) and labels (y).\n",
        "    \"\"\"\n",
        "    df = pd.read_json(path, lines=True)  # Reads JSON data\n",
        "\n",
        "    # Extracts labels from the 'annotation' column\n",
        "    df[\"label\"] = df.annotation.apply(lambda x: x.get('label'))\n",
        "    df[\"label\"] = df.label.apply(lambda x: x[0])\n",
        "\n",
        "    # Prepares features (X) and target (y)\n",
        "    X = df.content.values\n",
        "    y = df.label.values\n",
        "\n",
        "    return X, y  # Returns features and labels"
      ],
      "metadata": {
        "id": "xPheHNnMol5z"
      },
      "execution_count": null,
      "outputs": []
    },
    {
      "cell_type": "code",
      "metadata": {
        "id": "tppkHnnvnvPz",
        "colab": {
          "base_uri": "https://localhost:8080/",
          "height": 391
        },
        "outputId": "c5f8bdf8-962d-4d56-bc2f-52c1aa512b7e"
      },
      "source": [
        "import tensorflow.keras\n",
        "from sklearn.model_selection import train_test_split\n",
        "from tensorflow.keras.models import Sequential\n",
        "from tensorflow.keras.layers import Embedding, LSTM, Dense\n",
        "from tensorflow.keras.preprocessing.text import Tokenizer\n",
        "from tensorflow.keras.preprocessing.sequence import pad_sequences\n",
        "\n",
        "# Load and preprocess data\n",
        "url = '/dataset.json'\n",
        "X1, y1 = load_data(url)  # Assuming you have load_data function defined\n",
        "\n",
        "# Tokenize text\n",
        "tokenizer = Tokenizer(num_words=5000, oov_token='<OOV>')\n",
        "tokenizer.fit_on_texts(X1)\n",
        "X1_sequences = tokenizer.texts_to_sequences(X1)\n",
        "\n",
        "# Pad sequences\n",
        "max_length = 100  # Adjust as needed\n",
        "X1_padded = pad_sequences(X1_sequences, maxlen=max_length, padding='post', truncating='post')\n",
        "\n",
        "# Split data\n",
        "X1_train, X1_test, y1_train, y1_test = train_test_split(X1_padded, y1, test_size=0.2, random_state=42)\n",
        "\n",
        "# Build LSTM model\n",
        "model = Sequential()\n",
        "model.add(Embedding(5000, 128, input_length=max_length))\n",
        "model.add(LSTM(64))\n",
        "model.add(Dense(1, activation='sigmoid'))\n",
        "\n",
        "# Compile model\n",
        "model.compile(loss='binary_crossentropy', optimizer='adam', metrics=['accuracy'])\n",
        "\n",
        "# Train model\n",
        "model.fit(X1_train, y1_train, epochs=10, batch_size=64, validation_data=(X1_test, y1_test))  # Adjust epochs and batch_size\n",
        "\n",
        "# Evaluate model\n",
        "_, accuracy = model.evaluate(X1_test, y1_test, verbose=0)\n",
        "print('Accuracy: {}'.format(accuracy))"
      ],
      "execution_count": null,
      "outputs": [
        {
          "output_type": "error",
          "ename": "FileNotFoundError",
          "evalue": "File /dataset.json does not exist",
          "traceback": [
            "\u001b[0;31m---------------------------------------------------------------------------\u001b[0m",
            "\u001b[0;31mFileNotFoundError\u001b[0m                         Traceback (most recent call last)",
            "\u001b[0;32m<ipython-input-6-f1fb3f21a5b8>\u001b[0m in \u001b[0;36m<cell line: 10>\u001b[0;34m()\u001b[0m\n\u001b[1;32m      8\u001b[0m \u001b[0;31m# Load and preprocess data\u001b[0m\u001b[0;34m\u001b[0m\u001b[0;34m\u001b[0m\u001b[0m\n\u001b[1;32m      9\u001b[0m \u001b[0murl\u001b[0m \u001b[0;34m=\u001b[0m \u001b[0;34m'/dataset.json'\u001b[0m\u001b[0;34m\u001b[0m\u001b[0;34m\u001b[0m\u001b[0m\n\u001b[0;32m---> 10\u001b[0;31m \u001b[0mX1\u001b[0m\u001b[0;34m,\u001b[0m \u001b[0my1\u001b[0m \u001b[0;34m=\u001b[0m \u001b[0mload_data\u001b[0m\u001b[0;34m(\u001b[0m\u001b[0murl\u001b[0m\u001b[0;34m)\u001b[0m  \u001b[0;31m# Assuming you have load_data function defined\u001b[0m\u001b[0;34m\u001b[0m\u001b[0;34m\u001b[0m\u001b[0m\n\u001b[0m\u001b[1;32m     11\u001b[0m \u001b[0;34m\u001b[0m\u001b[0m\n\u001b[1;32m     12\u001b[0m \u001b[0;31m# Tokenize text\u001b[0m\u001b[0;34m\u001b[0m\u001b[0;34m\u001b[0m\u001b[0m\n",
            "\u001b[0;32m<ipython-input-5-a1d97ceeeb89>\u001b[0m in \u001b[0;36mload_data\u001b[0;34m(path)\u001b[0m\n\u001b[1;32m     11\u001b[0m         \u001b[0mtuple\u001b[0m\u001b[0;34m:\u001b[0m \u001b[0mA\u001b[0m \u001b[0mtuple\u001b[0m \u001b[0mcontaining\u001b[0m \u001b[0mthe\u001b[0m \u001b[0mfeatures\u001b[0m \u001b[0;34m(\u001b[0m\u001b[0mX\u001b[0m\u001b[0;34m)\u001b[0m \u001b[0;32mand\u001b[0m \u001b[0mlabels\u001b[0m \u001b[0;34m(\u001b[0m\u001b[0my\u001b[0m\u001b[0;34m)\u001b[0m\u001b[0;34m.\u001b[0m\u001b[0;34m\u001b[0m\u001b[0;34m\u001b[0m\u001b[0m\n\u001b[1;32m     12\u001b[0m     \"\"\"\n\u001b[0;32m---> 13\u001b[0;31m     \u001b[0mdf\u001b[0m \u001b[0;34m=\u001b[0m \u001b[0mpd\u001b[0m\u001b[0;34m.\u001b[0m\u001b[0mread_json\u001b[0m\u001b[0;34m(\u001b[0m\u001b[0mpath\u001b[0m\u001b[0;34m,\u001b[0m \u001b[0mlines\u001b[0m\u001b[0;34m=\u001b[0m\u001b[0;32mTrue\u001b[0m\u001b[0;34m)\u001b[0m  \u001b[0;31m# Reads JSON data\u001b[0m\u001b[0;34m\u001b[0m\u001b[0;34m\u001b[0m\u001b[0m\n\u001b[0m\u001b[1;32m     14\u001b[0m \u001b[0;34m\u001b[0m\u001b[0m\n\u001b[1;32m     15\u001b[0m     \u001b[0;31m# Extracts labels from the 'annotation' column\u001b[0m\u001b[0;34m\u001b[0m\u001b[0;34m\u001b[0m\u001b[0m\n",
            "\u001b[0;32m/usr/local/lib/python3.10/dist-packages/pandas/io/json/_json.py\u001b[0m in \u001b[0;36mread_json\u001b[0;34m(path_or_buf, orient, typ, dtype, convert_axes, convert_dates, keep_default_dates, precise_float, date_unit, encoding, encoding_errors, lines, chunksize, compression, nrows, storage_options, dtype_backend, engine)\u001b[0m\n\u001b[1;32m    789\u001b[0m         \u001b[0mconvert_axes\u001b[0m \u001b[0;34m=\u001b[0m \u001b[0;32mTrue\u001b[0m\u001b[0;34m\u001b[0m\u001b[0;34m\u001b[0m\u001b[0m\n\u001b[1;32m    790\u001b[0m \u001b[0;34m\u001b[0m\u001b[0m\n\u001b[0;32m--> 791\u001b[0;31m     json_reader = JsonReader(\n\u001b[0m\u001b[1;32m    792\u001b[0m         \u001b[0mpath_or_buf\u001b[0m\u001b[0;34m,\u001b[0m\u001b[0;34m\u001b[0m\u001b[0;34m\u001b[0m\u001b[0m\n\u001b[1;32m    793\u001b[0m         \u001b[0morient\u001b[0m\u001b[0;34m=\u001b[0m\u001b[0morient\u001b[0m\u001b[0;34m,\u001b[0m\u001b[0;34m\u001b[0m\u001b[0;34m\u001b[0m\u001b[0m\n",
            "\u001b[0;32m/usr/local/lib/python3.10/dist-packages/pandas/io/json/_json.py\u001b[0m in \u001b[0;36m__init__\u001b[0;34m(self, filepath_or_buffer, orient, typ, dtype, convert_axes, convert_dates, keep_default_dates, precise_float, date_unit, encoding, lines, chunksize, compression, nrows, storage_options, encoding_errors, dtype_backend, engine)\u001b[0m\n\u001b[1;32m    902\u001b[0m             \u001b[0mself\u001b[0m\u001b[0;34m.\u001b[0m\u001b[0mdata\u001b[0m \u001b[0;34m=\u001b[0m \u001b[0mfilepath_or_buffer\u001b[0m\u001b[0;34m\u001b[0m\u001b[0;34m\u001b[0m\u001b[0m\n\u001b[1;32m    903\u001b[0m         \u001b[0;32melif\u001b[0m \u001b[0mself\u001b[0m\u001b[0;34m.\u001b[0m\u001b[0mengine\u001b[0m \u001b[0;34m==\u001b[0m \u001b[0;34m\"ujson\"\u001b[0m\u001b[0;34m:\u001b[0m\u001b[0;34m\u001b[0m\u001b[0;34m\u001b[0m\u001b[0m\n\u001b[0;32m--> 904\u001b[0;31m             \u001b[0mdata\u001b[0m \u001b[0;34m=\u001b[0m \u001b[0mself\u001b[0m\u001b[0;34m.\u001b[0m\u001b[0m_get_data_from_filepath\u001b[0m\u001b[0;34m(\u001b[0m\u001b[0mfilepath_or_buffer\u001b[0m\u001b[0;34m)\u001b[0m\u001b[0;34m\u001b[0m\u001b[0;34m\u001b[0m\u001b[0m\n\u001b[0m\u001b[1;32m    905\u001b[0m             \u001b[0mself\u001b[0m\u001b[0;34m.\u001b[0m\u001b[0mdata\u001b[0m \u001b[0;34m=\u001b[0m \u001b[0mself\u001b[0m\u001b[0;34m.\u001b[0m\u001b[0m_preprocess_data\u001b[0m\u001b[0;34m(\u001b[0m\u001b[0mdata\u001b[0m\u001b[0;34m)\u001b[0m\u001b[0;34m\u001b[0m\u001b[0;34m\u001b[0m\u001b[0m\n\u001b[1;32m    906\u001b[0m \u001b[0;34m\u001b[0m\u001b[0m\n",
            "\u001b[0;32m/usr/local/lib/python3.10/dist-packages/pandas/io/json/_json.py\u001b[0m in \u001b[0;36m_get_data_from_filepath\u001b[0;34m(self, filepath_or_buffer)\u001b[0m\n\u001b[1;32m    958\u001b[0m             \u001b[0;32mand\u001b[0m \u001b[0;32mnot\u001b[0m \u001b[0mfile_exists\u001b[0m\u001b[0;34m(\u001b[0m\u001b[0mfilepath_or_buffer\u001b[0m\u001b[0;34m)\u001b[0m\u001b[0;34m\u001b[0m\u001b[0;34m\u001b[0m\u001b[0m\n\u001b[1;32m    959\u001b[0m         ):\n\u001b[0;32m--> 960\u001b[0;31m             \u001b[0;32mraise\u001b[0m \u001b[0mFileNotFoundError\u001b[0m\u001b[0;34m(\u001b[0m\u001b[0;34mf\"File {filepath_or_buffer} does not exist\"\u001b[0m\u001b[0;34m)\u001b[0m\u001b[0;34m\u001b[0m\u001b[0;34m\u001b[0m\u001b[0m\n\u001b[0m\u001b[1;32m    961\u001b[0m         \u001b[0;32melse\u001b[0m\u001b[0;34m:\u001b[0m\u001b[0;34m\u001b[0m\u001b[0;34m\u001b[0m\u001b[0m\n\u001b[1;32m    962\u001b[0m             warnings.warn(\n",
            "\u001b[0;31mFileNotFoundError\u001b[0m: File /dataset.json does not exist"
          ]
        }
      ]
    }
  ]
}